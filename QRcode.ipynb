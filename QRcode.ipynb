{
  "nbformat": 4,
  "nbformat_minor": 0,
  "metadata": {
    "colab": {
      "provenance": [],
      "authorship_tag": "ABX9TyO0zyw8meb8X+coDC+2PMhx",
      "include_colab_link": true
    },
    "kernelspec": {
      "name": "python3",
      "display_name": "Python 3"
    },
    "language_info": {
      "name": "python"
    }
  },
  "cells": [
    {
      "cell_type": "markdown",
      "metadata": {
        "id": "view-in-github",
        "colab_type": "text"
      },
      "source": [
        "<a href=\"https://colab.research.google.com/github/MK316/Spring2023/blob/main/QRcode.ipynb\" target=\"_parent\"><img src=\"https://colab.research.google.com/assets/colab-badge.svg\" alt=\"Open In Colab\"/></a>"
      ]
    },
    {
      "cell_type": "markdown",
      "source": [
        "# 🐝  Generate QR code (svg file) and display"
      ],
      "metadata": {
        "id": "kGIfXlWzis9S"
      }
    },
    {
      "cell_type": "code",
      "source": [
        "#@markdown Install {pyqrcode} and enter link address\n",
        "!pip install pyqrcode\n",
        "\n",
        "import pyqrcode\n",
        "from pyqrcode import QRCode\n"
      ],
      "metadata": {
        "colab": {
          "base_uri": "https://localhost:8080/"
        },
        "cellView": "form",
        "id": "QrxuiLBDhUF0",
        "outputId": "fef6fa3b-7950-42a1-8627-1e39be157733"
      },
      "execution_count": null,
      "outputs": [
        {
          "output_type": "stream",
          "name": "stdout",
          "text": [
            "Looking in indexes: https://pypi.org/simple, https://us-python.pkg.dev/colab-wheels/public/simple/\n",
            "Collecting pyqrcode\n",
            "  Downloading PyQRCode-1.2.1.zip (41 kB)\n",
            "\u001b[2K     \u001b[90m━━━━━━━━━━━━━━━━━━━━━━━━━━━━━━━━━━━━━━━━\u001b[0m \u001b[32m41.9/41.9 KB\u001b[0m \u001b[31m1.9 MB/s\u001b[0m eta \u001b[36m0:00:00\u001b[0m\n",
            "\u001b[?25h  Preparing metadata (setup.py) ... \u001b[?25l\u001b[?25hdone\n",
            "Building wheels for collected packages: pyqrcode\n",
            "  Building wheel for pyqrcode (setup.py) ... \u001b[?25l\u001b[?25hdone\n",
            "  Created wheel for pyqrcode: filename=PyQRCode-1.2.1-py3-none-any.whl size=36245 sha256=6ab18da0d9754b593310e0f9380956a585eab59599131b45f78cd597262fae6d\n",
            "  Stored in directory: /root/.cache/pip/wheels/e6/5e/b1/e42b38f43c94593ea57059de7e585c009c0f54e36e1a532992\n",
            "Successfully built pyqrcode\n",
            "Installing collected packages: pyqrcode\n",
            "Successfully installed pyqrcode-1.2.1\n"
          ]
        }
      ]
    },
    {
      "cell_type": "markdown",
      "source": [
        "DL survey: https://forms.gle/jUxGcTXipYjdJU1Q9"
      ],
      "metadata": {
        "id": "EWWcXD-C8NXm"
      }
    },
    {
      "cell_type": "code",
      "source": [
        "#@markdown Enter the link, save it as a file, and display\n",
        "s = input(\"Paste the link: \")\n",
        "\n",
        "# Generate QR code\n",
        "url = pyqrcode.create(s)\n",
        "\n",
        "# Create and save the png file naming \"myqr.png\"\n",
        "url.svg(\"myqrcode.svg\", scale=10)\n",
        "\n",
        "from IPython.display import SVG, display\n",
        "def show_svg(file):\n",
        "    display(SVG(file))\n",
        "\n",
        "show_svg(\"myqrcode.svg\")"
      ],
      "metadata": {
        "colab": {
          "base_uri": "https://localhost:8080/",
          "height": 489
        },
        "cellView": "form",
        "id": "bTNWINdRjTlK",
        "outputId": "27590ddf-4476-4bbe-d1df-b5bed083d2f6"
      },
      "execution_count": null,
      "outputs": [
        {
          "name": "stdout",
          "output_type": "stream",
          "text": [
            "Paste the link: https://forms.gle/jUxGcTXipYjdJU1Q9\n"
          ]
        },
        {
          "output_type": "display_data",
          "data": {
            "text/plain": [
              "<IPython.core.display.SVG object>"
            ],
            "image/svg+xml": "<svg xmlns=\"http://www.w3.org/2000/svg\" height=\"450\" width=\"450\" class=\"pyqrcode\"><path transform=\"scale(10)\" stroke=\"#000\" class=\"pyqrline\" d=\"M4 4.5h7m1 0h1m2 0h2m2 0h2m1 0h1m1 0h1m1 0h6m2 0h7m-37 1h1m5 0h1m1 0h1m1 0h4m1 0h1m2 0h2m1 0h1m2 0h2m1 0h1m2 0h1m5 0h1m-37 1h1m1 0h3m1 0h1m2 0h1m1 0h4m1 0h2m3 0h4m2 0h1m2 0h1m1 0h3m1 0h1m-37 1h1m1 0h3m1 0h1m1 0h3m6 0h3m1 0h4m1 0h1m3 0h1m1 0h3m1 0h1m-37 1h1m1 0h3m1 0h1m1 0h1m1 0h1m1 0h1m1 0h1m3 0h4m2 0h4m2 0h1m1 0h3m1 0h1m-37 1h1m5 0h1m1 0h2m2 0h2m1 0h2m1 0h5m1 0h5m1 0h1m5 0h1m-37 1h7m1 0h1m1 0h1m1 0h1m1 0h1m1 0h1m1 0h1m1 0h1m1 0h1m1 0h1m1 0h1m1 0h1m1 0h7m-28 1h2m1 0h1m1 0h1m5 0h2m1 0h2m1 0h1m-24 1h1m2 0h1m3 0h1m2 0h1m1 0h2m1 0h1m8 0h2m2 0h3m1 0h2m-37 1h3m1 0h2m1 0h3m2 0h1m1 0h1m3 0h1m3 0h1m1 0h1m1 0h3m2 0h1m1 0h1m1 0h2m-36 1h1m2 0h1m1 0h3m2 0h1m2 0h3m1 0h4m5 0h1m2 0h1m1 0h2m1 0h2m-36 1h1m1 0h3m1 0h2m2 0h2m1 0h1m1 0h2m2 0h1m1 0h4m2 0h1m2 0h3m1 0h2m-36 1h1m3 0h2m1 0h4m2 0h3m2 0h1m1 0h1m2 0h2m1 0h4m2 0h1m1 0h2m-35 1h1m6 0h5m1 0h1m1 0h1m2 0h4m1 0h1m4 0h2m1 0h1m1 0h2m-37 1h1m3 0h1m1 0h2m4 0h1m1 0h1m1 0h2m1 0h1m3 0h1m1 0h1m4 0h1m3 0h1m1 0h1m-37 1h3m1 0h1m2 0h1m1 0h1m1 0h2m1 0h2m4 0h1m4 0h1m1 0h1m2 0h3m2 0h2m-37 1h1m1 0h1m3 0h2m3 0h6m4 0h1m3 0h1m1 0h1m1 0h3m1 0h2m1 0h1m-37 1h5m4 0h1m3 0h3m4 0h1m1 0h1m1 0h2m4 0h1m1 0h1m1 0h1m1 0h1m-31 1h1m1 0h1m1 0h3m2 0h1m2 0h2m1 0h1m1 0h1m9 0h4m-37 1h1m1 0h2m3 0h1m1 0h1m3 0h1m1 0h3m3 0h3m3 0h1m3 0h2m1 0h1m1 0h1m-36 1h2m1 0h4m1 0h1m5 0h1m1 0h5m1 0h2m1 0h1m1 0h1m1 0h4m1 0h2m-37 1h1m2 0h1m1 0h1m3 0h1m2 0h1m1 0h5m1 0h2m1 0h1m6 0h1m2 0h1m-33 1h1m1 0h1m2 0h6m2 0h1m1 0h5m2 0h2m4 0h1m1 0h6m-37 1h2m1 0h1m3 0h1m2 0h4m1 0h2m2 0h1m1 0h2m3 0h1m3 0h1m1 0h1m2 0h1m-34 1h2m2 0h1m1 0h1m1 0h1m1 0h2m3 0h1m3 0h4m2 0h1m1 0h1m2 0h3m1 0h1m-36 1h1m2 0h1m3 0h3m1 0h2m1 0h3m3 0h4m2 0h3m1 0h3m1 0h1m-36 1h1m1 0h2m1 0h3m1 0h2m4 0h1m2 0h1m1 0h3m1 0h3m2 0h2m1 0h3m1 0h1m-36 1h1m2 0h1m2 0h2m3 0h1m1 0h4m2 0h1m3 0h2m1 0h1m2 0h1m1 0h2m1 0h1m-36 1h2m1 0h1m1 0h2m1 0h2m4 0h1m2 0h1m1 0h1m1 0h3m4 0h5m-25 1h3m3 0h1m1 0h1m3 0h4m1 0h2m1 0h1m3 0h1m2 0h2m-37 1h7m3 0h9m1 0h1m1 0h1m5 0h1m1 0h1m1 0h1m1 0h3m-37 1h1m5 0h1m4 0h1m2 0h2m1 0h2m1 0h1m1 0h3m1 0h1m1 0h1m3 0h1m1 0h1m1 0h1m-37 1h1m1 0h3m1 0h1m2 0h1m1 0h2m2 0h1m1 0h4m1 0h2m1 0h2m1 0h6m-34 1h1m1 0h3m1 0h1m1 0h2m4 0h1m6 0h1m1 0h1m2 0h2m1 0h1m3 0h1m1 0h2m-37 1h1m1 0h3m1 0h1m2 0h1m5 0h3m1 0h1m2 0h1m3 0h1m2 0h1m2 0h3m1 0h1m-37 1h1m5 0h1m2 0h3m1 0h2m3 0h3m1 0h1m2 0h9m-34 1h7m2 0h2m1 0h1m1 0h1m1 0h1m1 0h1m8 0h2m1 0h3m2 0h2\"/></svg>"
          },
          "metadata": {}
        }
      ]
    }
  ]
}
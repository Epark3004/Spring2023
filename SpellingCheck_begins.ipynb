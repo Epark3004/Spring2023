{
  "nbformat": 4,
  "nbformat_minor": 0,
  "metadata": {
    "colab": {
      "private_outputs": true,
      "provenance": [],
      "authorship_tag": "ABX9TyNR/wVtVPPHnju3/aVWu0Q2",
      "include_colab_link": true
    },
    "kernelspec": {
      "name": "python3",
      "display_name": "Python 3"
    },
    "language_info": {
      "name": "python"
    },
    "accelerator": "GPU",
    "gpuClass": "standard"
  },
  "cells": [
    {
      "cell_type": "markdown",
      "metadata": {
        "id": "view-in-github",
        "colab_type": "text"
      },
      "source": [
        "<a href=\"https://colab.research.google.com/github/MK316/Spring2023/blob/main/SpellingCheck_begins.ipynb\" target=\"_parent\"><img src=\"https://colab.research.google.com/assets/colab-badge.svg\" alt=\"Open In Colab\"/></a>"
      ]
    },
    {
      "cell_type": "markdown",
      "source": [
        "# 🔏 Simple grammar check or spelling check. \n",
        "\n",
        "Note: This is a simple version. The output is not so great when the error isn't clear in the given context. However, it's worthy trying a tool!\n",
        "\n",
        "[github source](https://github.com/PrithivirajDamodaran/Gramformer)"
      ],
      "metadata": {
        "id": "FdpNSWUJwxPw"
      }
    },
    {
      "cell_type": "code",
      "source": [
        "#@markdown [1] Install {language_tool_python}\n",
        "%%capture\n",
        "!pip install language_tool_python\n",
        "\n",
        "import language_tool_python\n",
        "tool = language_tool_python.LanguageTool('en-US')\n",
        " \n",
        "text = \"\"\"LanguageTool offers spell and grammar checking. Just paste your text here and click the 'Check Text' button. Click the colored phrases for details on potential errors. or use this text too see an few of of the problems that LanguageTool can detecd. What do you thinks of grammar checkers? Please not that they are not perfect. Style issues get a blue marker: It's 5 P.M. in the afternoon. The weather was nice on Thursday, 27 June 2017\"\"\"\n",
        " \n",
        " \n",
        "# get the matches\n",
        "matches = tool.check(text)\n",
        " \n",
        "matches\n",
        "\n",
        "my_mistakes = []\n",
        "my_corrections = []\n",
        "start_positions = []\n",
        "end_positions = []\n",
        " \n",
        "for rules in matches:\n",
        "    if len(rules.replacements)>0:\n",
        "        start_positions.append(rules.offset)\n",
        "        end_positions.append(rules.errorLength+rules.offset)\n",
        "        my_mistakes.append(text[rules.offset:rules.errorLength+rules.offset])\n",
        "        my_corrections.append(rules.replacements[0])\n",
        "     \n",
        " \n",
        "     \n",
        "my_new_text = list(text)\n",
        " \n",
        " \n",
        "for m in range(len(start_positions)):\n",
        "    for i in range(len(text)):\n",
        "        my_new_text[start_positions[m]] = my_corrections[m]\n",
        "        if (i>start_positions[m] and i<end_positions[m]):\n",
        "            my_new_text[i]=\"\"\n",
        "     \n",
        "my_new_text = \"\".join(my_new_text)\n",
        "my_new_text"
      ],
      "metadata": {
        "cellView": "form",
        "id": "iD4ooQjk5JWP"
      },
      "execution_count": null,
      "outputs": []
    },
    {
      "cell_type": "code",
      "source": [
        "#@markdown [2] Making a function [gramcheck(text)]\n",
        "import language_tool_python\n",
        "tool = language_tool_python.LanguageTool('en-US')\n",
        "\n",
        "def gramcheck(text):\n",
        "  print('='*100)\n",
        "  print(\"Your text:      %s\"%text)\n",
        "  output = tool.correct(text)\n",
        "  print(\"Corrected text: %s\"%output)"
      ],
      "metadata": {
        "cellView": "form",
        "id": "2ir3LK9W50YU"
      },
      "execution_count": null,
      "outputs": []
    },
    {
      "cell_type": "markdown",
      "source": [
        "* Example sentence: A sentence with a error in the Hitchhiker’s Guide tot he Galaxy\n",
        "\n",
        "** Example words: juniverse, pychology"
      ],
      "metadata": {
        "id": "k7e5jDLY-VMB"
      }
    },
    {
      "cell_type": "code",
      "source": [
        "#@markdown ☎️ Try it!\n",
        "t = input(\"Type or paste your text and ENTER\")\n",
        "gramcheck(t)"
      ],
      "metadata": {
        "cellView": "form",
        "id": "9S9E62Z150PF"
      },
      "execution_count": null,
      "outputs": []
    }
  ]
}
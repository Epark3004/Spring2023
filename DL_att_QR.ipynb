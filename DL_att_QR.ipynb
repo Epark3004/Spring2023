{
  "nbformat": 4,
  "nbformat_minor": 0,
  "metadata": {
    "colab": {
      "provenance": [],
      "authorship_tag": "ABX9TyNMlPiDIrLj0PYAQ+p3wLNg",
      "include_colab_link": true
    },
    "kernelspec": {
      "name": "python3",
      "display_name": "Python 3"
    },
    "language_info": {
      "name": "python"
    }
  },
  "cells": [
    {
      "cell_type": "markdown",
      "metadata": {
        "id": "view-in-github",
        "colab_type": "text"
      },
      "source": [
        "<a href=\"https://colab.research.google.com/github/MK316/Spring2023/blob/main/DL_att_QR.ipynb\" target=\"_parent\"><img src=\"https://colab.research.google.com/assets/colab-badge.svg\" alt=\"Open In Colab\"/></a>"
      ]
    },
    {
      "cell_type": "markdown",
      "source": [
        "# Check-in & Check-out app\n",
        "\n",
        "+ Using Google Form\n",
        "+ Using QR code"
      ],
      "metadata": {
        "id": "0X-dHLf3l4lh"
      }
    },
    {
      "cell_type": "markdown",
      "source": [
        "[1] Read QR code\n",
        "\n"
      ],
      "metadata": {
        "id": "06FHFzopmD6x"
      }
    },
    {
      "cell_type": "code",
      "source": [
        "#@markdown Read the code from github and display it\n",
        "import requests\n",
        "from IPython.display import SVG\n",
        "\n",
        "# Load the SVG image from a URL\n",
        "url = \"https://raw.githubusercontent.com/MK316/Spring2023/main/DL/files/DL_attcheck.svg\"\n",
        "response = requests.get(url)\n",
        "svg_data = response.content.decode()\n",
        "\n",
        "# Display the SVG image\n",
        "SVG(svg_data)\n"
      ],
      "metadata": {
        "cellView": "form",
        "id": "UE5z_RfovNsH"
      },
      "execution_count": null,
      "outputs": []
    }
  ]
}
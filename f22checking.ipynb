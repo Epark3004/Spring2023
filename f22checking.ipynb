{
  "cells": [
    {
      "cell_type": "markdown",
      "metadata": {
        "id": "view-in-github",
        "colab_type": "text"
      },
      "source": [
        "<a href=\"https://colab.research.google.com/github/MK316/Spring2023/blob/main/f22checking.ipynb\" target=\"_parent\"><img src=\"https://colab.research.google.com/assets/colab-badge.svg\" alt=\"Open In Colab\"/></a>"
      ]
    },
    {
      "cell_type": "markdown",
      "source": [
        "# Gradio practice\n",
        "\n",
        "The data is missing ID, phone, ... so get the file and code revised before using this."
      ],
      "metadata": {
        "id": "t4HP04K4Zfyq"
      }
    },
    {
      "cell_type": "code",
      "execution_count": 24,
      "metadata": {
        "id": "3iQmIzCngUuP"
      },
      "outputs": [],
      "source": [
        "%%capture\n",
        "!pip install gradio"
      ]
    },
    {
      "cell_type": "markdown",
      "source": [
        "##[1] Phonetics"
      ],
      "metadata": {
        "id": "GbE8XTMvVwD_"
      }
    },
    {
      "cell_type": "code",
      "execution_count": 59,
      "metadata": {
        "colab": {
          "base_uri": "https://localhost:8080/",
          "height": 772
        },
        "id": "2idA97iBg3EY",
        "outputId": "cabc7f47-8eca-4e11-cb31-006453b7c2b5",
        "cellView": "form"
      },
      "outputs": [
        {
          "output_type": "stream",
          "name": "stderr",
          "text": [
            "/usr/local/lib/python3.8/dist-packages/gradio/inputs.py:58: UserWarning: Usage of gradio.inputs is deprecated, and will not be supported in the future, please import your component from gradio.components\n",
            "  warnings.warn(\n",
            "/usr/local/lib/python3.8/dist-packages/gradio/deprecation.py:40: UserWarning: `optional` parameter is deprecated, and it has no effect\n",
            "  warnings.warn(value)\n"
          ]
        },
        {
          "output_type": "stream",
          "name": "stdout",
          "text": [
            "Colab notebook detected. This cell will run indefinitely so that you can see errors and logs. To turn off, set debug=False in launch().\n",
            "\n",
            "Setting up a public link... we have recently upgraded the way public links are generated. If you encounter any problems, please report the issue and downgrade to gradio version 3.13.0\n",
            ".\n",
            "Running on public URL: https://3d00dc43-2582-490d.gradio.live\n",
            "\n",
            "This share link expires in 72 hours. For free permanent hosting and GPU upgrades (NEW!), check out Spaces: https://huggingface.co/spaces\n"
          ]
        },
        {
          "output_type": "display_data",
          "data": {
            "text/plain": [
              "<IPython.core.display.HTML object>"
            ],
            "text/html": [
              "<div><iframe src=\"https://3d00dc43-2582-490d.gradio.live\" width=\"100%\" height=\"500\" allow=\"autoplay; camera; microphone; clipboard-read; clipboard-write;\" frameborder=\"0\" allowfullscreen></iframe></div>"
            ]
          },
          "metadata": {}
        },
        {
          "output_type": "stream",
          "name": "stdout",
          "text": [
            "Keyboard interruption in main thread... closing server.\n",
            "Killing tunnel 127.0.0.1:7860 <> https://3d00dc43-2582-490d.gradio.live\n"
          ]
        },
        {
          "output_type": "execute_result",
          "data": {
            "text/plain": []
          },
          "metadata": {},
          "execution_count": 59
        }
      ],
      "source": [
        "#@markdown Run code\n",
        "import gradio as gr\n",
        "import pandas as pd\n",
        "\n",
        "# Write your name, student ID number, phone number (without - ), and email ID (e.g., excluding @naver.com)\n",
        "def greet(pw):\n",
        "    data = pd.read_csv(\"/content/f22_phon_tocheck.csv\")\n",
        "    sid = data['SID'][pw]\n",
        "    phon = data['Phone'][pw]\n",
        "    group = data['Group'][pw]\n",
        "    att = data['Attendance'][pw]\n",
        "    mid = data['Midterm'][pw]\n",
        "    mid25p = data['Mid25p'][pw]\n",
        "    fin = data['Final'][pw]\n",
        "    fin35p = data['Fin35p'][pw]\n",
        "    trans = data['Transcription'][pw]\n",
        "    assign = data['Assignment'][pw]\n",
        "    total = data['Total'][pw]\n",
        "    rank = data['Rank'][pw]\n",
        "    return sid, phon, group, att, mid, mid25p, fin, fin35p, assign, trans, total, rank\n",
        "\n",
        "demo = gr.Interface(fn=greet, \n",
        "                    inputs=gr.inputs.Number(label = \"ID\"),\n",
        "                    outputs=[gr.Number(label = \"Your ID\"),\n",
        "                             gr.Number(label = \"Your Phone Number\"),\n",
        "                             gr.Number(label = \"Your group\"),\n",
        "                             gr.Number(label = \"Attendance(10)\"),\n",
        "                             gr.Number(label=\"Midterm\"), \n",
        "                             gr.Number(label=\"Mid(25%)\"),\n",
        "                             gr.Number(label=\"Final\"),\n",
        "                             gr.Number(label=\"Fin(35%)\"), \n",
        "                             gr.Number(label=\"Assignment(20%)\"),\n",
        "                             gr.Number(label=\"Transcription(10%)\"),\n",
        "                             gr.Number(label=\"Total\"),\n",
        "                             gr.Number(label=\"Rank (out of 29 students)\")])\n",
        "\n",
        "demo.launch(share=True, debug=True)"
      ]
    },
    {
      "cell_type": "markdown",
      "source": [
        "# F22 Phonology to check"
      ],
      "metadata": {
        "id": "pWrGbyICZce3"
      }
    },
    {
      "cell_type": "code",
      "source": [
        "#@markdown Run code\n",
        "import gradio as gr\n",
        "import pandas as pd\n",
        "\n",
        "# Write your name, student ID number, phone number (without - ), and email ID (e.g., excluding @naver.com)\n",
        "def greet(pw):\n",
        "    data = pd.read_csv(\"/content/f22_phonology_tocheck.csv\")\n",
        "    sid = data['SID'][pw]\n",
        "    # phon = data['Phone'][pw]\n",
        "    group = data['Group'][pw]\n",
        "    att = data['Attendance'][pw]\n",
        "    mid = data['Midterm'][pw]\n",
        "    mid25p = data['Mid25p'][pw]\n",
        "    fin = data['Final'][pw]\n",
        "    fin35p = data['Fin35p'][pw]\n",
        "    trans = data['Quizzes'][pw]\n",
        "    assign = data['Assignment'][pw]\n",
        "    total = data['Total'][pw]\n",
        "    rank = data['Rank'][pw]\n",
        "    return sid, group, att, mid, mid25p, fin, fin35p, assign, trans, total, rank\n",
        "\n",
        "demo = gr.Interface(fn=greet, \n",
        "                    inputs=gr.inputs.Number(label = \"ID\"),\n",
        "                    outputs=[gr.Number(label = \"Your ID\"),\n",
        "                             gr.Number(label = \"Your group\"),\n",
        "                             gr.Number(label = \"Attendance(10)\"),\n",
        "                             gr.Number(label=\"Midterm (out of 43)\"), \n",
        "                             gr.Number(label=\"Mid (25%)\"),\n",
        "                             gr.Number(label=\"Final (out of 65)\"),\n",
        "                             gr.Number(label=\"Fin (35%)\"), \n",
        "                             gr.Number(label=\"Assignment(20%)\"),\n",
        "                             gr.Number(label=\"Quizzes (10%)\"),\n",
        "                             gr.Number(label=\"Total (out of 100\"),\n",
        "                             gr.Number(label=\"Rank (out of 19 students)\")])\n",
        "\n",
        "demo.launch(share=True, debug=True)"
      ],
      "metadata": {
        "id": "Xb3U8HT5ZgYD",
        "outputId": "0e6b045e-9589-40b8-e325-9e8e31673aa1",
        "colab": {
          "base_uri": "https://localhost:8080/",
          "height": 772
        },
        "cellView": "form"
      },
      "execution_count": 57,
      "outputs": [
        {
          "output_type": "stream",
          "name": "stderr",
          "text": [
            "/usr/local/lib/python3.8/dist-packages/gradio/inputs.py:58: UserWarning: Usage of gradio.inputs is deprecated, and will not be supported in the future, please import your component from gradio.components\n",
            "  warnings.warn(\n",
            "/usr/local/lib/python3.8/dist-packages/gradio/deprecation.py:40: UserWarning: `optional` parameter is deprecated, and it has no effect\n",
            "  warnings.warn(value)\n"
          ]
        },
        {
          "output_type": "stream",
          "name": "stdout",
          "text": [
            "Colab notebook detected. This cell will run indefinitely so that you can see errors and logs. To turn off, set debug=False in launch().\n",
            "\n",
            "Setting up a public link... we have recently upgraded the way public links are generated. If you encounter any problems, please report the issue and downgrade to gradio version 3.13.0\n",
            ".\n",
            "Running on public URL: https://17891bf7-f3c2-47a9.gradio.live\n",
            "\n",
            "This share link expires in 72 hours. For free permanent hosting and GPU upgrades (NEW!), check out Spaces: https://huggingface.co/spaces\n"
          ]
        },
        {
          "output_type": "display_data",
          "data": {
            "text/plain": [
              "<IPython.core.display.HTML object>"
            ],
            "text/html": [
              "<div><iframe src=\"https://17891bf7-f3c2-47a9.gradio.live\" width=\"100%\" height=\"500\" allow=\"autoplay; camera; microphone; clipboard-read; clipboard-write;\" frameborder=\"0\" allowfullscreen></iframe></div>"
            ]
          },
          "metadata": {}
        },
        {
          "output_type": "stream",
          "name": "stdout",
          "text": [
            "Keyboard interruption in main thread... closing server.\n",
            "Killing tunnel 127.0.0.1:7860 <> https://17891bf7-f3c2-47a9.gradio.live\n"
          ]
        },
        {
          "output_type": "execute_result",
          "data": {
            "text/plain": []
          },
          "metadata": {},
          "execution_count": 57
        }
      ]
    },
    {
      "cell_type": "markdown",
      "source": [
        "## Code generator (practice)"
      ],
      "metadata": {
        "id": "aZ50k7NK3Jet"
      }
    },
    {
      "cell_type": "code",
      "source": [
        "#@markdown Code check (under revision)\n",
        "d1 = pd.read_csv(\"/content/f22_phonology_tocheck.csv\")\n",
        "pcode = input(\"Type your passcode\")\n",
        "\n",
        "plist = d1['Pcode']\n",
        "plist = list(plist)\n",
        "\n",
        "\n",
        "if pcode in plist:\n",
        "  a = plist.index(pcode)\n",
        "  print('Okay, proceed')\n",
        "else:\n",
        "  print(\"Wrong code. Try again.\")\n"
      ],
      "metadata": {
        "cellView": "form",
        "id": "vAG9FTTo3hVz",
        "outputId": "72bd45a0-b1db-4bf7-ae05-6b8cf02ad287",
        "colab": {
          "base_uri": "https://localhost:8080/"
        }
      },
      "execution_count": 44,
      "outputs": [
        {
          "output_type": "stream",
          "name": "stdout",
          "text": [
            "Type your passcodedgdsd\n",
            "Wrong code. Try again.\n"
          ]
        }
      ]
    },
    {
      "cell_type": "code",
      "source": [
        "#@markdown Passcode protected\n",
        "import gradio as gr\n",
        "import pandas as pd\n",
        "\n",
        "\n",
        "# Write your name, student ID number, phone number (without - ), and email ID (e.g., excluding @naver.com)\n",
        "def greet(ID, pw):\n",
        "    data = pd.read_csv(\"/content/f22_phonology_tocheck.csv\")\n",
        "    p = str(pw)[2:4]\n",
        "    p = int(p)\n",
        "    sid = data['SID'][p]\n",
        "    # phon = data['Phone'][p]\n",
        "    group = data['Group'][p]\n",
        "    att = data['Attendance'][p]\n",
        "    mid = data['Midterm'][p]\n",
        "    mid25p = data['Mid25p'][p]\n",
        "    fin = data['Final'][p]\n",
        "    fin35p = data['Fin35p'][p]\n",
        "    trans = data['Quizzes'][p]\n",
        "    assign = data['Assignment'][p]\n",
        "    total = data['Total'][p]\n",
        "    rank = data['Rank'][p]\n",
        "    return sid, group, att, mid, mid25p, fin, fin35p, assign, trans, total, rank\n",
        "\n",
        "demo = gr.Interface(fn=greet, \n",
        "                    inputs=[gr.inputs.Number(label = \"ID\"),gr.inputs.Textbox(label=\"Passcode\")],\n",
        "                    outputs=[gr.Number(label = \"Your ID\"),\n",
        "                             gr.Number(label = \"Your group\"),\n",
        "                             gr.Number(label = \"Attendance(10)\"),\n",
        "                             gr.Number(label=\"Midterm (out of 43)\"), \n",
        "                             gr.Number(label=\"Mid (25%)\"),\n",
        "                             gr.Number(label=\"Final (out of 65)\"),\n",
        "                             gr.Number(label=\"Fin (35%)\"), \n",
        "                             gr.Number(label=\"Assignment(20%)\"),\n",
        "                             gr.Number(label=\"Quizzes (10%)\"),\n",
        "                             gr.Number(label=\"Total (out of 100\"),\n",
        "                             gr.Number(label=\"Rank (out of 19 students)\")])\n",
        "\n",
        "demo.launch(share=True, debug=True)"
      ],
      "metadata": {
        "cellView": "form",
        "id": "nAaT11iE3Noy",
        "outputId": "d1729f90-cbb7-4c9c-b95e-f845e28c17d1",
        "colab": {
          "base_uri": "https://localhost:8080/",
          "height": 843
        }
      },
      "execution_count": 58,
      "outputs": [
        {
          "output_type": "stream",
          "name": "stderr",
          "text": [
            "/usr/local/lib/python3.8/dist-packages/gradio/inputs.py:58: UserWarning: Usage of gradio.inputs is deprecated, and will not be supported in the future, please import your component from gradio.components\n",
            "  warnings.warn(\n",
            "/usr/local/lib/python3.8/dist-packages/gradio/deprecation.py:40: UserWarning: `optional` parameter is deprecated, and it has no effect\n",
            "  warnings.warn(value)\n",
            "/usr/local/lib/python3.8/dist-packages/gradio/inputs.py:26: UserWarning: Usage of gradio.inputs is deprecated, and will not be supported in the future, please import your component from gradio.components\n",
            "  warnings.warn(\n",
            "/usr/local/lib/python3.8/dist-packages/gradio/deprecation.py:40: UserWarning: `numeric` parameter is deprecated, and it has no effect\n",
            "  warnings.warn(value)\n"
          ]
        },
        {
          "output_type": "stream",
          "name": "stdout",
          "text": [
            "Colab notebook detected. This cell will run indefinitely so that you can see errors and logs. To turn off, set debug=False in launch().\n",
            "\n",
            "Setting up a public link... we have recently upgraded the way public links are generated. If you encounter any problems, please report the issue and downgrade to gradio version 3.13.0\n",
            ".\n",
            "Running on public URL: https://50655bf8-e144-4482.gradio.live\n",
            "\n",
            "This share link expires in 72 hours. For free permanent hosting and GPU upgrades (NEW!), check out Spaces: https://huggingface.co/spaces\n"
          ]
        },
        {
          "output_type": "display_data",
          "data": {
            "text/plain": [
              "<IPython.core.display.HTML object>"
            ],
            "text/html": [
              "<div><iframe src=\"https://50655bf8-e144-4482.gradio.live\" width=\"100%\" height=\"500\" allow=\"autoplay; camera; microphone; clipboard-read; clipboard-write;\" frameborder=\"0\" allowfullscreen></iframe></div>"
            ]
          },
          "metadata": {}
        },
        {
          "output_type": "stream",
          "name": "stdout",
          "text": [
            "Keyboard interruption in main thread... closing server.\n",
            "Killing tunnel 127.0.0.1:7860 <> https://50655bf8-e144-4482.gradio.live\n"
          ]
        },
        {
          "output_type": "execute_result",
          "data": {
            "text/plain": []
          },
          "metadata": {},
          "execution_count": 58
        }
      ]
    }
  ],
  "metadata": {
    "colab": {
      "provenance": [],
      "authorship_tag": "ABX9TyMCPjyQUNlMb2jqZLNGpvCu",
      "include_colab_link": true
    },
    "kernelspec": {
      "display_name": "Python 3",
      "name": "python3"
    },
    "language_info": {
      "name": "python"
    }
  },
  "nbformat": 4,
  "nbformat_minor": 0
}
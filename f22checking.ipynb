{
  "cells": [
    {
      "cell_type": "markdown",
      "metadata": {
        "id": "view-in-github",
        "colab_type": "text"
      },
      "source": [
        "<a href=\"https://colab.research.google.com/github/MK316/Spring2023/blob/main/f22checking.ipynb\" target=\"_parent\"><img src=\"https://colab.research.google.com/assets/colab-badge.svg\" alt=\"Open In Colab\"/></a>"
      ]
    },
    {
      "cell_type": "markdown",
      "source": [
        "# Gradio practice\n",
        "\n",
        "The data is missing ID, phone, ... so get the file and code revised before using this."
      ],
      "metadata": {
        "id": "t4HP04K4Zfyq"
      }
    },
    {
      "cell_type": "code",
      "execution_count": 1,
      "metadata": {
        "id": "3iQmIzCngUuP"
      },
      "outputs": [],
      "source": [
        "%%capture\n",
        "!pip install gradio"
      ]
    },
    {
      "cell_type": "code",
      "execution_count": 14,
      "metadata": {
        "id": "NR2i6GWUpskE",
        "cellView": "form"
      },
      "outputs": [],
      "source": [
        "#@markdown Data to read\n",
        "import pandas as pd\n",
        "url = 'https://raw.githubusercontent.com/MK316/Spring2023/main/data/gradiodata.csv'\n",
        "data = pd.read_csv(url)\n",
        "\n",
        "# data = pd.read_csv(\"/content/f22phon_tocheck.csv\")\n",
        "# rid = input(\"Your ID (10 digits)\")\n",
        "# phone = input(\"Your phone number\")\n",
        "# email = input(\"Your email ID without @naver.com\")\n",
        "\n",
        "# pw = int(rid) + int(phone)\n",
        "# pw = str(pw)[-4:]\n",
        "# print('Your password is %s.'%pw)"
      ]
    },
    {
      "cell_type": "code",
      "execution_count": 15,
      "metadata": {
        "colab": {
          "base_uri": "https://localhost:8080/"
        },
        "id": "I7U9oE8Oslwy",
        "outputId": "052251ce-9525-499b-8e31-f2a6b8cf347a"
      },
      "outputs": [
        {
          "output_type": "execute_result",
          "data": {
            "text/plain": [
              "63.6"
            ]
          },
          "metadata": {},
          "execution_count": 15
        }
      ],
      "source": [
        "data['Total'][4]"
      ]
    },
    {
      "cell_type": "code",
      "execution_count": 18,
      "metadata": {
        "colab": {
          "base_uri": "https://localhost:8080/",
          "height": 780
        },
        "id": "2idA97iBg3EY",
        "outputId": "8111c712-e59c-4a9a-d522-031b5a424cce"
      },
      "outputs": [
        {
          "output_type": "stream",
          "name": "stderr",
          "text": [
            "/usr/local/lib/python3.8/dist-packages/gradio/inputs.py:58: UserWarning: Usage of gradio.inputs is deprecated, and will not be supported in the future, please import your component from gradio.components\n",
            "  warnings.warn(\n",
            "/usr/local/lib/python3.8/dist-packages/gradio/deprecation.py:40: UserWarning: `optional` parameter is deprecated, and it has no effect\n",
            "  warnings.warn(value)\n"
          ]
        },
        {
          "output_type": "stream",
          "name": "stdout",
          "text": [
            "Colab notebook detected. This cell will run indefinitely so that you can see errors and logs. To turn off, set debug=False in launch().\n",
            "\n",
            "Setting up a public link... we have recently upgraded the way public links are generated. If you encounter any problems, please report the issue and downgrade to gradio version 3.13.0\n",
            ".\n",
            "Running on public URL: https://3e9f7462-31f7-4720.gradio.live\n",
            "\n",
            "This share link expires in 72 hours. For free permanent hosting and GPU upgrades (NEW!), check out Spaces: https://huggingface.co/spaces\n"
          ]
        },
        {
          "output_type": "display_data",
          "data": {
            "text/plain": [
              "<IPython.core.display.HTML object>"
            ],
            "text/html": [
              "<div><iframe src=\"https://3e9f7462-31f7-4720.gradio.live\" width=\"100%\" height=\"500\" allow=\"autoplay; camera; microphone; clipboard-read; clipboard-write;\" frameborder=\"0\" allowfullscreen></iframe></div>"
            ]
          },
          "metadata": {}
        },
        {
          "output_type": "stream",
          "name": "stdout",
          "text": [
            "Keyboard interruption in main thread... closing server.\n",
            "Killing tunnel 127.0.0.1:7860 <> https://3e9f7462-31f7-4720.gradio.live\n"
          ]
        },
        {
          "output_type": "execute_result",
          "data": {
            "text/plain": []
          },
          "metadata": {},
          "execution_count": 18
        }
      ],
      "source": [
        "import gradio as gr\n",
        "import pandas as pd\n",
        "\n",
        "# Write your name, student ID number, phone number (without - ), and email ID (e.g., excluding @naver.com)\n",
        "def greet(pw):\n",
        "    data = pd.read_csv(\"/content/f22_phon_tocheck.csv\")\n",
        "    sid = data['SID'][pw]\n",
        "    phon = data['Phone'][pw]\n",
        "    group = data['Group'][pw]\n",
        "    att = data['Attendance'][pw]\n",
        "    mid = data['Midterm'][pw]\n",
        "    mid25p = data['Mid25p'][pw]\n",
        "    fin = data['Final'][pw]\n",
        "    fin35p = data['Fin35p'][pw]\n",
        "    trans = data['Transcription'][pw]\n",
        "    assign = data['Assignment'][pw]\n",
        "    total = data['Total'][pw]\n",
        "    rank = data['Rank'][pw]\n",
        "    return sid, phon, group, att, mid, mid25p, fin, fin35p, assign, trans, total, rank\n",
        "\n",
        "demo = gr.Interface(fn=greet, \n",
        "                    inputs=gr.inputs.Number(label = \"ID\"),\n",
        "                    outputs=[gr.Number(label = \"Your ID\"),\n",
        "                             gr.Number(label = \"Your Phone Number\"),\n",
        "                             gr.Number(label = \"Your group\"),\n",
        "                             gr.Number(label = \"Attendance(10)\"),\n",
        "                             gr.Number(label=\"Midterm\"), \n",
        "                             gr.Number(label=\"Mid(25%)\"),\n",
        "                             gr.Number(label=\"Final\"),\n",
        "                             gr.Number(label=\"Fin(35%)\"), \n",
        "                             gr.Number(label=\"Assignment(20%)\"),\n",
        "                             gr.Number(label=\"Transcription(10%)\"),\n",
        "                             gr.Number(label=\"Total\"),\n",
        "                             gr.Number(label=\"Rank (out of 29 students)\")])\n",
        "\n",
        "demo.launch(share=True, debug=True)"
      ]
    },
    {
      "cell_type": "markdown",
      "source": [
        "# F22 Phonology to check"
      ],
      "metadata": {
        "id": "pWrGbyICZce3"
      }
    },
    {
      "cell_type": "code",
      "source": [
        "import gradio as gr\n",
        "import pandas as pd\n",
        "\n",
        "# Write your name, student ID number, phone number (without - ), and email ID (e.g., excluding @naver.com)\n",
        "def greet(pw):\n",
        "    data = pd.read_csv(\"/content/f22_phonology_tocheck.csv\")\n",
        "    sid = data['SID'][pw]\n",
        "    # phon = data['Phone'][pw]\n",
        "    group = data['Group'][pw]\n",
        "    att = data['Attendance'][pw]\n",
        "    mid = data['Midterm'][pw]\n",
        "    mid25p = data['Mid25p'][pw]\n",
        "    fin = data['Final'][pw]\n",
        "    fin35p = data['Fin35p'][pw]\n",
        "    trans = data['Quizzes'][pw]\n",
        "    assign = data['Assignment'][pw]\n",
        "    total = data['Total'][pw]\n",
        "    rank = data['Rank'][pw]\n",
        "    return sid, group, att, mid, mid25p, fin, fin35p, assign, trans, total, rank\n",
        "\n",
        "demo = gr.Interface(fn=greet, \n",
        "                    inputs=gr.inputs.Number(label = \"ID\"),\n",
        "                    outputs=[gr.Number(label = \"Your ID\"),\n",
        "                             gr.Number(label = \"Your group\"),\n",
        "                             gr.Number(label = \"Attendance(10)\"),\n",
        "                             gr.Number(label=\"Midterm (out of 43)\"), \n",
        "                             gr.Number(label=\"Mid (25%)\"),\n",
        "                             gr.Number(label=\"Final (out of 65)\"),\n",
        "                             gr.Number(label=\"Fin (35%)\"), \n",
        "                             gr.Number(label=\"Assignment(20%)\"),\n",
        "                             gr.Number(label=\"Quizzes (10%)\"),\n",
        "                             gr.Number(label=\"Total (out of 100\"),\n",
        "                             gr.Number(label=\"Rank (out of 19 students)\")])\n",
        "\n",
        "demo.launch(share=True, debug=True)"
      ],
      "metadata": {
        "id": "Xb3U8HT5ZgYD",
        "outputId": "beed0f66-cd36-4149-c61a-4aa6b9f7f24a",
        "colab": {
          "base_uri": "https://localhost:8080/",
          "height": 780
        }
      },
      "execution_count": 23,
      "outputs": [
        {
          "output_type": "stream",
          "name": "stderr",
          "text": [
            "/usr/local/lib/python3.8/dist-packages/gradio/inputs.py:58: UserWarning: Usage of gradio.inputs is deprecated, and will not be supported in the future, please import your component from gradio.components\n",
            "  warnings.warn(\n",
            "/usr/local/lib/python3.8/dist-packages/gradio/deprecation.py:40: UserWarning: `optional` parameter is deprecated, and it has no effect\n",
            "  warnings.warn(value)\n"
          ]
        },
        {
          "output_type": "stream",
          "name": "stdout",
          "text": [
            "Colab notebook detected. This cell will run indefinitely so that you can see errors and logs. To turn off, set debug=False in launch().\n",
            "\n",
            "Setting up a public link... we have recently upgraded the way public links are generated. If you encounter any problems, please report the issue and downgrade to gradio version 3.13.0\n",
            ".\n",
            "Running on public URL: https://1ac09e2b-5eba-40b3.gradio.live\n",
            "\n",
            "This share link expires in 72 hours. For free permanent hosting and GPU upgrades (NEW!), check out Spaces: https://huggingface.co/spaces\n"
          ]
        },
        {
          "output_type": "display_data",
          "data": {
            "text/plain": [
              "<IPython.core.display.HTML object>"
            ],
            "text/html": [
              "<div><iframe src=\"https://1ac09e2b-5eba-40b3.gradio.live\" width=\"100%\" height=\"500\" allow=\"autoplay; camera; microphone; clipboard-read; clipboard-write;\" frameborder=\"0\" allowfullscreen></iframe></div>"
            ]
          },
          "metadata": {}
        },
        {
          "output_type": "stream",
          "name": "stdout",
          "text": [
            "Keyboard interruption in main thread... closing server.\n",
            "Killing tunnel 127.0.0.1:7860 <> https://1ac09e2b-5eba-40b3.gradio.live\n"
          ]
        },
        {
          "output_type": "execute_result",
          "data": {
            "text/plain": []
          },
          "metadata": {},
          "execution_count": 23
        }
      ]
    }
  ],
  "metadata": {
    "colab": {
      "provenance": [],
      "authorship_tag": "ABX9TyMk9g/6vKn9afR5fuAvUtwO",
      "include_colab_link": true
    },
    "kernelspec": {
      "display_name": "Python 3",
      "name": "python3"
    },
    "language_info": {
      "name": "python"
    }
  },
  "nbformat": 4,
  "nbformat_minor": 0
}
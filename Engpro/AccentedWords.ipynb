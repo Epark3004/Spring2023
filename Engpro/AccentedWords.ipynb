{
  "nbformat": 4,
  "nbformat_minor": 0,
  "metadata": {
    "colab": {
      "provenance": [],
      "authorship_tag": "ABX9TyONIQDd//YwgXYB5Ifw0myr",
      "include_colab_link": true
    },
    "kernelspec": {
      "name": "python3",
      "display_name": "Python 3"
    },
    "language_info": {
      "name": "python"
    }
  },
  "cells": [
    {
      "cell_type": "markdown",
      "metadata": {
        "id": "view-in-github",
        "colab_type": "text"
      },
      "source": [
        "<a href=\"https://colab.research.google.com/github/MK316/Spring2023/blob/main/Engpro/AccentedWords.ipynb\" target=\"_parent\"><img src=\"https://colab.research.google.com/assets/colab-badge.svg\" alt=\"Open In Colab\"/></a>"
      ]
    },
    {
      "cell_type": "code",
      "execution_count": null,
      "metadata": {
        "id": "d2lnXu9uISx7"
      },
      "outputs": [],
      "source": []
    },
    {
      "cell_type": "code",
      "source": [
        "#@markdown 💠 Import libraries {Image, Audio, YouTubeVideo}\n",
        "from IPython.display import Image, Audio, YouTubeVideo"
      ],
      "metadata": {
        "cellView": "form",
        "id": "TPblYRDIWasG"
      },
      "execution_count": null,
      "outputs": []
    },
    {
      "cell_type": "code",
      "source": [
        "#@markdown English accent:\n",
        "Spelling = \"1\" #@param = [1, 2, 3, 4, 5]\n",
        "Language = \"zh-CN\" #@param = [\"en\",\"fr\",\"zh-CN\",\"es\", \"ko\", \"ja\"]\n",
        "Dialect = \"com.au\" #@param = [\"com.au\",\"co.uk\",\"us\",\"ca\",\"co.in\",\"ie\", \"co.za\"]\n",
        "pn = int(Spelling) -1\n",
        "\n",
        "wordlist = [\"\"]\n",
        "\n",
        "wlist = wordlist[pn]\n",
        "txt = \"I'm learning English like you. Let's practice together. \" + \" \" + wlist\n",
        "\n",
        "if Language == \"en\":\n",
        "  def tts(txt):\n",
        "    text_to_say = txt\n",
        "    gtts_object = gTTS(text = text_to_say,\n",
        "                     lang = \"en\", tld = Dialect,\n",
        "                    slow = False) \n",
        "    gtts_object.save(\"E-audio.mp3\")\n",
        "    return Audio(\"E-audio.mp3\")\n",
        "else:\n",
        "  def tts(txt):\n",
        "    text_to_say = txt\n",
        "    gtts_object = gTTS(text = text_to_say,\n",
        "                       lang = Language, slow = False)\n",
        "    gtts_object.save(\"E-audio.mp3\")\n",
        "    return Audio(\"E-audio.mp3\")\n",
        "\n",
        "tts(txt)\n",
        "Audio(\"E-audio.mp3\", autoplay = True)"
      ],
      "metadata": {
        "cellView": "form",
        "id": "3o3XJ-UqIbk4"
      },
      "execution_count": null,
      "outputs": []
    }
  ]
}
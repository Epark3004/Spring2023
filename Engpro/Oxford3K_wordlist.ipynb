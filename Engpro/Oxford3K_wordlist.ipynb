{
  "nbformat": 4,
  "nbformat_minor": 0,
  "metadata": {
    "colab": {
      "provenance": [],
      "authorship_tag": "ABX9TyMETfdscrC5+xMaHM9Cqi6D",
      "include_colab_link": true
    },
    "kernelspec": {
      "name": "python3",
      "display_name": "Python 3"
    },
    "language_info": {
      "name": "python"
    }
  },
  "cells": [
    {
      "cell_type": "markdown",
      "metadata": {
        "id": "view-in-github",
        "colab_type": "text"
      },
      "source": [
        "<a href=\"https://colab.research.google.com/github/MK316/Spring2023/blob/main/Engpro/Oxford3K_wordlist.ipynb\" target=\"_parent\"><img src=\"https://colab.research.google.com/assets/colab-badge.svg\" alt=\"Open In Colab\"/></a>"
      ]
    },
    {
      "cell_type": "markdown",
      "source": [
        "# Oxford Learners' dictionary 3,000"
      ],
      "metadata": {
        "id": "-I-GMEPnGvX-"
      }
    },
    {
      "cell_type": "code",
      "execution_count": 1,
      "metadata": {
        "colab": {
          "base_uri": "https://localhost:8080/"
        },
        "cellView": "form",
        "id": "g2E5emlrGu9l",
        "outputId": "14c42a32-b6d2-4a4a-f4b6-aeb39ddb25ac"
      },
      "outputs": [
        {
          "output_type": "stream",
          "name": "stdout",
          "text": [
            "Looking in indexes: https://pypi.org/simple, https://us-python.pkg.dev/colab-wheels/public/simple/\n",
            "Requirement already satisfied: requests in /usr/local/lib/python3.9/dist-packages (2.27.1)\n",
            "Requirement already satisfied: certifi>=2017.4.17 in /usr/local/lib/python3.9/dist-packages (from requests) (2022.12.7)\n",
            "Requirement already satisfied: urllib3<1.27,>=1.21.1 in /usr/local/lib/python3.9/dist-packages (from requests) (1.26.15)\n",
            "Requirement already satisfied: charset-normalizer~=2.0.0 in /usr/local/lib/python3.9/dist-packages (from requests) (2.0.12)\n",
            "Requirement already satisfied: idna<4,>=2.5 in /usr/local/lib/python3.9/dist-packages (from requests) (3.4)\n"
          ]
        }
      ],
      "source": [
        "#@markdown Install and import {requests, pandas}\n",
        "!pip install requests\n",
        "import pandas as pd\n",
        "import requests"
      ]
    },
    {
      "cell_type": "markdown",
      "source": [
        "Data to read (github word list to dataframe)"
      ],
      "metadata": {
        "id": "c5qJVlffJJW1"
      }
    },
    {
      "cell_type": "code",
      "source": [
        "#@markdown Data to read: df\n",
        "url = 'https://raw.githubusercontent.com/MK316/Spring2023/main/Engpro/data/OLV3K.txt'\n",
        "\n",
        "response = requests.get(url)\n",
        "\n",
        "if response.status_code == 200:\n",
        "    word_list = response.text.splitlines()\n",
        "else:\n",
        "    print(f'Error: {response.status_code}')\n",
        "\n",
        "df = pd.DataFrame(word_list, columns=['Words'])\n",
        "print(f\"There are {len(df['Words'])} words in the data \")\n",
        "print(\"=\"*50)\n",
        "df.head()"
      ],
      "metadata": {
        "colab": {
          "base_uri": "https://localhost:8080/",
          "height": 243
        },
        "cellView": "form",
        "id": "XKlxafH1HSey",
        "outputId": "9add6371-4915-43b4-e728-6c2b4e523821"
      },
      "execution_count": 12,
      "outputs": [
        {
          "output_type": "stream",
          "name": "stdout",
          "text": [
            "There are 3847 words in the data \n",
            "==================================================\n"
          ]
        },
        {
          "output_type": "execute_result",
          "data": {
            "text/plain": [
              "       Words\n",
              "0          a\n",
              "1    abandon\n",
              "2  abandoned\n",
              "3    ability\n",
              "4       able"
            ],
            "text/html": [
              "\n",
              "  <div id=\"df-ec664cc9-ec47-4a3b-a970-a9897f09cb04\">\n",
              "    <div class=\"colab-df-container\">\n",
              "      <div>\n",
              "<style scoped>\n",
              "    .dataframe tbody tr th:only-of-type {\n",
              "        vertical-align: middle;\n",
              "    }\n",
              "\n",
              "    .dataframe tbody tr th {\n",
              "        vertical-align: top;\n",
              "    }\n",
              "\n",
              "    .dataframe thead th {\n",
              "        text-align: right;\n",
              "    }\n",
              "</style>\n",
              "<table border=\"1\" class=\"dataframe\">\n",
              "  <thead>\n",
              "    <tr style=\"text-align: right;\">\n",
              "      <th></th>\n",
              "      <th>Words</th>\n",
              "    </tr>\n",
              "  </thead>\n",
              "  <tbody>\n",
              "    <tr>\n",
              "      <th>0</th>\n",
              "      <td>a</td>\n",
              "    </tr>\n",
              "    <tr>\n",
              "      <th>1</th>\n",
              "      <td>abandon</td>\n",
              "    </tr>\n",
              "    <tr>\n",
              "      <th>2</th>\n",
              "      <td>abandoned</td>\n",
              "    </tr>\n",
              "    <tr>\n",
              "      <th>3</th>\n",
              "      <td>ability</td>\n",
              "    </tr>\n",
              "    <tr>\n",
              "      <th>4</th>\n",
              "      <td>able</td>\n",
              "    </tr>\n",
              "  </tbody>\n",
              "</table>\n",
              "</div>\n",
              "      <button class=\"colab-df-convert\" onclick=\"convertToInteractive('df-ec664cc9-ec47-4a3b-a970-a9897f09cb04')\"\n",
              "              title=\"Convert this dataframe to an interactive table.\"\n",
              "              style=\"display:none;\">\n",
              "        \n",
              "  <svg xmlns=\"http://www.w3.org/2000/svg\" height=\"24px\"viewBox=\"0 0 24 24\"\n",
              "       width=\"24px\">\n",
              "    <path d=\"M0 0h24v24H0V0z\" fill=\"none\"/>\n",
              "    <path d=\"M18.56 5.44l.94 2.06.94-2.06 2.06-.94-2.06-.94-.94-2.06-.94 2.06-2.06.94zm-11 1L8.5 8.5l.94-2.06 2.06-.94-2.06-.94L8.5 2.5l-.94 2.06-2.06.94zm10 10l.94 2.06.94-2.06 2.06-.94-2.06-.94-.94-2.06-.94 2.06-2.06.94z\"/><path d=\"M17.41 7.96l-1.37-1.37c-.4-.4-.92-.59-1.43-.59-.52 0-1.04.2-1.43.59L10.3 9.45l-7.72 7.72c-.78.78-.78 2.05 0 2.83L4 21.41c.39.39.9.59 1.41.59.51 0 1.02-.2 1.41-.59l7.78-7.78 2.81-2.81c.8-.78.8-2.07 0-2.86zM5.41 20L4 18.59l7.72-7.72 1.47 1.35L5.41 20z\"/>\n",
              "  </svg>\n",
              "      </button>\n",
              "      \n",
              "  <style>\n",
              "    .colab-df-container {\n",
              "      display:flex;\n",
              "      flex-wrap:wrap;\n",
              "      gap: 12px;\n",
              "    }\n",
              "\n",
              "    .colab-df-convert {\n",
              "      background-color: #E8F0FE;\n",
              "      border: none;\n",
              "      border-radius: 50%;\n",
              "      cursor: pointer;\n",
              "      display: none;\n",
              "      fill: #1967D2;\n",
              "      height: 32px;\n",
              "      padding: 0 0 0 0;\n",
              "      width: 32px;\n",
              "    }\n",
              "\n",
              "    .colab-df-convert:hover {\n",
              "      background-color: #E2EBFA;\n",
              "      box-shadow: 0px 1px 2px rgba(60, 64, 67, 0.3), 0px 1px 3px 1px rgba(60, 64, 67, 0.15);\n",
              "      fill: #174EA6;\n",
              "    }\n",
              "\n",
              "    [theme=dark] .colab-df-convert {\n",
              "      background-color: #3B4455;\n",
              "      fill: #D2E3FC;\n",
              "    }\n",
              "\n",
              "    [theme=dark] .colab-df-convert:hover {\n",
              "      background-color: #434B5C;\n",
              "      box-shadow: 0px 1px 3px 1px rgba(0, 0, 0, 0.15);\n",
              "      filter: drop-shadow(0px 1px 2px rgba(0, 0, 0, 0.3));\n",
              "      fill: #FFFFFF;\n",
              "    }\n",
              "  </style>\n",
              "\n",
              "      <script>\n",
              "        const buttonEl =\n",
              "          document.querySelector('#df-ec664cc9-ec47-4a3b-a970-a9897f09cb04 button.colab-df-convert');\n",
              "        buttonEl.style.display =\n",
              "          google.colab.kernel.accessAllowed ? 'block' : 'none';\n",
              "\n",
              "        async function convertToInteractive(key) {\n",
              "          const element = document.querySelector('#df-ec664cc9-ec47-4a3b-a970-a9897f09cb04');\n",
              "          const dataTable =\n",
              "            await google.colab.kernel.invokeFunction('convertToInteractive',\n",
              "                                                     [key], {});\n",
              "          if (!dataTable) return;\n",
              "\n",
              "          const docLinkHtml = 'Like what you see? Visit the ' +\n",
              "            '<a target=\"_blank\" href=https://colab.research.google.com/notebooks/data_table.ipynb>data table notebook</a>'\n",
              "            + ' to learn more about interactive tables.';\n",
              "          element.innerHTML = '';\n",
              "          dataTable['output_type'] = 'display_data';\n",
              "          await google.colab.output.renderOutput(dataTable, element);\n",
              "          const docLink = document.createElement('div');\n",
              "          docLink.innerHTML = docLinkHtml;\n",
              "          element.appendChild(docLink);\n",
              "        }\n",
              "      </script>\n",
              "    </div>\n",
              "  </div>\n",
              "  "
            ]
          },
          "metadata": {},
          "execution_count": 12
        }
      ]
    },
    {
      "cell_type": "code",
      "source": [
        "#@markdown Word search with index\n",
        "\n",
        "search_word = input(\"Enter a word to search: \")\n",
        "\n",
        "# Search for the word in the DataFrame and get its index\n",
        "found = df[df['Words'] == search_word]\n",
        "\n",
        "# Check if the word is found and display the result\n",
        "if not found.empty:\n",
        "    index = found.index[0]\n",
        "    print(f\"{search_word} is in the DataFrame at index {index}.\")\n",
        "else:\n",
        "    print(f\"{search_word} is not in the DataFrame.\")"
      ],
      "metadata": {
        "colab": {
          "base_uri": "https://localhost:8080/"
        },
        "id": "lS7OmtM0I6KL",
        "outputId": "94551ac0-70b7-42a3-ef3d-748e8465d87e"
      },
      "execution_count": 53,
      "outputs": [
        {
          "output_type": "stream",
          "name": "stdout",
          "text": [
            "Enter a word to search: oi\n",
            "oi is not in the DataFrame.\n"
          ]
        }
      ]
    },
    {
      "cell_type": "code",
      "source": [
        "Positions = \"Initial matching\" #@param = [\"Initial matching\", \"Word-medial matching\",\"Perfect match\"]\n",
        "\n",
        "search_string = input(\"Enter a word to search: \")\n",
        "\n",
        "\n",
        "# Search for the word in the DataFrame and get its index\n",
        "\n",
        "if Positions == \"Initial matching\":\n",
        "  filtered_df = df[df['Words'].str.startswith(search_string)]\n",
        "\n",
        "# Check if any words are found and display the results\n",
        "  if not filtered_df.empty:\n",
        "      print(f\"Words that start with '{search_string}':\")\n",
        "      for index, row in filtered_df.iterrows():\n",
        "          print(f\"Index {index}: {row['Words']}\")\n",
        "  else:\n",
        "      print(f\"No words found starting with '{search_string}'.\")\n",
        "\n",
        "elif Positions == \"Word-medial matching\":\n",
        "  filtered_df = df[df['Words'].str.contains(search_string)]\n",
        "\n",
        "# Check if any words are found and display the results\n",
        "  if not filtered_df.empty:\n",
        "      print(f\"Words containing '{search_string}':\")\n",
        "      for index, row in filtered_df.iterrows():\n",
        "          print(f\"Index {index}: {row['Words']}\")\n",
        "  else:\n",
        "      print(f\"No words found containing '{search_string}'.\")\n",
        "\n",
        "elif Positions == \"Perfect match\":\n",
        "  found = df[df['Words'] == search_string]\n",
        "\n",
        "# Check if the word is found and display the result\n",
        "  if not found.empty:\n",
        "      index = found.index[0]\n",
        "      print(f\"{search_string} is in the DataFrame at index {index}.\")\n",
        "  else:\n",
        "      print(f\"{search_string} is not in the DataFrame.\")"
      ],
      "metadata": {
        "colab": {
          "base_uri": "https://localhost:8080/"
        },
        "cellView": "form",
        "id": "POKJJXG3LxvR",
        "outputId": "7e1df848-5699-4dbe-988d-f39c350792db"
      },
      "execution_count": 58,
      "outputs": [
        {
          "output_type": "stream",
          "name": "stdout",
          "text": [
            "Enter a word to search: se\n",
            "Words that start with 'se':\n",
            "Index 2938: sea\n",
            "Index 2939: seal\n",
            "Index 2940: seal off\n",
            "Index 2941: search\n",
            "Index 2942: season\n",
            "Index 2943: seat\n",
            "Index 2944: second 1\n",
            "Index 2945: secondary\n",
            "Index 2946: secret\n",
            "Index 2947: secretary\n",
            "Index 2948: secretly\n",
            "Index 2949: section\n",
            "Index 2950: sector\n",
            "Index 2951: secure\n",
            "Index 2952: security\n",
            "Index 2953: see\n",
            "Index 2954: see about\n",
            "Index 2955: seed\n",
            "Index 2956: seek\n",
            "Index 2957: seem\n",
            "Index 2958: see to\n",
            "Index 2959: select\n",
            "Index 2960: selection\n",
            "Index 2961: self\n",
            "Index 2962: self-\n",
            "Index 2963: sell\n",
            "Index 2964: sell off\n",
            "Index 2965: sell out\n",
            "Index 2966: senate\n",
            "Index 2967: senator\n",
            "Index 2968: send\n",
            "Index 2969: send for\n",
            "Index 2970: send off\n",
            "Index 2971: senior\n",
            "Index 2972: sense\n",
            "Index 2973: sensible\n",
            "Index 2974: sensitive\n",
            "Index 2975: sentence\n",
            "Index 2976: separate\n",
            "Index 2977: separated\n",
            "Index 2978: separately\n",
            "Index 2979: separation\n",
            "Index 2981: series\n",
            "Index 2982: serious\n",
            "Index 2983: seriously\n",
            "Index 2984: servant\n",
            "Index 2985: serve\n",
            "Index 2986: service\n",
            "Index 2987: session\n",
            "Index 2988: set\n",
            "Index 2989: set off\n",
            "Index 2990: set out\n",
            "Index 2991: settle\n",
            "Index 2992: settle down\n",
            "Index 2993: set up\n",
            "Index 2994: seven\n",
            "Index 2995: seventeen\n",
            "Index 2996: seventh\n",
            "Index 2997: seventieth\n",
            "Index 2998: seventy\n",
            "Index 2999: several\n",
            "Index 3000: severe\n",
            "Index 3001: severely\n",
            "Index 3002: sew\n",
            "Index 3003: sewing\n",
            "Index 3004: sex\n",
            "Index 3005: sexual\n",
            "Index 3006: sexually\n"
          ]
        }
      ]
    }
  ]
}
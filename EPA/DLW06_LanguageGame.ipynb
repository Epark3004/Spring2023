{
  "nbformat": 4,
  "nbformat_minor": 0,
  "metadata": {
    "colab": {
      "provenance": [],
      "authorship_tag": "ABX9TyPHjj5jxYUrXYw1pWzY9C1d",
      "include_colab_link": true
    },
    "kernelspec": {
      "name": "python3",
      "display_name": "Python 3"
    },
    "language_info": {
      "name": "python"
    }
  },
  "cells": [
    {
      "cell_type": "markdown",
      "metadata": {
        "id": "view-in-github",
        "colab_type": "text"
      },
      "source": [
        "<a href=\"https://colab.research.google.com/github/MK316/Spring2023/blob/main/EPA/DLW06_LanguageGame.ipynb\" target=\"_parent\"><img src=\"https://colab.research.google.com/assets/colab-badge.svg\" alt=\"Open In Colab\"/></a>"
      ]
    },
    {
      "cell_type": "markdown",
      "source": [
        "# 🌀**DLW06 Sample**"
      ],
      "metadata": {
        "id": "_mbT_YJKGkm-"
      }
    },
    {
      "cell_type": "markdown",
      "source": [
        "# 💕 Goal: Creating apps \n",
        "\n",
        "1. **_Word Guessing Game from Hints_**\n",
        "2. **_Grammar: Yes-no question making_**\n",
        "3. **_Story Game_**\n",
        "\n",
        "We will be spending 2 weeks to get this go."
      ],
      "metadata": {
        "id": "ppmHMRdisMiv"
      }
    },
    {
      "cell_type": "markdown",
      "source": [
        "##💦 **Demo 1: Making a word quiz.**"
      ],
      "metadata": {
        "id": "MWpQZGE5wZgt"
      }
    },
    {
      "cell_type": "code",
      "source": [
        "#@markdown Run this code to see guesiong game\n",
        "import random\n",
        "\n",
        "# Define a dictionary of words and their hints\n",
        "word_hints = {\n",
        "    \"suprasegmental\": [\n",
        "        \"This term is related to the features of speech that go beyond individual sounds.\",\n",
        "        \"It is often associated with intonation, stress, and timing.\",\n",
        "        \"Examples include pitch, tone, and stress patterns.\",\n",
        "        \"The answer begins with 's'.\"\n",
        "    ],\n",
        "    \"geminate\": [\n",
        "        \"This term is related to a specific type of consonant.\",\n",
        "        \"It refers to a consonant that is pronounced for a longer duration than its regular counterpart.\",\n",
        "        \"In some languages, it can be represented by doubling the consonant in writing.\",\n",
        "        \"The answer begins with 'g'.\"\n",
        "    ],\n",
        "    \"syllable\": [\n",
        "        \"This term is related to a unit of speech.\",\n",
        "        \"It is a sequence of speech sounds, typically consisting of a vowel and any surrounding consonants.\",\n",
        "        \"A word can have one or multiple of these units.\",\n",
        "        \"The answer begins with 's'.\"\n",
        "    ]\n",
        "}\n",
        "\n",
        "# Define guessing game\n",
        "\n",
        "def guessing_game(word_hints):\n",
        "    words = list(word_hints.keys())\n",
        "    random.shuffle(words)\n",
        "\n",
        "    for word in words:\n",
        "        print(\"\\nGuess the word based on the following hints:\")\n",
        "        hints = word_hints[word]\n",
        "        attempts = 0\n",
        "\n",
        "        while attempts < len(hints):\n",
        "            print(f\"Hint {attempts + 1}: {hints[attempts]}\")\n",
        "            guess = input(\"Your guess: \").strip().lower()\n",
        "\n",
        "            if guess == word.lower():\n",
        "                print(\"Congratulations! You guessed the correct word!\\n\")\n",
        "                break\n",
        "            else:\n",
        "                print(\"Incorrect. Try again with another hint.\\n\")\n",
        "                attempts += 1\n",
        "\n",
        "        if attempts == len(hints):\n",
        "            print(f\"Sorry, you've run out of hints. The correct word was: {word}\\n\")\n",
        "\n",
        "# Using this conditional structure is a common practice in Python to allow a script to be both executed as a standalone program and imported as a module in other scripts without immediately running the code within the script.\n",
        "if __name__ == \"__main__\":\n",
        "  guessing_game(word_hints)"
      ],
      "metadata": {
        "cellView": "form",
        "id": "68fDLUnZs8KF"
      },
      "execution_count": null,
      "outputs": []
    },
    {
      "cell_type": "markdown",
      "source": [
        "##💦**Demo 2: Convert a statement to a yes-no question**"
      ],
      "metadata": {
        "id": "DKwjeU8pW-iu"
      }
    },
    {
      "cell_type": "code",
      "source": [
        "#@markdown Install and import libraries\n",
        "%%capture\n",
        "!pip install gtts\n",
        "!pip install IPython\n",
        "from gtts import gTTS\n",
        "from IPython.display import Audio, display\n",
        "\n",
        "#@markdown etts(), ktts()\n",
        "def etts(text):\n",
        "  text_to_say = text\n",
        "\n",
        "  gtts_object = gTTS(text = text_to_say,\n",
        "                     lang = \"en\",\n",
        "                    slow = False)\n",
        "  \n",
        "  gtts_object.save(\"E-audio.mp3\")\n",
        "  return Audio(\"E-audio.mp3\")\n",
        "\n",
        "def ktts(text):\n",
        "  text_to_say = text\n",
        "\n",
        "  gtts_object = gTTS(text = text_to_say,\n",
        "                     lang = \"ko\",\n",
        "                    slow = False)\n",
        "  \n",
        "  gtts_object.save(\"K-audio.mp3\")\n",
        "  return Audio(\"K-audio.mp3\")"
      ],
      "metadata": {
        "cellView": "form",
        "id": "TajMEehr8_7D"
      },
      "execution_count": null,
      "outputs": []
    },
    {
      "cell_type": "markdown",
      "source": [
        "---\n",
        "### Complete version with some restriction \n",
        "\n",
        "1. The statement you're entering must contain a be-verb.\n",
        "2. If you use a proper noun as a subject, restrict it to one of the followings: \n",
        "\n",
        "> **Male: Tom, Thomas, Bill**\n",
        "\n",
        "> **Female: Mary, Jane, Jessica**\n",
        "\n",
        "2. Must contain a punctuation(.)\n",
        "---"
      ],
      "metadata": {
        "id": "5XYJaX2IDrOu"
      }
    },
    {
      "cell_type": "code",
      "source": [
        "#@markdown Statment to a Yes-No question (Audio autoplay)\n",
        "sentence = input(\"Type a sentence containing a be verb: e.g., I am a students.\")\n",
        "beverbs = [\"is\", \"was\", \"are\", \"were\"]\n",
        "pronouns = [\"I\",\"You\",\"He\",\"She\",\"They\",\"It\"]\n",
        "names = [\"Mary\", \"Jane\", \"Tom\",\"Thomas\",\"Jessica\", \"Bill\"]\n",
        "\n",
        "def check_word(list_A, list_B):\n",
        "    for a in list_A:\n",
        "        for b in list_B:\n",
        "            if b in a:\n",
        "                mword = a\n",
        "                return True, mword\n",
        "    return False, None\n",
        "\n",
        "\n",
        "cat1 = sentence.split()\n",
        "\n",
        "result = check_word(cat1,beverbs)\n",
        "\n",
        "if result[0] == True:\n",
        "  if cat1[0] in pronouns:\n",
        "      b = result[1]\n",
        "      be = \" \"+b+\" \"\n",
        "      ss = sentence.split(be)\n",
        "      subj = ss[0]\n",
        "      nsubj = subj[0].lower()+subj[1:]\n",
        "      pred = ss[1]\n",
        "      w1 = b[0].upper() + b[1:] # Capitalized be verb\n",
        "      newsent = w1 + \" \" + nsubj + \" \" + pred[:-1] + \"?\"\n",
        "      mytext = \"I'll make it to a yes-no question: \" + newsent\n",
        "      print(newsent)\n",
        "  elif cat1[0] not in pronouns and cat1[0] in names:\n",
        "        b = result[1]\n",
        "        be = \" \"+b+\" \"\n",
        "        ss = sentence.split(be)\n",
        "        subj = ss[0]\n",
        "        pred = ss[1]\n",
        "        w1 = b[0].upper() + b[1:] # Capitalized be verb\n",
        "        newsent = w1 + \" \" + subj + \" \" + pred[:-1] + \"?\"\n",
        "        mytext = \"I'll make it to a yes-no question: \" + newsent\n",
        "        print(newsent)\n",
        "  elif cat1[0] not in pronouns and cat1[0] not in names:\n",
        "        b = result[1]\n",
        "        be = \" \"+b+\" \"\n",
        "        ss = sentence.split(be)\n",
        "        subj = ss[0]\n",
        "        nsubj = subj[0].lower()+subj[1:]\n",
        "        pred = ss[1]\n",
        "        w1 = b[0].upper() + b[1:] # Capitalized be verb\n",
        "        newsent = w1 + \" \" + nsubj + \" \" + pred[:-1] + \"?\"\n",
        "        mytext = \"I'll make it to a yes-no question: \" + newsent\n",
        "        print(newsent)\n",
        "\n",
        "else:\n",
        "    mytext = \"The sentence you\\' provided does not contain a 'Be' verb. Try again.\"\n",
        "    print(\"Type a sentence that contains a be verb.\")\n",
        "\n",
        "etts(mytext)\n",
        "Audio(\"E-audio.mp3\",autoplay=True)"
      ],
      "metadata": {
        "colab": {
          "base_uri": "https://localhost:8080/",
          "height": 111
        },
        "cellView": "form",
        "id": "ZjPSWFub-55P",
        "outputId": "80c1dd88-3bef-4bd3-bf73-bf0b9762418d"
      },
      "execution_count": null,
      "outputs": [
        {
          "output_type": "stream",
          "name": "stdout",
          "text": [
            "Type a sentence containing a be verb: e.g., I am a students.You were tired yesterday.\n",
            "Were you tired yesterday?\n"
          ]
        },
        {
          "output_type": "execute_result",
          "data": {
            "text/plain": [
              "<IPython.lib.display.Audio object>"
            ],
            "text/html": [
              "\n",
              "                <audio  controls=\"controls\" autoplay=\"autoplay\">\n",
              "                    <source src=\"data:audio/mpeg;base64,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\" type=\"audio/mpeg\" />\n",
              "                    Your browser does not support the audio element.\n",
              "                </audio>\n",
              "              "
            ]
          },
          "metadata": {},
          "execution_count": 57
        }
      ]
    },
    {
      "cell_type": "markdown",
      "source": [
        "## 💦**Demo 3: Story game**"
      ],
      "metadata": {
        "id": "UG0_f0gJQl1r"
      }
    },
    {
      "cell_type": "code",
      "source": [
        "#@markdown Adventure game with reading\n",
        "print(\"Welcome to the adventure game!\")\n",
        "print(\"=\"*50)\n",
        "print(\"You are a high school student who has been chosen to embark on a quest to save your town from a mysterious curse.\")\n",
        "print(\"You will face various challenges and choices along the way, and your decisions will determine the outcome of the story.\")\n",
        "print(\"=\"*50)\n",
        "name = input(\"What is your name? \")\n",
        "print(\"=\"*50)\n",
        "print(f\"Nice to meet you, {name}! Are you ready to begin?\")\n",
        "print(\"=\"*50)\n",
        "# Start of the story\n",
        "print(\"You wake up one morning to find that your town is covered in a thick fog.\")\n",
        "print(\"People are starting to get sick, and strange things are happening.\")\n",
        "print(\"You decide to investigate and find out that a curse has been cast upon the town.\")\n",
        "print(\"You meet a wise old sage who tells you that the only way to lift the curse is to find a magical artifact that is hidden in a dangerous dungeon.\")\n",
        "print(\"=\"*50)\n",
        "# First choice\n",
        "print(\"You have two options:\")\n",
        "print(\"Option 1: Search for clues in the town.\")\n",
        "print(\"Option 2: Go straight to the dungeon.\")\n",
        "print(\"=\"*50)\n",
        "choice = input(\"Which option do you choose? (1 or 2) \")\n",
        "print(\"=\"*50)\n",
        "if choice == \"1\":\n",
        "    print(\"You spend the day talking to townspeople and searching for clues.\")\n",
        "    print(\"You find a cryptic message that leads you to a hidden cave.\")\n",
        "elif choice == \"2\":\n",
        "    print(\"You journey to the dungeon and face many dangers along the way.\")\n",
        "    print(\"You eventually reach the entrance to the dungeon.\")\n",
        "print(\"=\"*50)\n",
        "# Second choice\n",
        "print(\"You have two options:\")\n",
        "print(\"Option 1: Enter the cave.\")\n",
        "print(\"Option 2: Enter the dungeon.\")\n",
        "print(\"=\"*50)\n",
        "choice = input(\"Which option do you choose? (1 or 2) \")\n",
        "print(\"=\"*50)\n",
        "if choice == \"1\":\n",
        "    print(\"=\"*50)\n",
        "    print(\"You enter the cave and find the magical artifact!\")\n",
        "    print(\"You bring it back to the town and the curse is lifted.\")\n",
        "    print(\"Congratulations! You have saved the town!\")\n",
        "    print(\"=\"*50)\n",
        "elif choice == \"2\":\n",
        "    print(\"=\"*50)\n",
        "    print(\"You enter the dungeon and face many challenges.\")\n",
        "    print(\"You eventually find the magical artifact, but it is guarded by a powerful monster.\")\n",
        "    print(\"You must defeat the monster to retrieve the artifact.\")\n",
        "    print(\"You engage in a fierce battle!\")\n",
        "    print(\"You lost the battle and the curse remains.\")\n",
        "    print(\"Brave You! Though the curse remains, people appreicate your effort.\")\n",
        "    print(\"=\"*50)\n"
      ],
      "metadata": {
        "cellView": "form",
        "id": "qBAUNW9qP75J"
      },
      "execution_count": null,
      "outputs": []
    },
    {
      "cell_type": "code",
      "source": [
        "#@markdown Story game with listening (audio)\n",
        "from gtts import gTTS\n",
        "import IPython.display as ipd\n",
        "\n",
        "def play_audio(text):\n",
        "    language = 'en'\n",
        "    audio = gTTS(text=text, lang=language, slow=False)\n",
        "    audio.save(\"audio.mp3\")\n",
        "    ipd.display(ipd.Audio(\"audio.mp3\", autoplay=True))\n",
        "\n",
        "# Introduction\n",
        "play_audio(\"Welcome to the story game. You are walking home from school when you hear footsteps behind you. You look back and see a shady figure in the distance. What do you do?\")\n",
        "ipd.clear_output(wait=True)\n",
        "input(\"Press Enter to continue...\")\n",
        "\n",
        "# Stage 1\n",
        "play_audio(\"You decide to run. Do you run towards the park or towards the busy street?\")\n",
        "ipd.clear_output(wait=True)\n",
        "choice = input(\"Enter 1 to run towards the park, or 2 to run towards the busy street: \")\n",
        "if choice == \"1\":\n",
        "    play_audio(\"You run towards the park and manage to lose the shady figure. You continue walking home and make it back safely.\")\n",
        "elif choice == \"2\":\n",
        "    play_audio(\"You run towards the busy street, hoping to find someone to help you. As you get closer, you realize that the figure is a police officer. You stop and explain what happened, and the officer escorts you home safely.\")\n",
        "ipd.clear_output(wait=True)\n",
        "input(\"Press Enter to continue...\")\n",
        "\n",
        "# Stage 2\n",
        "play_audio(\"You arrive home and find that your front door is slightly open. Do you go inside or call the police?\")\n",
        "ipd.clear_output(wait=True)\n",
        "choice = input(\"Enter 1 to go inside, or 2 to call the police: \")\n",
        "if choice == \"1\":\n",
        "    play_audio(\"You cautiously enter your home and find that everything is as you left it. You breathe a sigh of relief and go about your evening.\")\n",
        "elif choice == \"2\":\n",
        "    play_audio(\"You call the police and they arrive shortly after. They search your home and find no one inside. You spend the night at a friend's house and return home the next day.\")\n",
        "ipd.clear_output(wait=True)\n",
        "input(\"Press Enter to continue...\")\n",
        "\n",
        "# Conclusion\n",
        "play_audio(\"Congratulations, you have successfully made it home safely. Thanks for playing!\")\n",
        "ipd.clear_output(wait=True)\n"
      ],
      "metadata": {
        "cellView": "form",
        "colab": {
          "base_uri": "https://localhost:8080/",
          "height": 92
        },
        "id": "mx_BDEl-TqLe",
        "outputId": "a87c904a-f9e4-4311-e1ca-24381ef0b0d6"
      },
      "execution_count": null,
      "outputs": [
        {
          "name": "stdout",
          "output_type": "stream",
          "text": [
            "Press Enter to continue...\n"
          ]
        },
        {
          "output_type": "display_data",
          "data": {
            "text/plain": [
              "<IPython.lib.display.Audio object>"
            ],
            "text/html": [
              "\n",
              "                <audio  controls=\"controls\" autoplay=\"autoplay\">\n",
              "                    <source src=\"data:audio/mpeg;base64,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\" type=\"audio/mpeg\" />\n",
              "                    Your browser does not support the audio element.\n",
              "                </audio>\n",
              "              "
            ]
          },
          "metadata": {}
        }
      ]
    },
    {
      "cell_type": "markdown",
      "source": [
        "---\n",
        "# 📙Concepts and elements to cover for our goal:\n",
        "\n",
        "0. Importing modules: Explain how to import a module (like random) and use its functions (like random.shuffle()).\n",
        "\n",
        "1. Python basics: Basic data types (strings, integers, lists, dictionaries), variables, and basic input/output functions (like print() and input()).\n",
        "\n",
        "2. String manipulation: Cover string methods like .strip() and .lower().\n",
        "3. Control structures: Introduce for loops, while loops, and conditional statements (if, elif, else).\n",
        "\n",
        "4. Functions: Explain how to define and use functions, including function parameters. \n",
        "\n",
        "5. F-strings: Introduce f-strings (formatted string literals) and how to embed expressions inside string literals using curly braces {}.\n",
        "---"
      ],
      "metadata": {
        "id": "2VMRdKbJwOsk"
      }
    },
    {
      "cell_type": "markdown",
      "source": [
        "# [0] Importing modules\n",
        "\n",
        "1. **function, class, module, package, and library**\n",
        "\n",
        "> class > functions\n",
        "\n",
        "\n",
        "2. Let's use the analogy of a toolbox: \n",
        "\n",
        "+ **a module** is a single tool, (e.g., random) \n",
        "+ **a package** is a toolbox containing multiple tools (e.g., gTTS)\n",
        "+ **a library** is a set of toolboxes designed for a specific purpose. (e.g., nltk - Natural Language Tool Kit) _>> Next time_"
      ],
      "metadata": {
        "id": "wgZEzhkQwzc3"
      }
    },
    {
      "cell_type": "markdown",
      "source": [
        "##A. 'gTTS' package"
      ],
      "metadata": {
        "id": "298wKG9q7-rN"
      }
    },
    {
      "cell_type": "code",
      "source": [
        "!pip install gtts\n",
        "!pip install IPython\n",
        "from gtts import gTTS\n",
        "from IPython.display import Audio, display"
      ],
      "metadata": {
        "id": "YLCRqNbW8E9J"
      },
      "execution_count": null,
      "outputs": []
    },
    {
      "cell_type": "code",
      "source": [
        "#@markdown etts(), ktts()\n",
        "def etts(text):\n",
        "  text_to_say = text\n",
        "\n",
        "  gtts_object = gTTS(text = text_to_say,\n",
        "                     lang = \"en\",\n",
        "                    slow = False)\n",
        "  \n",
        "  gtts_object.save(\"E-audio.mp3\")\n",
        "  return Audio(\"E-audio.mp3\")\n",
        "\n",
        "def ktts(text):\n",
        "  text_to_say = text\n",
        "\n",
        "  gtts_object = gTTS(text = text_to_say,\n",
        "                     lang = \"ko\",\n",
        "                    slow = False)\n",
        "  \n",
        "  gtts_object.save(\"K-audio.mp3\")\n",
        "  return Audio(\"K-audio.mp3\")"
      ],
      "metadata": {
        "cellView": "form",
        "id": "bYDfENzGRUFb"
      },
      "execution_count": null,
      "outputs": []
    },
    {
      "cell_type": "markdown",
      "source": [
        "## B. 'random' module"
      ],
      "metadata": {
        "id": "vSFe_Umb68o9"
      }
    },
    {
      "cell_type": "code",
      "source": [
        "import random"
      ],
      "metadata": {
        "id": "t8tYICF_1Yx8"
      },
      "execution_count": null,
      "outputs": []
    },
    {
      "cell_type": "code",
      "source": [
        "random.randint(1, 10) #random.randint(x,y)는 함수이므로 문법대로 사용해야 함."
      ],
      "metadata": {
        "colab": {
          "base_uri": "https://localhost:8080/"
        },
        "id": "sMf1Ow7W11EZ",
        "outputId": "74718801-0c18-4cfb-af62-186ad9f274c1"
      },
      "execution_count": null,
      "outputs": [
        {
          "output_type": "execute_result",
          "data": {
            "text/plain": [
              "7"
            ]
          },
          "metadata": {},
          "execution_count": 44
        }
      ]
    },
    {
      "cell_type": "markdown",
      "source": [
        "## 💦**Demo 4: Random pick**"
      ],
      "metadata": {
        "id": "HiOrR-3ClT0j"
      }
    },
    {
      "cell_type": "markdown",
      "source": [
        "### ▶️ Description:\n",
        "1. df = students names by class (3 classes: Engpro, DL, Engling)\n",
        "2. Three versions: \n",
        "+ The final pick [1]: Written format - display random names and pick ONE\n",
        "+ The final pick [2]: Audio format - The final pick in audio\n",
        "+ The final pick [3]: Live version - Using a live weblink, do the written format picker"
      ],
      "metadata": {
        "id": "03hbdKPPjpmM"
      }
    },
    {
      "cell_type": "markdown",
      "source": [
        "---\n",
        "### 😍 The final pick: [1] written format\n",
        "---"
      ],
      "metadata": {
        "id": "Mg1C59TPJ-De"
      }
    },
    {
      "cell_type": "code",
      "source": [
        "#@markdown File link & Font install (for Korean): 'NanumGothic'\n",
        "!apt-get update -qq\n",
        "!apt-get install -qq fonts-nanum\n",
        "\n",
        "import matplotlib.font_manager as fm\n",
        "import matplotlib.pyplot as plt\n",
        "\n",
        "fontpath = '/usr/share/fonts/truetype/nanum/NanumGothic.ttf'\n",
        "font = fm.FontProperties(fname=fontpath, size=36)\n",
        "plt.rc('font', family='NanumGothic')\n",
        "\n",
        "url = \"https://raw.githubusercontent.com/MK316/Spring2023/main/data/S23_att_total.csv\""
      ],
      "metadata": {
        "cellView": "form",
        "id": "zVgDC2BPGJ8i",
        "outputId": "5033cb60-686b-4b00-9464-b78699e84509",
        "colab": {
          "base_uri": "https://localhost:8080/"
        }
      },
      "execution_count": 1,
      "outputs": [
        {
          "output_type": "stream",
          "name": "stdout",
          "text": [
            "Selecting previously unselected package fonts-nanum.\n",
            "(Reading database ... 122349 files and directories currently installed.)\n",
            "Preparing to unpack .../fonts-nanum_20180306-3_all.deb ...\n",
            "Unpacking fonts-nanum (20180306-3) ...\n",
            "Setting up fonts-nanum (20180306-3) ...\n",
            "Processing triggers for fontconfig (2.13.1-2ubuntu3) ...\n"
          ]
        }
      ]
    },
    {
      "cell_type": "code",
      "source": [
        "#@markdown Who's the final pick?\n",
        "# Step 1: Import necessary libraries\n",
        "\n",
        "Class_name = \"1_영어발음연습\" #@param = [\"1_영어발음연습\",\"2_디지털리터러시와 영어교육\",\"3_영어학의이해\"]\n",
        "contents = Class_name.split('_')\n",
        "cnum = contents[0]\n",
        "cnum2 = contents[1]\n",
        "cn = int(cnum)\n",
        "cname = [\"Engpro\", \"DL\",\"Engling\"]\n",
        "class_name = cname[cn-1]\n",
        "\n",
        "import pandas as pd\n",
        "import random\n",
        "import matplotlib.pyplot as plt\n",
        "import time\n",
        "from IPython.display import clear_output, Audio\n",
        "\n",
        "\n",
        "# Step 2: Read the CSV file and extract the \"Names\" column as a list\n",
        "try:\n",
        "    df = pd.read_csv(url, encoding='utf-8')\n",
        "except UnicodeDecodeError:\n",
        "    df = pd.read_csv(url, encoding='cp949')\n",
        "# class_name = input(\"Which class? \")\n",
        "names = df.loc[df[\"Class\"] == class_name, \"Names\"].tolist()\n",
        "\n",
        "# Step 3: Pick a random name from 'names' variable\n",
        "def pick_random_name():\n",
        "    selected_name = random.choice(names)\n",
        "    return selected_name\n",
        "\n",
        "# Step 4: Display the picked name in a larger font size\n",
        "def display_name(name, font_size=36, final_pick=False):\n",
        "    clear_output(wait=True)\n",
        "    plt.figure(figsize=(6, 3))\n",
        "\n",
        "    if final_pick:\n",
        "        plt.text(0.5, 0.5, f\"The final pick is: {name}\", fontsize=font_size, ha='center', va='center', fontproperties=font)\n",
        "    else:\n",
        "        plt.text(0.5, 0.5, name, fontsize=font_size, ha='center', va='center', fontproperties=font)\n",
        "    plt.gca().set_xticks([])\n",
        "    plt.gca().set_yticks([])\n",
        "    plt.box(False)\n",
        "    plt.show()\n",
        "    time.sleep(1)\n",
        "\n",
        "# Step 5: Pick random names and display them\n",
        "for i in range(9):\n",
        "    picked_name = pick_random_name()\n",
        "    display_name(picked_name)\n",
        "\n",
        "# Step 6: Display the 10th picked name\n",
        "picked_name = pick_random_name()\n",
        "display_name(picked_name, final_pick=True)\n",
        "print(\"The class '%s' has '%d' students: \"%(cnum2, len(names)))"
      ],
      "metadata": {
        "cellView": "form",
        "id": "2KsSpbqgGOuV"
      },
      "execution_count": null,
      "outputs": []
    },
    {
      "cell_type": "markdown",
      "source": [
        "---\n",
        "### 😍 The final pick: Audio format\n",
        "---"
      ],
      "metadata": {
        "id": "QeXuIsOYchO0"
      }
    },
    {
      "cell_type": "code",
      "source": [
        "!pip install gtts"
      ],
      "metadata": {
        "id": "4x45uPlpb7WG",
        "outputId": "3dd2c73f-f188-4658-d6df-914828a91609",
        "colab": {
          "base_uri": "https://localhost:8080/"
        }
      },
      "execution_count": 3,
      "outputs": [
        {
          "output_type": "stream",
          "name": "stdout",
          "text": [
            "Looking in indexes: https://pypi.org/simple, https://us-python.pkg.dev/colab-wheels/public/simple/\n",
            "Collecting gtts\n",
            "  Downloading gTTS-2.3.1-py3-none-any.whl (28 kB)\n",
            "Requirement already satisfied: click<8.2,>=7.1 in /usr/local/lib/python3.9/dist-packages (from gtts) (8.1.3)\n",
            "Requirement already satisfied: requests<3,>=2.27 in /usr/local/lib/python3.9/dist-packages (from gtts) (2.27.1)\n",
            "Requirement already satisfied: idna<4,>=2.5 in /usr/local/lib/python3.9/dist-packages (from requests<3,>=2.27->gtts) (3.4)\n",
            "Requirement already satisfied: charset-normalizer~=2.0.0 in /usr/local/lib/python3.9/dist-packages (from requests<3,>=2.27->gtts) (2.0.12)\n",
            "Requirement already satisfied: urllib3<1.27,>=1.21.1 in /usr/local/lib/python3.9/dist-packages (from requests<3,>=2.27->gtts) (1.26.15)\n",
            "Requirement already satisfied: certifi>=2017.4.17 in /usr/local/lib/python3.9/dist-packages (from requests<3,>=2.27->gtts) (2022.12.7)\n",
            "Installing collected packages: gtts\n",
            "Successfully installed gtts-2.3.1\n"
          ]
        }
      ]
    },
    {
      "cell_type": "code",
      "source": [
        "#@markdown Who's the final pick?\n",
        "# Step 1: Import necessary libraries\n",
        "\n",
        "import pandas as pd\n",
        "import random\n",
        "import matplotlib.pyplot as plt\n",
        "import time\n",
        "from IPython.display import clear_output, Audio\n",
        "from gtts import gTTS\n",
        "\n",
        "Class_name = \"1_\\uC601\\uC5B4\\uBC1C\\uC74C\\uC5F0\\uC2B5\" #@param = [\"1_영어발음연습\",\"2_디지털리터러시와 영어교육\",\"3_영어학의이해\"]\n",
        "contents = Class_name.split('_')\n",
        "cnum = contents[0]\n",
        "cnum2 = contents[1]\n",
        "cn = int(cnum)\n",
        "cname = [\"Engpro\", \"DL\",\"Engling\"]\n",
        "class_name = cname[cn-1]\n",
        "\n",
        "url = \"https://raw.githubusercontent.com/MK316/Spring2023/main/data/S23_att_total.csv\"\n",
        "\n",
        "# Step 2: Read the CSV file and extract the \"Names\" column as a list\n",
        "try:\n",
        "    df = pd.read_csv(url, encoding='utf-8')\n",
        "except UnicodeDecodeError:\n",
        "    df = pd.read_csv(url, encoding='cp949')\n",
        "# class_name = input(\"Which class? \")\n",
        "names = df.loc[df[\"Class\"] == class_name, \"Names\"].tolist()\n",
        "csize = len(names)\n",
        "# Step 3: Pick a random name from 'names' variable\n",
        "def pick_random_name():\n",
        "    selected_name = random.choice(names)\n",
        "    return selected_name\n",
        "\n",
        "# # Step 4: Display the picked name in a larger font size\n",
        "# def display_name(name, font_size=36, final_pick=False):\n",
        "#     clear_output(wait=True)\n",
        "#     plt.figure(figsize=(6, 3))\n",
        "\n",
        "#     if final_pick:\n",
        "#         plt.text(0.5, 0.5, f\"The final pick is: {name}\", fontsize=font_size, ha='center', va='center', fontproperties=font)\n",
        "#     else:\n",
        "#         plt.text(0.5, 0.5, name, fontsize=font_size, ha='center', va='center', fontproperties=font)\n",
        "#     plt.gca().set_xticks([])\n",
        "#     plt.gca().set_yticks([])\n",
        "#     plt.box(False)\n",
        "#     plt.show()\n",
        "#     time.sleep(1)\n",
        "\n",
        "# Step 5: Pick random names and display them\n",
        "for i in range(9):\n",
        "    picked_name = pick_random_name()\n",
        "    # display_name(picked_name)\n",
        "\n",
        "# Step 6: Display the 10th picked name\n",
        "picked_name = pick_random_name()\n",
        "# display_name(picked_name, final_pick=True)\n",
        "print(\"The class '%s' has '%d' students: \"%(class_name, len(names)))\n",
        "\n",
        "def tts(txt):\n",
        "    # Initialize gTTS with the text to be converted\n",
        "    tts_obj = gTTS(text=txt, lang='ko', slow=False)\n",
        "\n",
        "    # Save the audio as an mp3 file\n",
        "    tts_obj.save(\"output.mp3\")\n",
        "    \n",
        "    # Play the audio file\n",
        "    audio_file = open(\"output.mp3\", \"rb\")\n",
        "    audio_bytes = audio_file.read()\n",
        "    audio_file.close()\n",
        "    return Audio(audio_bytes, autoplay=True)\n",
        "\n",
        "txt = \"준비되었나요? %s 수업은 %d 명의 학생이 있죠? 자, 저는 '%s' 학생을 뽑겠습니다. %s학생 어디있는지 손들어 보세요. \"%(cnum2, csize, picked_name, picked_name)\n",
        "# print(\"Final pick: %s\"%picked_name)\n",
        "tts(txt)"
      ],
      "metadata": {
        "cellView": "form",
        "id": "tNM8nuxtbBNb",
        "outputId": "c7f3d3a8-73d4-4cbb-b426-88ca4b2b4b1d",
        "colab": {
          "base_uri": "https://localhost:8080/",
          "height": 92
        }
      },
      "execution_count": 4,
      "outputs": [
        {
          "output_type": "stream",
          "name": "stdout",
          "text": [
            "The class 'Engpro' has '26' students: \n"
          ]
        },
        {
          "output_type": "execute_result",
          "data": {
            "text/plain": [
              "<IPython.lib.display.Audio object>"
            ],
            "text/html": [
              "\n",
              "                <audio  controls=\"controls\" autoplay=\"autoplay\">\n",
              "                    <source src=\"data:audio/wav;base64,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\" type=\"audio/wav\" />\n",
              "                    Your browser does not support the audio element.\n",
              "                </audio>\n",
              "              "
            ]
          },
          "metadata": {},
          "execution_count": 4
        }
      ]
    },
    {
      "cell_type": "markdown",
      "source": [
        "---\n",
        "### 😍 The Final Pick: Live link using Gradio\n",
        "---"
      ],
      "metadata": {
        "id": "rcxDugB5HEDg"
      }
    },
    {
      "cell_type": "markdown",
      "source": [
        "The app will ask the file link from github\n",
        "The app will ask the class name: Engpro, DL, or Engling"
      ],
      "metadata": {
        "id": "h9rM0iqER6Uk"
      }
    },
    {
      "cell_type": "code",
      "source": [
        "#@markdown [1] Install and import libraries\n",
        "%%capture\n",
        "!pip install gradio\n",
        "import gradio as gr\n",
        "\n",
        "import pandas as pd\n",
        "import random\n",
        "import time\n",
        "import gradio as gr"
      ],
      "metadata": {
        "cellView": "form",
        "id": "ai5b19yGHGLg"
      },
      "execution_count": null,
      "outputs": []
    },
    {
      "cell_type": "code",
      "source": [
        "#@markdown [2] Pick one live link (using Gradio): input 'class name'\n",
        "# Step 1: Get the GitHub CSV link from the user\n",
        "github_csv_link = \"https://raw.githubusercontent.com/MK316/Spring2023/main/data/S23_att_total.csv\"\n",
        "\n",
        "class_input = gr.inputs.Textbox(lines=1, label=\"Enter the class name:\")\n",
        "output = gr.outputs.Textbox(label=\"Picked Name:\")\n",
        "\n",
        "inputs = [class_input]\n",
        "\n",
        "def run_app(class_name):\n",
        "    # Step 1: Read the CSV file and extract the \"Names\" column based on the given class name\n",
        "    try:\n",
        "        df = pd.read_csv(github_csv_link, encoding='utf-8')\n",
        "    except UnicodeDecodeError:\n",
        "        df = pd.read_csv(github_csv_link, encoding='cp949')\n",
        "\n",
        "    names = df.loc[df[\"Class\"] == class_name, \"Names\"].tolist()\n",
        "\n",
        "    # Simulate the random picking process by concatenating the names\n",
        "    intermediate_text = \"\"\n",
        "    for i in range(9):\n",
        "        intermediate_text += random.choice(names) + \" -> \"\n",
        "        time.sleep(0.5)  # Pause for half a second to simulate the process\n",
        "\n",
        "    picked_name = pick_random_name(names)\n",
        "    sn = len(names)\n",
        "    sn = int(sn)\n",
        "    return intermediate_text + \"\\n\\nFinal pick (out of %d): \"%sn + picked_name\n",
        "\n",
        "gr.Interface(fn=run_app, inputs=inputs, outputs=output, title=\"MK316 Class: Random Name Picker\").launch(share=True)\n"
      ],
      "metadata": {
        "cellView": "form",
        "id": "zik1RVR4Y7If"
      },
      "execution_count": null,
      "outputs": []
    }
  ]
}
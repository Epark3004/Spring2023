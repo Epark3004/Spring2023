{
  "nbformat": 4,
  "nbformat_minor": 0,
  "metadata": {
    "colab": {
      "provenance": [],
      "authorship_tag": "ABX9TyOvTCaDL4xYc7IwiTimi/Wg",
      "include_colab_link": true
    },
    "kernelspec": {
      "name": "python3",
      "display_name": "Python 3"
    },
    "language_info": {
      "name": "python"
    }
  },
  "cells": [
    {
      "cell_type": "markdown",
      "metadata": {
        "id": "view-in-github",
        "colab_type": "text"
      },
      "source": [
        "<a href=\"https://colab.research.google.com/github/MK316/Spring2023/blob/main/EPA/DLW06_LanguageGame.ipynb\" target=\"_parent\"><img src=\"https://colab.research.google.com/assets/colab-badge.svg\" alt=\"Open In Colab\"/></a>"
      ]
    },
    {
      "cell_type": "markdown",
      "source": [
        "# 🌀**DLW06A Part I**"
      ],
      "metadata": {
        "id": "_mbT_YJKGkm-"
      }
    },
    {
      "cell_type": "markdown",
      "source": [
        "# 💕 Goal: Creating apps \n",
        "\n",
        "1. **_Word Guessing Game from Hints_**\n",
        "2. **_Grammar: Yes-no question making_**\n",
        "3. **_Story Game_**\n",
        "\n",
        "We will be spending 2 weeks to get this go."
      ],
      "metadata": {
        "id": "ppmHMRdisMiv"
      }
    },
    {
      "cell_type": "markdown",
      "source": [
        "##💦 **Demo 1: Making a word quiz.**"
      ],
      "metadata": {
        "id": "MWpQZGE5wZgt"
      }
    },
    {
      "cell_type": "code",
      "source": [
        "#@markdown Run this code to see guesiong game\n",
        "import random\n",
        "\n",
        "# Define a dictionary of words and their hints\n",
        "word_hints = {\n",
        "    \"suprasegmental\": [\n",
        "        \"This term is related to the features of speech that go beyond individual sounds.\",\n",
        "        \"It is often associated with intonation, stress, and timing.\",\n",
        "        \"Examples include pitch, tone, and stress patterns.\",\n",
        "        \"The answer begins with 's'.\"\n",
        "    ],\n",
        "    \"geminate\": [\n",
        "        \"This term is related to a specific type of consonant.\",\n",
        "        \"It refers to a consonant that is pronounced for a longer duration than its regular counterpart.\",\n",
        "        \"In some languages, it can be represented by doubling the consonant in writing.\",\n",
        "        \"The answer begins with 'g'.\"\n",
        "    ],\n",
        "    \"syllable\": [\n",
        "        \"This term is related to a unit of speech.\",\n",
        "        \"It is a sequence of speech sounds, typically consisting of a vowel and any surrounding consonants.\",\n",
        "        \"A word can have one or multiple of these units.\",\n",
        "        \"The answer begins with 's'.\"\n",
        "    ]\n",
        "}\n",
        "\n",
        "# Define guessing game\n",
        "\n",
        "def guessing_game(word_hints):\n",
        "    words = list(word_hints.keys())\n",
        "    random.shuffle(words)\n",
        "\n",
        "    for word in words:\n",
        "        print(\"\\nGuess the word based on the following hints:\")\n",
        "        hints = word_hints[word]\n",
        "        attempts = 0\n",
        "\n",
        "        while attempts < len(hints):\n",
        "            print(f\"Hint {attempts + 1}: {hints[attempts]}\")\n",
        "            guess = input(\"Your guess: \").strip().lower()\n",
        "\n",
        "            if guess == word.lower():\n",
        "                print(\"Congratulations! You guessed the correct word!\\n\")\n",
        "                break\n",
        "            else:\n",
        "                print(\"Incorrect. Try again with another hint.\\n\")\n",
        "                attempts += 1\n",
        "\n",
        "        if attempts == len(hints):\n",
        "            print(f\"Sorry, you've run out of hints. The correct word was: {word}\\n\")\n",
        "\n",
        "# Using this conditional structure is a common practice in Python to allow a script to be both executed as a standalone program and imported as a module in other scripts without immediately running the code within the script.\n",
        "if __name__ == \"__main__\":\n",
        "  guessing_game(word_hints)"
      ],
      "metadata": {
        "cellView": "form",
        "id": "68fDLUnZs8KF"
      },
      "execution_count": null,
      "outputs": []
    },
    {
      "cell_type": "markdown",
      "source": [
        "##💦**Demo 2: Convert a statement to a yes-no question**"
      ],
      "metadata": {
        "id": "DKwjeU8pW-iu"
      }
    },
    {
      "cell_type": "code",
      "source": [
        "#@markdown Install and import libraries\n",
        "%%capture\n",
        "!pip install gtts\n",
        "!pip install IPython\n",
        "from gtts import gTTS\n",
        "from IPython.display import Audio, display\n",
        "\n",
        "#@markdown etts(), ktts()\n",
        "def etts(text):\n",
        "  text_to_say = text\n",
        "\n",
        "  gtts_object = gTTS(text = text_to_say,\n",
        "                     lang = \"en\",\n",
        "                    slow = False)\n",
        "  \n",
        "  gtts_object.save(\"E-audio.mp3\")\n",
        "  return Audio(\"E-audio.mp3\")\n",
        "\n",
        "def ktts(text):\n",
        "  text_to_say = text\n",
        "\n",
        "  gtts_object = gTTS(text = text_to_say,\n",
        "                     lang = \"ko\",\n",
        "                    slow = False)\n",
        "  \n",
        "  gtts_object.save(\"K-audio.mp3\")\n",
        "  return Audio(\"K-audio.mp3\")"
      ],
      "metadata": {
        "cellView": "form",
        "id": "TajMEehr8_7D"
      },
      "execution_count": null,
      "outputs": []
    },
    {
      "cell_type": "markdown",
      "source": [
        "---\n",
        "### Complete version with some restriction \n",
        "\n",
        "1. The statement you're entering must contain a be-verb.\n",
        "2. If you use a proper noun as a subject, restrict it to one of the followings: \n",
        "\n",
        "> **Male: Tom, Thomas, Bill**\n",
        "\n",
        "> **Female: Mary, Jane, Jessica**\n",
        "\n",
        "2. Must contain a punctuation(.)\n",
        "---"
      ],
      "metadata": {
        "id": "5XYJaX2IDrOu"
      }
    },
    {
      "cell_type": "code",
      "source": [
        "#@markdown Statment to a Yes-No question (Audio autoplay)\n",
        "sentence = input(\"Type a sentence containing a be verb: e.g., I am a students.\")\n",
        "beverbs = [\"is\", \"was\", \"are\", \"were\"]\n",
        "pronouns = [\"I\",\"You\",\"He\",\"She\",\"They\",\"It\"]\n",
        "names = [\"Mary\", \"Jane\", \"Tom\",\"Thomas\",\"Jessica\", \"Bill\"]\n",
        "\n",
        "def check_word(list_A, list_B):\n",
        "    for a in list_A:\n",
        "        for b in list_B:\n",
        "            if b in a:\n",
        "                mword = a\n",
        "                return True, mword\n",
        "    return False, None\n",
        "\n",
        "\n",
        "cat1 = sentence.split()\n",
        "\n",
        "result = check_word(cat1,beverbs)\n",
        "\n",
        "if result[0] == True:\n",
        "  if cat1[0] in pronouns:\n",
        "      b = result[1]\n",
        "      be = \" \"+b+\" \"\n",
        "      ss = sentence.split(be)\n",
        "      subj = ss[0]\n",
        "      nsubj = subj[0].lower()+subj[1:]\n",
        "      pred = ss[1]\n",
        "      w1 = b[0].upper() + b[1:] # Capitalized be verb\n",
        "      newsent = w1 + \" \" + nsubj + \" \" + pred[:-1] + \"?\"\n",
        "      mytext = \"I'll make it to a yes-no question: \" + newsent\n",
        "      print(newsent)\n",
        "  elif cat1[0] not in pronouns and cat1[0] in names:\n",
        "        b = result[1]\n",
        "        be = \" \"+b+\" \"\n",
        "        ss = sentence.split(be)\n",
        "        subj = ss[0]\n",
        "        pred = ss[1]\n",
        "        w1 = b[0].upper() + b[1:] # Capitalized be verb\n",
        "        newsent = w1 + \" \" + subj + \" \" + pred[:-1] + \"?\"\n",
        "        mytext = \"I'll make it to a yes-no question: \" + newsent\n",
        "        print(newsent)\n",
        "  elif cat1[0] not in pronouns and cat1[0] not in names:\n",
        "        b = result[1]\n",
        "        be = \" \"+b+\" \"\n",
        "        ss = sentence.split(be)\n",
        "        subj = ss[0]\n",
        "        nsubj = subj[0].lower()+subj[1:]\n",
        "        pred = ss[1]\n",
        "        w1 = b[0].upper() + b[1:] # Capitalized be verb\n",
        "        newsent = w1 + \" \" + nsubj + \" \" + pred[:-1] + \"?\"\n",
        "        mytext = \"I'll make it to a yes-no question: \" + newsent\n",
        "        print(newsent)\n",
        "\n",
        "else:\n",
        "    mytext = \"The sentence you\\' provided does not contain a 'Be' verb. Try again.\"\n",
        "    print(\"Type a sentence that contains a be verb.\")\n",
        "\n",
        "etts(mytext)\n",
        "Audio(\"E-audio.mp3\",autoplay=True)"
      ],
      "metadata": {
        "colab": {
          "base_uri": "https://localhost:8080/",
          "height": 111
        },
        "cellView": "form",
        "id": "ZjPSWFub-55P",
        "outputId": "80c1dd88-3bef-4bd3-bf73-bf0b9762418d"
      },
      "execution_count": null,
      "outputs": [
        {
          "output_type": "stream",
          "name": "stdout",
          "text": [
            "Type a sentence containing a be verb: e.g., I am a students.You were tired yesterday.\n",
            "Were you tired yesterday?\n"
          ]
        },
        {
          "output_type": "execute_result",
          "data": {
            "text/plain": [
              "<IPython.lib.display.Audio object>"
            ],
            "text/html": [
              "\n",
              "                <audio  controls=\"controls\" autoplay=\"autoplay\">\n",
              "                    <source src=\"data:audio/mpeg;base64,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\" type=\"audio/mpeg\" />\n",
              "                    Your browser does not support the audio element.\n",
              "                </audio>\n",
              "              "
            ]
          },
          "metadata": {},
          "execution_count": 57
        }
      ]
    },
    {
      "cell_type": "markdown",
      "source": [
        "## 💦**Demo 3: Story game**"
      ],
      "metadata": {
        "id": "UG0_f0gJQl1r"
      }
    },
    {
      "cell_type": "code",
      "source": [
        "#@markdown Adventure game with reading\n",
        "print(\"Welcome to the adventure game!\")\n",
        "print(\"=\"*50)\n",
        "print(\"You are a high school student who has been chosen to embark on a quest to save your town from a mysterious curse.\")\n",
        "print(\"You will face various challenges and choices along the way, and your decisions will determine the outcome of the story.\")\n",
        "print(\"=\"*50)\n",
        "name = input(\"What is your name? \")\n",
        "print(\"=\"*50)\n",
        "print(f\"Nice to meet you, {name}! Are you ready to begin?\")\n",
        "print(\"=\"*50)\n",
        "# Start of the story\n",
        "print(\"You wake up one morning to find that your town is covered in a thick fog.\")\n",
        "print(\"People are starting to get sick, and strange things are happening.\")\n",
        "print(\"You decide to investigate and find out that a curse has been cast upon the town.\")\n",
        "print(\"You meet a wise old sage who tells you that the only way to lift the curse is to find a magical artifact that is hidden in a dangerous dungeon.\")\n",
        "print(\"=\"*50)\n",
        "# First choice\n",
        "print(\"You have two options:\")\n",
        "print(\"Option 1: Search for clues in the town.\")\n",
        "print(\"Option 2: Go straight to the dungeon.\")\n",
        "print(\"=\"*50)\n",
        "choice = input(\"Which option do you choose? (1 or 2) \")\n",
        "print(\"=\"*50)\n",
        "if choice == \"1\":\n",
        "    print(\"You spend the day talking to townspeople and searching for clues.\")\n",
        "    print(\"You find a cryptic message that leads you to a hidden cave.\")\n",
        "elif choice == \"2\":\n",
        "    print(\"You journey to the dungeon and face many dangers along the way.\")\n",
        "    print(\"You eventually reach the entrance to the dungeon.\")\n",
        "print(\"=\"*50)\n",
        "# Second choice\n",
        "print(\"You have two options:\")\n",
        "print(\"Option 1: Enter the cave.\")\n",
        "print(\"Option 2: Enter the dungeon.\")\n",
        "print(\"=\"*50)\n",
        "choice = input(\"Which option do you choose? (1 or 2) \")\n",
        "print(\"=\"*50)\n",
        "if choice == \"1\":\n",
        "    print(\"=\"*50)\n",
        "    print(\"You enter the cave and find the magical artifact!\")\n",
        "    print(\"You bring it back to the town and the curse is lifted.\")\n",
        "    print(\"Congratulations! You have saved the town!\")\n",
        "    print(\"=\"*50)\n",
        "elif choice == \"2\":\n",
        "    print(\"=\"*50)\n",
        "    print(\"You enter the dungeon and face many challenges.\")\n",
        "    print(\"You eventually find the magical artifact, but it is guarded by a powerful monster.\")\n",
        "    print(\"You must defeat the monster to retrieve the artifact.\")\n",
        "    print(\"You engage in a fierce battle!\")\n",
        "    print(\"You lost the battle and the curse remains.\")\n",
        "    print(\"Brave You! Though the curse remains, people appreicate your effort.\")\n",
        "    print(\"=\"*50)\n"
      ],
      "metadata": {
        "cellView": "form",
        "id": "qBAUNW9qP75J"
      },
      "execution_count": null,
      "outputs": []
    },
    {
      "cell_type": "code",
      "source": [
        "#@markdown Story game with listening (audio)\n",
        "from gtts import gTTS\n",
        "import IPython.display as ipd\n",
        "\n",
        "def play_audio(text):\n",
        "    language = 'en'\n",
        "    audio = gTTS(text=text, lang=language, slow=False)\n",
        "    audio.save(\"audio.mp3\")\n",
        "    ipd.display(ipd.Audio(\"audio.mp3\", autoplay=True))\n",
        "\n",
        "# Introduction\n",
        "play_audio(\"Welcome to the story game. You are walking home from school when you hear footsteps behind you. You look back and see a shady figure in the distance. What do you do?\")\n",
        "ipd.clear_output(wait=True)\n",
        "input(\"Press Enter to continue...\")\n",
        "\n",
        "# Stage 1\n",
        "play_audio(\"You decide to run. Do you run towards the park or towards the busy street?\")\n",
        "ipd.clear_output(wait=True)\n",
        "choice = input(\"Enter 1 to run towards the park, or 2 to run towards the busy street: \")\n",
        "if choice == \"1\":\n",
        "    play_audio(\"You run towards the park and manage to lose the shady figure. You continue walking home and make it back safely.\")\n",
        "elif choice == \"2\":\n",
        "    play_audio(\"You run towards the busy street, hoping to find someone to help you. As you get closer, you realize that the figure is a police officer. You stop and explain what happened, and the officer escorts you home safely.\")\n",
        "ipd.clear_output(wait=True)\n",
        "input(\"Press Enter to continue...\")\n",
        "\n",
        "# Stage 2\n",
        "play_audio(\"You arrive home and find that your front door is slightly open. Do you go inside or call the police?\")\n",
        "ipd.clear_output(wait=True)\n",
        "choice = input(\"Enter 1 to go inside, or 2 to call the police: \")\n",
        "if choice == \"1\":\n",
        "    play_audio(\"You cautiously enter your home and find that everything is as you left it. You breathe a sigh of relief and go about your evening.\")\n",
        "elif choice == \"2\":\n",
        "    play_audio(\"You call the police and they arrive shortly after. They search your home and find no one inside. You spend the night at a friend's house and return home the next day.\")\n",
        "ipd.clear_output(wait=True)\n",
        "input(\"Press Enter to continue...\")\n",
        "\n",
        "# Conclusion\n",
        "play_audio(\"Congratulations, you have successfully made it home safely. Thanks for playing!\")\n",
        "ipd.clear_output(wait=True)\n"
      ],
      "metadata": {
        "cellView": "form",
        "colab": {
          "base_uri": "https://localhost:8080/",
          "height": 92
        },
        "id": "mx_BDEl-TqLe",
        "outputId": "a87c904a-f9e4-4311-e1ca-24381ef0b0d6"
      },
      "execution_count": 42,
      "outputs": [
        {
          "name": "stdout",
          "output_type": "stream",
          "text": [
            "Press Enter to continue...\n"
          ]
        },
        {
          "output_type": "display_data",
          "data": {
            "text/plain": [
              "<IPython.lib.display.Audio object>"
            ],
            "text/html": [
              "\n",
              "                <audio  controls=\"controls\" autoplay=\"autoplay\">\n",
              "                    <source src=\"data:audio/mpeg;base64,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\" type=\"audio/mpeg\" />\n",
              "                    Your browser does not support the audio element.\n",
              "                </audio>\n",
              "              "
            ]
          },
          "metadata": {}
        }
      ]
    },
    {
      "cell_type": "markdown",
      "source": [
        "---\n",
        "# 📙Concepts and elements to cover for our goal:\n",
        "\n",
        "0. Importing modules: Explain how to import a module (like random) and use its functions (like random.shuffle()).\n",
        "\n",
        "1. Python basics: Basic data types (strings, integers, lists, dictionaries), variables, and basic input/output functions (like print() and input()).\n",
        "\n",
        "2. String manipulation: Cover string methods like .strip() and .lower().\n",
        "3. Control structures: Introduce for loops, while loops, and conditional statements (if, elif, else).\n",
        "\n",
        "4. Functions: Explain how to define and use functions, including function parameters. \n",
        "\n",
        "5. F-strings: Introduce f-strings (formatted string literals) and how to embed expressions inside string literals using curly braces {}.\n",
        "---"
      ],
      "metadata": {
        "id": "2VMRdKbJwOsk"
      }
    },
    {
      "cell_type": "markdown",
      "source": [
        "# [0] Importing modules\n",
        "\n",
        "1. **function, class, module, package, and library**\n",
        "\n",
        "> class > functions\n",
        "\n",
        "\n",
        "2. Let's use the analogy of a toolbox: \n",
        "\n",
        "+ **a module** is a single tool, (e.g., random) \n",
        "+ **a package** is a toolbox containing multiple tools (e.g., gTTS)\n",
        "+ **a library** is a set of toolboxes designed for a specific purpose. (e.g., nltk - Natural Language Tool Kit) _>> Next time_"
      ],
      "metadata": {
        "id": "wgZEzhkQwzc3"
      }
    },
    {
      "cell_type": "markdown",
      "source": [
        "##A. 'gTTS' package"
      ],
      "metadata": {
        "id": "298wKG9q7-rN"
      }
    },
    {
      "cell_type": "code",
      "source": [
        "!pip install gtts\n",
        "!pip install IPython\n",
        "from gtts import gTTS\n",
        "from IPython.display import Audio, display"
      ],
      "metadata": {
        "id": "YLCRqNbW8E9J"
      },
      "execution_count": null,
      "outputs": []
    },
    {
      "cell_type": "code",
      "source": [
        "#@markdown etts(), ktts()\n",
        "def etts(text):\n",
        "  text_to_say = text\n",
        "\n",
        "  gtts_object = gTTS(text = text_to_say,\n",
        "                     lang = \"en\",\n",
        "                    slow = False)\n",
        "  \n",
        "  gtts_object.save(\"E-audio.mp3\")\n",
        "  return Audio(\"E-audio.mp3\")\n",
        "\n",
        "def ktts(text):\n",
        "  text_to_say = text\n",
        "\n",
        "  gtts_object = gTTS(text = text_to_say,\n",
        "                     lang = \"ko\",\n",
        "                    slow = False)\n",
        "  \n",
        "  gtts_object.save(\"K-audio.mp3\")\n",
        "  return Audio(\"K-audio.mp3\")"
      ],
      "metadata": {
        "cellView": "form",
        "id": "bYDfENzGRUFb"
      },
      "execution_count": null,
      "outputs": []
    },
    {
      "cell_type": "markdown",
      "source": [
        "## B. 'random' module"
      ],
      "metadata": {
        "id": "vSFe_Umb68o9"
      }
    },
    {
      "cell_type": "code",
      "source": [
        "import random"
      ],
      "metadata": {
        "id": "t8tYICF_1Yx8"
      },
      "execution_count": null,
      "outputs": []
    },
    {
      "cell_type": "code",
      "source": [
        "random.randint(1, 10) #random.randint(x,y)는 함수이므로 문법대로 사용해야 함."
      ],
      "metadata": {
        "colab": {
          "base_uri": "https://localhost:8080/"
        },
        "id": "sMf1Ow7W11EZ",
        "outputId": "74718801-0c18-4cfb-af62-186ad9f274c1"
      },
      "execution_count": null,
      "outputs": [
        {
          "output_type": "execute_result",
          "data": {
            "text/plain": [
              "7"
            ]
          },
          "metadata": {},
          "execution_count": 44
        }
      ]
    },
    {
      "cell_type": "code",
      "source": [
        "a1 = random.randint(1, 10)\n",
        "a1*10  #변수를 이용하면 결과값을 이용한 다른 연산이나 작업이 가능하다."
      ],
      "metadata": {
        "colab": {
          "base_uri": "https://localhost:8080/"
        },
        "id": "WUVN9-Rs825s",
        "outputId": "43c1e22d-0456-4781-c316-12761d823ced"
      },
      "execution_count": null,
      "outputs": [
        {
          "output_type": "execute_result",
          "data": {
            "text/plain": [
              "20"
            ]
          },
          "metadata": {},
          "execution_count": 51
        }
      ]
    },
    {
      "cell_type": "markdown",
      "source": [
        "# [1] Python basics: \n",
        "\n",
        "+ Basic data types (strings, integers, lists, dictionaries), \n",
        "+ variables, \n",
        "+ basic input/output functions (like print() and input()).\n",
        "\n"
      ],
      "metadata": {
        "id": "_vTm-kXl8qa_"
      }
    },
    {
      "cell_type": "markdown",
      "source": [
        "## [1-1] Basic data types"
      ],
      "metadata": {
        "id": "qaQ0_hkoENRX"
      }
    },
    {
      "cell_type": "markdown",
      "source": [
        "### A. strings"
      ],
      "metadata": {
        "id": "HB86s1k990Hh"
      }
    },
    {
      "cell_type": "code",
      "source": [
        "a2 = \"Welcome\"\n",
        "a3 = \"2023\""
      ],
      "metadata": {
        "id": "L_OImwSL94Kr"
      },
      "execution_count": null,
      "outputs": []
    },
    {
      "cell_type": "markdown",
      "source": [
        "☺️ DIY: How to get \"Welcome, 2023!\""
      ],
      "metadata": {
        "id": "wkYUBwu1-IvG"
      }
    },
    {
      "cell_type": "code",
      "source": [],
      "metadata": {
        "id": "XZ2LHJcl9_u4"
      },
      "execution_count": null,
      "outputs": []
    },
    {
      "cell_type": "markdown",
      "source": [
        "☺️ DIY: Let a4 = \"화이팅\", and get '화이팅화이팅화이팅화이팅화이팅화이팅화이팅화이팅화이팅화이팅'(10번)"
      ],
      "metadata": {
        "id": "WNaHBznU-yEd"
      }
    },
    {
      "cell_type": "code",
      "source": [],
      "metadata": {
        "id": "0vfPcih3-xg4"
      },
      "execution_count": null,
      "outputs": []
    },
    {
      "cell_type": "code",
      "source": [
        "type(a2)"
      ],
      "metadata": {
        "colab": {
          "base_uri": "https://localhost:8080/"
        },
        "id": "1XroWNyGADZU",
        "outputId": "a02a8e57-341c-4371-c6e9-69e0146715cd"
      },
      "execution_count": null,
      "outputs": [
        {
          "output_type": "execute_result",
          "data": {
            "text/plain": [
              "str"
            ]
          },
          "metadata": {},
          "execution_count": 59
        }
      ]
    },
    {
      "cell_type": "markdown",
      "source": [
        "###B. Integers"
      ],
      "metadata": {
        "id": "kpNXrqZ2_9I2"
      }
    },
    {
      "cell_type": "code",
      "source": [
        "x1 = 45; y1 = 0.5\n",
        "x1 * y1"
      ],
      "metadata": {
        "colab": {
          "base_uri": "https://localhost:8080/"
        },
        "id": "CEs2BHNbAB1Q",
        "outputId": "e9223c24-0cab-4b1f-8084-3cde1df8bbe3"
      },
      "execution_count": null,
      "outputs": [
        {
          "output_type": "execute_result",
          "data": {
            "text/plain": [
              "22.5"
            ]
          },
          "metadata": {},
          "execution_count": 60
        }
      ]
    },
    {
      "cell_type": "markdown",
      "source": [
        "### C. List datatype"
      ],
      "metadata": {
        "id": "S7PJcJFkBO46"
      }
    },
    {
      "cell_type": "code",
      "source": [
        "x2 = [1,2,3]\n",
        "x2"
      ],
      "metadata": {
        "colab": {
          "base_uri": "https://localhost:8080/"
        },
        "id": "LjSEH6lABR98",
        "outputId": "e55e4940-91fe-4be1-f5c0-9424781649d7"
      },
      "execution_count": null,
      "outputs": [
        {
          "output_type": "execute_result",
          "data": {
            "text/plain": [
              "[1, 2, 3]"
            ]
          },
          "metadata": {},
          "execution_count": 70
        }
      ]
    },
    {
      "cell_type": "code",
      "source": [
        "x2[0]"
      ],
      "metadata": {
        "colab": {
          "base_uri": "https://localhost:8080/"
        },
        "id": "VGWl1av6BYGu",
        "outputId": "7e710212-efbe-47fb-e81f-cbdf20803c55"
      },
      "execution_count": null,
      "outputs": [
        {
          "output_type": "execute_result",
          "data": {
            "text/plain": [
              "1"
            ]
          },
          "metadata": {},
          "execution_count": 71
        }
      ]
    },
    {
      "cell_type": "code",
      "source": [
        "x3 = range(1,10)\n",
        "list(x3)  #list(), range(1,10)"
      ],
      "metadata": {
        "colab": {
          "base_uri": "https://localhost:8080/"
        },
        "id": "WNmjoCQ1ANr4",
        "outputId": "6b0aae7b-d966-47c1-f147-84911b0e91f5"
      },
      "execution_count": null,
      "outputs": [
        {
          "output_type": "execute_result",
          "data": {
            "text/plain": [
              "[1, 2, 3, 4, 5, 6, 7, 8, 9]"
            ]
          },
          "metadata": {},
          "execution_count": 73
        }
      ]
    },
    {
      "cell_type": "code",
      "source": [
        "x4 = \"John\"\n",
        "list(x4)"
      ],
      "metadata": {
        "colab": {
          "base_uri": "https://localhost:8080/"
        },
        "id": "amRP-ytuBlO6",
        "outputId": "5d4370a3-d0c3-4f09-e4ee-2a46a25ed880"
      },
      "execution_count": null,
      "outputs": [
        {
          "output_type": "execute_result",
          "data": {
            "text/plain": [
              "['J', 'o', 'h', 'n']"
            ]
          },
          "metadata": {},
          "execution_count": 79
        }
      ]
    },
    {
      "cell_type": "markdown",
      "source": [
        "###D. Dictionary datatype: {'key':'value'}\n",
        "\n",
        "In Python, a dictionary is a built-in data type that represents a collection of key-value pairs. Each key-value pair in a dictionary is separated by a colon (:), and each pair is separated by a comma. "
      ],
      "metadata": {
        "id": "ZoyOSN_QCCdO"
      }
    },
    {
      "cell_type": "code",
      "source": [
        "mydict = {\"API\":\"Application Programming Interface\", \"GPT\":\"Generative Pretrained Transformer\"}\n",
        "mydict['API']"
      ],
      "metadata": {
        "colab": {
          "base_uri": "https://localhost:8080/",
          "height": 35
        },
        "id": "PdRkfL3JBMWK",
        "outputId": "eea761da-6960-4037-c7d0-aaeb3df82eed"
      },
      "execution_count": null,
      "outputs": [
        {
          "output_type": "execute_result",
          "data": {
            "text/plain": [
              "'Application Programming Interface'"
            ],
            "application/vnd.google.colaboratory.intrinsic+json": {
              "type": "string"
            }
          },
          "metadata": {},
          "execution_count": 83
        }
      ]
    },
    {
      "cell_type": "code",
      "source": [
        "class_size = {\"Class A\": 25, \"Class B\": 30, \"Class C\": 32}\n",
        "class_size['Class C']"
      ],
      "metadata": {
        "colab": {
          "base_uri": "https://localhost:8080/"
        },
        "id": "WBs-NrEJDQRC",
        "outputId": "66c81cca-ad52-4cb6-9b9c-3910f3953874"
      },
      "execution_count": null,
      "outputs": [
        {
          "output_type": "execute_result",
          "data": {
            "text/plain": [
              "32"
            ]
          },
          "metadata": {},
          "execution_count": 86
        }
      ]
    },
    {
      "cell_type": "markdown",
      "source": [
        "## [1-2] Variables"
      ],
      "metadata": {
        "id": "0m_ux_SoEUos"
      }
    },
    {
      "cell_type": "markdown",
      "source": [
        "## [1-3] input/output functions"
      ],
      "metadata": {
        "id": "YUasz63dEYAX"
      }
    },
    {
      "cell_type": "code",
      "source": [
        "mynumber = 2\n",
        "mynumber"
      ],
      "metadata": {
        "colab": {
          "base_uri": "https://localhost:8080/"
        },
        "id": "BSp7TWkeEfmz",
        "outputId": "3bcd84d2-c721-4bc7-da68-a245706b8b5c"
      },
      "execution_count": null,
      "outputs": [
        {
          "output_type": "execute_result",
          "data": {
            "text/plain": [
              "2"
            ]
          },
          "metadata": {},
          "execution_count": 87
        }
      ]
    },
    {
      "cell_type": "code",
      "source": [
        "yournumber = input()  # In Python, input() is a built-in function that allows you to get user input from the keyboard. \n",
        "yournumber"
      ],
      "metadata": {
        "colab": {
          "base_uri": "https://localhost:8080/",
          "height": 54
        },
        "id": "6LZudH_0En_w",
        "outputId": "079033e9-65ba-4c80-f523-eb205e64b0f9"
      },
      "execution_count": null,
      "outputs": [
        {
          "name": "stdout",
          "output_type": "stream",
          "text": [
            "5\n"
          ]
        },
        {
          "output_type": "execute_result",
          "data": {
            "text/plain": [
              "'5'"
            ],
            "application/vnd.google.colaboratory.intrinsic+json": {
              "type": "string"
            }
          },
          "metadata": {},
          "execution_count": 89
        }
      ]
    },
    {
      "cell_type": "markdown",
      "source": [
        "☺️ After running the code below, can you tell me what the resulting output means?"
      ],
      "metadata": {
        "id": "-Z1mQqzlH4k5"
      }
    },
    {
      "cell_type": "code",
      "source": [
        "yournumber*5"
      ],
      "metadata": {
        "colab": {
          "base_uri": "https://localhost:8080/",
          "height": 35
        },
        "id": "5cGgSs3qHxG_",
        "outputId": "a4b0fecf-b24d-49f4-9736-98e346d5ec6f"
      },
      "execution_count": null,
      "outputs": [
        {
          "output_type": "execute_result",
          "data": {
            "text/plain": [
              "'55555'"
            ],
            "application/vnd.google.colaboratory.intrinsic+json": {
              "type": "string"
            }
          },
          "metadata": {},
          "execution_count": 92
        }
      ]
    },
    {
      "cell_type": "code",
      "source": [
        "type(yournumber)"
      ],
      "metadata": {
        "colab": {
          "base_uri": "https://localhost:8080/"
        },
        "id": "664rKEalISSY",
        "outputId": "10b05336-e3b0-4635-e37b-762273254439"
      },
      "execution_count": null,
      "outputs": [
        {
          "output_type": "execute_result",
          "data": {
            "text/plain": [
              "str"
            ]
          },
          "metadata": {},
          "execution_count": 93
        }
      ]
    },
    {
      "cell_type": "code",
      "source": [
        "yournumber = int(yournumber) # changing the type of the value to integer\n",
        "type(yournumber)"
      ],
      "metadata": {
        "colab": {
          "base_uri": "https://localhost:8080/"
        },
        "id": "u_ocEyoAIVC4",
        "outputId": "97848ed9-25ef-4fe1-8390-431bdba87cc3"
      },
      "execution_count": null,
      "outputs": [
        {
          "output_type": "execute_result",
          "data": {
            "text/plain": [
              "int"
            ]
          },
          "metadata": {},
          "execution_count": 95
        }
      ]
    },
    {
      "cell_type": "markdown",
      "source": [
        "Getting output:"
      ],
      "metadata": {
        "id": "Z9Kzd8ZW7Bri"
      }
    },
    {
      "cell_type": "code",
      "source": [
        "# print() 함수 배우기\n",
        "print(\"대한민국\")\n",
        "\n",
        "a2 = \"화이팅!\"  # a1: variable(변수)\n",
        "print(a2)\n",
        "print(a2*10)\n",
        "print(\"화이팅 10번 합시다: \", a2*10)\n",
        "a2"
      ],
      "metadata": {
        "id": "aQXDo7u-4-18"
      },
      "execution_count": null,
      "outputs": []
    },
    {
      "cell_type": "code",
      "source": [
        "print(a2)\n",
        "print(\"=\"*30)\n",
        "print(\"Random integer between 1 and 10:\", a1)"
      ],
      "metadata": {
        "colab": {
          "base_uri": "https://localhost:8080/"
        },
        "id": "0jdQu65F2ZWw",
        "outputId": "5c3a8249-b2a1-4137-f1c4-bc267b4dc653"
      },
      "execution_count": null,
      "outputs": [
        {
          "output_type": "stream",
          "name": "stdout",
          "text": [
            "Welcome\n",
            "==============================\n",
            "Random integer between 1 and 10: 2\n"
          ]
        }
      ]
    },
    {
      "cell_type": "markdown",
      "source": [
        "☺️DIY: \n",
        "**Q: John and Mary have been together for many days. Ask Mary how many days it has been since she met John. Then you tell Mary how many hours it has been since she met John.**\n",
        "\n",
        "1. Set the variable 'day' to 24\n",
        "2. Set the variable 'num_day' for the input from the user. Get a number (number of days) from the user using input() function\n",
        "2. Calculate days to hours: set the variable 'hours' to the final result."
      ],
      "metadata": {
        "id": "cvkWAvetFtSP"
      }
    },
    {
      "cell_type": "code",
      "source": [
        "# day = \n",
        "# num_day =\n",
        "# hours = \n",
        "# print(\"The total hours passed since Mary met John are: \", hours)"
      ],
      "metadata": {
        "id": "Fdezo9WD1zju"
      },
      "execution_count": null,
      "outputs": []
    },
    {
      "cell_type": "markdown",
      "source": [
        "#[2] String manipulation: strip() and .lower().\n",
        "\n"
      ],
      "metadata": {
        "id": "zzkVAfU61HDk"
      }
    },
    {
      "cell_type": "markdown",
      "source": [
        "### **data.strip()**\n",
        "\n",
        "+ In Python, strip() is a built-in string method that returns a copy of the string with leading and trailing characters removed. \n",
        "+ By default, strip() removes whitespace characters such as spaces, tabs, and newlines from the beginning and end of the string."
      ],
      "metadata": {
        "id": "sSi_PvE5LTeC"
      }
    },
    {
      "cell_type": "code",
      "source": [
        "w1 = \" Mary is friendly. \"\n",
        "w1"
      ],
      "metadata": {
        "colab": {
          "base_uri": "https://localhost:8080/",
          "height": 35
        },
        "id": "IUtU-qG81XIt",
        "outputId": "b7aab2e8-bb04-4eef-9c5d-2ea43d103e82"
      },
      "execution_count": null,
      "outputs": [
        {
          "output_type": "execute_result",
          "data": {
            "text/plain": [
              "' Mary is friendly. '"
            ],
            "application/vnd.google.colaboratory.intrinsic+json": {
              "type": "string"
            }
          },
          "metadata": {},
          "execution_count": 104
        }
      ]
    },
    {
      "cell_type": "code",
      "source": [
        "w1.strip()"
      ],
      "metadata": {
        "colab": {
          "base_uri": "https://localhost:8080/",
          "height": 35
        },
        "id": "ZAhdPbqVKr6e",
        "outputId": "4084cff1-bc65-4d5a-d859-a7b9abc332c7"
      },
      "execution_count": null,
      "outputs": [
        {
          "output_type": "execute_result",
          "data": {
            "text/plain": [
              "'Mary is friendly.'"
            ],
            "application/vnd.google.colaboratory.intrinsic+json": {
              "type": "string"
            }
          },
          "metadata": {},
          "execution_count": 105
        }
      ]
    },
    {
      "cell_type": "markdown",
      "source": [
        "### **data.split()**"
      ],
      "metadata": {
        "id": "JGPdtmu8MFgv"
      }
    },
    {
      "cell_type": "code",
      "source": [
        "w1 = \"Mary is friendly.\"\n",
        "w1.split()"
      ],
      "metadata": {
        "colab": {
          "base_uri": "https://localhost:8080/"
        },
        "id": "xbF1sJB9MIpw",
        "outputId": "ef741fcc-28a7-4557-f2ff-5882afd951bc"
      },
      "execution_count": null,
      "outputs": [
        {
          "output_type": "execute_result",
          "data": {
            "text/plain": [
              "['Mary', 'is', 'friendly.']"
            ]
          },
          "metadata": {},
          "execution_count": 106
        }
      ]
    },
    {
      "cell_type": "code",
      "source": [
        "w2 = \"out-of-date\"\n",
        "w2.split('-')"
      ],
      "metadata": {
        "colab": {
          "base_uri": "https://localhost:8080/"
        },
        "id": "IudKgTjkMVQP",
        "outputId": "81e35537-db82-4073-c1b3-e7707b2a4883"
      },
      "execution_count": null,
      "outputs": [
        {
          "output_type": "execute_result",
          "data": {
            "text/plain": [
              "['out', 'of', 'date']"
            ]
          },
          "metadata": {},
          "execution_count": 108
        }
      ]
    },
    {
      "cell_type": "code",
      "source": [
        "w1 = \"Mary\"\n",
        "w2 = \"is\"\n",
        "w3 = \"friendly\""
      ],
      "metadata": {
        "id": "tGBOKKKtLvj7"
      },
      "execution_count": null,
      "outputs": []
    },
    {
      "cell_type": "code",
      "source": [
        "wordlist = [w1, w2, w3]\n",
        "wordlist"
      ],
      "metadata": {
        "colab": {
          "base_uri": "https://localhost:8080/"
        },
        "id": "c11AXGr0V_a4",
        "outputId": "87098068-f7f1-4e46-c815-2354dbfbedba"
      },
      "execution_count": null,
      "outputs": [
        {
          "output_type": "execute_result",
          "data": {
            "text/plain": [
              "['Mary', 'is', 'friendly']"
            ]
          },
          "metadata": {},
          "execution_count": 144
        }
      ]
    },
    {
      "cell_type": "markdown",
      "source": [
        "### **' '.join()**"
      ],
      "metadata": {
        "id": "Mb-LFWWPWn08"
      }
    },
    {
      "cell_type": "code",
      "source": [
        "' '.join(wordlist)"
      ],
      "metadata": {
        "colab": {
          "base_uri": "https://localhost:8080/",
          "height": 35
        },
        "id": "tZA7DsPPWGmA",
        "outputId": "b8cbd601-c314-4eec-8987-7d881ceda86f"
      },
      "execution_count": null,
      "outputs": [
        {
          "output_type": "execute_result",
          "data": {
            "text/plain": [
              "'Mary is friendly'"
            ],
            "application/vnd.google.colaboratory.intrinsic+json": {
              "type": "string"
            }
          },
          "metadata": {},
          "execution_count": 145
        }
      ]
    },
    {
      "cell_type": "code",
      "source": [
        "'.'.join(wordlist)"
      ],
      "metadata": {
        "colab": {
          "base_uri": "https://localhost:8080/",
          "height": 35
        },
        "id": "EjLtWSL5WdYy",
        "outputId": "f4ba5d54-916a-40e6-d8a1-72b08cee7444"
      },
      "execution_count": null,
      "outputs": [
        {
          "output_type": "execute_result",
          "data": {
            "text/plain": [
              "'Mary.is.friendly'"
            ],
            "application/vnd.google.colaboratory.intrinsic+json": {
              "type": "string"
            }
          },
          "metadata": {},
          "execution_count": 146
        }
      ]
    },
    {
      "cell_type": "markdown",
      "source": [
        "### **data.lower(), data.upper()**"
      ],
      "metadata": {
        "id": "PgCIMbbcL29X"
      }
    },
    {
      "cell_type": "code",
      "source": [
        "w1.lower()"
      ],
      "metadata": {
        "colab": {
          "base_uri": "https://localhost:8080/",
          "height": 35
        },
        "id": "JGqTVM22MuH0",
        "outputId": "fa337e62-7ebd-4159-a48c-242a53de0bce"
      },
      "execution_count": null,
      "outputs": [
        {
          "output_type": "execute_result",
          "data": {
            "text/plain": [
              "'mary'"
            ],
            "application/vnd.google.colaboratory.intrinsic+json": {
              "type": "string"
            }
          },
          "metadata": {},
          "execution_count": 111
        }
      ]
    },
    {
      "cell_type": "code",
      "source": [
        "w1.upper()"
      ],
      "metadata": {
        "colab": {
          "base_uri": "https://localhost:8080/",
          "height": 35
        },
        "id": "fP2lBss3Myhq",
        "outputId": "32347239-a45e-4b6b-8a25-0592d09475f9"
      },
      "execution_count": null,
      "outputs": [
        {
          "output_type": "execute_result",
          "data": {
            "text/plain": [
              "'MARY'"
            ],
            "application/vnd.google.colaboratory.intrinsic+json": {
              "type": "string"
            }
          },
          "metadata": {},
          "execution_count": 112
        }
      ]
    },
    {
      "cell_type": "markdown",
      "source": [
        "string index"
      ],
      "metadata": {
        "id": "yZJk2NtCM_oz"
      }
    },
    {
      "cell_type": "code",
      "source": [
        "len(w1) #number of string"
      ],
      "metadata": {
        "colab": {
          "base_uri": "https://localhost:8080/"
        },
        "id": "HmuiXLZSNGNa",
        "outputId": "f5305736-c27c-4e8a-c267-96480bc2393c"
      },
      "execution_count": null,
      "outputs": [
        {
          "output_type": "execute_result",
          "data": {
            "text/plain": [
              "4"
            ]
          },
          "metadata": {},
          "execution_count": 114
        }
      ]
    },
    {
      "cell_type": "code",
      "source": [
        "w1[0] #1st string"
      ],
      "metadata": {
        "colab": {
          "base_uri": "https://localhost:8080/",
          "height": 35
        },
        "id": "xiyozLYxM6xk",
        "outputId": "c9c45a7c-d985-470f-83d4-3ae87b4f7253"
      },
      "execution_count": null,
      "outputs": [
        {
          "output_type": "execute_result",
          "data": {
            "text/plain": [
              "'M'"
            ],
            "application/vnd.google.colaboratory.intrinsic+json": {
              "type": "string"
            }
          },
          "metadata": {},
          "execution_count": 113
        }
      ]
    },
    {
      "cell_type": "code",
      "source": [
        "w1[-1]"
      ],
      "metadata": {
        "colab": {
          "base_uri": "https://localhost:8080/",
          "height": 35
        },
        "id": "AY_Ii7FhNeof",
        "outputId": "2db6d1f7-5728-4293-c2fa-ba7e79f45741"
      },
      "execution_count": null,
      "outputs": [
        {
          "output_type": "execute_result",
          "data": {
            "text/plain": [
              "'y'"
            ],
            "application/vnd.google.colaboratory.intrinsic+json": {
              "type": "string"
            }
          },
          "metadata": {},
          "execution_count": 115
        }
      ]
    },
    {
      "cell_type": "code",
      "source": [
        "w1[0:]"
      ],
      "metadata": {
        "colab": {
          "base_uri": "https://localhost:8080/",
          "height": 35
        },
        "id": "vhfF3iXwNijx",
        "outputId": "a5b1350d-85d5-4302-ca38-46d97fe1bab7"
      },
      "execution_count": null,
      "outputs": [
        {
          "output_type": "execute_result",
          "data": {
            "text/plain": [
              "'Mary'"
            ],
            "application/vnd.google.colaboratory.intrinsic+json": {
              "type": "string"
            }
          },
          "metadata": {},
          "execution_count": 116
        }
      ]
    },
    {
      "cell_type": "code",
      "source": [
        "w1[:]"
      ],
      "metadata": {
        "colab": {
          "base_uri": "https://localhost:8080/",
          "height": 35
        },
        "id": "pW4m0FoyNlf4",
        "outputId": "13be771c-f7fb-4a9e-8b48-9ae01875f51b"
      },
      "execution_count": null,
      "outputs": [
        {
          "output_type": "execute_result",
          "data": {
            "text/plain": [
              "'Mary'"
            ],
            "application/vnd.google.colaboratory.intrinsic+json": {
              "type": "string"
            }
          },
          "metadata": {},
          "execution_count": 118
        }
      ]
    },
    {
      "cell_type": "code",
      "source": [
        "w1[1:3]"
      ],
      "metadata": {
        "colab": {
          "base_uri": "https://localhost:8080/",
          "height": 35
        },
        "id": "tgp9ozDdNpwd",
        "outputId": "3864520f-27f5-4c3d-9273-7a5036848868"
      },
      "execution_count": null,
      "outputs": [
        {
          "output_type": "execute_result",
          "data": {
            "text/plain": [
              "'ar'"
            ],
            "application/vnd.google.colaboratory.intrinsic+json": {
              "type": "string"
            }
          },
          "metadata": {},
          "execution_count": 119
        }
      ]
    },
    {
      "cell_type": "code",
      "source": [
        "w = \"mary\"\n",
        "w[0:-1]"
      ],
      "metadata": {
        "colab": {
          "base_uri": "https://localhost:8080/",
          "height": 35
        },
        "id": "0Su3TuHfPxwh",
        "outputId": "e54a94ce-574f-4bab-81d5-2603ade399b0"
      },
      "execution_count": null,
      "outputs": [
        {
          "output_type": "execute_result",
          "data": {
            "text/plain": [
              "'mar'"
            ],
            "application/vnd.google.colaboratory.intrinsic+json": {
              "type": "string"
            }
          },
          "metadata": {},
          "execution_count": 122
        }
      ]
    },
    {
      "cell_type": "markdown",
      "source": [
        "☺️ DIY: Convert a statement to a yes-no question (e.g., Mary is smart. Tom is smiling. Jane is late.)"
      ],
      "metadata": {
        "id": "lGVkVdCLNMz0"
      }
    },
    {
      "cell_type": "code",
      "source": [
        "w1 = \"Mary\"; w2 = \"is\"; w3 = \"friendly.\""
      ],
      "metadata": {
        "id": "nz1VNUviNXaJ"
      },
      "execution_count": null,
      "outputs": []
    }
  ]
}
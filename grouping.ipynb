{
  "nbformat": 4,
  "nbformat_minor": 0,
  "metadata": {
    "colab": {
      "provenance": [],
      "authorship_tag": "ABX9TyOfq/5fJ0VmJo/RcSpKreIQ",
      "include_colab_link": true
    },
    "kernelspec": {
      "name": "python3",
      "display_name": "Python 3"
    },
    "language_info": {
      "name": "python"
    }
  },
  "cells": [
    {
      "cell_type": "markdown",
      "metadata": {
        "id": "view-in-github",
        "colab_type": "text"
      },
      "source": [
        "<a href=\"https://colab.research.google.com/github/MK316/Spring2023/blob/main/grouping.ipynb\" target=\"_parent\"><img src=\"https://colab.research.google.com/assets/colab-badge.svg\" alt=\"Open In Colab\"/></a>"
      ]
    },
    {
      "cell_type": "markdown",
      "source": [
        "# 💦 Random grouping"
      ],
      "metadata": {
        "id": "F3QQ0eR3SZ3q"
      }
    },
    {
      "cell_type": "markdown",
      "source": [
        "## [1] Import packages, read a file \n",
        "\n",
        "Note: Column name as \"Names\""
      ],
      "metadata": {
        "id": "ajpiGmadguiU"
      }
    },
    {
      "cell_type": "code",
      "execution_count": 1,
      "metadata": {
        "cellView": "form",
        "id": "iviYFSipSX6U"
      },
      "outputs": [],
      "source": [
        "#@markdown Import packages\n",
        "import pandas as pd\n",
        "import numpy as np\n",
        "import random"
      ]
    },
    {
      "cell_type": "markdown",
      "source": [
        "sample: https://raw.githubusercontent.com/MK316/Spring2023/main/data/att_sample.csv\n",
        "\n",
        "sample2: https://raw.githubusercontent.com/MK316/Spring2023/main/Engpro/engpro_att.csv  \n",
        "\n",
        "sample3: https://raw.githubusercontent.com/MK316/Spring2023/main/data/engling23_att.csv"
      ],
      "metadata": {
        "id": "RGeN-v78gY6O"
      }
    },
    {
      "cell_type": "code",
      "source": [
        "#@markdown Read attendance list, define grouping(l, n)\n",
        "url = input()\n",
        "df = pd.read_csv(url, encoding=\"cp949\")\n",
        "attlist = df.Names.values.tolist()\n",
        "\n",
        "def grouping(l, n):\n",
        "    for i in range(0, len(l), n):\n",
        "        yield l[i:i + n]\n",
        "\n",
        "df"
      ],
      "metadata": {
        "cellView": "form",
        "id": "PCge7yTLYjko"
      },
      "execution_count": null,
      "outputs": []
    },
    {
      "cell_type": "markdown",
      "source": [
        "## [2] Random grouping"
      ],
      "metadata": {
        "id": "i9LSE4qzg9al"
      }
    },
    {
      "cell_type": "code",
      "source": [
        "#@markdown 🌀 Random grouping of size \"n\"\n",
        "random.shuffle(attlist)\n",
        "\n",
        "gsize = input(\"Size of each group: \")\n",
        "gs = int(gsize)\n",
        "\n",
        "mylist = list(grouping(attlist, gs))\n",
        "ngroups = len(list(grouping(attlist, gs)))\n",
        "\n",
        "print(mylist)\n",
        "print(\"=\"*50)\n",
        "print(\"Number of groups: %d in total.\"%ngroups)\n",
        "\n",
        "gn = ngroups\n",
        "gname = []\n",
        "df1 = pd.DataFrame()\n",
        "for i in range(0,gn):\n",
        "  nam = \"G\" + str(i+1)\n",
        "  gname.append(nam)\n",
        "\n",
        "df1['Group'] = gname\n",
        "df1['Members'] = mylist\n",
        "df1"
      ],
      "metadata": {
        "cellView": "form",
        "id": "B-_K9q9ATDkg"
      },
      "execution_count": null,
      "outputs": []
    },
    {
      "cell_type": "markdown",
      "source": [
        "## [3] File saving and cleaning"
      ],
      "metadata": {
        "id": "DR1ZnRKRgp0A"
      }
    },
    {
      "cell_type": "code",
      "source": [
        "#@markdown Save the list to Google drive: \n",
        "from google.colab import drive\n",
        "drive.mount('/content/drive')\n",
        "fn = input('file name: ')\n",
        "path = '/content/drive/My Drive/myclass/S2023/' + fn\n",
        "with open(path, 'w', encoding = 'utf-8-sig') as f:\n",
        "  df1.to_csv(f, index=False)\n",
        "\n",
        "print(\"=\"*50)\n",
        "print(\"Saved file: \")\n",
        "data = pd.read_csv(path)\n",
        "print(data)\n",
        "res = input(\"Unmount drive? (y or n)\")\n",
        "\n",
        "if res == \"y\":\n",
        "  drive.flush_and_unmount()\n",
        "else:\n",
        "  print(\"Okay, the drive is still on.\")"
      ],
      "metadata": {
        "cellView": "form",
        "id": "QsLFy1nldA3F"
      },
      "execution_count": null,
      "outputs": []
    }
  ]
}
{
  "nbformat": 4,
  "nbformat_minor": 0,
  "metadata": {
    "colab": {
      "provenance": [],
      "authorship_tag": "ABX9TyNbyEsyvO53yVCuwd/yf7+P",
      "include_colab_link": true
    },
    "kernelspec": {
      "name": "python3",
      "display_name": "Python 3"
    },
    "language_info": {
      "name": "python"
    }
  },
  "cells": [
    {
      "cell_type": "markdown",
      "metadata": {
        "id": "view-in-github",
        "colab_type": "text"
      },
      "source": [
        "<a href=\"https://colab.research.google.com/github/MK316/Spring2023/blob/main/Midterm_preview.ipynb\" target=\"_parent\"><img src=\"https://colab.research.google.com/assets/colab-badge.svg\" alt=\"Open In Colab\"/></a>"
      ]
    },
    {
      "cell_type": "markdown",
      "source": [
        "# Midterm test"
      ],
      "metadata": {
        "id": "QDVeavXV0tC9"
      }
    },
    {
      "cell_type": "markdown",
      "source": [
        "[1] Engpro"
      ],
      "metadata": {
        "id": "Px0QodpT0wYi"
      }
    },
    {
      "cell_type": "code",
      "execution_count": 1,
      "metadata": {
        "colab": {
          "base_uri": "https://localhost:8080/"
        },
        "id": "rFzfAWLN0seV",
        "outputId": "2fff9b3c-4e37-4fde-d548-10de37115c9c"
      },
      "outputs": [
        {
          "output_type": "stream",
          "name": "stdout",
          "text": [
            "Looking in indexes: https://pypi.org/simple, https://us-python.pkg.dev/colab-wheels/public/simple/\n",
            "Collecting pyqrcode\n",
            "  Downloading PyQRCode-1.2.1.zip (41 kB)\n",
            "\u001b[2K     \u001b[90m━━━━━━━━━━━━━━━━━━━━━━━━━━━━━━━━━━━━━━━━\u001b[0m \u001b[32m41.9/41.9 kB\u001b[0m \u001b[31m1.3 MB/s\u001b[0m eta \u001b[36m0:00:00\u001b[0m\n",
            "\u001b[?25h  Preparing metadata (setup.py) ... \u001b[?25l\u001b[?25hdone\n",
            "Building wheels for collected packages: pyqrcode\n",
            "  Building wheel for pyqrcode (setup.py) ... \u001b[?25l\u001b[?25hdone\n",
            "  Created wheel for pyqrcode: filename=PyQRCode-1.2.1-py3-none-any.whl size=36241 sha256=e74978b82e3ccebb1fba6e055038cbf374c357001938801f7c78d264b5aacf56\n",
            "  Stored in directory: /root/.cache/pip/wheels/da/75/c0/38c7f82750de2725429b6b8571dca254249d73f6c882c5d9b1\n",
            "Successfully built pyqrcode\n",
            "Installing collected packages: pyqrcode\n",
            "Successfully installed pyqrcode-1.2.1\n",
            "Looking in indexes: https://pypi.org/simple, https://us-python.pkg.dev/colab-wheels/public/simple/\n",
            "Collecting gtts\n",
            "  Downloading gTTS-2.3.1-py3-none-any.whl (28 kB)\n",
            "Requirement already satisfied: requests<3,>=2.27 in /usr/local/lib/python3.9/dist-packages (from gtts) (2.27.1)\n",
            "Requirement already satisfied: click<8.2,>=7.1 in /usr/local/lib/python3.9/dist-packages (from gtts) (8.1.3)\n",
            "Requirement already satisfied: charset-normalizer~=2.0.0 in /usr/local/lib/python3.9/dist-packages (from requests<3,>=2.27->gtts) (2.0.12)\n",
            "Requirement already satisfied: urllib3<1.27,>=1.21.1 in /usr/local/lib/python3.9/dist-packages (from requests<3,>=2.27->gtts) (1.26.15)\n",
            "Requirement already satisfied: idna<4,>=2.5 in /usr/local/lib/python3.9/dist-packages (from requests<3,>=2.27->gtts) (3.4)\n",
            "Requirement already satisfied: certifi>=2017.4.17 in /usr/local/lib/python3.9/dist-packages (from requests<3,>=2.27->gtts) (2022.12.7)\n",
            "Installing collected packages: gtts\n",
            "Successfully installed gtts-2.3.1\n"
          ]
        }
      ],
      "source": [
        "\n",
        "#@markdown Install {pyqrcode} and enter link address\n",
        "!pip install pyqrcode\n",
        "!pip install gtts\n",
        "import pyqrcode\n",
        "from pyqrcode import QRCode\n",
        "from gtts import gTTS"
      ]
    },
    {
      "cell_type": "code",
      "source": [
        "def tts(txt):\n",
        "  tts = gTTS(txt, lang='ko')\n",
        "  tts.save(\"sample.mp3\")\n",
        "  return Audio(\"/content/sample.mp3\")"
      ],
      "metadata": {
        "id": "7r6v_0ijcCzw"
      },
      "execution_count": 21,
      "outputs": []
    },
    {
      "cell_type": "code",
      "source": [
        "from IPython.display import Audio\n",
        "mytext = input(\"Type text: \")\n",
        "tts(mytext)\n",
        "Audio(\"sample.mp3\",autoplay=True)"
      ],
      "metadata": {
        "colab": {
          "base_uri": "https://localhost:8080/",
          "height": 93
        },
        "id": "ODY80HfscwOD",
        "outputId": "2dc3fe13-23cb-4575-f6e5-0f026d0dee43"
      },
      "execution_count": 22,
      "outputs": [
        {
          "name": "stdout",
          "output_type": "stream",
          "text": [
            "Type text: 안녕\n"
          ]
        },
        {
          "output_type": "execute_result",
          "data": {
            "text/plain": [
              "<IPython.lib.display.Audio object>"
            ],
            "text/html": [
              "\n",
              "                <audio  controls=\"controls\" autoplay=\"autoplay\">\n",
              "                    <source src=\"data:audio/mpeg;base64,//NExAAPMJYkAUYQALu7vtEEyZMmTJkyZMAAAAAAgQIRD/IQgsHwfB8P///u/////+CAIAgCBnLg+CAIAgCAJg+D4Pg+CAIAgGH/WPD5YagL/5fNr/S//5+MMyscliRH//NExBYWmdKUAZhoAJgrgK6Cd+CtiVuiBQwGoPo5fvqm5u7t/TqNGPTYvkwu/0FM+ggfTTZJD/oIOt/Rc3MFwa/9ZoEl5cQf95e45gY4sSgRKhO20NcziYhqkKclUXY7//NExA4WKXrAAY94AE9z+PdPmIbguajSq6BaiZE9E/F2KE/DnUExPR6DnqGaIsOhU03u2nG3tV3NBhV1Xe7f1tClxBkgvYU3//zv4z64xq2YMKsX+rlgDTgKwsKoaAUJ//NExAgSySLUAYx4AIkJ7qhWYiGJYrMxSd6XNBQItVkgRFFMeEdKIyMeTIl0cXLL/FtXiap77jYtvNoltb1ncSm8WtSTDggXGQQUHwIKE/QqjzFGT0qT2jLMWVVp5Wp1//NExA8SIR7UAY9gAA0/D9RRynSiSsMhKO1kaoCxfZTE4cnVxTKrruNWN6weyUtl36urcy9pZ2tLXci841ImGiFIcEaDfppsxE8cI6qlTxI+LYwbAnVDLqrvj0zOWl2u//NExBkRQT68AZh4AJk3NAi17Ir1YfcamIetagjodPXN5m09/NXP8J6zw7PNXl1X/Nf/jPvSs1oCZCYDLBrZ1mMhqYghZhsDmDDiYDHxhUAGIiyW1MCCNSUFOW/qDLQk//NExCcb8RZwAdxgAP6B4ukfOr7llhRh4B5ZWMwR+8YkmN0lNFSAyddcr0e24v8U1BiYaoJx0eOsNeDqjwMgqLgJqqQEokHG3/axTGeHjjli41JzaFJliYZ9ZsHCZmAo//NExAoRcLp8AN5STFEmYARmxAyOJk6MkQEoX1aP03M3Sbe20Y8CpOsFVQMk6rvLFYfcV2TFKOIvi4aGET4fPf+mqu73f+T/qpEyE/AWWoOyBEjF9DUiNsBYlX6wNnV2//NExBcRMLZ8AN5eTCMvZlJay0pBsmkFORCZQmpLV1rM2d0q8pCpuIBwdHINHGYuGSH3atttdK//2maUuweGTwIIXAIM1lGplCiAo0MJHUUZ/bN5Uu6fmGgcFeJmToQT//NExCUQyL6AAN4YTPWqOmbX5n8razjUFQG36lgF3qu/St1vb2/CEx8Wx1WEu2L6aMZXB2+nMc3RzZ+PMiqwVJNwq29dJcjdwBReGnCAaQR2p4kyjoaHcpW0EHBF75ce//NExDQRCLaMANYKTA+UGHJSfRu//4sf8vZ3/8oq+kPJmaLTKdxdYAiPEy+7zzE5iDRBpdgYYrY24av5vj/LcZVhkR9IRseM8e99t8YHTOQzP87IYmQ2GPsOOb///pf+//NExEIRWV6oAMIMlL//dVXU2BJ21E1yehwYtUBhsIAnNk/gL9Zmmev7X9Z82888UJG1D5AAA1ycnqgPBiMS5PeDo2IJEL8a9PWAgTNBJiBz1eUBLSs6JRiWITqSSA0M//NExE8QQVq0AMJMlZklHswLBRqaek72W9wb1k8PWXLLG8Uh4VTx9PRxZbnvBR+ByjhqQf4OT5BetWdjTfrPXs9hPmHsk62lqrwAZb1TB5oZ7pTlyuJ0jGA537m5t6mg//NExGESSWK0AMPSlDI5v2KhmoYPWwnbJ4+SuddHF1s95q1I726kOUVNnWLO6k7M0tvzs5Xm6txQ0B7VVwC1jFEJoqwKQAwE0C36JjLE4hIoOGl2nGEOLnBIRjBGAHAh//NExGoRSUbAAU9gAYogjYTYIIMQLgR9CQAYC4Jg5iDg5W94zRICnjMkSE8ixKX2+WkMiODHZ4nEU5sjj3yicIkWM8Y00xz7jLykR63LqnyzwYsch7+f///1qrIoHq6Q//NExHccSXawAZh4ALEquCexTQPI7wfyuF2hGcheDgczZUUEgimBsCYg6QviRobJpJJspdbWq3dJSmo0WW10UFzM1TZ0qnc2WkfTMnhS6omyszioR2LQYMJhShH707V///NExFgRsVa4Ac9oAT+Jy2E3nnZQ69xxGvsPJgMIQjHeAuMUC6Frj3RV7eWRe3iueLmu7utTKaY6vz2ayivmsqdOtNsqzQVMBxwBpyxIOQeMaqLaGmHGOQGEBBg40Ygq//NExGQSAV6sAVhYARcQj0uiYOvkSCM680zA6Y4JBKFTUGnJDFum+ls0ha/8xcU5kXLdPZzjM1K6k1M27eeu7qyqfpp6Dr9JT0tR/LFJhb3GorZhqVRaQ0tyVzEihzGz//NExG8hkaKUAZrIAElWU/9Nhey7////fsHtf/Z6V/Q/+t36ak/gS0GzEIiJDjVUwgFHopN0wkyVtMHTzJAkwEzBxC2ExYNBwQYwLjwOMDA0fAg6M/EjAw5XSdCDyFBq//NExDsgaYp8Adt4AEnhomJBVt4O22O22gvPE03dejNj6rM8ZWSHFc21yllkZ5XNhkVry2asWm67c7ipVhRrCrYqliwt+e8a74Qm0t///Raok1lNcEKwAaFQfPikSRBg//NExAwUKNqEANPGcEJAJkC7JRECBoOQsYuIxGc+AMIN0B8hknaJKhFmA0WBtiu/MKZMDGxLHhY6MYZ0B1JITGwKVcaaoDHgkeCqUkaHf///Qm4ilApNGP4gJyZgMTKE//NExA4SmR58ANPGcdoiNgI4oyGHw31pAH4S8QNMBX4MZsirs/7KVbaYmNU0eEShzmxE55ITCI4cEELLzc4NL2exWlfnb3gE/7VrQ5wGnwE8hlcLm08QqcmyIuzULila//NExBYRiPKAANPGcDNYhfmahz4Z5gwGkvB2ZP2KpJXu95FCGZ6dQHwgRCWeLBYNigUICpNvJPEo/uJjySpWAA5i4hrGQuXMIXRiKo8uwDgqozECT4WkafxZlhyZRIVC//NExCIR+RJ8ANPGcFmcp1RV1VahsWdPYrUEZMDJZSHw2mzx1dYWsDA0d49AqEUtkVNVLhmPjhjwOa/RAaOLAUHEywq6W5LJf0qllp1Shh0hFxxMmOR9UJjG7v2O8epl//NExC0RUOJsANsGcOZKjrQphaKBwOBQegyA4oefY/lSL7EvWhUKJnZyeUoGpW0g8BQg4JsLEp+JE74VJKOydq5OcASHsKWQmH45p9ccjeEkv5isrfOHJPTHbLPP7z3+//NExDoRySZUAMsMcJoKSAroTqeInjH1nsqqO0GyDlDUniQZHJ5zjvVapKShwBEoJVzj0XOSlqOcrejAQ5cWGTGAiTCoKndLTzZZR75WSIhORrPd6n7itQUeVYosSCtZ//NExEUSmNn4AHmGcBaz86/yVQho0i3nAl3CG1LkZKIzB9lEQlixGw8Syy1DL9rYZGrKCBOGQEEhcjiosg0PFPXjBdiQELCpn8VFkGh4p/9QsKmam8VFlQ4wDsY87yYO//NExE0REL18AHpGTAYGm7nEJxCV9BCIE4fg+GCgIQTesP1HJS5KnS75Q5UGKwfUoEC44ECg0PlHBgu8go5hnJ//lLy85h/NKgcYsi+snSy2vgLaiZrtNXbauiItVCPO//NExFsQyGnsAHjGKJiAKqUHKtCwne6FqyDXWUxU1ZQ2ln2xt7l/8hWatcab/Q1S960VAEyZqYUuYdD8OzLurmVQylqRNG0motSNbHEywUfGjBSJBokeInWJaJSRKHYd//NExGoPGI38AHpGTIanfZbnXnnMdV2dynKfdpV9+r6PSnggxtEIQXCwYB8ThYMCcuoaHwQKBEPiAoNCwYB8TgQMA+IwIsccBAufDHy44MA+Xe6cBAuODBTz4Y8o4/5R//NExIAQaK3sAMJGTMT9fyYnHHOXUGI1SOCFmQKxNhCpFLE91WZwXA8PxJ7Y30zWD6CLFKILSji6K23ygYVNm1hyS8KoLyHEl0yYgI7YKLsm/cUyhYPB7BHKhzxa0LZk//NExJER8CncABhGAA+ow6PiELVpU3zC06yZWVeTPz3sdNmZB4crC6w6U88OmY91F9NlWzZsNd3GVfq97Z5q3XZgSnStDJ4ygNVzl8/FYaoKiqXBRFXLB1qVW3BgSeiW//NExJwgst3oAMJMuTha4CpMbhMB4I0mMaJOeeY2gTll16j9+afce1x6Tq9YG4lpy9AqawUQMQJQCZ0FfBSwMbBRJoKZQJwEQSt+FLLZnKCvgEDIMOWJaWKGY7hVXDOW//NExGwgUl3oAMMGuV+GFIvYy6yDHdhEioFw6mXBbQyatioIaQAuZ4JZUq5hkpvXlcNjFZNRtxMQjRwnMolUhYkCDOjjMsrk1I1a0msMmC0MgIW/0BUWNPZ/gUUNBUiA//NExD0SoQG8AHpGcIVImQkLmW///1t+wyEqTEFNRTMuMTAwqqqqqqqqqqqqqqqqqqqqqqqqqqqqqqqqqqqqqqqqqqqqqqqqqqqqqqqqqqqqqqqqqqqqqqqqqqqqqqqq\" type=\"audio/mpeg\" />\n",
              "                    Your browser does not support the audio element.\n",
              "                </audio>\n",
              "              "
            ]
          },
          "metadata": {},
          "execution_count": 22
        }
      ]
    },
    {
      "cell_type": "markdown",
      "source": [
        "[link](https://docs.google.com/forms/d/11G7RJsB6FUfsPDWz4PKp3I-IwAycysEgNGoqEV7y7-w/edit)"
      ],
      "metadata": {
        "id": "oh40s9esbvzh"
      }
    },
    {
      "cell_type": "code",
      "source": [
        "#@markdown Enter the link, save it as a file, and display\n",
        "s = \"https://forms.gle/6wpdiZuHBMed6MeB7\"\n",
        "\n",
        "# Generate QR code\n",
        "url = pyqrcode.create(s)\n",
        "\n",
        "# Create and save the png file naming \"myqr.png\"\n",
        "url.svg(\"myqrcode.svg\", scale=10)\n",
        "\n",
        "from IPython.display import SVG, display\n",
        "def show_svg(file):\n",
        "    display(SVG(file))\n",
        "\n",
        "show_svg(\"myqrcode.svg\")"
      ],
      "metadata": {
        "cellView": "form",
        "id": "5eu6C-Mt1az1"
      },
      "execution_count": null,
      "outputs": []
    },
    {
      "cell_type": "markdown",
      "source": [
        "[2] English linguistics"
      ],
      "metadata": {
        "id": "LDnNYv4T0x9G"
      }
    },
    {
      "cell_type": "code",
      "source": [
        "#@markdown Enter the link, save it as a file, and display\n",
        "s = \"https://forms.gle/R2jKcncMMGGfVbid9\"\n",
        "\n",
        "# Generate QR code\n",
        "url = pyqrcode.create(s)\n",
        "\n",
        "# Create and save the png file naming \"myqr.png\"\n",
        "url.svg(\"myqrcode.svg\", scale=10)\n",
        "\n",
        "from IPython.display import SVG, display\n",
        "def show_svg(file):\n",
        "    display(SVG(file))\n",
        "\n",
        "show_svg(\"myqrcode.svg\")"
      ],
      "metadata": {
        "cellView": "form",
        "id": "VVE8f3TZ1cQD"
      },
      "execution_count": null,
      "outputs": []
    }
  ]
}
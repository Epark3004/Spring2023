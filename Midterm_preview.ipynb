{
  "nbformat": 4,
  "nbformat_minor": 0,
  "metadata": {
    "colab": {
      "provenance": [],
      "authorship_tag": "ABX9TyNhDJBsipQNos+h96rEPW3O",
      "include_colab_link": true
    },
    "kernelspec": {
      "name": "python3",
      "display_name": "Python 3"
    },
    "language_info": {
      "name": "python"
    }
  },
  "cells": [
    {
      "cell_type": "markdown",
      "metadata": {
        "id": "view-in-github",
        "colab_type": "text"
      },
      "source": [
        "<a href=\"https://colab.research.google.com/github/MK316/Spring2023/blob/main/Midterm_preview.ipynb\" target=\"_parent\"><img src=\"https://colab.research.google.com/assets/colab-badge.svg\" alt=\"Open In Colab\"/></a>"
      ]
    },
    {
      "cell_type": "markdown",
      "source": [
        "# Midterm test"
      ],
      "metadata": {
        "id": "QDVeavXV0tC9"
      }
    },
    {
      "cell_type": "markdown",
      "source": [
        "[1] Engpro"
      ],
      "metadata": {
        "id": "Px0QodpT0wYi"
      }
    },
    {
      "cell_type": "code",
      "execution_count": null,
      "metadata": {
        "colab": {
          "base_uri": "https://localhost:8080/"
        },
        "id": "rFzfAWLN0seV",
        "outputId": "2fff9b3c-4e37-4fde-d548-10de37115c9c"
      },
      "outputs": [
        {
          "output_type": "stream",
          "name": "stdout",
          "text": [
            "Looking in indexes: https://pypi.org/simple, https://us-python.pkg.dev/colab-wheels/public/simple/\n",
            "Collecting pyqrcode\n",
            "  Downloading PyQRCode-1.2.1.zip (41 kB)\n",
            "\u001b[2K     \u001b[90m━━━━━━━━━━━━━━━━━━━━━━━━━━━━━━━━━━━━━━━━\u001b[0m \u001b[32m41.9/41.9 kB\u001b[0m \u001b[31m1.3 MB/s\u001b[0m eta \u001b[36m0:00:00\u001b[0m\n",
            "\u001b[?25h  Preparing metadata (setup.py) ... \u001b[?25l\u001b[?25hdone\n",
            "Building wheels for collected packages: pyqrcode\n",
            "  Building wheel for pyqrcode (setup.py) ... \u001b[?25l\u001b[?25hdone\n",
            "  Created wheel for pyqrcode: filename=PyQRCode-1.2.1-py3-none-any.whl size=36241 sha256=e74978b82e3ccebb1fba6e055038cbf374c357001938801f7c78d264b5aacf56\n",
            "  Stored in directory: /root/.cache/pip/wheels/da/75/c0/38c7f82750de2725429b6b8571dca254249d73f6c882c5d9b1\n",
            "Successfully built pyqrcode\n",
            "Installing collected packages: pyqrcode\n",
            "Successfully installed pyqrcode-1.2.1\n",
            "Looking in indexes: https://pypi.org/simple, https://us-python.pkg.dev/colab-wheels/public/simple/\n",
            "Collecting gtts\n",
            "  Downloading gTTS-2.3.1-py3-none-any.whl (28 kB)\n",
            "Requirement already satisfied: requests<3,>=2.27 in /usr/local/lib/python3.9/dist-packages (from gtts) (2.27.1)\n",
            "Requirement already satisfied: click<8.2,>=7.1 in /usr/local/lib/python3.9/dist-packages (from gtts) (8.1.3)\n",
            "Requirement already satisfied: charset-normalizer~=2.0.0 in /usr/local/lib/python3.9/dist-packages (from requests<3,>=2.27->gtts) (2.0.12)\n",
            "Requirement already satisfied: urllib3<1.27,>=1.21.1 in /usr/local/lib/python3.9/dist-packages (from requests<3,>=2.27->gtts) (1.26.15)\n",
            "Requirement already satisfied: idna<4,>=2.5 in /usr/local/lib/python3.9/dist-packages (from requests<3,>=2.27->gtts) (3.4)\n",
            "Requirement already satisfied: certifi>=2017.4.17 in /usr/local/lib/python3.9/dist-packages (from requests<3,>=2.27->gtts) (2022.12.7)\n",
            "Installing collected packages: gtts\n",
            "Successfully installed gtts-2.3.1\n"
          ]
        }
      ],
      "source": [
        "\n",
        "#@markdown Install {pyqrcode} and enter link address\n",
        "!pip install pyqrcode\n",
        "!pip install gtts\n",
        "import pyqrcode\n",
        "from pyqrcode import QRCode\n",
        "from gtts import gTTS"
      ]
    },
    {
      "cell_type": "code",
      "source": [
        "def tts(txt):\n",
        "  tts = gTTS(txt, lang='ko')\n",
        "  tts.save(\"sample.mp3\")\n",
        "  return Audio(\"/content/sample.mp3\")"
      ],
      "metadata": {
        "id": "7r6v_0ijcCzw"
      },
      "execution_count": null,
      "outputs": []
    },
    {
      "cell_type": "code",
      "source": [
        "n = \"0\" #@param = [0,1,2,3]\n",
        "n = int(n)\n",
        "paras=[\"먼저, 전자출결을 시작할게요.\",\n",
        "       \"오늘은 시험 문항에 대해 같이 살펴보고, 시험 포맷에 익숙해져 보는 시간을 가지려 합니다. 선생님이 감기로 목소리가 안 좋은 관계로 제가 대신 수업을 보조할게요.\",\n",
        "      \"중간고사 시험 유형을 같이 살펴보고, 직접 해 보는 시간을 가지도록 하겠습니다. 질문 있으면 언제든지 질문해 주세요. 같이 검토한 후에는 화면에 바코드를 보여드릴테니 스마트폰으로 찍어서 직접 들어가 보세요.\",\n",
        "      \"그럼 목요일에 시간 늦지 않도록 오시고, 핸드폰 충전 확인해서 오세요. \"\n",
        "  ]\n",
        "\n",
        "mytext = paras[n]\n",
        "tts(mytext)\n",
        "Audio(\"sample.mp3\",autoplay=True)"
      ],
      "metadata": {
        "colab": {
          "base_uri": "https://localhost:8080/",
          "height": 75
        },
        "cellView": "form",
        "id": "KFrhjlTLicjM",
        "outputId": "d75a854a-f493-4554-fd67-04b9bbf861c6"
      },
      "execution_count": 23,
      "outputs": [
        {
          "output_type": "execute_result",
          "data": {
            "text/plain": [
              "<IPython.lib.display.Audio object>"
            ],
            "text/html": [
              "\n",
              "                <audio  controls=\"controls\" autoplay=\"autoplay\">\n",
              "                    <source src=\"data:audio/mpeg;base64,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\" type=\"audio/mpeg\" />\n",
              "                    Your browser does not support the audio element.\n",
              "                </audio>\n",
              "              "
            ]
          },
          "metadata": {},
          "execution_count": 23
        }
      ]
    },
    {
      "cell_type": "code",
      "source": [
        "from IPython.display import Audio\n",
        "mytext = input(\"Type text: \")\n",
        "tts(mytext)\n",
        "Audio(\"sample.mp3\",autoplay=True)"
      ],
      "metadata": {
        "colab": {
          "base_uri": "https://localhost:8080/",
          "height": 93
        },
        "id": "ODY80HfscwOD",
        "outputId": "2dc3fe13-23cb-4575-f6e5-0f026d0dee43"
      },
      "execution_count": null,
      "outputs": [
        {
          "name": "stdout",
          "output_type": "stream",
          "text": [
            "Type text: 안녕\n"
          ]
        },
        {
          "output_type": "execute_result",
          "data": {
            "text/plain": [
              "<IPython.lib.display.Audio object>"
            ],
            "text/html": [
              "\n",
              "                <audio  controls=\"controls\" autoplay=\"autoplay\">\n",
              "                    <source src=\"data:audio/mpeg;base64,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\" type=\"audio/mpeg\" />\n",
              "                    Your browser does not support the audio element.\n",
              "                </audio>\n",
              "              "
            ]
          },
          "metadata": {},
          "execution_count": 22
        }
      ]
    },
    {
      "cell_type": "markdown",
      "source": [
        "[link](https://docs.google.com/forms/d/11G7RJsB6FUfsPDWz4PKp3I-IwAycysEgNGoqEV7y7-w/edit)"
      ],
      "metadata": {
        "id": "oh40s9esbvzh"
      }
    },
    {
      "cell_type": "code",
      "source": [
        "#@markdown Enter the link, save it as a file, and display\n",
        "s = \"https://forms.gle/6wpdiZuHBMed6MeB7\"\n",
        "\n",
        "# Generate QR code\n",
        "url = pyqrcode.create(s)\n",
        "\n",
        "# Create and save the png file naming \"myqr.png\"\n",
        "url.svg(\"myqrcode.svg\", scale=10)\n",
        "\n",
        "from IPython.display import SVG, display\n",
        "def show_svg(file):\n",
        "    display(SVG(file))\n",
        "\n",
        "show_svg(\"myqrcode.svg\")"
      ],
      "metadata": {
        "cellView": "form",
        "id": "5eu6C-Mt1az1"
      },
      "execution_count": null,
      "outputs": []
    },
    {
      "cell_type": "markdown",
      "source": [
        "[2] English linguistics"
      ],
      "metadata": {
        "id": "LDnNYv4T0x9G"
      }
    },
    {
      "cell_type": "code",
      "source": [
        "#@markdown Enter the link, save it as a file, and display\n",
        "s = \"https://forms.gle/R2jKcncMMGGfVbid9\"\n",
        "\n",
        "# Generate QR code\n",
        "url = pyqrcode.create(s)\n",
        "\n",
        "# Create and save the png file naming \"myqr.png\"\n",
        "url.svg(\"myqrcode.svg\", scale=10)\n",
        "\n",
        "from IPython.display import SVG, display\n",
        "def show_svg(file):\n",
        "    display(SVG(file))\n",
        "\n",
        "show_svg(\"myqrcode.svg\")"
      ],
      "metadata": {
        "cellView": "form",
        "id": "VVE8f3TZ1cQD"
      },
      "execution_count": null,
      "outputs": []
    }
  ]
}
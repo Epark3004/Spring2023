{
  "nbformat": 4,
  "nbformat_minor": 0,
  "metadata": {
    "colab": {
      "provenance": [],
      "authorship_tag": "ABX9TyOdM0nmgqskRz6itI1NVwGR",
      "include_colab_link": true
    },
    "kernelspec": {
      "name": "python3",
      "display_name": "Python 3"
    },
    "language_info": {
      "name": "python"
    }
  },
  "cells": [
    {
      "cell_type": "markdown",
      "metadata": {
        "id": "view-in-github",
        "colab_type": "text"
      },
      "source": [
        "<a href=\"https://colab.research.google.com/github/MK316/Spring2023/blob/main/Random_date_assign.ipynb\" target=\"_parent\"><img src=\"https://colab.research.google.com/assets/colab-badge.svg\" alt=\"Open In Colab\"/></a>"
      ]
    },
    {
      "cell_type": "markdown",
      "source": [
        "# 💦 Assigning dates (random)"
      ],
      "metadata": {
        "id": "ILHrP7OvoCgO"
      }
    },
    {
      "cell_type": "code",
      "source": [
        "#@markdown Import packages\n",
        "import pandas as pd\n",
        "import numpy as np\n",
        "import random"
      ],
      "metadata": {
        "cellView": "form",
        "id": "5Sebf8R3bxHc"
      },
      "execution_count": 9,
      "outputs": []
    },
    {
      "cell_type": "code",
      "source": [
        "#@markdown Alarm creation (0.3 sec.)\n",
        "%%capture\n",
        "!pip install pydub  # install pydub library\n",
        "from pydub import AudioSegment\n",
        "from pydub.generators import Sine\n",
        "from IPython.display import Audio\n",
        "\n",
        "duration = 300  # duration of each segment in milliseconds\n",
        "frequencies = [261, 330, 392]  # frequencies in hertz\n",
        "\n",
        "# create sine wave audio segments for each frequency\n",
        "sine_waves = [Sine(freq=f).to_audio_segment(duration=duration) for f in frequencies]\n",
        "\n",
        "# concatenate the segments into a single audio segment\n",
        "alarm_sound = sine_waves[0] + sine_waves[1] + sine_waves[2]\n",
        "\n",
        "# set audio format to be compatible with most devices\n",
        "audio_format = \"mp3\"\n",
        "\n",
        "# export audio segment to file\n",
        "alarm_sound.export(\"alarm.mp3\", format=audio_format)\n",
        "\n",
        "# play audio file using IPython.display.Audio\n",
        "Audio(\"alarm.mp3\", autoplay=False)\n"
      ],
      "metadata": {
        "cellView": "form",
        "id": "GvWey-ocmnkQ"
      },
      "execution_count": 34,
      "outputs": []
    },
    {
      "cell_type": "code",
      "source": [
        "#@markdown 🎶 Raffle presentation date\n",
        "gn = input(\"How many groups\" )\n",
        "gnum = int(gn)\n",
        "d = [\"Mar22\",\"Mar29\"]*5\n",
        "\n",
        "\n",
        "df = pd.DataFrame()\n",
        "glist = []\n",
        "\n",
        "for i in range(0, gnum):\n",
        "  gname = \"G\" + str(i+1)\n",
        "  glist.append(gname)\n",
        "\n",
        "random.shuffle(glist)\n",
        "random.shuffle(d)\n",
        "\n",
        "df['Group'] = glist\n",
        "df['Date_of_Presentation'] = d[:gnum]\n",
        "\n",
        "df_sorted = df.sort_values(by='Group')\n",
        "\n",
        "print(df_sorted)\n",
        "Audio(\"alarm.mp3\", autoplay = True)"
      ],
      "metadata": {
        "colab": {
          "base_uri": "https://localhost:8080/",
          "height": 185
        },
        "cellView": "form",
        "id": "RVLkNeb3b9vf",
        "outputId": "1a58d548-241a-491c-a9ae-8c73bcc366ed"
      },
      "execution_count": 36,
      "outputs": [
        {
          "output_type": "stream",
          "name": "stdout",
          "text": [
            "How many groups4\n",
            "  Group Date_of_Presentation\n",
            "3    G1                Mar29\n",
            "1    G2                Mar22\n",
            "2    G3                Mar22\n",
            "0    G4                Mar22\n"
          ]
        },
        {
          "output_type": "execute_result",
          "data": {
            "text/plain": [
              "<IPython.lib.display.Audio object>"
            ],
            "text/html": [
              "\n",
              "                <audio  controls=\"controls\" autoplay=\"autoplay\">\n",
              "                    <source src=\"data:audio/mpeg;base64,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\" type=\"audio/mpeg\" />\n",
              "                    Your browser does not support the audio element.\n",
              "                </audio>\n",
              "              "
            ]
          },
          "metadata": {},
          "execution_count": 36
        }
      ]
    }
  ]
}
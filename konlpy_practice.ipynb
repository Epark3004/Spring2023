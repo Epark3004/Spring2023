{
  "nbformat": 4,
  "nbformat_minor": 0,
  "metadata": {
    "colab": {
      "provenance": [],
      "authorship_tag": "ABX9TyPbw1V8YvjWx6QR+XiG36hn",
      "include_colab_link": true
    },
    "kernelspec": {
      "name": "python3",
      "display_name": "Python 3"
    },
    "language_info": {
      "name": "python"
    }
  },
  "cells": [
    {
      "cell_type": "markdown",
      "metadata": {
        "id": "view-in-github",
        "colab_type": "text"
      },
      "source": [
        "<a href=\"https://colab.research.google.com/github/MK316/Spring2023/blob/main/konlpy_practice.ipynb\" target=\"_parent\"><img src=\"https://colab.research.google.com/assets/colab-badge.svg\" alt=\"Open In Colab\"/></a>"
      ]
    },
    {
      "cell_type": "code",
      "execution_count": null,
      "metadata": {
        "id": "fOSJZ8-I84-x"
      },
      "outputs": [],
      "source": []
    },
    {
      "cell_type": "code",
      "execution_count": 1,
      "metadata": {
        "id": "991Iahjr6GvI"
      },
      "outputs": [],
      "source": [
        "import pandas as pd\n",
        "from nltk import word_tokenize, sent_tokenize"
      ]
    },
    {
      "cell_type": "code",
      "source": [
        "data = pd.read_csv('F2022_eval.csv')"
      ],
      "metadata": {
        "id": "KGBJyF976fhq"
      },
      "execution_count": 2,
      "outputs": []
    },
    {
      "cell_type": "code",
      "source": [
        "data.head()"
      ],
      "metadata": {
        "id": "mt-kZIsI6l6Z",
        "colab": {
          "base_uri": "https://localhost:8080/",
          "height": 206
        },
        "outputId": "7e643a8c-e5a9-4c8e-819e-74de00d41d0e"
      },
      "execution_count": 3,
      "outputs": [
        {
          "output_type": "execute_result",
          "data": {
            "text/plain": [
              "     Subject                                              Notes\n",
              "0  Phonetics  교수님께서 학생들에게 매우 열정적이셔서 동기부여가 많이 됐습니다. 학생들을 위해 여...\n",
              "1  Phonetics                            교수님께서 학생들을 세심하게 신경써주셨다.\n",
              "2  Phonetics     교수님의 자세한 설명 덕분에 음성학에 대한 이해가 높아진 것 같습니다. 감사합니다.\n",
              "3  Phonetics             교수님의 친절한 설명이 저의 학업 및 이해에 큰 도움이 되었습니다. \n",
              "4  Phonetics      교수님이 너무 좋으셔서 계속 듣고 싶은 수업이었습니다. 얼른 다시 뵙고 싶습니다."
            ],
            "text/html": [
              "\n",
              "  <div id=\"df-9ebff3d3-24bd-4e33-bfde-0f1b43fb9eee\">\n",
              "    <div class=\"colab-df-container\">\n",
              "      <div>\n",
              "<style scoped>\n",
              "    .dataframe tbody tr th:only-of-type {\n",
              "        vertical-align: middle;\n",
              "    }\n",
              "\n",
              "    .dataframe tbody tr th {\n",
              "        vertical-align: top;\n",
              "    }\n",
              "\n",
              "    .dataframe thead th {\n",
              "        text-align: right;\n",
              "    }\n",
              "</style>\n",
              "<table border=\"1\" class=\"dataframe\">\n",
              "  <thead>\n",
              "    <tr style=\"text-align: right;\">\n",
              "      <th></th>\n",
              "      <th>Subject</th>\n",
              "      <th>Notes</th>\n",
              "    </tr>\n",
              "  </thead>\n",
              "  <tbody>\n",
              "    <tr>\n",
              "      <th>0</th>\n",
              "      <td>Phonetics</td>\n",
              "      <td>교수님께서 학생들에게 매우 열정적이셔서 동기부여가 많이 됐습니다. 학생들을 위해 여...</td>\n",
              "    </tr>\n",
              "    <tr>\n",
              "      <th>1</th>\n",
              "      <td>Phonetics</td>\n",
              "      <td>교수님께서 학생들을 세심하게 신경써주셨다.</td>\n",
              "    </tr>\n",
              "    <tr>\n",
              "      <th>2</th>\n",
              "      <td>Phonetics</td>\n",
              "      <td>교수님의 자세한 설명 덕분에 음성학에 대한 이해가 높아진 것 같습니다. 감사합니다.</td>\n",
              "    </tr>\n",
              "    <tr>\n",
              "      <th>3</th>\n",
              "      <td>Phonetics</td>\n",
              "      <td>교수님의 친절한 설명이 저의 학업 및 이해에 큰 도움이 되었습니다.</td>\n",
              "    </tr>\n",
              "    <tr>\n",
              "      <th>4</th>\n",
              "      <td>Phonetics</td>\n",
              "      <td>교수님이 너무 좋으셔서 계속 듣고 싶은 수업이었습니다. 얼른 다시 뵙고 싶습니다.</td>\n",
              "    </tr>\n",
              "  </tbody>\n",
              "</table>\n",
              "</div>\n",
              "      <button class=\"colab-df-convert\" onclick=\"convertToInteractive('df-9ebff3d3-24bd-4e33-bfde-0f1b43fb9eee')\"\n",
              "              title=\"Convert this dataframe to an interactive table.\"\n",
              "              style=\"display:none;\">\n",
              "        \n",
              "  <svg xmlns=\"http://www.w3.org/2000/svg\" height=\"24px\"viewBox=\"0 0 24 24\"\n",
              "       width=\"24px\">\n",
              "    <path d=\"M0 0h24v24H0V0z\" fill=\"none\"/>\n",
              "    <path d=\"M18.56 5.44l.94 2.06.94-2.06 2.06-.94-2.06-.94-.94-2.06-.94 2.06-2.06.94zm-11 1L8.5 8.5l.94-2.06 2.06-.94-2.06-.94L8.5 2.5l-.94 2.06-2.06.94zm10 10l.94 2.06.94-2.06 2.06-.94-2.06-.94-.94-2.06-.94 2.06-2.06.94z\"/><path d=\"M17.41 7.96l-1.37-1.37c-.4-.4-.92-.59-1.43-.59-.52 0-1.04.2-1.43.59L10.3 9.45l-7.72 7.72c-.78.78-.78 2.05 0 2.83L4 21.41c.39.39.9.59 1.41.59.51 0 1.02-.2 1.41-.59l7.78-7.78 2.81-2.81c.8-.78.8-2.07 0-2.86zM5.41 20L4 18.59l7.72-7.72 1.47 1.35L5.41 20z\"/>\n",
              "  </svg>\n",
              "      </button>\n",
              "      \n",
              "  <style>\n",
              "    .colab-df-container {\n",
              "      display:flex;\n",
              "      flex-wrap:wrap;\n",
              "      gap: 12px;\n",
              "    }\n",
              "\n",
              "    .colab-df-convert {\n",
              "      background-color: #E8F0FE;\n",
              "      border: none;\n",
              "      border-radius: 50%;\n",
              "      cursor: pointer;\n",
              "      display: none;\n",
              "      fill: #1967D2;\n",
              "      height: 32px;\n",
              "      padding: 0 0 0 0;\n",
              "      width: 32px;\n",
              "    }\n",
              "\n",
              "    .colab-df-convert:hover {\n",
              "      background-color: #E2EBFA;\n",
              "      box-shadow: 0px 1px 2px rgba(60, 64, 67, 0.3), 0px 1px 3px 1px rgba(60, 64, 67, 0.15);\n",
              "      fill: #174EA6;\n",
              "    }\n",
              "\n",
              "    [theme=dark] .colab-df-convert {\n",
              "      background-color: #3B4455;\n",
              "      fill: #D2E3FC;\n",
              "    }\n",
              "\n",
              "    [theme=dark] .colab-df-convert:hover {\n",
              "      background-color: #434B5C;\n",
              "      box-shadow: 0px 1px 3px 1px rgba(0, 0, 0, 0.15);\n",
              "      filter: drop-shadow(0px 1px 2px rgba(0, 0, 0, 0.3));\n",
              "      fill: #FFFFFF;\n",
              "    }\n",
              "  </style>\n",
              "\n",
              "      <script>\n",
              "        const buttonEl =\n",
              "          document.querySelector('#df-9ebff3d3-24bd-4e33-bfde-0f1b43fb9eee button.colab-df-convert');\n",
              "        buttonEl.style.display =\n",
              "          google.colab.kernel.accessAllowed ? 'block' : 'none';\n",
              "\n",
              "        async function convertToInteractive(key) {\n",
              "          const element = document.querySelector('#df-9ebff3d3-24bd-4e33-bfde-0f1b43fb9eee');\n",
              "          const dataTable =\n",
              "            await google.colab.kernel.invokeFunction('convertToInteractive',\n",
              "                                                     [key], {});\n",
              "          if (!dataTable) return;\n",
              "\n",
              "          const docLinkHtml = 'Like what you see? Visit the ' +\n",
              "            '<a target=\"_blank\" href=https://colab.research.google.com/notebooks/data_table.ipynb>data table notebook</a>'\n",
              "            + ' to learn more about interactive tables.';\n",
              "          element.innerHTML = '';\n",
              "          dataTable['output_type'] = 'display_data';\n",
              "          await google.colab.output.renderOutput(dataTable, element);\n",
              "          const docLink = document.createElement('div');\n",
              "          docLink.innerHTML = docLinkHtml;\n",
              "          element.appendChild(docLink);\n",
              "        }\n",
              "      </script>\n",
              "    </div>\n",
              "  </div>\n",
              "  "
            ]
          },
          "metadata": {},
          "execution_count": 3
        }
      ]
    },
    {
      "cell_type": "code",
      "source": [
        "total = ''\n",
        "for i in range(0,len(data['Notes'])):\n",
        "  txt = data['Notes'][i]\n",
        "  total += txt\n",
        "\n",
        "total\n",
        "\n",
        "\n",
        "with open('F2022EVAL.txt', 'w') as writefile:\n",
        "    writefile.write(total)"
      ],
      "metadata": {
        "id": "zVCgbuNG69Pe"
      },
      "execution_count": 12,
      "outputs": []
    },
    {
      "cell_type": "markdown",
      "source": [
        "# Wordcloud"
      ],
      "metadata": {
        "id": "NWmlE7OL7-9v"
      }
    },
    {
      "cell_type": "code",
      "source": [
        "!pip install wordcloud"
      ],
      "metadata": {
        "colab": {
          "base_uri": "https://localhost:8080/"
        },
        "id": "NZe9CUei7WsC",
        "outputId": "ab563052-679c-428d-f0e4-bccd44ecbbc7"
      },
      "execution_count": 5,
      "outputs": [
        {
          "output_type": "stream",
          "name": "stdout",
          "text": [
            "Looking in indexes: https://pypi.org/simple, https://us-python.pkg.dev/colab-wheels/public/simple/\n",
            "Requirement already satisfied: wordcloud in /usr/local/lib/python3.8/dist-packages (1.8.2.2)\n",
            "Requirement already satisfied: pillow in /usr/local/lib/python3.8/dist-packages (from wordcloud) (7.1.2)\n",
            "Requirement already satisfied: numpy>=1.6.1 in /usr/local/lib/python3.8/dist-packages (from wordcloud) (1.21.6)\n",
            "Requirement already satisfied: matplotlib in /usr/local/lib/python3.8/dist-packages (from wordcloud) (3.2.2)\n",
            "Requirement already satisfied: pyparsing!=2.0.4,!=2.1.2,!=2.1.6,>=2.0.1 in /usr/local/lib/python3.8/dist-packages (from matplotlib->wordcloud) (3.0.9)\n",
            "Requirement already satisfied: cycler>=0.10 in /usr/local/lib/python3.8/dist-packages (from matplotlib->wordcloud) (0.11.0)\n",
            "Requirement already satisfied: python-dateutil>=2.1 in /usr/local/lib/python3.8/dist-packages (from matplotlib->wordcloud) (2.8.2)\n",
            "Requirement already satisfied: kiwisolver>=1.0.1 in /usr/local/lib/python3.8/dist-packages (from matplotlib->wordcloud) (1.4.4)\n",
            "Requirement already satisfied: six>=1.5 in /usr/local/lib/python3.8/dist-packages (from python-dateutil>=2.1->matplotlib->wordcloud) (1.15.0)\n"
          ]
        }
      ]
    },
    {
      "cell_type": "code",
      "source": [
        "from os import path\n",
        "from PIL import Image\n",
        "import numpy as np\n",
        "import matplotlib.pyplot as plt\n",
        "from wordcloud import WordCloud, STOPWORDS"
      ],
      "metadata": {
        "id": "EW_JPZP18DF0"
      },
      "execution_count": 6,
      "outputs": []
    },
    {
      "cell_type": "code",
      "source": [
        "def google_authenticate():\n",
        "  # Authenticate first so the Google Drive library can detect your credentials.\n",
        "  from google.colab import auth\n",
        "  auth.authenticate_user()\n",
        "\n",
        "  from googleapiclient.discovery import build\n",
        "  drive_service = build('drive', 'v3')\n",
        "  return drive_service"
      ],
      "metadata": {
        "id": "pkr72sGT8GPw"
      },
      "execution_count": 7,
      "outputs": []
    },
    {
      "cell_type": "code",
      "source": [
        "drive_service = google_authenticate()"
      ],
      "metadata": {
        "id": "hmnS3Ui98kpx"
      },
      "execution_count": 8,
      "outputs": []
    },
    {
      "cell_type": "code",
      "source": [
        "def read_file(file_id):\n",
        "  \"\"\" \n",
        "  Download file from Google Drive \n",
        "  Argument: file_id\n",
        "  Returns: downloaded file\n",
        "  \"\"\"\n",
        "  \n",
        "  file_id = file_id\n",
        "\n",
        "  import io\n",
        "  from googleapiclient.http import MediaIoBaseDownload\n",
        "\n",
        "  request = drive_service.files().get_media(fileId=file_id)\n",
        "  downloaded = io.BytesIO()\n",
        "  downloader = MediaIoBaseDownload(downloaded, request)\n",
        "  done = False\n",
        "  while done is False:\n",
        "    # _ is a placeholder for a progress object that we ignore.\n",
        "    # (Our file is small, so we skip reporting progress.)\n",
        "    _, done = downloader.next_chunk()\n",
        "\n",
        "  downloaded.seek(0)\n",
        "  return downloaded\n",
        "  #print 'Downloaded file contents are:', downloaded.read()"
      ],
      "metadata": {
        "id": "3VNdeioq9vsB"
      },
      "execution_count": 9,
      "outputs": []
    },
    {
      "cell_type": "code",
      "source": [
        "text_file = read_file('19xEdF4iI9WfudlUNskZoW3sY4yhcWvac', encoding='utf-8')"
      ],
      "metadata": {
        "colab": {
          "base_uri": "https://localhost:8080/",
          "height": 169
        },
        "id": "ePKZ29aN91UK",
        "outputId": "6a64e055-2ef0-4803-f3d8-7fe83a4fe883"
      },
      "execution_count": 16,
      "outputs": [
        {
          "output_type": "error",
          "ename": "TypeError",
          "evalue": "ignored",
          "traceback": [
            "\u001b[0;31m---------------------------------------------------------------------------\u001b[0m",
            "\u001b[0;31mTypeError\u001b[0m                                 Traceback (most recent call last)",
            "\u001b[0;32m<ipython-input-16-bc1a9e47251b>\u001b[0m in \u001b[0;36m<module>\u001b[0;34m\u001b[0m\n\u001b[0;32m----> 1\u001b[0;31m \u001b[0mtext_file\u001b[0m \u001b[0;34m=\u001b[0m \u001b[0mread_file\u001b[0m\u001b[0;34m(\u001b[0m\u001b[0;34m'19xEdF4iI9WfudlUNskZoW3sY4yhcWvac'\u001b[0m\u001b[0;34m,\u001b[0m \u001b[0mencoding\u001b[0m\u001b[0;34m=\u001b[0m\u001b[0;34m'utf-8'\u001b[0m\u001b[0;34m)\u001b[0m\u001b[0;34m\u001b[0m\u001b[0;34m\u001b[0m\u001b[0m\n\u001b[0m",
            "\u001b[0;31mTypeError\u001b[0m: read_file() got an unexpected keyword argument 'encoding'"
          ]
        }
      ]
    },
    {
      "cell_type": "code",
      "source": [
        "import sys\n",
        "f = open('F2022EVAL.txt','w', encoding='utf-8') # 로그 저장할 file open\n",
        "sys.stdout = f\n",
        "print(\"내용입력\")\n",
        "sys.stdout = sys.__stdout__   # 원래의 stdout으로 복구\n",
        "f.close()  "
      ],
      "metadata": {
        "id": "TRCtKSKP_mGk"
      },
      "execution_count": 22,
      "outputs": []
    },
    {
      "cell_type": "code",
      "source": [
        "with open(\"F2022EVAL.txt\", \"r\", encoding=\"UTF-8\") as file:\n",
        "    print(file.read())"
      ],
      "metadata": {
        "id": "9fImm-TH_-nn"
      },
      "execution_count": 21,
      "outputs": []
    },
    {
      "cell_type": "code",
      "source": [
        "document = text_file.read()\n",
        "print(len(document))\n",
        "print(document[0:100])"
      ],
      "metadata": {
        "colab": {
          "base_uri": "https://localhost:8080/",
          "height": 204
        },
        "id": "XRo6CPp8_DLV",
        "outputId": "1e2fc16b-bb32-4aaa-d4ab-4fb0c2dde531"
      },
      "execution_count": 15,
      "outputs": [
        {
          "output_type": "error",
          "ename": "TypeError",
          "evalue": "ignored",
          "traceback": [
            "\u001b[0;31m---------------------------------------------------------------------------\u001b[0m",
            "\u001b[0;31mTypeError\u001b[0m                                 Traceback (most recent call last)",
            "\u001b[0;32m<ipython-input-15-f9835177e597>\u001b[0m in \u001b[0;36m<module>\u001b[0;34m\u001b[0m\n\u001b[0;32m----> 1\u001b[0;31m \u001b[0mdocument\u001b[0m \u001b[0;34m=\u001b[0m \u001b[0mtext_file\u001b[0m\u001b[0;34m.\u001b[0m\u001b[0mread\u001b[0m\u001b[0;34m(\u001b[0m\u001b[0mencoding\u001b[0m\u001b[0;34m=\u001b[0m\u001b[0;34m'utf-8'\u001b[0m\u001b[0;34m)\u001b[0m\u001b[0;34m\u001b[0m\u001b[0;34m\u001b[0m\u001b[0m\n\u001b[0m\u001b[1;32m      2\u001b[0m \u001b[0mprint\u001b[0m\u001b[0;34m(\u001b[0m\u001b[0mlen\u001b[0m\u001b[0;34m(\u001b[0m\u001b[0mdocument\u001b[0m\u001b[0;34m)\u001b[0m\u001b[0;34m)\u001b[0m\u001b[0;34m\u001b[0m\u001b[0;34m\u001b[0m\u001b[0m\n\u001b[1;32m      3\u001b[0m \u001b[0mprint\u001b[0m\u001b[0;34m(\u001b[0m\u001b[0mdocument\u001b[0m\u001b[0;34m[\u001b[0m\u001b[0;36m0\u001b[0m\u001b[0;34m:\u001b[0m\u001b[0;36m100\u001b[0m\u001b[0;34m]\u001b[0m\u001b[0;34m)\u001b[0m\u001b[0;34m\u001b[0m\u001b[0;34m\u001b[0m\u001b[0m\n",
            "\u001b[0;31mTypeError\u001b[0m: read() takes no keyword arguments"
          ]
        }
      ]
    },
    {
      "cell_type": "markdown",
      "source": [
        "=========== konlpy"
      ],
      "metadata": {
        "id": "OubpQrD4Ax_J"
      }
    },
    {
      "cell_type": "code",
      "source": [
        "!pip install konlpy"
      ],
      "metadata": {
        "id": "mIr-SrIs_GAR"
      },
      "execution_count": 23,
      "outputs": []
    },
    {
      "cell_type": "code",
      "source": [
        "from konlpy.tag import Okt\n",
        "from collections import Counter\n",
        "from wordcloud import WordCloud\n",
        "import matplotlib.pyplot as plt\n",
        "import matplotlib as mpl"
      ],
      "metadata": {
        "id": "8Im2EgI0A2Sp"
      },
      "execution_count": 24,
      "outputs": []
    },
    {
      "cell_type": "code",
      "source": [
        "file = open(\"F2022EVAL.txt\", \"r\", encoding=\"UTF-8-sig\")\n",
        "print(file.read())\n"
      ],
      "metadata": {
        "id": "e6y1y8y8BHpW"
      },
      "execution_count": 38,
      "outputs": []
    },
    {
      "cell_type": "code",
      "source": [
        "with open(file, 'r', encoding='utf-8-sig') as f:\n",
        "    data = f.read()"
      ],
      "metadata": {
        "colab": {
          "base_uri": "https://localhost:8080/",
          "height": 187
        },
        "id": "csZZXiDPBRIj",
        "outputId": "69940a6a-70ca-45d0-a082-1023d43851e7"
      },
      "execution_count": 37,
      "outputs": [
        {
          "output_type": "error",
          "ename": "TypeError",
          "evalue": "ignored",
          "traceback": [
            "\u001b[0;31m---------------------------------------------------------------------------\u001b[0m",
            "\u001b[0;31mTypeError\u001b[0m                                 Traceback (most recent call last)",
            "\u001b[0;32m<ipython-input-37-d4a60c94750f>\u001b[0m in \u001b[0;36m<module>\u001b[0;34m\u001b[0m\n\u001b[0;32m----> 1\u001b[0;31m \u001b[0;32mwith\u001b[0m \u001b[0mopen\u001b[0m\u001b[0;34m(\u001b[0m\u001b[0mfile\u001b[0m\u001b[0;34m,\u001b[0m \u001b[0;34m'r'\u001b[0m\u001b[0;34m,\u001b[0m \u001b[0mencoding\u001b[0m\u001b[0;34m=\u001b[0m\u001b[0;34m'utf-8-sig'\u001b[0m\u001b[0;34m)\u001b[0m \u001b[0;32mas\u001b[0m \u001b[0mf\u001b[0m\u001b[0;34m:\u001b[0m\u001b[0;34m\u001b[0m\u001b[0;34m\u001b[0m\u001b[0m\n\u001b[0m\u001b[1;32m      2\u001b[0m     \u001b[0mdata\u001b[0m \u001b[0;34m=\u001b[0m \u001b[0mf\u001b[0m\u001b[0;34m.\u001b[0m\u001b[0mread\u001b[0m\u001b[0;34m(\u001b[0m\u001b[0;34m)\u001b[0m\u001b[0;34m\u001b[0m\u001b[0;34m\u001b[0m\u001b[0m\n",
            "\u001b[0;31mTypeError\u001b[0m: expected str, bytes or os.PathLike object, not _io.TextIOWrapper"
          ]
        }
      ]
    },
    {
      "cell_type": "code",
      "source": [
        "words = Okt().morphs(ktext)"
      ],
      "metadata": {
        "colab": {
          "base_uri": "https://localhost:8080/",
          "height": 282
        },
        "id": "GUeFfBjeBSjE",
        "outputId": "c0739be8-0f4e-4266-9e18-8e3882319794"
      },
      "execution_count": 27,
      "outputs": [
        {
          "output_type": "error",
          "ename": "AssertionError",
          "evalue": "ignored",
          "traceback": [
            "\u001b[0;31m---------------------------------------------------------------------------\u001b[0m",
            "\u001b[0;31mAssertionError\u001b[0m                            Traceback (most recent call last)",
            "\u001b[0;32m<ipython-input-27-997c4241f37a>\u001b[0m in \u001b[0;36m<module>\u001b[0;34m\u001b[0m\n\u001b[0;32m----> 1\u001b[0;31m \u001b[0mwords\u001b[0m \u001b[0;34m=\u001b[0m \u001b[0mOkt\u001b[0m\u001b[0;34m(\u001b[0m\u001b[0;34m)\u001b[0m\u001b[0;34m.\u001b[0m\u001b[0mmorphs\u001b[0m\u001b[0;34m(\u001b[0m\u001b[0mktext\u001b[0m\u001b[0;34m)\u001b[0m\u001b[0;34m\u001b[0m\u001b[0;34m\u001b[0m\u001b[0m\n\u001b[0m",
            "\u001b[0;32m/usr/local/lib/python3.8/dist-packages/konlpy/tag/_okt.py\u001b[0m in \u001b[0;36mmorphs\u001b[0;34m(self, phrase, norm, stem)\u001b[0m\n\u001b[1;32m     87\u001b[0m         \u001b[0;34m\"\"\"Parse phrase to morphemes.\"\"\"\u001b[0m\u001b[0;34m\u001b[0m\u001b[0;34m\u001b[0m\u001b[0m\n\u001b[1;32m     88\u001b[0m \u001b[0;34m\u001b[0m\u001b[0m\n\u001b[0;32m---> 89\u001b[0;31m         \u001b[0;32mreturn\u001b[0m \u001b[0;34m[\u001b[0m\u001b[0ms\u001b[0m \u001b[0;32mfor\u001b[0m \u001b[0ms\u001b[0m\u001b[0;34m,\u001b[0m \u001b[0mt\u001b[0m \u001b[0;32min\u001b[0m \u001b[0mself\u001b[0m\u001b[0;34m.\u001b[0m\u001b[0mpos\u001b[0m\u001b[0;34m(\u001b[0m\u001b[0mphrase\u001b[0m\u001b[0;34m,\u001b[0m \u001b[0mnorm\u001b[0m\u001b[0;34m=\u001b[0m\u001b[0mnorm\u001b[0m\u001b[0;34m,\u001b[0m \u001b[0mstem\u001b[0m\u001b[0;34m=\u001b[0m\u001b[0mstem\u001b[0m\u001b[0;34m)\u001b[0m\u001b[0;34m]\u001b[0m\u001b[0;34m\u001b[0m\u001b[0;34m\u001b[0m\u001b[0m\n\u001b[0m\u001b[1;32m     90\u001b[0m \u001b[0;34m\u001b[0m\u001b[0m\n\u001b[1;32m     91\u001b[0m     \u001b[0;32mdef\u001b[0m \u001b[0mphrases\u001b[0m\u001b[0;34m(\u001b[0m\u001b[0mself\u001b[0m\u001b[0;34m,\u001b[0m \u001b[0mphrase\u001b[0m\u001b[0;34m)\u001b[0m\u001b[0;34m:\u001b[0m\u001b[0;34m\u001b[0m\u001b[0;34m\u001b[0m\u001b[0m\n",
            "\u001b[0;32m/usr/local/lib/python3.8/dist-packages/konlpy/tag/_okt.py\u001b[0m in \u001b[0;36mpos\u001b[0;34m(self, phrase, norm, stem, join)\u001b[0m\n\u001b[1;32m     67\u001b[0m         \u001b[0;34m:\u001b[0m\u001b[0mparam\u001b[0m \u001b[0mjoin\u001b[0m\u001b[0;34m:\u001b[0m \u001b[0mIf\u001b[0m \u001b[0;32mTrue\u001b[0m\u001b[0;34m,\u001b[0m \u001b[0mreturns\u001b[0m \u001b[0mjoined\u001b[0m \u001b[0msets\u001b[0m \u001b[0mof\u001b[0m \u001b[0mmorph\u001b[0m \u001b[0;32mand\u001b[0m \u001b[0mtag\u001b[0m\u001b[0;34m.\u001b[0m\u001b[0;34m\u001b[0m\u001b[0;34m\u001b[0m\u001b[0m\n\u001b[1;32m     68\u001b[0m         \"\"\"\n\u001b[0;32m---> 69\u001b[0;31m         \u001b[0mvalidate_phrase_inputs\u001b[0m\u001b[0;34m(\u001b[0m\u001b[0mphrase\u001b[0m\u001b[0;34m)\u001b[0m\u001b[0;34m\u001b[0m\u001b[0;34m\u001b[0m\u001b[0m\n\u001b[0m\u001b[1;32m     70\u001b[0m \u001b[0;34m\u001b[0m\u001b[0m\n\u001b[1;32m     71\u001b[0m         tokens = self.jki.tokenize(\n",
            "\u001b[0;32m/usr/local/lib/python3.8/dist-packages/konlpy/tag/_common.py\u001b[0m in \u001b[0;36mvalidate_phrase_inputs\u001b[0;34m(phrase)\u001b[0m\n\u001b[1;32m     18\u001b[0m     \"\"\"\n\u001b[1;32m     19\u001b[0m     \u001b[0mmsg\u001b[0m \u001b[0;34m=\u001b[0m \u001b[0;34m\"phrase input should be string, not %s\"\u001b[0m \u001b[0;34m%\u001b[0m \u001b[0mtype\u001b[0m\u001b[0;34m(\u001b[0m\u001b[0mphrase\u001b[0m\u001b[0;34m)\u001b[0m\u001b[0;34m\u001b[0m\u001b[0;34m\u001b[0m\u001b[0m\n\u001b[0;32m---> 20\u001b[0;31m     \u001b[0;32massert\u001b[0m \u001b[0misinstance\u001b[0m\u001b[0;34m(\u001b[0m\u001b[0mphrase\u001b[0m\u001b[0;34m,\u001b[0m \u001b[0mbasestring\u001b[0m\u001b[0;34m)\u001b[0m\u001b[0;34m,\u001b[0m \u001b[0mmsg\u001b[0m\u001b[0;34m\u001b[0m\u001b[0;34m\u001b[0m\u001b[0m\n\u001b[0m",
            "\u001b[0;31mAssertionError\u001b[0m: phrase input should be string, not <class '_io.TextIOWrapper'>"
          ]
        }
      ]
    },
    {
      "cell_type": "code",
      "source": [
        "!apt-get update -qq"
      ],
      "metadata": {
        "id": "EPF0-RQoKX-r"
      },
      "execution_count": 42,
      "outputs": []
    },
    {
      "cell_type": "code",
      "source": [
        "!apt-get install fonts-nanum* -qq"
      ],
      "metadata": {
        "id": "ikFxaV39Kh_t"
      },
      "execution_count": 43,
      "outputs": []
    },
    {
      "cell_type": "code",
      "source": [
        "from konlpy.tag import Okt\n",
        "import re\n",
        "\n",
        "with open('F2022EVAL.txt', 'r', encoding ='utf-8') as f:\n",
        "  content = f.read()\n",
        "\n",
        "p = re.compile(\"[\\Wa-zA-z0-9_]+\")\n",
        "content = re.sub(p, \"\",content)\n",
        "\n",
        "okt = Okt()\n",
        "morphs = okt.pos(content)\n",
        "\n",
        "words = [word for word, pos in morphs if pos == \"Noun\"]\n",
        "print(words)"
      ],
      "metadata": {
        "id": "aE8b4OTMKn2c"
      },
      "execution_count": 45,
      "outputs": []
    },
    {
      "cell_type": "code",
      "source": [
        "words"
      ],
      "metadata": {
        "colab": {
          "base_uri": "https://localhost:8080/"
        },
        "id": "F_2Cazr4LVI8",
        "outputId": "4ffa4963-7b8a-42c3-e664-a2ba1ba105a5"
      },
      "execution_count": 46,
      "outputs": [
        {
          "output_type": "execute_result",
          "data": {
            "text/plain": [
              "['내용', '입력']"
            ]
          },
          "metadata": {},
          "execution_count": 46
        }
      ]
    },
    {
      "cell_type": "code",
      "source": [
        "total"
      ],
      "metadata": {
        "colab": {
          "base_uri": "https://localhost:8080/",
          "height": 232
        },
        "id": "xdRjkLEQKDQq",
        "outputId": "e6c1d0e5-2019-4d64-9f4f-6908194f2942"
      },
      "execution_count": 41,
      "outputs": [
        {
          "output_type": "execute_result",
          "data": {
            "text/plain": [
              "'교수님께서 학생들에게 매우 열정적이셔서 동기부여가 많이 됐습니다. 학생들을 위해 여러의견을 수용하시고 다양한 방식으로 강의를 진행하셔서 좋았습니다.교수님께서 학생들을 세심하게 신경써주셨다.교수님의 자세한 설명 덕분에 음성학에 대한 이해가 높아진 것 같습니다. 감사합니다.교수님의 친절한 설명이 저의 학업 및 이해에 큰 도움이 되었습니다. 교수님이 너무 좋으셔서 계속 듣고 싶은 수업이었습니다. 얼른 다시 뵙고 싶습니다.교수님이 이 분야에 해박함이 느껴져서 신뢰가 가는 수업. 그룹 활동이 의미있었다고 느껴짐.교수님이 이해할 수 있도록 잘 설명해 주셨습니다. 어려운 학문이지만 더 배우고 싶은 학문이란 생각이 들었습니다. 좋은 수업 감사했습니다!교수로서의 지식 뿐 아니라 열정도 함께 배워갑니다. 감사합니다.나 스스로 이 강의를 이수함으로써 해당분야에 대한 지식과 역량이 향상되었다고 느꼈다.세시간을 연강으로 수업하여 강의에 집중을 하는데 다른 과목보다는 힘든 부분이 있었지만 강의를 들으면서 많은 공부를 하였고 유익한 강의였습니다.수업내용이 어려웠지만 도전해본게 좋았습니다수업을 들으면서 많은 것을 배운 것 같습니다.수업의 구성이 적절하여 수업이 지루하지 않았고 부담감을 덜 수 있는 좋은 수업입니다어떤 부분이 부족하고 어떤 것을 어떤 방법으로 더 학습하고 싶은지 학생들과 소통하면서 학생들이 필요한 쪽으로 수업을 진행하시고 잘 가르쳐주셨다영어의 발음을 음성학적으로 접근하였는데 혼자 공부했다면 절대 이해 못했을 내용들을 쉽고 재밌게 설명해주셔서 좋았습니다.오픈채팅방을 통해 적극적인 소통이 이루어진 점이 정말 좋았습니다. 한 학기 동안 고생 많으셨습니다.유익한 강의였습니다. 한 학기 동안 수고 많으셨습니다. 감사합니다.음성학 수업이 가장 전공 수업다운 강의라고 느껴졌었어요! 한 학기동안 고생 많으셨습니다! 감사합니다.음성학의 기초부터 임용에 자주 출제되는 내용을 직접적으로 배울 수 있어서 좋았다음성학의 전반적인 지식을 키울수있었고 임용문제도 다룰 수 있어서 좋았다이번 기말고사를 통해 제가 잘하는 것과 못하는 것이 무엇인 지 알 수 있었습니다. 교재에 있는 내용은 대부분 쉽게 적어나갔지만, stress 부분에서 확실한 답을 찾지 못해 고민을 많이 하면서 제가 이론적인 부분은 잘 알고 있어도 실용적인 부분(발음)은 많이 부족하다는 것을 깨달았습니다. 이 부분을 어떻게 개선해야 할지도 개인적으로 얘기해주셔서 감사했고, 한 학기 동안 음성학 강의 하신다고 수고하셨습니다!! 교수님 덕분에 제가 중간고사 때 좋은 성적을 받을 수 있었습니다 ㅎㅎ 감사합니다!! 방학 때 꼭 회화 하는 곳 다니겠습니다..!이번 학기에 배운 전공과목 중 가장 어려워서 공부할 때 어려움이 있었지만, 가장 흥미롭기도 한 과목입니다. 유익했습니다.익숙하지 않은 음성학에 대해 자세히 배울 수 있고, 교수님께서 다양한 자료로 수업을 진행하셔서 수업이 풍부하다.자세한 피드백도 이루어졌고 깊이 있는 지식을 얻을 수 있어 좋았습니다전반적으로 공부할 것이 많고 개인 학습이 매우 중요했던 과목이었던 것 같습니다.전반적으로 내용이 쉽지는 않았지만, 영어를 발음하는 과정에 대해 학습할 수 있었습니다. 감사합니다.초반에는 용어도 헷갈리고 이걸 내가 왜 배워야하나 싶은 순간들도 많았지만 (특히 모음 파트요..), 중간고사 이후에는 질의응답도 하고 복습 위주로 수업을 진행해서 음성학 과목에 재미를 붙일 수 있었던 것 같습니다!!학생들을 하나하나 세심하게 신경 써주시는게 느껴져서 항상 그부분이 너무 감사하고 학생들이 모르는 부분이 무엇인지 캐치해서 알려주시려고 노력하십니다. 한학기동안 수업 내용이 매우 유익했어요교수님, 한 학기 동안 정말 유익한 수업 준비하고 이끌어주셔서 감사합니다. :)교수님께서 전반적인 내용을 잘 알려주셔서 좋았습니다.단기간에 듣느라 과제의 양과 수업내용이 많다고 느껴질 수 있으나 임용시험 치기 전에 꼭 들어야 할 수업입니다마지막 정리에 도움이 되는 좋은수업이었습니다!마지막 총정리하기에 너무 좋은 강의였다.마지막 학기 수업까지 좋았습니다. 감사합니다.마지막 학기까지 많이 배웠습니다. 감사합니다!영어음성학과 음운론에 대한 내용을 정리할 수 있어서 좋았다.영어학 특강 강의를 수강하며 영어학을 전체적으로 훑을 수 있어 공부하는 데 도움이 많이 되었습니다. 감사했습니다:)영어학에 대한 지식을 넓힐 수 있어 좋았습니다.음운론/음성학에 대한 지식들을 전반적으로 복습하고 심도 있는 공부를 할 수 있어 좋았습니다.이때까지 배운 모든 음성음운론 지식을 정리 할 수 있어 좋은 기회였던 것 같습니다. 감사합니다!임용 전 4학년에게 매우 유용하고 필수적인 수업.\\xa0임용 전 음성학 지식을 다시 정리해볼 수 있는 유익한 강의이다.임용에 꼼꼼하게 대비할 수 있게 해주셔서 감사합니다. 수고하셨습니다!총정리 느낌은 좋았지만 학생이 교수님의 호흡을 따라가기에 너무 바쁜 수업이었다.한 학기동안 유익한 수업 감사했습니다.한학기동안 열정적으로 가르쳐주셔서 감사드립니다!교수님 한 학기동안 고생하셨습니다. 방학 잘 보내시구 개강 때 뵈어요!교수님이 너무 착하시고 재밌으셔서 수업에 재밌게 참여할 수 있었습니다.교수님이 매우 열정적이셔서 다른 모든 학생들이 열심히 공부하게 되는것 같아서 좋았다.교수님이 본인의 기분에 따라 행동하시는 경우가 많았다. 좋아하는 학생과 별로 안좋아하는 학생의 구분이 뚜렷해 보였다. 시험은 많이 어려웠고, 시험 자체를 배우는 과정이라고 받아들이라는 말씀과는 다르게 성적 자체를 중요하게 생각하셨다.교수님이 열정적이시고, 수업을 넘어서서 앞으로 실제로 필요한 것들에대해 잘 알려주셨습니다.다같이 함께하는 수업의 느낌이라 좋았습니다.다소 난잡하게 서술된 AEP를 잘 풀어 설명해 주셔서 감사합니다.시험이 어려우나 그만큼 배울 것이 많았습니다.영교의 꽃 음운론을 교수님과 배워서 좋았습니다, 음성학도 교수님과 들었으면 더 좋았을 것 같습니다ㅠ영어 음운론과 관련된 전공 지식을 많이 얻고 배울 수 있어서 유익했습니다!유익한 강의 감사합니다 수고하셨습니다음성학 때 너무 어려워해서 음운론 수업이 조금 두려웠는데 교수님 수업을 통해서 많은 부분을 쉽게 이해하고 배울 수 있었습니다!음운론이 많이 어려운 과목인데도 이해하기 쉽게 설명해주셔서 감사합니다!전반적으로 만족스러운 수업이었습니다. 다만 몇명의 학생들에게만 집중하시는 경향이 있어서 모든 학생들에게 공평하게 대하는 느낌은 크게 받지 못했습니다.전반적인 수업 내용이 알찼으며, 교수님과의 소통이 원활하여 한 학기동안 배운 것이 많았다.전체적으로 훌륭하고 감사한 수업이라 생각됩니다. 다만 그룹끼리 내는 퀴즈는 큰 부분을 차지하지 않음에도 의미나 실효가 크게 없는것같습니다. 퀴즈 답을 사전에 공유하는것이 빈번해보여서 더더욱 그렇습니다..중요한 개념들을 잘 설명해주셔서 쉽게 이해할수 있었습니다학생들이 알아듣기 쉽고 즐겁게 설명해주셔서 좋았습니다!한학기동안 열심히 강의를 진행해주셔서 정말 감사합니다'"
            ],
            "application/vnd.google.colaboratory.intrinsic+json": {
              "type": "string"
            }
          },
          "metadata": {},
          "execution_count": 41
        }
      ]
    },
    {
      "cell_type": "code",
      "source": [
        "p = re.compile(\"[\\Wa-zA-z0-9_]+\")\n",
        "content = re.sub(p, \"\",content)\n",
        "\n",
        "okt = Okt()\n",
        "morphs = okt.pos(content)\n",
        "\n",
        "words = [word for word, pos in morphs if pos == \"Noun\"]\n",
        "print(words)"
      ],
      "metadata": {
        "id": "1LR9O9D7KE2U"
      },
      "execution_count": 47,
      "outputs": []
    },
    {
      "cell_type": "code",
      "source": [
        "words"
      ],
      "metadata": {
        "colab": {
          "base_uri": "https://localhost:8080/"
        },
        "id": "lzMIAoCqLhHG",
        "outputId": "c622b231-e458-484f-d6fb-4a92c0ada6de"
      },
      "execution_count": 48,
      "outputs": [
        {
          "output_type": "execute_result",
          "data": {
            "text/plain": [
              "['내용', '입력']"
            ]
          },
          "metadata": {},
          "execution_count": 48
        }
      ]
    }
  ]
}
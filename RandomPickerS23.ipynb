{
  "nbformat": 4,
  "nbformat_minor": 0,
  "metadata": {
    "colab": {
      "provenance": [],
      "authorship_tag": "ABX9TyNbppo/UF06g3c7yai89wvN",
      "include_colab_link": true
    },
    "kernelspec": {
      "name": "python3",
      "display_name": "Python 3"
    },
    "language_info": {
      "name": "python"
    }
  },
  "cells": [
    {
      "cell_type": "markdown",
      "metadata": {
        "id": "view-in-github",
        "colab_type": "text"
      },
      "source": [
        "<a href=\"https://colab.research.google.com/github/MK316/Spring2023/blob/main/RandomPickerS23.ipynb\" target=\"_parent\"><img src=\"https://colab.research.google.com/assets/colab-badge.svg\" alt=\"Open In Colab\"/></a>"
      ]
    },
    {
      "cell_type": "markdown",
      "source": [
        "---\n",
        "# 😍 The final pick\n",
        "---"
      ],
      "metadata": {
        "id": "Mg1C59TPJ-De"
      }
    },
    {
      "cell_type": "code",
      "source": [
        "url = \"https://github.com/MK316/Spring2023/raw/main/Engpro/engpro_att.csv\""
      ],
      "metadata": {
        "id": "SwWnRoPZBdYt"
      },
      "execution_count": 4,
      "outputs": []
    },
    {
      "cell_type": "code",
      "source": [
        "#@markdown Font install (for Korean): 'NanumGothic'\n",
        "!apt-get update -qq\n",
        "!apt-get install -qq fonts-nanum\n",
        "\n",
        "import matplotlib.font_manager as fm\n",
        "import matplotlib.pyplot as plt\n",
        "\n",
        "fontpath = '/usr/share/fonts/truetype/nanum/NanumGothic.ttf'\n",
        "font = fm.FontProperties(fname=fontpath, size=36)\n",
        "plt.rc('font', family='NanumGothic')\n"
      ],
      "metadata": {
        "cellView": "form",
        "id": "zVgDC2BPGJ8i"
      },
      "execution_count": 3,
      "outputs": []
    },
    {
      "cell_type": "code",
      "source": [
        "#@markdown Who's the final pick?\n",
        "# Step 1: Import necessary libraries\n",
        "\n",
        "import pandas as pd\n",
        "import random\n",
        "import matplotlib.pyplot as plt\n",
        "import time\n",
        "from IPython.display import clear_output\n",
        "\n",
        "\n",
        "# Step 2: Read the CSV file and extract the \"Names\" column as a list\n",
        "try:\n",
        "    df = pd.read_csv(url, encoding='utf-8')\n",
        "except UnicodeDecodeError:\n",
        "    df = pd.read_csv(url, encoding='cp949')\n",
        "\n",
        "names = df[\"Names\"].tolist()\n",
        "\n",
        "# Step 3: Pick a random name from 'names' variable\n",
        "def pick_random_name():\n",
        "    selected_name = random.choice(names)\n",
        "    return selected_name\n",
        "\n",
        "# Step 4: Display the picked name in a larger font size\n",
        "def display_name(name, font_size=36, final_pick=False):\n",
        "    clear_output(wait=True)\n",
        "    plt.figure(figsize=(6, 3))\n",
        "\n",
        "    if final_pick:\n",
        "        plt.text(0.5, 0.5, f\"The final pick is: {name}\", fontsize=font_size, ha='center', va='center', fontproperties=font)\n",
        "    else:\n",
        "        plt.text(0.5, 0.5, name, fontsize=font_size, ha='center', va='center', fontproperties=font)\n",
        "    plt.gca().set_xticks([])\n",
        "    plt.gca().set_yticks([])\n",
        "    plt.box(False)\n",
        "    plt.show()\n",
        "    time.sleep(1)\n",
        "\n",
        "# Step 5: Pick random names and display them\n",
        "for i in range(9):\n",
        "    picked_name = pick_random_name()\n",
        "    display_name(picked_name)\n",
        "\n",
        "# Step 6: Display the 10th picked name\n",
        "picked_name = pick_random_name()\n",
        "display_name(picked_name, final_pick=True)\n"
      ],
      "metadata": {
        "colab": {
          "base_uri": "https://localhost:8080/",
          "height": 268
        },
        "id": "2KsSpbqgGOuV",
        "outputId": "d2fcef84-9c55-4254-b889-82e57c3b1581"
      },
      "execution_count": 6,
      "outputs": [
        {
          "output_type": "display_data",
          "data": {
            "text/plain": [
              "<Figure size 600x300 with 1 Axes>"
            ],
            "image/png": "[encoded data removed]"
          },
          "metadata": {}
        }
      ]
    },
    {
      "cell_type": "markdown",
      "source": [
        "---\n",
        "# 😍 Live link using Gradio\n",
        "---"
      ],
      "metadata": {
        "id": "rcxDugB5HEDg"
      }
    },
    {
      "cell_type": "markdown",
      "source": [
        "The app will ask the file link from github\n",
        "The app will ask the class name: Engpro, DL, or Engling"
      ],
      "metadata": {
        "id": "h9rM0iqER6Uk"
      }
    },
    {
      "cell_type": "code",
      "source": [
        "%%capture\n",
        "!pip install gradio\n",
        "import gradio as gr\n",
        "\n",
        "import pandas as pd\n",
        "import random\n",
        "import time\n",
        "import gradio as gr"
      ],
      "metadata": {
        "id": "ai5b19yGHGLg"
      },
      "execution_count": 1,
      "outputs": []
    },
    {
      "cell_type": "code",
      "source": [
        "#@markdown Gradio live link to pick ONE:\n",
        "# Step 1: Get the GitHub CSV link from the user\n",
        "# github_csv_link = \"https://raw.githubusercontent.com/MK316/Spring2023/main/data/S23_att_total.csv\"\n",
        "\n",
        "# def pick_random_name(names):\n",
        "#     selected_name = random.choice(names)\n",
        "#     return selected_name\n",
        "\n",
        "url_input = gr.inputs.Textbox(lines=1, label=\"Enter the GitHub CSV file link:\")\n",
        "class_input = gr.inputs.Textbox(lines=1, label=\"Enter the class name:\")\n",
        "output = gr.outputs.Textbox(label=\"Picked Name:\")\n",
        "\n",
        "inputs = [url_input, class_input]\n",
        "def run_app(url, class_name):\n",
        "    # Step 1: Read the CSV file and extract the \"Names\" column based on the given class name\n",
        "    try:\n",
        "        df = pd.read_csv(url, encoding='utf-8')\n",
        "    except UnicodeDecodeError:\n",
        "        df = pd.read_csv(url, encoding='cp949')\n",
        "\n",
        "    names = df.loc[df[\"Class\"] == class_name, \"Names\"].tolist()\n",
        "\n",
        "    # Simulate the random picking process by concatenating the names\n",
        "    intermediate_text = \"\"\n",
        "    for i in range(9):\n",
        "        intermediate_text += random.choice(names) + \" -> \"\n",
        "        time.sleep(0.5)  # Pause for half a second to simulate the process\n",
        "\n",
        "    picked_name = pick_random_name(names)\n",
        "    sn = len(names)\n",
        "    sn = int(sn)\n",
        "    return intermediate_text + \"\\n\\nFinal pick (out of %d): \"%sn + picked_name\n",
        "\n",
        "gr.Interface(fn=run_app, inputs=inputs, outputs=output, title=\"MK316 Class: Random Name Picker\").launch(share=True)\n",
        "\n"
      ],
      "metadata": {
        "colab": {
          "base_uri": "https://localhost:8080/",
          "height": 744
        },
        "cellView": "form",
        "id": "K6kcArn2HN2g",
        "outputId": "a0d5ae21-1fa0-4b50-ef18-30c57f878ae5"
      },
      "execution_count": 14,
      "outputs": [
        {
          "output_type": "stream",
          "name": "stderr",
          "text": [
            "/usr/local/lib/python3.9/dist-packages/gradio/inputs.py:27: UserWarning: Usage of gradio.inputs is deprecated, and will not be supported in the future, please import your component from gradio.components\n",
            "  warnings.warn(\n",
            "/usr/local/lib/python3.9/dist-packages/gradio/deprecation.py:40: UserWarning: `optional` parameter is deprecated, and it has no effect\n",
            "  warnings.warn(value)\n",
            "/usr/local/lib/python3.9/dist-packages/gradio/deprecation.py:40: UserWarning: `numeric` parameter is deprecated, and it has no effect\n",
            "  warnings.warn(value)\n",
            "/usr/local/lib/python3.9/dist-packages/gradio/outputs.py:22: UserWarning: Usage of gradio.outputs is deprecated, and will not be supported in the future, please import your components from gradio.components\n",
            "  warnings.warn(\n"
          ]
        },
        {
          "output_type": "stream",
          "name": "stdout",
          "text": [
            "Colab notebook detected. To show errors in colab notebook, set debug=True in launch()\n",
            "Running on public URL: https://4f2daf41d23690c233.gradio.live\n",
            "\n",
            "This share link expires in 72 hours. For free permanent hosting and GPU upgrades (NEW!), check out Spaces: https://huggingface.co/spaces\n"
          ]
        },
        {
          "output_type": "display_data",
          "data": {
            "text/plain": [
              "<IPython.core.display.HTML object>"
            ],
            "text/html": [
              "<div><iframe src=\"https://4f2daf41d23690c233.gradio.live\" width=\"100%\" height=\"500\" allow=\"autoplay; camera; microphone; clipboard-read; clipboard-write;\" frameborder=\"0\" allowfullscreen></iframe></div>"
            ]
          },
          "metadata": {}
        },
        {
          "output_type": "execute_result",
          "data": {
            "text/plain": []
          },
          "metadata": {},
          "execution_count": 14
        }
      ]
    }
  ]
}
{
  "nbformat": 4,
  "nbformat_minor": 0,
  "metadata": {
    "colab": {
      "provenance": [],
      "authorship_tag": "ABX9TyPFiBlCzG29vFY1Hb03Rlh2",
      "include_colab_link": true
    },
    "kernelspec": {
      "name": "python3",
      "display_name": "Python 3"
    },
    "language_info": {
      "name": "python"
    }
  },
  "cells": [
    {
      "cell_type": "markdown",
      "metadata": {
        "id": "view-in-github",
        "colab_type": "text"
      },
      "source": [
        "<a href=\"https://colab.research.google.com/github/MK316/Spring2023/blob/main/RandomPickerS23.ipynb\" target=\"_parent\"><img src=\"https://colab.research.google.com/assets/colab-badge.svg\" alt=\"Open In Colab\"/></a>"
      ]
    },
    {
      "cell_type": "markdown",
      "source": [
        "---\n",
        "# 😍 The final pick\n",
        "---"
      ],
      "metadata": {
        "id": "Mg1C59TPJ-De"
      }
    },
    {
      "cell_type": "code",
      "source": [
        "#@markdown File link & Font install (for Korean): 'NanumGothic'\n",
        "!apt-get update -qq\n",
        "!apt-get install -qq fonts-nanum\n",
        "\n",
        "import matplotlib.font_manager as fm\n",
        "import matplotlib.pyplot as plt\n",
        "\n",
        "fontpath = '/usr/share/fonts/truetype/nanum/NanumGothic.ttf'\n",
        "font = fm.FontProperties(fname=fontpath, size=36)\n",
        "plt.rc('font', family='NanumGothic')\n",
        "\n",
        "url = \"https://raw.githubusercontent.com/MK316/Spring2023/main/data/S23_att_total.csv\""
      ],
      "metadata": {
        "cellView": "form",
        "id": "zVgDC2BPGJ8i"
      },
      "execution_count": 21,
      "outputs": []
    },
    {
      "cell_type": "code",
      "source": [
        "#@markdown Who's the final pick?\n",
        "# Step 1: Import necessary libraries\n",
        "\n",
        "import pandas as pd\n",
        "import random\n",
        "import matplotlib.pyplot as plt\n",
        "import time\n",
        "from IPython.display import clear_output\n",
        "\n",
        "\n",
        "# Step 2: Read the CSV file and extract the \"Names\" column as a list\n",
        "try:\n",
        "    df = pd.read_csv(url, encoding='utf-8')\n",
        "except UnicodeDecodeError:\n",
        "    df = pd.read_csv(url, encoding='cp949')\n",
        "class_name = input(\"Which class? \")\n",
        "names = df.loc[df[\"Class\"] == class_name, \"Names\"].tolist()\n",
        "\n",
        "# Step 3: Pick a random name from 'names' variable\n",
        "def pick_random_name():\n",
        "    selected_name = random.choice(names)\n",
        "    return selected_name\n",
        "\n",
        "# Step 4: Display the picked name in a larger font size\n",
        "def display_name(name, font_size=36, final_pick=False):\n",
        "    clear_output(wait=True)\n",
        "    plt.figure(figsize=(6, 3))\n",
        "\n",
        "    if final_pick:\n",
        "        plt.text(0.5, 0.5, f\"The final pick is: {name}\", fontsize=font_size, ha='center', va='center', fontproperties=font)\n",
        "    else:\n",
        "        plt.text(0.5, 0.5, name, fontsize=font_size, ha='center', va='center', fontproperties=font)\n",
        "    plt.gca().set_xticks([])\n",
        "    plt.gca().set_yticks([])\n",
        "    plt.box(False)\n",
        "    plt.show()\n",
        "    time.sleep(1)\n",
        "\n",
        "# Step 5: Pick random names and display them\n",
        "for i in range(9):\n",
        "    picked_name = pick_random_name()\n",
        "    display_name(picked_name)\n",
        "\n",
        "# Step 6: Display the 10th picked name\n",
        "picked_name = pick_random_name()\n",
        "display_name(picked_name, final_pick=True)\n",
        "print(\"The class '%s' has '%d' students: \"%(class_name, len(names)))"
      ],
      "metadata": {
        "cellView": "form",
        "id": "2KsSpbqgGOuV"
      },
      "execution_count": null,
      "outputs": []
    },
    {
      "cell_type": "markdown",
      "source": [
        "---\n",
        "# 😍 The Final Pick Live link using Gradio\n",
        "---"
      ],
      "metadata": {
        "id": "rcxDugB5HEDg"
      }
    },
    {
      "cell_type": "markdown",
      "source": [
        "The app will ask the file link from github\n",
        "The app will ask the class name: Engpro, DL, or Engling"
      ],
      "metadata": {
        "id": "h9rM0iqER6Uk"
      }
    },
    {
      "cell_type": "code",
      "source": [
        "#@markdown [1] Install and import libraries\n",
        "%%capture\n",
        "!pip install gradio\n",
        "import gradio as gr\n",
        "\n",
        "import pandas as pd\n",
        "import random\n",
        "import time\n",
        "import gradio as gr"
      ],
      "metadata": {
        "cellView": "form",
        "id": "ai5b19yGHGLg"
      },
      "execution_count": 1,
      "outputs": []
    },
    {
      "cell_type": "code",
      "source": [
        "#@markdown [2] Pick one live link (using Gradio): input 'class name'\n",
        "# Step 1: Get the GitHub CSV link from the user\n",
        "github_csv_link = \"https://raw.githubusercontent.com/MK316/Spring2023/main/data/S23_att_total.csv\"\n",
        "\n",
        "class_input = gr.inputs.Textbox(lines=1, label=\"Enter the class name:\")\n",
        "output = gr.outputs.Textbox(label=\"Picked Name:\")\n",
        "\n",
        "inputs = [class_input]\n",
        "\n",
        "def run_app(class_name):\n",
        "    # Step 1: Read the CSV file and extract the \"Names\" column based on the given class name\n",
        "    try:\n",
        "        df = pd.read_csv(github_csv_link, encoding='utf-8')\n",
        "    except UnicodeDecodeError:\n",
        "        df = pd.read_csv(github_csv_link, encoding='cp949')\n",
        "\n",
        "    names = df.loc[df[\"Class\"] == class_name, \"Names\"].tolist()\n",
        "\n",
        "    # Simulate the random picking process by concatenating the names\n",
        "    intermediate_text = \"\"\n",
        "    for i in range(9):\n",
        "        intermediate_text += random.choice(names) + \" -> \"\n",
        "        time.sleep(0.5)  # Pause for half a second to simulate the process\n",
        "\n",
        "    picked_name = pick_random_name(names)\n",
        "    sn = len(names)\n",
        "    sn = int(sn)\n",
        "    return intermediate_text + \"\\n\\nFinal pick (out of %d): \"%sn + picked_name\n",
        "\n",
        "gr.Interface(fn=run_app, inputs=inputs, outputs=output, title=\"MK316 Class: Random Name Picker\").launch(share=True)\n"
      ],
      "metadata": {
        "cellView": "form",
        "id": "zik1RVR4Y7If"
      },
      "execution_count": null,
      "outputs": []
    }
  ]
}
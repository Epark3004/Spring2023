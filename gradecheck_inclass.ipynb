{
  "nbformat": 4,
  "nbformat_minor": 0,
  "metadata": {
    "colab": {
      "provenance": [],
      "authorship_tag": "ABX9TyOORc9/frmA9h0e/EsEnyRW",
      "include_colab_link": true
    },
    "kernelspec": {
      "name": "python3",
      "display_name": "Python 3"
    },
    "language_info": {
      "name": "python"
    }
  },
  "cells": [
    {
      "cell_type": "markdown",
      "metadata": {
        "id": "view-in-github",
        "colab_type": "text"
      },
      "source": [
        "<a href=\"https://colab.research.google.com/github/MK316/Spring2023/blob/main/gradecheck_inclass.ipynb\" target=\"_parent\"><img src=\"https://colab.research.google.com/assets/colab-badge.svg\" alt=\"Open In Colab\"/></a>"
      ]
    },
    {
      "cell_type": "markdown",
      "source": [
        "# 🌿 Grade checking individually 🌿 \n",
        "\n",
        "Procedure:\n",
        "1. Install and import packages: {gradio}, {pandas}\n",
        "2. Read a csv file from Google drive: \n",
        "> Mount Google Drive > Select file > Copy it to colab > Unmount Google Drive\n",
        "3. Create Gradio live link: \n",
        "> Create Passcode  \n",
        "> Create a live link  \n",
        "> Check grade individually"
      ],
      "metadata": {
        "id": "DhumIZVOVMI1"
      }
    },
    {
      "cell_type": "markdown",
      "source": [
        "## [1] Install"
      ],
      "metadata": {
        "id": "N-ePMxi94CY7"
      }
    },
    {
      "cell_type": "code",
      "execution_count": 95,
      "metadata": {
        "cellView": "form",
        "id": "Aq8PCTGaEWxo"
      },
      "outputs": [],
      "source": [
        "#@markdown 🎯 Install {gradio}  \n",
        "\n",
        "#@markdown 🎯 Import {gradio}, {pandas}\n",
        "%%capture\n",
        "!pip install gradio\n",
        "import gradio\n",
        "import pandas as pd"
      ]
    },
    {
      "cell_type": "markdown",
      "source": [
        "## [2] Read file (from Google drive)"
      ],
      "metadata": {
        "id": "aQvgKA0r4KWf"
      }
    },
    {
      "cell_type": "code",
      "source": [
        "#@markdown 🎯 [1] Mount Google drive, list files, choose file, save it to current directory (/content/) (e.g., \"asrdata\" folder in my case)\n",
        "from google.colab import drive \n",
        "import os\n",
        "import shutil\n",
        "\n",
        "drive.mount('/content/drive/')\n",
        "mydir = input(\"Type the file directory in your google drive: e.g., asrdata  \")\n",
        "\n",
        "!ls \"/content/drive/MyDrive/{mydir}\"\n",
        "\n",
        "print(\"=\"*50)\n",
        "fc = input('Type file name to copy (e.g., test.csv): ')\n",
        "\n",
        "# source path\n",
        "src = \"/content/drive/MyDrive/\" + mydir +\"/\"+fc\n",
        "# destination path \n",
        "dst = '/content/'+ fc\n",
        "\n",
        "# move the file\n",
        "shutil.copy(src, dst)\n",
        "\n",
        "#@markdown 🎯 [2] Unmount Google drive (clearing): optional\n",
        "\n",
        "from google.colab import drive\n",
        "drive.flush_and_unmount()"
      ],
      "metadata": {
        "colab": {
          "base_uri": "https://localhost:8080/"
        },
        "cellView": "form",
        "id": "Sf5wxeXxaQCt",
        "outputId": "bc5d7f64-7d96-4d98-c18b-6df842e7f242"
      },
      "execution_count": 183,
      "outputs": [
        {
          "name": "stdout",
          "output_type": "stream",
          "text": [
            "Mounted at /content/drive/\n",
            "Type the file directory in your google drive: e.g., asrdata  myclass\n",
            "grade1.csv  grade.csv  test.gsheet\n",
            "==================================================\n",
            "Type file name to copy (e.g., test.csv): grade1.csv\n"
          ]
        }
      ]
    },
    {
      "cell_type": "code",
      "source": [
        "# from google.colab import drive\n",
        "# drive.flush_and_unmount()"
      ],
      "metadata": {
        "id": "5ko50qz2aqvG"
      },
      "execution_count": 99,
      "outputs": []
    },
    {
      "cell_type": "markdown",
      "source": [
        "## [3] Getting a Gradio link\n",
        "\n",
        "- type 'file name' (e.g., grade.csv)  \n",
        "- automatically create Passcode\n"
      ],
      "metadata": {
        "id": "Mg9NWD6r4V2B"
      }
    },
    {
      "cell_type": "code",
      "source": [
        "import gradio as gr\n",
        "import numpy as np\n",
        "\n",
        "filename = input('Type file name to open:  ')\n",
        "data = pd.read_csv(filename)\n",
        "\n",
        "## Create passcode column ##\n",
        "pw = []\n",
        "for i in range(len(data['SID'])):\n",
        "  a = data['SID'][i]\n",
        "  b = data['Group'][i]\n",
        "  ab = str(a) + b\n",
        "  pw.append(ab)\n",
        "data['Passcode'] = pw\n",
        "\n",
        "##############################\n",
        "\n",
        "def greet(passcode):\n",
        "    a = data.index[data['Passcode']== passcode].tolist()\n",
        "    myindex = a[0]\n",
        "    gd = data['Grade'][myindex]\n",
        "    return \"Your grade: \" + str(gd)\n",
        "\n",
        "demo = gr.Interface(\n",
        "    fn=greet,\n",
        "    inputs=gr.Textbox(lines=2, placeholder=\"Name Here...\"),\n",
        "    outputs=\"text\",\n",
        ")\n",
        "demo.launch(share=True, debug=True)"
      ],
      "metadata": {
        "colab": {
          "base_uri": "https://localhost:8080/"
        },
        "id": "mrjl3TaZPLWW",
        "outputId": "027fec29-47e8-44f7-d54f-b27e4b2f308c"
      },
      "execution_count": 198,
      "outputs": [
        {
          "output_type": "stream",
          "name": "stdout",
          "text": [
            "Keyboard interruption in main thread... closing server.\n",
            "Killing tunnel 127.0.0.1:7884 <> https://67fba21f-8be3-4e21.gradio.live\n"
          ]
        },
        {
          "output_type": "execute_result",
          "data": {
            "text/plain": []
          },
          "metadata": {},
          "execution_count": 198
        }
      ]
    },
    {
      "cell_type": "markdown",
      "source": [
        "# Create a dataframe or read a file on colab"
      ],
      "metadata": {
        "id": "MFY7CCRF5tm-"
      }
    },
    {
      "cell_type": "code",
      "source": [
        "#@markdown Create or bring a dataframe (data): number of columns and their names\n",
        "\n",
        "choose = \"create\" #@param [\"create\",\"read\"]\n",
        "\n",
        "if choose == \"create\":\n",
        "  data = pd.DataFrame()\n",
        "  cn = input('How many columns: ')\n",
        "  cn = int(cn)\n",
        "\n",
        "  for i in range(0,cn):\n",
        "    cname = input('Type column name: ')\n",
        "    data[cname] = []\n",
        "  data.to_csv('test.csv')\n",
        "  print(data)\n",
        "\n",
        "elif choose == \"read\":\n",
        "  fname = input('Type file name on colab:  ')\n",
        "  data = pd.read_csv(fname)\n",
        "  print(data)\n"
      ],
      "metadata": {
        "colab": {
          "base_uri": "https://localhost:8080/"
        },
        "cellView": "form",
        "id": "nkyDApboEyy6",
        "outputId": "f47b3d4b-e06d-45a1-9975-d92c84eca087"
      },
      "execution_count": 68,
      "outputs": [
        {
          "output_type": "stream",
          "name": "stdout",
          "text": [
            "How many columns: 2\n",
            "Type column name: SID\n",
            "Type column name: Grade\n",
            "Empty DataFrame\n",
            "Columns: [SID, Grade]\n",
            "Index: []\n"
          ]
        }
      ]
    },
    {
      "cell_type": "code",
      "source": [
        "import pandas as pd\n",
        "\n",
        "nc = input('Number of columns:  ')\n",
        "cn = input('Column names: (separated by ,)  ')\n",
        "cn1 = cn.replace(\" \", \"\")\n",
        "cn2 = cn.split(',')\n",
        "df = pd.DataFrame(columns=cn2)\n",
        "\n",
        "choose = input(\"Want to type by rows now: (y or n) \")\n",
        "\n",
        "if choose == 'y':\n",
        "  nr = input('How many rows:  ')\n",
        "  nr = int(nr)\n",
        "  for i in range(nr):\n",
        "      row = input('row [%d]:'%(i+1))\n",
        "      row1 = row.split(',')\n",
        "      df.loc[i] = row1\n",
        "  print(df)\n",
        "elif choose == 'n':\n",
        "  print(df)\n",
        "\n",
        "choose2 = input(\"File saving? (file name; if no need to save, type 'n') \")\n",
        "\n",
        "if choose2 == \"n\":\n",
        "  print(\"Okay. The data is stored in df as variable.\")\n",
        "else:\n",
        "  df.to_csv(choose2)\n",
        "  print(df)"
      ],
      "metadata": {
        "colab": {
          "base_uri": "https://localhost:8080/"
        },
        "id": "XQ-6Kkmn5Gez",
        "outputId": "5395b731-165b-4c5e-e959-f38a807e19eb"
      },
      "execution_count": 211,
      "outputs": [
        {
          "output_type": "stream",
          "name": "stdout",
          "text": [
            "Number of columns:  2\n",
            "Column names: (separated by ,)  ID, Name\n",
            "Want to type by rows now: (y or n) y\n",
            "How many rows:  2\n",
            "row [1]:202201, Terry\n",
            "row [2]:202202, Mary\n",
            "       ID    Name\n",
            "0  202201   Terry\n",
            "1  202202    Mary\n",
            "File saving? (file name; if no need to save, type 'n') class.csv\n",
            "       ID    Name\n",
            "0  202201   Terry\n",
            "1  202202    Mary\n"
          ]
        }
      ]
    }
  ]
}
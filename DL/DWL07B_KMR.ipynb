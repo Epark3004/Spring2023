{
  "nbformat": 4,
  "nbformat_minor": 0,
  "metadata": {
    "colab": {
      "provenance": [],
      "authorship_tag": "ABX9TyMaUck34NohBlsnbXQ8HwuY",
      "include_colab_link": true
    },
    "kernelspec": {
      "name": "python3",
      "display_name": "Python 3"
    },
    "language_info": {
      "name": "python"
    }
  },
  "cells": [
    {
      "cell_type": "markdown",
      "metadata": {
        "id": "view-in-github",
        "colab_type": "text"
      },
      "source": [
        "<a href=\"https://colab.research.google.com/github/MK316/Spring2023/blob/main/DL/DWL07B_KMR.ipynb\" target=\"_parent\"><img src=\"https://colab.research.google.com/assets/colab-badge.svg\" alt=\"Open In Colab\"/></a>"
      ]
    },
    {
      "cell_type": "markdown",
      "source": [
        "# DLW07B Self-test\n",
        "\n",
        "+ String: .....  \n",
        "+ Integer: .... "
      ],
      "metadata": {
        "id": "fS50Y7cl5PWv"
      }
    },
    {
      "cell_type": "markdown",
      "source": [
        "Exercise 1"
      ],
      "metadata": {
        "id": "Ha1kVvsY6CGp"
      }
    },
    {
      "cell_type": "code",
      "execution_count": 1,
      "metadata": {
        "id": "VpV0vDwD49wL"
      },
      "outputs": [],
      "source": [
        "greeting = \"Hello, students!\"\n",
        "year = 2023"
      ]
    },
    {
      "cell_type": "markdown",
      "source": [
        "Exercise 2"
      ],
      "metadata": {
        "id": "NRsoJTXp6Ej-"
      }
    },
    {
      "cell_type": "code",
      "source": [
        "print(greeting)\n",
        "print(year)"
      ],
      "metadata": {
        "colab": {
          "base_uri": "https://localhost:8080/"
        },
        "id": "Piuqdzht54cU",
        "outputId": "e1a714ab-9258-489a-c27b-718c607443ce"
      },
      "execution_count": 2,
      "outputs": [
        {
          "output_type": "stream",
          "name": "stdout",
          "text": [
            "Hello, students!\n",
            "2023\n"
          ]
        }
      ]
    },
    {
      "cell_type": "markdown",
      "source": [
        "Exercise 3"
      ],
      "metadata": {
        "id": "4hf1wlfQ6HZj"
      }
    },
    {
      "cell_type": "code",
      "source": [
        "message = greeting + \" \" + str(year)\n",
        "message"
      ],
      "metadata": {
        "colab": {
          "base_uri": "https://localhost:8080/",
          "height": 35
        },
        "id": "5Gx1az556Rek",
        "outputId": "10018b5b-1f6a-4643-d385-83d67913a5b8"
      },
      "execution_count": 6,
      "outputs": [
        {
          "output_type": "execute_result",
          "data": {
            "text/plain": [
              "'Hello, students! 2023'"
            ],
            "application/vnd.google.colaboratory.intrinsic+json": {
              "type": "string"
            }
          },
          "metadata": {},
          "execution_count": 6
        }
      ]
    },
    {
      "cell_type": "markdown",
      "source": [
        "Exercise 4"
      ],
      "metadata": {
        "id": "FMo5HLrK60sl"
      }
    },
    {
      "cell_type": "code",
      "source": [
        "num1 = 10\n",
        "num2 = 3\n",
        "\n",
        "print(num1 + num2)\n",
        "print(num2-num2)\n",
        "print(num1*num2)\n",
        "print(num1/num2)"
      ],
      "metadata": {
        "colab": {
          "base_uri": "https://localhost:8080/"
        },
        "id": "MTsoljjA62DO",
        "outputId": "c43b2f52-16c9-4f2a-ea1b-b99e27d8682b"
      },
      "execution_count": 8,
      "outputs": [
        {
          "output_type": "stream",
          "name": "stdout",
          "text": [
            "13\n",
            "0\n",
            "30\n",
            "3.3333333333333335\n"
          ]
        }
      ]
    },
    {
      "cell_type": "markdown",
      "source": [
        "Exercise 5"
      ],
      "metadata": {
        "id": "VsP9o6Le7Ciz"
      }
    },
    {
      "cell_type": "code",
      "source": [
        "user_string = input()"
      ],
      "metadata": {
        "colab": {
          "base_uri": "https://localhost:8080/"
        },
        "id": "fSLIkASL7DyL",
        "outputId": "ed50f1de-2ffb-4015-85a6-9b74c7ec866f"
      },
      "execution_count": 9,
      "outputs": [
        {
          "name": "stdout",
          "output_type": "stream",
          "text": [
            "Mary\n"
          ]
        }
      ]
    },
    {
      "cell_type": "code",
      "source": [
        "print(user_string)"
      ],
      "metadata": {
        "colab": {
          "base_uri": "https://localhost:8080/"
        },
        "id": "xKjMV_J47nov",
        "outputId": "80e58e7f-805f-459b-d282-5886a974c241"
      },
      "execution_count": 10,
      "outputs": [
        {
          "output_type": "stream",
          "name": "stdout",
          "text": [
            "Mary\n"
          ]
        }
      ]
    },
    {
      "cell_type": "code",
      "source": [
        "user_number = input(\"Type any number: \")"
      ],
      "metadata": {
        "colab": {
          "base_uri": "https://localhost:8080/"
        },
        "id": "C0JWVoq67uzU",
        "outputId": "8cc0779e-9868-4154-fc98-e87b48f77125"
      },
      "execution_count": 11,
      "outputs": [
        {
          "name": "stdout",
          "output_type": "stream",
          "text": [
            "Type any number: 34\n"
          ]
        }
      ]
    },
    {
      "cell_type": "code",
      "source": [
        "user_string = input(\"Type any string: \")\n",
        "user_number = input(\"Type any number: \") # input() is a basically string type.\n",
        "user_number = int(user_number) # string to integer\n",
        "\n",
        "user_string*user_number"
      ],
      "metadata": {
        "colab": {
          "base_uri": "https://localhost:8080/",
          "height": 71
        },
        "id": "a4rbH3bY8FAN",
        "outputId": "355b57ba-1db0-4409-89ef-739f4f6b41b6"
      },
      "execution_count": 19,
      "outputs": [
        {
          "name": "stdout",
          "output_type": "stream",
          "text": [
            "Type any string: Hello~~\n",
            "Type any number: 5\n"
          ]
        },
        {
          "output_type": "execute_result",
          "data": {
            "text/plain": [
              "'Hello~~Hello~~Hello~~Hello~~Hello~~'"
            ],
            "application/vnd.google.colaboratory.intrinsic+json": {
              "type": "string"
            }
          },
          "metadata": {},
          "execution_count": 19
        }
      ]
    },
    {
      "cell_type": "markdown",
      "source": [
        "Exercise 6"
      ],
      "metadata": {
        "id": "6YUoSg9h9V0s"
      }
    },
    {
      "cell_type": "code",
      "source": [
        "sentence = \"Coding is fun and easy to learn!\"\n",
        "\n",
        "word_list = sentence.split()\n",
        "print(word_list)"
      ],
      "metadata": {
        "colab": {
          "base_uri": "https://localhost:8080/"
        },
        "id": "9oN7aXC88WJM",
        "outputId": "72d7d773-60bf-477d-904e-f6f7cb294fb1"
      },
      "execution_count": 22,
      "outputs": [
        {
          "output_type": "stream",
          "name": "stdout",
          "text": [
            "['Coding', 'is', 'fun', 'and', 'easy', 'to', 'learn!']\n"
          ]
        }
      ]
    },
    {
      "cell_type": "markdown",
      "source": [
        "Exercise 7"
      ],
      "metadata": {
        "id": "VTxuTVDb92Pl"
      }
    },
    {
      "cell_type": "code",
      "source": [
        "a = \"Coding is Exciting!\"\n",
        "\n",
        "uppercase_text = a.upper()\n",
        "lowercase_text = a.lower()\n",
        "lowercase_text"
      ],
      "metadata": {
        "colab": {
          "base_uri": "https://localhost:8080/",
          "height": 35
        },
        "id": "_OWNcIYW9r8T",
        "outputId": "635e3e80-a2ba-41c9-88b6-6b557bf3ffe0"
      },
      "execution_count": 26,
      "outputs": [
        {
          "output_type": "execute_result",
          "data": {
            "text/plain": [
              "'coding is exciting!'"
            ],
            "application/vnd.google.colaboratory.intrinsic+json": {
              "type": "string"
            }
          },
          "metadata": {},
          "execution_count": 26
        }
      ]
    },
    {
      "cell_type": "markdown",
      "source": [
        "Exercise 8"
      ],
      "metadata": {
        "id": "QtlRIGtq-PMP"
      }
    },
    {
      "cell_type": "code",
      "source": [
        "quote = \"To be or not to be, that is the question.\""
      ],
      "metadata": {
        "id": "gmDgq681-Qez"
      },
      "execution_count": 27,
      "outputs": []
    },
    {
      "cell_type": "code",
      "source": [
        "quote[0]"
      ],
      "metadata": {
        "colab": {
          "base_uri": "https://localhost:8080/",
          "height": 35
        },
        "id": "7_ehFkJu-fzU",
        "outputId": "0d4eebac-1cbc-4873-97af-c8d7008d7235"
      },
      "execution_count": 28,
      "outputs": [
        {
          "output_type": "execute_result",
          "data": {
            "text/plain": [
              "'T'"
            ],
            "application/vnd.google.colaboratory.intrinsic+json": {
              "type": "string"
            }
          },
          "metadata": {},
          "execution_count": 28
        }
      ]
    },
    {
      "cell_type": "code",
      "source": [
        "quote[-1]"
      ],
      "metadata": {
        "colab": {
          "base_uri": "https://localhost:8080/",
          "height": 35
        },
        "id": "EKJIPx7_-kKh",
        "outputId": "3e56f0c8-2fca-486e-9bab-f1267065969f"
      },
      "execution_count": 29,
      "outputs": [
        {
          "output_type": "execute_result",
          "data": {
            "text/plain": [
              "'.'"
            ],
            "application/vnd.google.colaboratory.intrinsic+json": {
              "type": "string"
            }
          },
          "metadata": {},
          "execution_count": 29
        }
      ]
    },
    {
      "cell_type": "code",
      "source": [
        "quote[0:5]"
      ],
      "metadata": {
        "colab": {
          "base_uri": "https://localhost:8080/",
          "height": 35
        },
        "id": "xfuP_wLo-qZL",
        "outputId": "3f880144-1757-4c3d-b9c8-86aa773dde7c"
      },
      "execution_count": 30,
      "outputs": [
        {
          "output_type": "execute_result",
          "data": {
            "text/plain": [
              "'To be'"
            ],
            "application/vnd.google.colaboratory.intrinsic+json": {
              "type": "string"
            }
          },
          "metadata": {},
          "execution_count": 30
        }
      ]
    },
    {
      "cell_type": "code",
      "source": [
        "quote[5:]"
      ],
      "metadata": {
        "colab": {
          "base_uri": "https://localhost:8080/",
          "height": 35
        },
        "id": "Y3LMewLF-8kY",
        "outputId": "15deae20-ed19-4c94-e253-c9fd87eb33a6"
      },
      "execution_count": 31,
      "outputs": [
        {
          "output_type": "execute_result",
          "data": {
            "text/plain": [
              "' or not to be, that is the question.'"
            ],
            "application/vnd.google.colaboratory.intrinsic+json": {
              "type": "string"
            }
          },
          "metadata": {},
          "execution_count": 31
        }
      ]
    },
    {
      "cell_type": "code",
      "source": [
        "reverse = quote[::-1]\n",
        "print(reverse)"
      ],
      "metadata": {
        "colab": {
          "base_uri": "https://localhost:8080/"
        },
        "id": "amQDQXok_E54",
        "outputId": "7353ebba-3cf5-408d-f5d8-889782c677ce"
      },
      "execution_count": 32,
      "outputs": [
        {
          "output_type": "stream",
          "name": "stdout",
          "text": [
            ".noitseuq eht si taht ,eb ot ton ro eb oT\n"
          ]
        }
      ]
    }
  ]
}
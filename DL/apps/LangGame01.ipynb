{
  "nbformat": 4,
  "nbformat_minor": 0,
  "metadata": {
    "colab": {
      "provenance": [],
      "authorship_tag": "ABX9TyOxZOc30hxkvc7lf/QA3HZz",
      "include_colab_link": true
    },
    "kernelspec": {
      "name": "python3",
      "display_name": "Python 3"
    },
    "language_info": {
      "name": "python"
    }
  },
  "cells": [
    {
      "cell_type": "markdown",
      "metadata": {
        "id": "view-in-github",
        "colab_type": "text"
      },
      "source": [
        "<a href=\"https://colab.research.google.com/github/MK316/Spring2023/blob/main/DL/apps/LangGame01.ipynb\" target=\"_parent\"><img src=\"https://colab.research.google.com/assets/colab-badge.svg\" alt=\"Open In Colab\"/></a>"
      ]
    },
    {
      "cell_type": "markdown",
      "source": [
        "# Create a simple language learning application\n",
        "\n",
        "Powerd by ChatGPT (23. 4. 15)"
      ],
      "metadata": {
        "id": "B52mT6zYUJ-L"
      }
    },
    {
      "cell_type": "markdown",
      "source": [
        "1. Define the content:  \n",
        "+ Create a list of vocabulary words and their meanings.\n",
        "+ Create a list of simple sentences for beginners to practice."
      ],
      "metadata": {
        "id": "_j64Cgq2URlI"
      }
    },
    {
      "cell_type": "code",
      "execution_count": 1,
      "metadata": {
        "id": "ui4ggQv_UJOo"
      },
      "outputs": [],
      "source": [
        "vocab = {\n",
        "    'apple': 'a round fruit with red or green skin and a white inside',\n",
        "    'dog': 'a common domestic animal that is often kept as a pet',\n",
        "    'book': 'a set of written, printed, or blank pages bound together',\n",
        "}\n",
        "\n",
        "sentences = [\n",
        "    'The apple is red.',\n",
        "    'I have a dog.',\n",
        "    'She is reading a book.',\n",
        "]"
      ]
    },
    {
      "cell_type": "markdown",
      "source": [
        "2. Create a function to quiz users on vocabulary words:"
      ],
      "metadata": {
        "id": "TtzudMDJUb2U"
      }
    },
    {
      "cell_type": "code",
      "source": [
        "import random\n",
        "\n",
        "def quiz_vocabulary(vocab):\n",
        "    word, meaning = random.choice(list(vocab.items()))\n",
        "    print(f\"What is the meaning of '{word}'?\")\n",
        "    answer = input().strip().lower()\n",
        "\n",
        "    if answer == meaning.lower():\n",
        "        print(\"Correct!\")\n",
        "    else:\n",
        "        print(f\"Wrong. The correct answer is '{meaning}'.\")\n"
      ],
      "metadata": {
        "id": "Kr96sbLMUevM"
      },
      "execution_count": 2,
      "outputs": []
    },
    {
      "cell_type": "markdown",
      "source": [
        "3. Create a function to practice sentence construction:"
      ],
      "metadata": {
        "id": "d3VHVjOOUlFk"
      }
    },
    {
      "cell_type": "code",
      "source": [
        "def practice_sentences(sentences):\n",
        "    sentence = random.choice(sentences)\n",
        "    words = sentence.split()\n",
        "    random.shuffle(words)\n",
        "\n",
        "    print(\"Reconstruct the sentence:\")\n",
        "    print(\" \".join(words))\n",
        "    answer = input().strip()\n",
        "\n",
        "    if answer == sentence:\n",
        "        print(\"Correct!\")\n",
        "    else:\n",
        "        print(f\"Wrong. The correct sentence is '{sentence}'.\")"
      ],
      "metadata": {
        "id": "COXJKaTSUn_C"
      },
      "execution_count": 3,
      "outputs": []
    },
    {
      "cell_type": "markdown",
      "source": [
        "4. Create a main function to run the application:"
      ],
      "metadata": {
        "id": "95ZrdSZMUu_h"
      }
    },
    {
      "cell_type": "code",
      "source": [
        "def main():\n",
        "    while True:\n",
        "        print(\"Choose an option:\")\n",
        "        print(\"1. Quiz vocabulary\")\n",
        "        print(\"2. Practice sentences\")\n",
        "        print(\"3. Quit\")\n",
        "\n",
        "        choice = input().strip()\n",
        "\n",
        "        if choice == '1':\n",
        "            quiz_vocabulary(vocab)\n",
        "        elif choice == '2':\n",
        "            practice_sentences(sentences)\n",
        "        elif choice == '3':\n",
        "            print(\"Goodbye!\")\n",
        "            break\n",
        "        else:\n",
        "            print(\"Invalid option. Please try again.\")\n"
      ],
      "metadata": {
        "id": "xxIFRjA4Ux1g"
      },
      "execution_count": 4,
      "outputs": []
    },
    {
      "cell_type": "markdown",
      "source": [
        "5. Call the main function to start the application:"
      ],
      "metadata": {
        "id": "BlCX57R7U1t8"
      }
    },
    {
      "cell_type": "code",
      "source": [
        "if __name__ == \"__main__\":\n",
        "    main()"
      ],
      "metadata": {
        "colab": {
          "base_uri": "https://localhost:8080/"
        },
        "id": "sADo-HIjU4v5",
        "outputId": "a31a04f9-9a03-42fc-c8f6-2c846dbba49a"
      },
      "execution_count": 5,
      "outputs": [
        {
          "output_type": "stream",
          "name": "stdout",
          "text": [
            "Choose an option:\n",
            "1. Quiz vocabulary\n",
            "2. Practice sentences\n",
            "3. Quit\n",
            "1\n",
            "What is the meaning of 'dog'?\n",
            "four legged animal\n",
            "Wrong. The correct answer is 'a common domestic animal that is often kept as a pet'.\n",
            "Choose an option:\n",
            "1. Quiz vocabulary\n",
            "2. Practice sentences\n",
            "3. Quit\n",
            "2\n",
            "Reconstruct the sentence:\n",
            "is apple The red.\n",
            "The apple is red.\n",
            "Correct!\n",
            "Choose an option:\n",
            "1. Quiz vocabulary\n",
            "2. Practice sentences\n",
            "3. Quit\n",
            "2\n",
            "Reconstruct the sentence:\n",
            "red. is apple The\n",
            "The apple is red.\n",
            "Correct!\n",
            "Choose an option:\n",
            "1. Quiz vocabulary\n",
            "2. Practice sentences\n",
            "3. Quit\n",
            "2\n",
            "Reconstruct the sentence:\n",
            "dog. I a have\n",
            "I have a dog.\n",
            "Correct!\n",
            "Choose an option:\n",
            "1. Quiz vocabulary\n",
            "2. Practice sentences\n",
            "3. Quit\n",
            "3\n",
            "Goodbye!\n"
          ]
        }
      ]
    }
  ]
}
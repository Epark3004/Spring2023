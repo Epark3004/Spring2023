{
  "nbformat": 4,
  "nbformat_minor": 0,
  "metadata": {
    "colab": {
      "provenance": [],
      "authorship_tag": "ABX9TyODJYCobbKLl9V6OgUonzRO",
      "include_colab_link": true
    },
    "kernelspec": {
      "name": "python3",
      "display_name": "Python 3"
    },
    "language_info": {
      "name": "python"
    }
  },
  "cells": [
    {
      "cell_type": "markdown",
      "metadata": {
        "id": "view-in-github",
        "colab_type": "text"
      },
      "source": [
        "<a href=\"https://colab.research.google.com/github/MK316/Spring2023/blob/main/DL/DLW02b.ipynb\" target=\"_parent\"><img src=\"https://colab.research.google.com/assets/colab-badge.svg\" alt=\"Open In Colab\"/></a>"
      ]
    },
    {
      "cell_type": "markdown",
      "source": [
        "---\n",
        "# 📗 Topic [2]: Coding basic #2\n",
        "---\n",
        "Keywords:\n",
        "\n",
        "+ variables\n",
        "+ operators\n",
        "+ data types: list and dictionary"
      ],
      "metadata": {
        "id": "k4A5_MYHpcNQ"
      }
    },
    {
      "cell_type": "markdown",
      "source": [
        "Your github IDs [here](https://docs.google.com/spreadsheets/d/1rBlWeffj5RaBQS-lcv46r3Xe-JVF8PpwDngsuQhLKCc/edit?usp=sharing)"
      ],
      "metadata": {
        "id": "mUVgzk50XMkt"
      }
    },
    {
      "cell_type": "markdown",
      "source": [
        "## [1] Variables"
      ],
      "metadata": {
        "id": "93gQaEo1RX63"
      }
    },
    {
      "cell_type": "markdown",
      "source": [
        "+ **A variable** is a named storage location that holds a value.\n",
        "+ Variables can be used **to store values** such as numbers, strings, lists, or other data types. \n",
        "+ The value of a variable can change throughout the execution of a program. \n",
        "+ To declare a variable in Python, you need to assign a value to it using the **equal (=) sign.**"
      ],
      "metadata": {
        "id": "jJT4hD1teuJr"
      }
    },
    {
      "cell_type": "code",
      "source": [
        "x = 10\n",
        "y = \"Hello, class!\"\n",
        "z = [1, 2, 3]"
      ],
      "metadata": {
        "id": "Xes87bY2X45M"
      },
      "execution_count": null,
      "outputs": []
    },
    {
      "cell_type": "markdown",
      "source": [
        "↗️ In the above example, 'x' is assigned the value of 10, 'y' is assigned the value of \"Hello, World!\", and 'z' is assigned the value of [1, 2, 3]."
      ],
      "metadata": {
        "id": "ulw6QsP5ZiKp"
      }
    },
    {
      "cell_type": "code",
      "source": [
        "# We can assign a link or a function\n",
        "import pandas as pd\n",
        "url = \"https://github.com/MK316/Spring2023/raw/main/data/att_sample.csv\"\n",
        "data = pd.read_csv(url)\n",
        "data"
      ],
      "metadata": {
        "id": "_7bvpJt2aQmg"
      },
      "execution_count": null,
      "outputs": []
    },
    {
      "cell_type": "markdown",
      "source": [
        "## Commenting '#'\n",
        "\n",
        "- In Python, the # symbol is used to indicate a comment. A comment is a line of text in a code that is ignored by the Python interpreter and is used to provide explanations or notes for the reader of the code."
      ],
      "metadata": {
        "id": "xZv9R8I8ZWvt"
      }
    },
    {
      "cell_type": "code",
      "source": [
        "# This is a comment in Python\n",
        "x = 10 # this is also a comment"
      ],
      "metadata": {
        "id": "7UJmbmmTaFx9"
      },
      "execution_count": null,
      "outputs": []
    },
    {
      "cell_type": "code",
      "source": [
        "x1 = x * 10\n",
        "x2 = x + 5\n",
        "\n",
        "print(x1, x2)"
      ],
      "metadata": {
        "id": "Ivc72tB0X_TS"
      },
      "execution_count": null,
      "outputs": []
    },
    {
      "cell_type": "code",
      "source": [
        "y1 = y + \"Welcome to the class.\"\n",
        "z1 = z + [3,2,1]\n",
        " \n",
        "print(y1, z1)"
      ],
      "metadata": {
        "id": "cxePqv-52RU0"
      },
      "execution_count": null,
      "outputs": []
    },
    {
      "cell_type": "markdown",
      "source": [
        "\n",
        "\n"
      ],
      "metadata": {
        "id": "GM5mv1G3X_0J"
      }
    },
    {
      "cell_type": "markdown",
      "source": [
        "## [2] Operators\n",
        "\n",
        "* Symbols that perform operations on values and variables. \n",
        "* They are used to perform arithmetic and logical operations, and they can also be used to manipulate and compare values. "
      ],
      "metadata": {
        "id": "5JgA2T2dRft5"
      }
    },
    {
      "cell_type": "markdown",
      "source": [
        "1. Arithmetic Operators: +, -, *, /, %, ** (for exponentiation)"
      ],
      "metadata": {
        "id": "NJBgu_O4bczL"
      }
    },
    {
      "cell_type": "code",
      "source": [
        "x = 2; y = 5\n",
        "\n",
        "a1 = x + y\n",
        "a2 = x - y\n",
        "a3 = x * y\n",
        "a4 = x / y\n",
        "a5 = x ** y"
      ],
      "metadata": {
        "id": "dXT3pIzobUHU"
      },
      "execution_count": null,
      "outputs": []
    },
    {
      "cell_type": "code",
      "source": [
        "print(a1, a2, a3, a4, a5)"
      ],
      "metadata": {
        "colab": {
          "base_uri": "https://localhost:8080/"
        },
        "id": "_m3JBsOKd6Uv",
        "outputId": "37ea21a9-145e-4bb1-d4ef-1b51c0ee7440"
      },
      "execution_count": null,
      "outputs": [
        {
          "output_type": "stream",
          "name": "stdout",
          "text": [
            "7 -3 10 0.4 32\n"
          ]
        }
      ]
    },
    {
      "cell_type": "markdown",
      "source": [
        "# 🌱 Demo 🔢 Calculator"
      ],
      "metadata": {
        "id": "Cx1NyWUAybc8"
      }
    },
    {
      "cell_type": "code",
      "source": [
        "#@markdown 🔄 [1] Making functions (sample): tts(text)\n",
        "%%capture\n",
        "!pip install gTTS\n",
        "from gtts import gTTS\n",
        "from IPython.display import Audio\n",
        "\n",
        "def tts(text):\n",
        "  gtts_object = gTTS(text,lang = \"en\", slow = True) \n",
        "  gtts_object.save(\"myaudio.mp3\")\n",
        "  return Audio(\"myaudio.mp3\")"
      ],
      "metadata": {
        "cellView": "form",
        "id": "yz1enZ9s4kSR"
      },
      "execution_count": null,
      "outputs": []
    },
    {
      "cell_type": "code",
      "source": [
        "# This function adds two numbers\n",
        "def add(x, y):\n",
        "    return x + y\n",
        "\n",
        "# This function subtracts two numbers\n",
        "def subtract(x, y):\n",
        "    return x - y\n",
        "\n",
        "# This function multiplies two numbers\n",
        "def multiply(x, y):\n",
        "    return x * y\n",
        "\n",
        "# This function divides two numbers\n",
        "def divide(x, y):\n",
        "    return x / y\n",
        "\n",
        "func = \"subtract\" #@param = [\"add\",\"subtract\",\"multiply\",\"divide\"]\n",
        "digits = input(\"Type two numbers: (e.g., 3,4)\")\n",
        "digitsplit = digits.split(',')\n",
        "d1 = int(digitsplit[0])\n",
        "d2 = int(digitsplit[1])\n",
        "\n",
        "if func == \"add\":\n",
        "  result = add(d1,d2)\n",
        "  text = \"The addition of %d and %d equals %d.\"%(d1,d2,result)\n",
        "elif func == \"subtract\":\n",
        "  result = subtract(d1,d2)\n",
        "  text = \"If you subtract %d from %d, you get %d.\"%(d2,d1,result)\n",
        "elif func == \"divide\":\n",
        "  result = divide(d1,d2)\n",
        "  text = \"When you divide %d by %d, you get %d.\"%(d1,d2,result)\n",
        "elif func == \"multiply\":\n",
        "  result = multiply(d1,d2)\n",
        "  text = \"%d multiplied by %d is %d.\"%(d1,d2,result)\n",
        "\n",
        "print(text)\n",
        "tts(text)\n",
        "Audio(\"myaudio.mp3\")\n"
      ],
      "metadata": {
        "cellView": "form",
        "id": "Dod3_zgYdsWe",
        "colab": {
          "base_uri": "https://localhost:8080/",
          "height": 111
        },
        "outputId": "9bc23d8b-89d1-42c4-c5a1-793accb58b2f"
      },
      "execution_count": null,
      "outputs": [
        {
          "output_type": "stream",
          "name": "stdout",
          "text": [
            "Type two numbers: (e.g., 3,4)12345,435\n",
            "If you subtract 435 from 12345, you get 11910.\n"
          ]
        },
        {
          "output_type": "execute_result",
          "data": {
            "text/plain": [
              "<IPython.lib.display.Audio object>"
            ],
            "text/html": [
              "\n",
              "                <audio  controls=\"controls\" >\n",
              "                    <source src=\"data:audio/mpeg;base64,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\" type=\"audio/mpeg\" />\n",
              "                    Your browser does not support the audio element.\n",
              "                </audio>\n",
              "              "
            ]
          },
          "metadata": {},
          "execution_count": 16
        }
      ]
    },
    {
      "cell_type": "markdown",
      "source": [
        "More operators: <br>\n",
        "* Comparison Operators: ==, !=, <, >, <=, >= <br>\n",
        "* Assignment Operators: =, +=, -=, *=, /=, %= <br>\n",
        "* Logical Operators: and, or, not <br>\n",
        "* Identity Operators: is, is not <br>\n",
        "* Membership Operators: in, not in "
      ],
      "metadata": {
        "id": "sfubu24UbqjH"
      }
    },
    {
      "cell_type": "markdown",
      "source": [
        "🎃 Goto... grouping.ipynb [link](https://github.com/MK316/classtools/blob/main/grouping.ipynb)"
      ],
      "metadata": {
        "id": "lvvxNwKOobDX"
      }
    },
    {
      "cell_type": "markdown",
      "source": [
        "# 📗Topic [3] Data types: list and dictionary\n"
      ],
      "metadata": {
        "id": "3eSrUoglRh6-"
      }
    },
    {
      "cell_type": "markdown",
      "source": [
        "\n",
        "|Data type| |\n",
        "|:--:|:--:|\n",
        "|number|int, float|\n",
        "|string|charcter|\n",
        "|list|[1, 2,4], ['Mary','Tom','Jane'|\n",
        "|dictionary|(key: value), [('English': 80), ('Korean':90)]|\n",
        "|tuple|('zero', 0)|\n"
      ],
      "metadata": {
        "id": "ZVFb5JmJrPXu"
      }
    },
    {
      "cell_type": "code",
      "source": [
        "a1 = 3\n",
        "a2 = 3.0\n",
        "a3 = \"3\"\n",
        "\n",
        "type(a1+int(a2))"
      ],
      "metadata": {
        "colab": {
          "base_uri": "https://localhost:8080/"
        },
        "id": "g-kvldqENA1e",
        "outputId": "ecdd6387-8047-4464-958e-df1d8bca8c0a"
      },
      "execution_count": null,
      "outputs": [
        {
          "output_type": "execute_result",
          "data": {
            "text/plain": [
              "int"
            ]
          },
          "metadata": {},
          "execution_count": 17
        }
      ]
    },
    {
      "cell_type": "markdown",
      "source": [
        "list and index (0, 1, 2,...)"
      ],
      "metadata": {
        "id": "HC_wMsPnNbzs"
      }
    },
    {
      "cell_type": "code",
      "source": [
        "a = [1, \"Mary\", 4, \"John\"]\n",
        "print(type(a))\n",
        "a[0:4]"
      ],
      "metadata": {
        "colab": {
          "base_uri": "https://localhost:8080/"
        },
        "id": "LyTw7phONZHE",
        "outputId": "cb17d782-13e8-4a0e-c5ec-b5e50b3ac4ab"
      },
      "execution_count": null,
      "outputs": [
        {
          "output_type": "stream",
          "name": "stdout",
          "text": [
            "<class 'list'>\n"
          ]
        },
        {
          "output_type": "execute_result",
          "data": {
            "text/plain": [
              "[1, 'Mary', 4, 'John']"
            ]
          },
          "metadata": {},
          "execution_count": 18
        }
      ]
    },
    {
      "cell_type": "markdown",
      "source": [
        "# 📗Topic [4] Dataframe (columns and rows)"
      ],
      "metadata": {
        "id": "BW1ESCpvI5uT"
      }
    },
    {
      "cell_type": "code",
      "source": [
        "import pandas as pd\n",
        "\n",
        "df = pd.DataFrame()\n",
        "df['Name'] = ['Mary','John','Sarah']\n",
        "df['English'] = [90, 80, 98]\n",
        "df"
      ],
      "metadata": {
        "colab": {
          "base_uri": "https://localhost:8080/",
          "height": 143
        },
        "id": "Lic0KYb4OMmp",
        "outputId": "1cef8bef-7022-4491-ff46-d4494c089129"
      },
      "execution_count": null,
      "outputs": [
        {
          "output_type": "execute_result",
          "data": {
            "text/plain": [
              "    Name  English\n",
              "0   Mary       90\n",
              "1   John       80\n",
              "2  Sarah       98"
            ],
            "text/html": [
              "\n",
              "  <div id=\"df-f73b6afe-54f8-4911-b5a9-54fd6927d998\">\n",
              "    <div class=\"colab-df-container\">\n",
              "      <div>\n",
              "<style scoped>\n",
              "    .dataframe tbody tr th:only-of-type {\n",
              "        vertical-align: middle;\n",
              "    }\n",
              "\n",
              "    .dataframe tbody tr th {\n",
              "        vertical-align: top;\n",
              "    }\n",
              "\n",
              "    .dataframe thead th {\n",
              "        text-align: right;\n",
              "    }\n",
              "</style>\n",
              "<table border=\"1\" class=\"dataframe\">\n",
              "  <thead>\n",
              "    <tr style=\"text-align: right;\">\n",
              "      <th></th>\n",
              "      <th>Name</th>\n",
              "      <th>English</th>\n",
              "    </tr>\n",
              "  </thead>\n",
              "  <tbody>\n",
              "    <tr>\n",
              "      <th>0</th>\n",
              "      <td>Mary</td>\n",
              "      <td>90</td>\n",
              "    </tr>\n",
              "    <tr>\n",
              "      <th>1</th>\n",
              "      <td>John</td>\n",
              "      <td>80</td>\n",
              "    </tr>\n",
              "    <tr>\n",
              "      <th>2</th>\n",
              "      <td>Sarah</td>\n",
              "      <td>98</td>\n",
              "    </tr>\n",
              "  </tbody>\n",
              "</table>\n",
              "</div>\n",
              "      <button class=\"colab-df-convert\" onclick=\"convertToInteractive('df-f73b6afe-54f8-4911-b5a9-54fd6927d998')\"\n",
              "              title=\"Convert this dataframe to an interactive table.\"\n",
              "              style=\"display:none;\">\n",
              "        \n",
              "  <svg xmlns=\"http://www.w3.org/2000/svg\" height=\"24px\"viewBox=\"0 0 24 24\"\n",
              "       width=\"24px\">\n",
              "    <path d=\"M0 0h24v24H0V0z\" fill=\"none\"/>\n",
              "    <path d=\"M18.56 5.44l.94 2.06.94-2.06 2.06-.94-2.06-.94-.94-2.06-.94 2.06-2.06.94zm-11 1L8.5 8.5l.94-2.06 2.06-.94-2.06-.94L8.5 2.5l-.94 2.06-2.06.94zm10 10l.94 2.06.94-2.06 2.06-.94-2.06-.94-.94-2.06-.94 2.06-2.06.94z\"/><path d=\"M17.41 7.96l-1.37-1.37c-.4-.4-.92-.59-1.43-.59-.52 0-1.04.2-1.43.59L10.3 9.45l-7.72 7.72c-.78.78-.78 2.05 0 2.83L4 21.41c.39.39.9.59 1.41.59.51 0 1.02-.2 1.41-.59l7.78-7.78 2.81-2.81c.8-.78.8-2.07 0-2.86zM5.41 20L4 18.59l7.72-7.72 1.47 1.35L5.41 20z\"/>\n",
              "  </svg>\n",
              "      </button>\n",
              "      \n",
              "  <style>\n",
              "    .colab-df-container {\n",
              "      display:flex;\n",
              "      flex-wrap:wrap;\n",
              "      gap: 12px;\n",
              "    }\n",
              "\n",
              "    .colab-df-convert {\n",
              "      background-color: #E8F0FE;\n",
              "      border: none;\n",
              "      border-radius: 50%;\n",
              "      cursor: pointer;\n",
              "      display: none;\n",
              "      fill: #1967D2;\n",
              "      height: 32px;\n",
              "      padding: 0 0 0 0;\n",
              "      width: 32px;\n",
              "    }\n",
              "\n",
              "    .colab-df-convert:hover {\n",
              "      background-color: #E2EBFA;\n",
              "      box-shadow: 0px 1px 2px rgba(60, 64, 67, 0.3), 0px 1px 3px 1px rgba(60, 64, 67, 0.15);\n",
              "      fill: #174EA6;\n",
              "    }\n",
              "\n",
              "    [theme=dark] .colab-df-convert {\n",
              "      background-color: #3B4455;\n",
              "      fill: #D2E3FC;\n",
              "    }\n",
              "\n",
              "    [theme=dark] .colab-df-convert:hover {\n",
              "      background-color: #434B5C;\n",
              "      box-shadow: 0px 1px 3px 1px rgba(0, 0, 0, 0.15);\n",
              "      filter: drop-shadow(0px 1px 2px rgba(0, 0, 0, 0.3));\n",
              "      fill: #FFFFFF;\n",
              "    }\n",
              "  </style>\n",
              "\n",
              "      <script>\n",
              "        const buttonEl =\n",
              "          document.querySelector('#df-f73b6afe-54f8-4911-b5a9-54fd6927d998 button.colab-df-convert');\n",
              "        buttonEl.style.display =\n",
              "          google.colab.kernel.accessAllowed ? 'block' : 'none';\n",
              "\n",
              "        async function convertToInteractive(key) {\n",
              "          const element = document.querySelector('#df-f73b6afe-54f8-4911-b5a9-54fd6927d998');\n",
              "          const dataTable =\n",
              "            await google.colab.kernel.invokeFunction('convertToInteractive',\n",
              "                                                     [key], {});\n",
              "          if (!dataTable) return;\n",
              "\n",
              "          const docLinkHtml = 'Like what you see? Visit the ' +\n",
              "            '<a target=\"_blank\" href=https://colab.research.google.com/notebooks/data_table.ipynb>data table notebook</a>'\n",
              "            + ' to learn more about interactive tables.';\n",
              "          element.innerHTML = '';\n",
              "          dataTable['output_type'] = 'display_data';\n",
              "          await google.colab.output.renderOutput(dataTable, element);\n",
              "          const docLink = document.createElement('div');\n",
              "          docLink.innerHTML = docLinkHtml;\n",
              "          element.appendChild(docLink);\n",
              "        }\n",
              "      </script>\n",
              "    </div>\n",
              "  </div>\n",
              "  "
            ]
          },
          "metadata": {},
          "execution_count": 19
        }
      ]
    },
    {
      "cell_type": "markdown",
      "source": [
        "# ⏰ Todo: "
      ],
      "metadata": {
        "id": "9D7U7633g0S_"
      }
    },
    {
      "cell_type": "markdown",
      "source": [
        "Using Colab, create a code page and post it on your Github account (file name: DLHW01.ipynb)"
      ],
      "metadata": {
        "id": "mSpge9tenu6I"
      }
    },
    {
      "cell_type": "markdown",
      "source": [
        "\n",
        "\n",
        "---\n",
        "# The End\n"
      ],
      "metadata": {
        "id": "3cZjH9xIiN4_"
      }
    }
  ]
}
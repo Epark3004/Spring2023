{
  "nbformat": 4,
  "nbformat_minor": 0,
  "metadata": {
    "colab": {
      "provenance": [],
      "authorship_tag": "ABX9TyOQsAm3TGBB3TbjsQVLZO2S",
      "include_colab_link": true
    },
    "kernelspec": {
      "name": "python3",
      "display_name": "Python 3"
    },
    "language_info": {
      "name": "python"
    }
  },
  "cells": [
    {
      "cell_type": "markdown",
      "metadata": {
        "id": "view-in-github",
        "colab_type": "text"
      },
      "source": [
        "<a href=\"https://colab.research.google.com/github/MK316/Spring2023/blob/main/DL/DLW06B.ipynb\" target=\"_parent\"><img src=\"https://colab.research.google.com/assets/colab-badge.svg\" alt=\"Open In Colab\"/></a>"
      ]
    },
    {
      "cell_type": "markdown",
      "source": [
        "# 🌱 **Digital Literacy Week06B: Useful tools to share 2**\n",
        "## **Project-Based Learning 2**\n",
        "\n",
        "---\n",
        "**To do list: Please read instructions together**\n",
        "\n",
        "**After completing the whole activity, save a copy to the leader's github DL repository with the following name (e.g., DLW06B_G5.ipynb).** I'll be checking it later. (Individual members can copy and save in their repository later)\n",
        "\n",
        "1. Activity [1]: Attendance checking (2 minutes)\n",
        "2. Activity [2]: Watch videos together as a group and evaluate them. (15 minutes)\n",
        "\n",
        ">+ **Videos:** Vedios created by other groups. (5 Videos to watch and evaluate)\n",
        "\n",
        "3. Activity [3]: Learn basic coding for string data (25 mins)\n",
        "\n",
        "> => Instructions are given below step by step\n",
        "\n",
        "4. Activity [4]: Group Quiz based on Activity [3]\n",
        "\n",
        "Save the copy to your repository after completing the Activity [4].\n",
        "---\n",
        "5. If you finish your class in group activities, don't forget to to the self-log [link here](https://forms.gle/Xpbz8uo5vHi57mWZ8)\n",
        "---"
      ],
      "metadata": {
        "id": "Em-8-hgn_czL"
      }
    },
    {
      "cell_type": "markdown",
      "source": [
        "# **Activity [1] Group activity attendance checking**\n",
        "\n",
        "Follow the QR code below (by running the code), and complete the attendance form."
      ],
      "metadata": {
        "id": "gmW9604XAAkw"
      }
    },
    {
      "cell_type": "code",
      "execution_count": 1,
      "metadata": {
        "cellView": "form",
        "id": "xDphqjzfz0E5",
        "colab": {
          "base_uri": "https://localhost:8080/",
          "height": 470
        },
        "outputId": "73f0f071-82af-4665-8916-ec55dd561105"
      },
      "outputs": [
        {
          "output_type": "execute_result",
          "data": {
            "text/plain": [
              "<IPython.core.display.SVG object>"
            ],
            "image/svg+xml": "<svg xmlns=\"http://www.w3.org/2000/svg\" height=\"450\" width=\"450\" class=\"pyqrcode\"><path transform=\"scale(10)\" stroke=\"#000\" class=\"pyqrline\" d=\"M4 4.5h7m1 0h1m2 0h1m1 0h3m2 0h1m1 0h3m3 0h1m3 0h7m-37 1h1m5 0h1m1 0h1m1 0h1m1 0h1m1 0h2m2 0h1m1 0h1m1 0h1m2 0h3m2 0h1m5 0h1m-37 1h1m1 0h3m1 0h1m2 0h1m1 0h1m2 0h1m2 0h1m3 0h1m4 0h2m2 0h1m1 0h3m1 0h1m-37 1h1m1 0h3m1 0h1m1 0h6m1 0h1m1 0h2m5 0h1m5 0h1m1 0h3m1 0h1m-37 1h1m1 0h3m1 0h1m1 0h1m1 0h1m7 0h1m1 0h2m2 0h2m1 0h1m2 0h1m1 0h3m1 0h1m-37 1h1m5 0h1m1 0h3m3 0h9m1 0h5m1 0h1m5 0h1m-37 1h7m1 0h1m1 0h1m1 0h1m1 0h1m1 0h1m1 0h1m1 0h1m1 0h1m1 0h1m1 0h1m1 0h1m1 0h7m-27 1h5m8 0h2m1 0h1m-24 1h1m2 0h1m3 0h1m1 0h4m1 0h2m2 0h1m2 0h1m2 0h2m2 0h3m1 0h2m-37 1h1m1 0h3m3 0h2m1 0h1m3 0h2m2 0h1m2 0h1m3 0h3m2 0h1m1 0h1m2 0h1m-36 1h3m2 0h1m2 0h1m1 0h2m1 0h1m1 0h1m1 0h1m1 0h2m1 0h1m3 0h1m2 0h1m1 0h1m1 0h3m-36 1h2m2 0h1m1 0h3m1 0h2m1 0h1m1 0h3m1 0h1m1 0h1m2 0h1m2 0h1m2 0h3m-33 1h2m1 0h1m1 0h6m2 0h2m2 0h1m2 0h1m2 0h2m1 0h1m1 0h3m1 0h1m1 0h2m-35 1h1m1 0h1m5 0h3m3 0h1m1 0h1m1 0h1m1 0h1m2 0h1m2 0h1m1 0h2m1 0h1m1 0h2m-35 1h1m2 0h3m1 0h2m1 0h3m1 0h1m1 0h2m2 0h1m1 0h1m1 0h1m3 0h1m1 0h1m1 0h1m1 0h1m-37 1h1m1 0h2m1 0h1m1 0h1m3 0h5m2 0h1m1 0h2m1 0h1m1 0h3m2 0h2m3 0h2m-35 1h3m1 0h2m1 0h3m4 0h2m3 0h1m2 0h2m3 0h3m1 0h2m1 0h1m-36 1h1m2 0h1m2 0h8m3 0h1m2 0h2m3 0h1m3 0h1m1 0h1m1 0h1m1 0h1m-36 1h1m4 0h1m1 0h1m1 0h1m1 0h1m1 0h3m1 0h1m1 0h2m1 0h2m1 0h1m2 0h2m2 0h4m-37 1h4m4 0h2m1 0h1m1 0h5m2 0h1m1 0h3m2 0h1m1 0h1m1 0h2m1 0h1m1 0h1m-35 1h1m1 0h4m1 0h1m2 0h1m4 0h2m2 0h6m1 0h1m1 0h4m1 0h2m-36 1h1m1 0h1m1 0h1m1 0h1m1 0h1m1 0h3m1 0h5m3 0h1m2 0h1m2 0h1m3 0h1m-34 1h2m1 0h1m2 0h1m1 0h2m6 0h2m2 0h5m4 0h1m1 0h6m-37 1h2m1 0h2m6 0h3m1 0h2m1 0h1m1 0h3m3 0h1m3 0h1m1 0h1m3 0h1m-37 1h3m3 0h1m3 0h1m1 0h1m1 0h1m1 0h1m1 0h2m1 0h1m1 0h2m2 0h1m1 0h1m2 0h3m1 0h1m-36 1h1m2 0h1m4 0h1m3 0h1m1 0h2m1 0h2m1 0h1m1 0h2m2 0h3m1 0h2m1 0h3m-37 1h1m1 0h5m2 0h4m6 0h1m1 0h2m1 0h3m2 0h2m1 0h1m3 0h1m-36 1h1m1 0h3m4 0h1m1 0h1m1 0h1m1 0h5m3 0h2m1 0h1m2 0h1m1 0h2m1 0h1m-36 1h2m2 0h6m1 0h1m2 0h2m1 0h3m1 0h4m3 0h5m2 0h2m-29 1h1m4 0h4m3 0h5m1 0h3m3 0h1m2 0h2m-37 1h7m4 0h2m1 0h1m2 0h1m2 0h1m1 0h1m2 0h2m1 0h1m1 0h1m1 0h1m1 0h3m-37 1h1m5 0h1m2 0h3m2 0h1m2 0h1m2 0h1m1 0h2m2 0h1m1 0h1m3 0h1m1 0h1m1 0h1m-37 1h1m1 0h3m1 0h1m3 0h4m3 0h1m1 0h4m3 0h1m1 0h6m-34 1h1m1 0h3m1 0h1m1 0h2m1 0h2m2 0h2m2 0h3m1 0h1m1 0h1m2 0h2m2 0h2m1 0h2m-37 1h1m1 0h3m1 0h1m2 0h1m3 0h2m2 0h1m3 0h1m3 0h1m1 0h1m1 0h1m1 0h4m1 0h1m-37 1h1m5 0h1m2 0h4m2 0h1m2 0h5m2 0h6m1 0h2m-34 1h7m2 0h2m1 0h1m1 0h3m1 0h3m1 0h1m1 0h2m1 0h2m1 0h1m1 0h1m2 0h2\"/></svg>"
          },
          "metadata": {},
          "execution_count": 1
        }
      ],
      "source": [
        "#@markdown Run this code to see QR code for attendance checking:\n",
        "# !pip install IPython\n",
        "\n",
        "import IPython\n",
        "import requests\n",
        "\n",
        "url = 'https://raw.githubusercontent.com/MK316/Spring2023/main/DL/files/DL_attcheck.svg'\n",
        "response = requests.get(url)\n",
        "svg_data = response.content\n",
        "\n",
        "IPython.display.SVG(svg_data)\n"
      ]
    },
    {
      "cell_type": "markdown",
      "source": [
        "# **Activity [2]** Watch videos created by groups and evaluate them [15 minutes to spare]"
      ],
      "metadata": {
        "id": "pDGaVyQw_1cy"
      }
    },
    {
      "cell_type": "markdown",
      "source": [
        "### Choose below the Group number and then run the code to watch the video."
      ],
      "metadata": {
        "id": "cB9-5LCmdV9y"
      }
    },
    {
      "cell_type": "markdown",
      "source": [
        "[G1](https://youtu.be/n0rIuCLD_MA) \n",
        "[G2](https://youtu.be/4dcuJU6uV_c)\n",
        "[G3](https://www.youtube.com/watch?v=PiuURrnb4CU)\n",
        "[G4](https://youtu.be/u86x6iLGpD0)\n",
        "[G5](https://youtu.be/lhEwGjuW25s)\n",
        "[G6](https://youtu.be/G8SLuhUi6Uw)"
      ],
      "metadata": {
        "id": "8wj5jpt4lNTd"
      }
    },
    {
      "cell_type": "code",
      "source": [
        "from IPython.display import YouTubeVideo, Audio, Image\n",
        "\n",
        "Groups = \"Group 6\" #@param = [\"Group 1\", \"Group 2\", \"Group 3\", \"Group 4\", \"Group 5\", \"Group 6\"]\n",
        "gns = Groups.split(\" \")\n",
        "gn = int(gns[1]) -1\n",
        "\n",
        "links = [\"n0rIuCLD_MA\",\n",
        "         \"4dcuJU6uV_c\",\n",
        "         \"PiuURrnb4CU\",\n",
        "         \"u86x6iLGpD0\",\n",
        "         \"lhEwGjuW25s\",\n",
        "         \"G8SLuhUi6Uw\"]\n",
        "\n",
        "link = links[gn]\n",
        "video = YouTubeVideo(link, width = 800, height=600)\n",
        "print(\"This video is created by %s: \"%Groups)\n",
        "print(\"Evaluation form link: https://forms.gle/7am1noDTqTyPhnnh8\")\n",
        "print(\"=\"*50)\n",
        "display(video)"
      ],
      "metadata": {
        "colab": {
          "base_uri": "https://localhost:8080/",
          "height": 676
        },
        "cellView": "form",
        "id": "dFPefGeCC-nw",
        "outputId": "3ccc72e2-5c93-45a4-d466-4687981ac5af"
      },
      "execution_count": null,
      "outputs": [
        {
          "output_type": "stream",
          "name": "stdout",
          "text": [
            "This video is created by Group 6: \n",
            "Evaluation form link: https://forms.gle/7am1noDTqTyPhnnh8\n",
            "==================================================\n"
          ]
        },
        {
          "output_type": "display_data",
          "data": {
            "text/plain": [
              "<IPython.lib.display.YouTubeVideo at 0x7fa612fd4760>"
            ],
            "text/html": [
              "\n",
              "        <iframe\n",
              "            width=\"800\"\n",
              "            height=\"600\"\n",
              "            src=\"https://www.youtube.com/embed/G8SLuhUi6Uw\"\n",
              "            frameborder=\"0\"\n",
              "            allowfullscreen\n",
              "            \n",
              "        ></iframe>\n",
              "        "
            ],
            "image/jpeg": "[encoded data removed]"
          },
          "metadata": {}
        }
      ]
    },
    {
      "cell_type": "markdown",
      "source": [
        "# **Activity [3] Learn coding to handle string data**\n",
        "\n",
        "**Step1** Visit the website [Jump to Python](https://wikidocs.net/13): This is a Python tutorial.\n",
        "  \n",
        "**Step2** Follow the tutorial by adding code cells below (one by one) from 1. 문자열이란? ~ 5.1 문자열 포매팅 따라하기  \n",
        "\n",
        "**Group leader's role:** _Make it sure that all the members understand each line_"
      ],
      "metadata": {
        "id": "nkl7vGH8AONc"
      }
    },
    {
      "cell_type": "code",
      "source": [
        "# 1. 문자열이란? (Write the title in the first line. You can add more code cells as needed.)"
      ],
      "metadata": {
        "id": "bYx42wNv7PN4"
      },
      "execution_count": null,
      "outputs": []
    },
    {
      "cell_type": "code",
      "source": [
        "# 2.1"
      ],
      "metadata": {
        "id": "_rMw7Zif7U1_"
      },
      "execution_count": null,
      "outputs": []
    },
    {
      "cell_type": "code",
      "source": [
        "# 2.2"
      ],
      "metadata": {
        "id": "1t9_LXFH7V0J"
      },
      "execution_count": null,
      "outputs": []
    },
    {
      "cell_type": "code",
      "source": [
        "# 2.3"
      ],
      "metadata": {
        "id": "v7GFUmJS7jSH"
      },
      "execution_count": null,
      "outputs": []
    },
    {
      "cell_type": "code",
      "source": [
        "# 3.1"
      ],
      "metadata": {
        "id": "0j9p_J6S7kYD"
      },
      "execution_count": null,
      "outputs": []
    },
    {
      "cell_type": "code",
      "source": [
        "# 3.2"
      ],
      "metadata": {
        "id": "TJ_oWfBN7mRE"
      },
      "execution_count": null,
      "outputs": []
    },
    {
      "cell_type": "code",
      "source": [
        "# 3.3"
      ],
      "metadata": {
        "id": "Aax-cec77nYr"
      },
      "execution_count": null,
      "outputs": []
    },
    {
      "cell_type": "code",
      "source": [
        "# 3.4"
      ],
      "metadata": {
        "id": "NSAGCd1I7oLm"
      },
      "execution_count": null,
      "outputs": []
    },
    {
      "cell_type": "code",
      "source": [
        "# 4.1"
      ],
      "metadata": {
        "id": "v__xQecR7pPo"
      },
      "execution_count": null,
      "outputs": []
    },
    {
      "cell_type": "code",
      "source": [
        "# 4.2"
      ],
      "metadata": {
        "id": "nwt-qTGZ7qNy"
      },
      "execution_count": null,
      "outputs": []
    },
    {
      "cell_type": "code",
      "source": [
        "# 4.3"
      ],
      "metadata": {
        "id": "n0NTfJoE7q_I"
      },
      "execution_count": null,
      "outputs": []
    },
    {
      "cell_type": "code",
      "source": [
        "# 4.4"
      ],
      "metadata": {
        "id": "y4XFohc_7sAZ"
      },
      "execution_count": null,
      "outputs": []
    },
    {
      "cell_type": "code",
      "source": [
        "# 4.5"
      ],
      "metadata": {
        "id": "FxgFonNk7tG5"
      },
      "execution_count": null,
      "outputs": []
    },
    {
      "cell_type": "code",
      "source": [
        "# 5.1"
      ],
      "metadata": {
        "id": "CUV6drLA7uXc"
      },
      "execution_count": null,
      "outputs": []
    },
    {
      "cell_type": "markdown",
      "source": [
        "# **Activity [4]: Group quiz**\n",
        "\n",
        "After completing the above activity [3], create a code cell below each text cell with instruction. Run each code cell to check the result or whether the code runs okay."
      ],
      "metadata": {
        "id": "RiHD0RjUAVBc"
      }
    },
    {
      "cell_type": "markdown",
      "source": [
        "Q1. In the code cell below, create variables and assign string (characters) as follows.\n",
        "\n",
        "**Table 1**\n",
        "\n",
        "|variable name| value|\n",
        "|---|---|\n",
        "|mytext1| We are the group number 5.|\n",
        "|mytext2| We're the group number 5.|\n",
        "|mytext3| We are the group number \"5\".|"
      ],
      "metadata": {
        "id": "r93VHKazCqkv"
      }
    },
    {
      "cell_type": "code",
      "source": [
        "mytext1 = \"We are the group number 5.\"\n",
        "mytext2 = \"We're the group number 5.\"\n",
        "mytext3 = 'We are the group number \"5\".'"
      ],
      "metadata": {
        "id": "i8Zy5F--C7a2"
      },
      "execution_count": 12,
      "outputs": []
    },
    {
      "cell_type": "markdown",
      "source": [
        "Q2. Run the code below and see whether the output displays as instructed in Table 1 in the above."
      ],
      "metadata": {
        "id": "8gMzCpVDC7yi"
      }
    },
    {
      "cell_type": "code",
      "source": [
        "print(mytext1)\n",
        "print(mytext2)\n",
        "print(mytext3)"
      ],
      "metadata": {
        "colab": {
          "base_uri": "https://localhost:8080/"
        },
        "id": "xHuRDs99Dvxh",
        "outputId": "2eaccd74-29c8-4b79-a4f4-69c961fb0095"
      },
      "execution_count": 13,
      "outputs": [
        {
          "output_type": "stream",
          "name": "stdout",
          "text": [
            "We are the group number 5.\n",
            "We're the group number 5.\n",
            "We are the group number \"5\".\n"
          ]
        }
      ]
    },
    {
      "cell_type": "markdown",
      "source": [
        "Q3.Print the 8th string in 'mytext2'?"
      ],
      "metadata": {
        "id": "uKqEDUGYDwRz"
      }
    },
    {
      "cell_type": "code",
      "source": [
        "mytext2[7]"
      ],
      "metadata": {
        "colab": {
          "base_uri": "https://localhost:8080/",
          "height": 35
        },
        "id": "6oJ-LjuLD2v2",
        "outputId": "a924efcc-0981-4cfc-b945-57fd76ae3a00"
      },
      "execution_count": 14,
      "outputs": [
        {
          "output_type": "execute_result",
          "data": {
            "text/plain": [
              "'h'"
            ],
            "application/vnd.google.colaboratory.intrinsic+json": {
              "type": "string"
            }
          },
          "metadata": {},
          "execution_count": 14
        }
      ]
    },
    {
      "cell_type": "markdown",
      "source": [
        "Q4. In mytext2, print strings from the 7th to the 15th."
      ],
      "metadata": {
        "id": "qB8ODOpcEQAE"
      }
    },
    {
      "cell_type": "code",
      "source": [
        "mytext2[7:16]"
      ],
      "metadata": {
        "colab": {
          "base_uri": "https://localhost:8080/",
          "height": 35
        },
        "id": "DexPUz_kERMc",
        "outputId": "a0a9860e-66bc-4787-a1e8-292baab5702c"
      },
      "execution_count": 15,
      "outputs": [
        {
          "output_type": "execute_result",
          "data": {
            "text/plain": [
              "'he group '"
            ],
            "application/vnd.google.colaboratory.intrinsic+json": {
              "type": "string"
            }
          },
          "metadata": {},
          "execution_count": 15
        }
      ]
    },
    {
      "cell_type": "markdown",
      "source": [
        "Q5. If you run the code below, the three variables (mytext1, mytext2, mytext3) will appear in one line. **Using an escape code make the following code prints each result in a different line.**"
      ],
      "metadata": {
        "id": "Fu0n35JFE1FI"
      }
    },
    {
      "cell_type": "code",
      "source": [
        "print(mytext1+mytext2+mytext3)"
      ],
      "metadata": {
        "colab": {
          "base_uri": "https://localhost:8080/"
        },
        "id": "MGOB1EaTHC20",
        "outputId": "2a8caef1-bb46-4545-cbb5-9628a8b76fa0"
      },
      "execution_count": 17,
      "outputs": [
        {
          "output_type": "stream",
          "name": "stdout",
          "text": [
            "We are the group number 5.\n",
            "We're the group number 5.We are the group number \"5\".\n"
          ]
        }
      ]
    },
    {
      "cell_type": "markdown",
      "source": [
        "Q6. In the code below, a is assigned the value \"Bravo!\" **Add code line(s) in order to print 30 times of the same string.**\n",
        "\n",
        "e.g., Bravo!Bravo!....Bravo! (30 times without any space)"
      ],
      "metadata": {
        "id": "tx2E4ZgnD5rg"
      }
    },
    {
      "cell_type": "code",
      "source": [
        "a = \"Bravo!\""
      ],
      "metadata": {
        "id": "u5r4dbLqH7FI"
      },
      "execution_count": null,
      "outputs": []
    },
    {
      "cell_type": "markdown",
      "source": [
        "Q7. Below, the variabe b is assigned to your group number (e.g., Group 5 - change the number with your group number). Add code line(s) to print **Bravo! Group 5!**"
      ],
      "metadata": {
        "id": "Pq8eYK-KJZ-b"
      }
    },
    {
      "cell_type": "code",
      "source": [
        "b = \"Group 5\""
      ],
      "metadata": {
        "id": "yLf6ALlPJzSk"
      },
      "execution_count": null,
      "outputs": []
    },
    {
      "cell_type": "markdown",
      "source": [
        "Q8. Get the length of mytext1"
      ],
      "metadata": {
        "id": "p3ejYs7kJ8qu"
      }
    },
    {
      "cell_type": "code",
      "source": [
        "len(mytext1)"
      ],
      "metadata": {
        "colab": {
          "base_uri": "https://localhost:8080/"
        },
        "id": "vWldeIUzKIgb",
        "outputId": "3f3a071e-875a-43e6-f6f5-a492f3acaede"
      },
      "execution_count": 18,
      "outputs": [
        {
          "output_type": "execute_result",
          "data": {
            "text/plain": [
              "26"
            ]
          },
          "metadata": {},
          "execution_count": 18
        }
      ]
    },
    {
      "cell_type": "markdown",
      "source": [
        "Q9. Read the following code lines, and complete appropriate index number in each index [bracket] in order to print 'Life'.Do not use negative index (e.g., [-2] for this code."
      ],
      "metadata": {
        "id": "7I9Mtvn7KKyZ"
      }
    },
    {
      "cell_type": "code",
      "source": [
        "sample = \"I love fireworks\"\n",
        "print(sample[2]+sample[8]+sample[7]+sample[5])"
      ],
      "metadata": {
        "colab": {
          "base_uri": "https://localhost:8080/"
        },
        "id": "6ICIhyh4KKHm",
        "outputId": "b685fbf6-7152-404e-a032-d519fb6df61e"
      },
      "execution_count": 20,
      "outputs": [
        {
          "output_type": "stream",
          "name": "stdout",
          "text": [
            "life\n"
          ]
        }
      ]
    },
    {
      "cell_type": "markdown",
      "source": [
        "Q10. Do the same thing using negative indices only."
      ],
      "metadata": {
        "id": "eW45vIJsNaoV"
      }
    },
    {
      "cell_type": "code",
      "source": [
        "sample = \"I love fireworks\"\n",
        "print(sample[-16]+sample[-8]+sample[-9]+sample[-11])"
      ],
      "metadata": {
        "colab": {
          "base_uri": "https://localhost:8080/"
        },
        "id": "Y6T6Zx33Onas",
        "outputId": "f8baf613-556f-4184-eede-261e8c4742c1"
      },
      "execution_count": 26,
      "outputs": [
        {
          "output_type": "stream",
          "name": "stdout",
          "text": [
            "Iife\n"
          ]
        }
      ]
    },
    {
      "cell_type": "markdown",
      "source": [
        "Q11. With the sample variable in the above, print the string from the 8th to the end."
      ],
      "metadata": {
        "id": "KaJUsnPmO11m"
      }
    },
    {
      "cell_type": "code",
      "source": [
        "sample[8:]"
      ],
      "metadata": {
        "colab": {
          "base_uri": "https://localhost:8080/",
          "height": 35
        },
        "id": "L6BBHX2WPIjL",
        "outputId": "cf8cab17-1f25-47e5-96eb-4520fa03ccb3"
      },
      "execution_count": 27,
      "outputs": [
        {
          "output_type": "execute_result",
          "data": {
            "text/plain": [
              "'ireworks'"
            ],
            "application/vnd.google.colaboratory.intrinsic+json": {
              "type": "string"
            }
          },
          "metadata": {},
          "execution_count": 27
        }
      ]
    },
    {
      "cell_type": "markdown",
      "source": [
        "Q12. Slicing practice: using indexing, assign w1, w2, w3 to \"I, love, firewords\". You are expected to write down the index, either a single number or two numbers before and after the colon in [ :  ]. "
      ],
      "metadata": {
        "id": "eQHgW8ahPRBt"
      }
    },
    {
      "cell_type": "code",
      "source": [
        "sample = \"I love fireworks\"\n",
        "\n",
        "w1 = sample[0]\n",
        "w2 = sample[2:6]\n",
        "w3 = sample[7:]\n",
        "print(w1, w2, w3)"
      ],
      "metadata": {
        "colab": {
          "base_uri": "https://localhost:8080/"
        },
        "id": "x4_0F6DWPkty",
        "outputId": "a389dbe8-05c3-489a-a870-411ed7f96230"
      },
      "execution_count": 29,
      "outputs": [
        {
          "output_type": "stream",
          "name": "stdout",
          "text": [
            "I love fireworks\n"
          ]
        }
      ]
    },
    {
      "cell_type": "markdown",
      "source": [
        "Q13. In the code below, the variable a is assigned to \"my gruop\". Using the variable a and indexing, correct a as \"my group\" so that the final code print(a) prints it correctly.\n",
        "\n",
        "**Note:** String elements are immutable, which means you cannot replace elements directly. (e.g., a[5] = \"o\" doesn't work)"
      ],
      "metadata": {
        "id": "1R7l_jf4Qki7"
      }
    },
    {
      "cell_type": "code",
      "source": [
        "a = \"my gruop\"\n",
        "\n",
        "# Add code lines here\n",
        "\n",
        "print(a)"
      ],
      "metadata": {
        "colab": {
          "base_uri": "https://localhost:8080/"
        },
        "id": "E7X8-63ARQ8K",
        "outputId": "07aad44a-6e70-4fa5-bd51-b678efbfd0bc"
      },
      "execution_count": 32,
      "outputs": [
        {
          "output_type": "stream",
          "name": "stdout",
          "text": [
            "my gruop\n"
          ]
        }
      ]
    },
    {
      "cell_type": "markdown",
      "source": [
        "Q14. Study the following code, and add something to the final code so that the output prints \"You typed you're ______ years old.\"\n",
        "\n",
        "e.g., if you type 18, the output should print \"You typed you're 18 years old.\""
      ],
      "metadata": {
        "id": "fSKxKs6DQQeL"
      }
    },
    {
      "cell_type": "code",
      "source": [
        "age = input(\"Q: How old are you? \")\n",
        "\n",
        "print(\"A: You typed you're years old.\")"
      ],
      "metadata": {
        "colab": {
          "base_uri": "https://localhost:8080/"
        },
        "id": "_J1ukqORSnrJ",
        "outputId": "3e713cb0-1707-4c33-e8e5-f661b37f5794"
      },
      "execution_count": 34,
      "outputs": [
        {
          "output_type": "stream",
          "name": "stdout",
          "text": [
            "Q: How old are you? 23\n",
            "A: You typed you're years old.\n"
          ]
        }
      ]
    },
    {
      "cell_type": "markdown",
      "source": [
        "---\n",
        "# Activity [5] Self-log (Only for groups who finish the schedule with this group work)"
      ],
      "metadata": {
        "id": "p3BZ97B6AXgC"
      }
    }
  ]
}
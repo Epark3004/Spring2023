{
  "nbformat": 4,
  "nbformat_minor": 0,
  "metadata": {
    "colab": {
      "provenance": [],
      "authorship_tag": "ABX9TyMTNwlKXpeMV2SC9wl4BaZc",
      "include_colab_link": true
    },
    "kernelspec": {
      "name": "python3",
      "display_name": "Python 3"
    },
    "language_info": {
      "name": "python"
    }
  },
  "cells": [
    {
      "cell_type": "markdown",
      "metadata": {
        "id": "view-in-github",
        "colab_type": "text"
      },
      "source": [
        "<a href=\"https://colab.research.google.com/github/MK316/Spring2023/blob/main/DL/DLW06B.ipynb\" target=\"_parent\"><img src=\"https://colab.research.google.com/assets/colab-badge.svg\" alt=\"Open In Colab\"/></a>"
      ]
    },
    {
      "cell_type": "markdown",
      "source": [
        "# 🌱 **Digital Literacy Week06B (4/12): Useful tools to share 2**\n",
        "## **Project-Based Learning 2**\n",
        "\n",
        "---\n",
        "**To do list:**\n",
        "\n",
        "_Please read the following instructions together with your group members and make it sure that all of you understand what you're supposed to do today._\n",
        "\n",
        "1. Activity [1]: Attendance checking (2 minutes)\n",
        "2. Activity [2]: Watch videos together as a group and evaluate them. (8 minutes)\n",
        "\n",
        ">+ **Videos:** Vedios created by other groups. (2 Videos to watch and evaluate)\n",
        ">+ G1: Watch G6, G2 videos\n",
        ">+ G2: Watch G1, G3 videos\n",
        ">+ G3: Watch G2, G4 videos\n",
        ">+ G4: Watch G3, G5 videos\n",
        ">+ G5: Watch G4, G6 videos\n",
        "\n",
        "3. Activity [3]: Learn basic coding for string data (25 mins)\n",
        "\n",
        "> => Instructions are given below step by step\n",
        "\n",
        "4. Activity [4]: Group Quiz based on Activity [3] (12 minutes)\n",
        "\n",
        "####🚩 (Important) Save the copy of this notebook to the leader's repository after completing the Activity 4. When saving this page, name the file as \"DLW06B_G5.ipynb\" under the DL directory.\n",
        "---\n",
        "5. If you finish your class in group activities, don't forget to to the self-log [link here](https://forms.gle/NUzys1RoPHmYmSDWA)\n",
        "---"
      ],
      "metadata": {
        "id": "Em-8-hgn_czL"
      }
    },
    {
      "cell_type": "markdown",
      "source": [
        "# **Activity [1] Group activity attendance checking (Only for groups who begins class here)**\n",
        "\n",
        "Follow the QR code below (by running the code), and complete the attendance form."
      ],
      "metadata": {
        "id": "gmW9604XAAkw"
      }
    },
    {
      "cell_type": "code",
      "execution_count": null,
      "metadata": {
        "cellView": "form",
        "id": "xDphqjzfz0E5",
        "colab": {
          "base_uri": "https://localhost:8080/",
          "height": 471
        },
        "outputId": "d4c2ca0a-45c6-4b49-af65-971108c03881"
      },
      "outputs": [
        {
          "output_type": "execute_result",
          "data": {
            "text/plain": [
              "<IPython.core.display.SVG object>"
            ],
            "image/svg+xml": "<svg xmlns=\"http://www.w3.org/2000/svg\" height=\"450\" width=\"450\" class=\"pyqrcode\"><path transform=\"scale(10)\" stroke=\"#000\" class=\"pyqrline\" d=\"M4 4.5h7m1 0h1m2 0h1m1 0h3m2 0h1m1 0h3m3 0h1m3 0h7m-37 1h1m5 0h1m1 0h1m1 0h1m1 0h1m1 0h2m2 0h1m1 0h1m1 0h1m2 0h3m2 0h1m5 0h1m-37 1h1m1 0h3m1 0h1m2 0h1m1 0h1m2 0h1m2 0h1m3 0h1m4 0h2m2 0h1m1 0h3m1 0h1m-37 1h1m1 0h3m1 0h1m1 0h6m1 0h1m1 0h2m5 0h1m5 0h1m1 0h3m1 0h1m-37 1h1m1 0h3m1 0h1m1 0h1m1 0h1m7 0h1m1 0h2m2 0h2m1 0h1m2 0h1m1 0h3m1 0h1m-37 1h1m5 0h1m1 0h3m3 0h9m1 0h5m1 0h1m5 0h1m-37 1h7m1 0h1m1 0h1m1 0h1m1 0h1m1 0h1m1 0h1m1 0h1m1 0h1m1 0h1m1 0h1m1 0h1m1 0h7m-27 1h5m8 0h2m1 0h1m-24 1h1m2 0h1m3 0h1m1 0h4m1 0h2m2 0h1m2 0h1m2 0h2m2 0h3m1 0h2m-37 1h1m1 0h3m3 0h2m1 0h1m3 0h2m2 0h1m2 0h1m3 0h3m2 0h1m1 0h1m2 0h1m-36 1h3m2 0h1m2 0h1m1 0h2m1 0h1m1 0h1m1 0h1m1 0h2m1 0h1m3 0h1m2 0h1m1 0h1m1 0h3m-36 1h2m2 0h1m1 0h3m1 0h2m1 0h1m1 0h3m1 0h1m1 0h1m2 0h1m2 0h1m2 0h3m-33 1h2m1 0h1m1 0h6m2 0h2m2 0h1m2 0h1m2 0h2m1 0h1m1 0h3m1 0h1m1 0h2m-35 1h1m1 0h1m5 0h3m3 0h1m1 0h1m1 0h1m1 0h1m2 0h1m2 0h1m1 0h2m1 0h1m1 0h2m-35 1h1m2 0h3m1 0h2m1 0h3m1 0h1m1 0h2m2 0h1m1 0h1m1 0h1m3 0h1m1 0h1m1 0h1m1 0h1m-37 1h1m1 0h2m1 0h1m1 0h1m3 0h5m2 0h1m1 0h2m1 0h1m1 0h3m2 0h2m3 0h2m-35 1h3m1 0h2m1 0h3m4 0h2m3 0h1m2 0h2m3 0h3m1 0h2m1 0h1m-36 1h1m2 0h1m2 0h8m3 0h1m2 0h2m3 0h1m3 0h1m1 0h1m1 0h1m1 0h1m-36 1h1m4 0h1m1 0h1m1 0h1m1 0h1m1 0h3m1 0h1m1 0h2m1 0h2m1 0h1m2 0h2m2 0h4m-37 1h4m4 0h2m1 0h1m1 0h5m2 0h1m1 0h3m2 0h1m1 0h1m1 0h2m1 0h1m1 0h1m-35 1h1m1 0h4m1 0h1m2 0h1m4 0h2m2 0h6m1 0h1m1 0h4m1 0h2m-36 1h1m1 0h1m1 0h1m1 0h1m1 0h1m1 0h3m1 0h5m3 0h1m2 0h1m2 0h1m3 0h1m-34 1h2m1 0h1m2 0h1m1 0h2m6 0h2m2 0h5m4 0h1m1 0h6m-37 1h2m1 0h2m6 0h3m1 0h2m1 0h1m1 0h3m3 0h1m3 0h1m1 0h1m3 0h1m-37 1h3m3 0h1m3 0h1m1 0h1m1 0h1m1 0h1m1 0h2m1 0h1m1 0h2m2 0h1m1 0h1m2 0h3m1 0h1m-36 1h1m2 0h1m4 0h1m3 0h1m1 0h2m1 0h2m1 0h1m1 0h2m2 0h3m1 0h2m1 0h3m-37 1h1m1 0h5m2 0h4m6 0h1m1 0h2m1 0h3m2 0h2m1 0h1m3 0h1m-36 1h1m1 0h3m4 0h1m1 0h1m1 0h1m1 0h5m3 0h2m1 0h1m2 0h1m1 0h2m1 0h1m-36 1h2m2 0h6m1 0h1m2 0h2m1 0h3m1 0h4m3 0h5m2 0h2m-29 1h1m4 0h4m3 0h5m1 0h3m3 0h1m2 0h2m-37 1h7m4 0h2m1 0h1m2 0h1m2 0h1m1 0h1m2 0h2m1 0h1m1 0h1m1 0h1m1 0h3m-37 1h1m5 0h1m2 0h3m2 0h1m2 0h1m2 0h1m1 0h2m2 0h1m1 0h1m3 0h1m1 0h1m1 0h1m-37 1h1m1 0h3m1 0h1m3 0h4m3 0h1m1 0h4m3 0h1m1 0h6m-34 1h1m1 0h3m1 0h1m1 0h2m1 0h2m2 0h2m2 0h3m1 0h1m1 0h1m2 0h2m2 0h2m1 0h2m-37 1h1m1 0h3m1 0h1m2 0h1m3 0h2m2 0h1m3 0h1m3 0h1m1 0h1m1 0h1m1 0h4m1 0h1m-37 1h1m5 0h1m2 0h4m2 0h1m2 0h5m2 0h6m1 0h2m-34 1h7m2 0h2m1 0h1m1 0h3m1 0h3m1 0h1m1 0h2m1 0h2m1 0h1m1 0h1m2 0h2\"/></svg>"
          },
          "metadata": {},
          "execution_count": 2
        }
      ],
      "source": [
        "#@markdown Run this code to see QR code for attendance checking:\n",
        "# !pip install IPython\n",
        "from IPython.display import SVG\n",
        "import IPython\n",
        "import requests\n",
        "\n",
        "url = 'https://raw.githubusercontent.com/MK316/Spring2023/main/DL/files/DL_attcheck.svg'\n",
        "response = requests.get(url)\n",
        "svg_data = response.content\n",
        "\n",
        "IPython.display.SVG(svg_data)\n"
      ]
    },
    {
      "cell_type": "markdown",
      "source": [
        "# **Activity [2]** Watch 2 videos created by other groups and evaluate them [8 minutes to spare]\n",
        "\n",
        "G1: videos created by G6, G2  \n",
        "G2: videos created by G1, G3  \n",
        "G3: videos created by G2, G4  \n",
        "G4: videos created by G3, G5  \n",
        "G5: videos created by G4, G6  \n",
        "G6: videos created by G5, G1  "
      ],
      "metadata": {
        "id": "pDGaVyQw_1cy"
      }
    },
    {
      "cell_type": "markdown",
      "source": [
        "### Choose below the Group number and then run the code to watch the video."
      ],
      "metadata": {
        "id": "cB9-5LCmdV9y"
      }
    },
    {
      "cell_type": "markdown",
      "source": [
        "[G1](https://youtu.be/y1_JjD1xj0w)  ok  \n",
        "[G2](https://youtu.be/o3BSfqPY3XE)  ok  \n",
        "[G3](https://youtu.be/PxaJICCFCL0) ok  \n",
        "[G4](https://youtu.be/u86x6iLGpD0)  \n",
        "[G5](https://youtu.be/DzfgY_0OvqU)  ok  \n",
        "[G6](https://youtu.be/cjnU9oEg6DM)  ok  \n",
        "\n",
        "[Evaluation form link](https://forms.gle/7am1noDTqTyPhnnh8): one submission per each group (so two submissions are required for your group activity.)"
      ],
      "metadata": {
        "id": "8wj5jpt4lNTd"
      }
    },
    {
      "cell_type": "code",
      "source": [
        "from IPython.display import YouTubeVideo, Audio, Image\n",
        "\n",
        "Groups = \"Group 6\" #@param = [\"Group 1\", \"Group 2\", \"Group 3\", \"Group 4\", \"Group 5\", \"Group 6\"]\n",
        "gns = Groups.split(\" \")\n",
        "gn = int(gns[1]) -1\n",
        "\n",
        "links = [\"y1_JjD1xj0w\",\n",
        "         \"o3BSfqPY3XE\",\n",
        "         \"PxaJICCFCL0\",\n",
        "         \"u86x6iLGpD0\",\n",
        "         \"DzfgY_0OvqU\",\n",
        "         \"cjnU9oEg6DM\"]\n",
        "\n",
        "link = links[gn]\n",
        "video = YouTubeVideo(link, width = 800, height=600)\n",
        "print(\"This video is created by %s: \"%Groups)\n",
        "print(\"Evaluation form link: https://forms.gle/7am1noDTqTyPhnnh8\")\n",
        "print(\"=\"*50)\n",
        "display(video)"
      ],
      "metadata": {
        "colab": {
          "base_uri": "https://localhost:8080/",
          "height": 674
        },
        "id": "dFPefGeCC-nw",
        "outputId": "b61789f5-bb7a-48be-a928-31597125878d"
      },
      "execution_count": 2,
      "outputs": [
        {
          "output_type": "stream",
          "name": "stdout",
          "text": [
            "This video is created by Group 6: \n",
            "Evaluation form link: https://forms.gle/7am1noDTqTyPhnnh8\n",
            "==================================================\n"
          ]
        },
        {
          "output_type": "display_data",
          "data": {
            "text/plain": [
              "<IPython.lib.display.YouTubeVideo at 0x7f568d25aeb0>"
            ],
            "text/html": [
              "\n",
              "        <iframe\n",
              "            width=\"800\"\n",
              "            height=\"600\"\n",
              "            src=\"https://www.youtube.com/embed/cjnU9oEg6DM\"\n",
              "            frameborder=\"0\"\n",
              "            allowfullscreen\n",
              "            \n",
              "        ></iframe>\n",
              "        "
            ],
            "image/jpeg": "[encoded data removed]"
          },
          "metadata": {}
        }
      ]
    },
    {
      "cell_type": "markdown",
      "source": [
        "# **Activity [3] Learn coding to handle string data**\n",
        "\n",
        "**Step1** Visit the website [Jump to Python](https://wikidocs.net/13): This is a Python tutorial.\n",
        "  \n",
        "**Step2** Follow the tutorial by adding code cells below (one by one) from 1. 문자열이란? ~ 5.1 문자열 포매팅 따라하기  \n",
        "\n",
        "**Group leader's role:** _Make it sure that each code cell runs with no error, and that all the members understand each line_"
      ],
      "metadata": {
        "id": "nkl7vGH8AONc"
      }
    },
    {
      "cell_type": "code",
      "source": [
        "# 1. 문자열이란? (Write the title in the first line. You can add more code cells as needed.)"
      ],
      "metadata": {
        "id": "bYx42wNv7PN4"
      },
      "execution_count": null,
      "outputs": []
    },
    {
      "cell_type": "code",
      "source": [
        "# 2.1"
      ],
      "metadata": {
        "id": "_rMw7Zif7U1_"
      },
      "execution_count": null,
      "outputs": []
    },
    {
      "cell_type": "code",
      "source": [
        "# 2.2"
      ],
      "metadata": {
        "id": "1t9_LXFH7V0J"
      },
      "execution_count": null,
      "outputs": []
    },
    {
      "cell_type": "code",
      "source": [
        "# 2.3"
      ],
      "metadata": {
        "id": "v7GFUmJS7jSH"
      },
      "execution_count": null,
      "outputs": []
    },
    {
      "cell_type": "code",
      "source": [
        "# 3.1"
      ],
      "metadata": {
        "id": "0j9p_J6S7kYD"
      },
      "execution_count": null,
      "outputs": []
    },
    {
      "cell_type": "code",
      "source": [
        "# 3.2"
      ],
      "metadata": {
        "id": "TJ_oWfBN7mRE"
      },
      "execution_count": null,
      "outputs": []
    },
    {
      "cell_type": "code",
      "source": [
        "# 3.3"
      ],
      "metadata": {
        "id": "Aax-cec77nYr"
      },
      "execution_count": null,
      "outputs": []
    },
    {
      "cell_type": "code",
      "source": [
        "# 3.4"
      ],
      "metadata": {
        "id": "NSAGCd1I7oLm"
      },
      "execution_count": null,
      "outputs": []
    },
    {
      "cell_type": "code",
      "source": [
        "# 4.1"
      ],
      "metadata": {
        "id": "v__xQecR7pPo"
      },
      "execution_count": null,
      "outputs": []
    },
    {
      "cell_type": "code",
      "source": [
        "# 4.2"
      ],
      "metadata": {
        "id": "nwt-qTGZ7qNy"
      },
      "execution_count": null,
      "outputs": []
    },
    {
      "cell_type": "code",
      "source": [
        "# 4.3"
      ],
      "metadata": {
        "id": "n0NTfJoE7q_I"
      },
      "execution_count": null,
      "outputs": []
    },
    {
      "cell_type": "code",
      "source": [
        "# 4.4"
      ],
      "metadata": {
        "id": "y4XFohc_7sAZ"
      },
      "execution_count": null,
      "outputs": []
    },
    {
      "cell_type": "code",
      "source": [
        "# 4.5"
      ],
      "metadata": {
        "id": "FxgFonNk7tG5"
      },
      "execution_count": null,
      "outputs": []
    },
    {
      "cell_type": "code",
      "source": [
        "# 5.1"
      ],
      "metadata": {
        "id": "CUV6drLA7uXc"
      },
      "execution_count": null,
      "outputs": []
    },
    {
      "cell_type": "markdown",
      "source": [
        "# **Activity [4]: Group quiz**\n",
        "\n",
        "After completing the above activity [3], create a code cell below each text cell with instruction. Run each code cell to check the result or whether the code runs okay."
      ],
      "metadata": {
        "id": "RiHD0RjUAVBc"
      }
    },
    {
      "cell_type": "markdown",
      "source": [
        "Q1. In the code cell below, create variables and assign string (characters) as follows.\n",
        "\n",
        "**Table 1**\n",
        "\n",
        "|variable name| value|\n",
        "|---|---|\n",
        "|mytext1| We are the group number 5.|\n",
        "|mytext2| We're the group number 5.|\n",
        "|mytext3| We are the group number \"5\".|"
      ],
      "metadata": {
        "id": "r93VHKazCqkv"
      }
    },
    {
      "cell_type": "code",
      "source": [
        "mytext1 = \"We are the group number 5.\"\n",
        "mytext2 = \"We're the group number 5.\"\n",
        "mytext3 = 'We are the group number \"5\".'"
      ],
      "metadata": {
        "id": "i8Zy5F--C7a2"
      },
      "execution_count": null,
      "outputs": []
    },
    {
      "cell_type": "markdown",
      "source": [
        "Q2. Run the code below and see whether the output displays as instructed in Table 1 in the above."
      ],
      "metadata": {
        "id": "8gMzCpVDC7yi"
      }
    },
    {
      "cell_type": "code",
      "source": [
        "print(mytext1)\n",
        "print(mytext2)\n",
        "print(mytext3)"
      ],
      "metadata": {
        "colab": {
          "base_uri": "https://localhost:8080/"
        },
        "id": "xHuRDs99Dvxh",
        "outputId": "2eaccd74-29c8-4b79-a4f4-69c961fb0095"
      },
      "execution_count": null,
      "outputs": [
        {
          "output_type": "stream",
          "name": "stdout",
          "text": [
            "We are the group number 5.\n",
            "We're the group number 5.\n",
            "We are the group number \"5\".\n"
          ]
        }
      ]
    },
    {
      "cell_type": "markdown",
      "source": [
        "Q3.Print the 8th string in 'mytext2'?"
      ],
      "metadata": {
        "id": "uKqEDUGYDwRz"
      }
    },
    {
      "cell_type": "code",
      "source": [
        "mytext2[7]"
      ],
      "metadata": {
        "colab": {
          "base_uri": "https://localhost:8080/",
          "height": 35
        },
        "id": "6oJ-LjuLD2v2",
        "outputId": "a924efcc-0981-4cfc-b945-57fd76ae3a00"
      },
      "execution_count": null,
      "outputs": [
        {
          "output_type": "execute_result",
          "data": {
            "text/plain": [
              "'h'"
            ],
            "application/vnd.google.colaboratory.intrinsic+json": {
              "type": "string"
            }
          },
          "metadata": {},
          "execution_count": 14
        }
      ]
    },
    {
      "cell_type": "markdown",
      "source": [
        "Q4. In mytext2, print strings from the 7th to the 15th."
      ],
      "metadata": {
        "id": "qB8ODOpcEQAE"
      }
    },
    {
      "cell_type": "code",
      "source": [
        "mytext2[7:16]"
      ],
      "metadata": {
        "colab": {
          "base_uri": "https://localhost:8080/",
          "height": 35
        },
        "id": "DexPUz_kERMc",
        "outputId": "a0a9860e-66bc-4787-a1e8-292baab5702c"
      },
      "execution_count": null,
      "outputs": [
        {
          "output_type": "execute_result",
          "data": {
            "text/plain": [
              "'he group '"
            ],
            "application/vnd.google.colaboratory.intrinsic+json": {
              "type": "string"
            }
          },
          "metadata": {},
          "execution_count": 15
        }
      ]
    },
    {
      "cell_type": "markdown",
      "source": [
        "Q5. If you run the code below, the three variables (mytext1, mytext2, mytext3) will appear in one line. **Using an escape code make the following code prints each result in a different line.**"
      ],
      "metadata": {
        "id": "Fu0n35JFE1FI"
      }
    },
    {
      "cell_type": "code",
      "source": [
        "print(mytext1+mytext2+mytext3)"
      ],
      "metadata": {
        "colab": {
          "base_uri": "https://localhost:8080/"
        },
        "id": "MGOB1EaTHC20",
        "outputId": "2a8caef1-bb46-4545-cbb5-9628a8b76fa0"
      },
      "execution_count": null,
      "outputs": [
        {
          "output_type": "stream",
          "name": "stdout",
          "text": [
            "We are the group number 5.\n",
            "We're the group number 5.We are the group number \"5\".\n"
          ]
        }
      ]
    },
    {
      "cell_type": "markdown",
      "source": [
        "Q6. In the code below, a is assigned the value \"Bravo!\" **Add code line(s) in order to print 30 times of the same string.**\n",
        "\n",
        "e.g., Bravo!Bravo!....Bravo! (30 times without any space)"
      ],
      "metadata": {
        "id": "tx2E4ZgnD5rg"
      }
    },
    {
      "cell_type": "code",
      "source": [
        "a = \"Bravo!\""
      ],
      "metadata": {
        "id": "u5r4dbLqH7FI"
      },
      "execution_count": null,
      "outputs": []
    },
    {
      "cell_type": "markdown",
      "source": [
        "Q7. Below, the variabe b is assigned to your group number (e.g., Group 5 - change the number with your group number). Add code line(s) to print **Bravo! Group 5!**"
      ],
      "metadata": {
        "id": "Pq8eYK-KJZ-b"
      }
    },
    {
      "cell_type": "code",
      "source": [
        "b = \"Group 5\""
      ],
      "metadata": {
        "id": "yLf6ALlPJzSk"
      },
      "execution_count": null,
      "outputs": []
    },
    {
      "cell_type": "markdown",
      "source": [
        "Q8. Get the length of mytext1"
      ],
      "metadata": {
        "id": "p3ejYs7kJ8qu"
      }
    },
    {
      "cell_type": "code",
      "source": [
        "len(mytext1)"
      ],
      "metadata": {
        "colab": {
          "base_uri": "https://localhost:8080/"
        },
        "id": "vWldeIUzKIgb",
        "outputId": "3f3a071e-875a-43e6-f6f5-a492f3acaede"
      },
      "execution_count": null,
      "outputs": [
        {
          "output_type": "execute_result",
          "data": {
            "text/plain": [
              "26"
            ]
          },
          "metadata": {},
          "execution_count": 18
        }
      ]
    },
    {
      "cell_type": "markdown",
      "source": [
        "Q9. Read the following code lines, and complete appropriate index number in each index [bracket] in order to print 'Life'.Do not use negative index (e.g., [-2] for this code."
      ],
      "metadata": {
        "id": "7I9Mtvn7KKyZ"
      }
    },
    {
      "cell_type": "code",
      "source": [
        "sample = \"I love fireworks\"\n",
        "print(sample[2]+sample[8]+sample[7]+sample[5])"
      ],
      "metadata": {
        "colab": {
          "base_uri": "https://localhost:8080/"
        },
        "id": "6ICIhyh4KKHm",
        "outputId": "b685fbf6-7152-404e-a032-d519fb6df61e"
      },
      "execution_count": null,
      "outputs": [
        {
          "output_type": "stream",
          "name": "stdout",
          "text": [
            "life\n"
          ]
        }
      ]
    },
    {
      "cell_type": "markdown",
      "source": [
        "Q10. Do the same thing using negative indices only."
      ],
      "metadata": {
        "id": "eW45vIJsNaoV"
      }
    },
    {
      "cell_type": "code",
      "source": [
        "sample = \"I love fireworks\"\n",
        "print(sample[-16]+sample[-8]+sample[-9]+sample[-11])"
      ],
      "metadata": {
        "colab": {
          "base_uri": "https://localhost:8080/"
        },
        "id": "Y6T6Zx33Onas",
        "outputId": "f8baf613-556f-4184-eede-261e8c4742c1"
      },
      "execution_count": null,
      "outputs": [
        {
          "output_type": "stream",
          "name": "stdout",
          "text": [
            "Iife\n"
          ]
        }
      ]
    },
    {
      "cell_type": "markdown",
      "source": [
        "Q11. With the sample variable in the above, print the string from the 8th to the end."
      ],
      "metadata": {
        "id": "KaJUsnPmO11m"
      }
    },
    {
      "cell_type": "code",
      "source": [
        "sample[8:]"
      ],
      "metadata": {
        "colab": {
          "base_uri": "https://localhost:8080/",
          "height": 35
        },
        "id": "L6BBHX2WPIjL",
        "outputId": "cf8cab17-1f25-47e5-96eb-4520fa03ccb3"
      },
      "execution_count": null,
      "outputs": [
        {
          "output_type": "execute_result",
          "data": {
            "text/plain": [
              "'ireworks'"
            ],
            "application/vnd.google.colaboratory.intrinsic+json": {
              "type": "string"
            }
          },
          "metadata": {},
          "execution_count": 27
        }
      ]
    },
    {
      "cell_type": "markdown",
      "source": [
        "Q12. Slicing practice: using indexing, assign w1, w2, w3 to \"I, love, firewords\". You are expected to write down the index, either a single number or two numbers before and after the colon in [ :  ]. "
      ],
      "metadata": {
        "id": "eQHgW8ahPRBt"
      }
    },
    {
      "cell_type": "code",
      "source": [
        "sample = \"I love fireworks\"\n",
        "\n",
        "w1 = sample[0]\n",
        "w2 = sample[2:6]\n",
        "w3 = sample[7:]\n",
        "print(w1, w2, w3)"
      ],
      "metadata": {
        "colab": {
          "base_uri": "https://localhost:8080/"
        },
        "id": "x4_0F6DWPkty",
        "outputId": "a389dbe8-05c3-489a-a870-411ed7f96230"
      },
      "execution_count": null,
      "outputs": [
        {
          "output_type": "stream",
          "name": "stdout",
          "text": [
            "I love fireworks\n"
          ]
        }
      ]
    },
    {
      "cell_type": "markdown",
      "source": [
        "Q13. In the code below, the variable a is assigned to \"my gruop\". Using the variable a and indexing, correct a as \"my group\" so that the final code print(a) prints it correctly.\n",
        "\n",
        "**Note:** String elements are immutable, which means you cannot replace elements directly. (e.g., a[5] = \"o\" doesn't work)"
      ],
      "metadata": {
        "id": "1R7l_jf4Qki7"
      }
    },
    {
      "cell_type": "code",
      "source": [
        "a = \"my gruop\"\n",
        "\n",
        "# Add code lines here\n",
        "\n",
        "print(a)"
      ],
      "metadata": {
        "colab": {
          "base_uri": "https://localhost:8080/"
        },
        "id": "E7X8-63ARQ8K",
        "outputId": "07aad44a-6e70-4fa5-bd51-b678efbfd0bc"
      },
      "execution_count": null,
      "outputs": [
        {
          "output_type": "stream",
          "name": "stdout",
          "text": [
            "my gruop\n"
          ]
        }
      ]
    },
    {
      "cell_type": "markdown",
      "source": [
        "Q14. Study the following code, and add something to the final code so that the output prints \"You typed you're ______ years old.\"\n",
        "\n",
        "e.g., if you type 18, the output should print \"You typed you're 18 years old.\""
      ],
      "metadata": {
        "id": "fSKxKs6DQQeL"
      }
    },
    {
      "cell_type": "code",
      "source": [
        "age = input(\"Q: How old are you? \")\n",
        "\n",
        "print(\"A: You typed you're years old.\")"
      ],
      "metadata": {
        "colab": {
          "base_uri": "https://localhost:8080/"
        },
        "id": "_J1ukqORSnrJ",
        "outputId": "3e713cb0-1707-4c33-e8e5-f661b37f5794"
      },
      "execution_count": null,
      "outputs": [
        {
          "output_type": "stream",
          "name": "stdout",
          "text": [
            "Q: How old are you? 23\n",
            "A: You typed you're years old.\n"
          ]
        }
      ]
    },
    {
      "cell_type": "markdown",
      "source": [
        "---\n",
        "# Activity [5] Self-log (Only for groups who finish the schedule here.)\n",
        "\n",
        "[link](https://forms.gle/1Si6eRwRKi8WNNrd9)"
      ],
      "metadata": {
        "id": "p3BZ97B6AXgC"
      }
    },
    {
      "cell_type": "code",
      "execution_count": null,
      "metadata": {
        "cellView": "form",
        "colab": {
          "base_uri": "https://localhost:8080/",
          "height": 680
        },
        "outputId": "631adb9d-434f-40e4-a5e9-97de550c7984",
        "id": "FGcDZB2vohc2"
      },
      "outputs": [
        {
          "output_type": "stream",
          "name": "stdout",
          "text": [
            "Looking in indexes: https://pypi.org/simple, https://us-python.pkg.dev/colab-wheels/public/simple/\n",
            "Collecting pyqrcode\n",
            "  Downloading PyQRCode-1.2.1.zip (41 kB)\n",
            "\u001b[2K     \u001b[90m━━━━━━━━━━━━━━━━━━━━━━━━━━━━━━━━━━━━━━━━\u001b[0m \u001b[32m41.9/41.9 KB\u001b[0m \u001b[31m1.4 MB/s\u001b[0m eta \u001b[36m0:00:00\u001b[0m\n",
            "\u001b[?25h  Preparing metadata (setup.py) ... \u001b[?25l\u001b[?25hdone\n",
            "Building wheels for collected packages: pyqrcode\n",
            "  Building wheel for pyqrcode (setup.py) ... \u001b[?25l\u001b[?25hdone\n",
            "  Created wheel for pyqrcode: filename=PyQRCode-1.2.1-py3-none-any.whl size=36241 sha256=5874dd15d135cd165663ae4cc8c494a5cb66fa483e71564e1a08ecb40ff756a0\n",
            "  Stored in directory: /root/.cache/pip/wheels/da/75/c0/38c7f82750de2725429b6b8571dca254249d73f6c882c5d9b1\n",
            "Successfully built pyqrcode\n",
            "Installing collected packages: pyqrcode\n",
            "Successfully installed pyqrcode-1.2.1\n"
          ]
        },
        {
          "output_type": "display_data",
          "data": {
            "text/plain": [
              "<IPython.core.display.SVG object>"
            ],
            "image/svg+xml": "<svg xmlns=\"http://www.w3.org/2000/svg\" height=\"450\" width=\"450\" class=\"pyqrcode\"><path transform=\"scale(10)\" stroke=\"#000\" class=\"pyqrline\" d=\"M4 4.5h7m1 0h1m1 0h3m1 0h2m2 0h4m3 0h2m3 0h7m-37 1h1m5 0h1m5 0h2m1 0h1m2 0h1m2 0h1m1 0h6m1 0h1m5 0h1m-37 1h1m1 0h3m1 0h1m2 0h1m3 0h1m5 0h1m1 0h1m5 0h1m2 0h1m1 0h3m1 0h1m-37 1h1m1 0h3m1 0h1m1 0h3m2 0h2m2 0h3m2 0h5m3 0h1m1 0h3m1 0h1m-37 1h1m1 0h3m1 0h1m2 0h1m1 0h1m2 0h1m1 0h1m1 0h4m2 0h1m2 0h2m1 0h1m1 0h3m1 0h1m-37 1h1m5 0h1m2 0h2m1 0h1m1 0h4m1 0h1m1 0h1m1 0h3m1 0h2m1 0h1m5 0h1m-37 1h7m1 0h1m1 0h1m1 0h1m1 0h1m1 0h1m1 0h1m1 0h1m1 0h1m1 0h1m1 0h1m1 0h1m1 0h7m-28 1h1m3 0h1m2 0h1m6 0h4m1 0h1m-27 1h1m1 0h3m1 0h1m5 0h2m1 0h1m1 0h6m1 0h4m3 0h1m2 0h1m-37 1h2m1 0h1m1 0h1m1 0h3m1 0h1m2 0h1m3 0h2m2 0h3m1 0h3m2 0h1m4 0h1m-31 1h4m1 0h4m1 0h2m1 0h7m1 0h2m1 0h4m1 0h2m-36 1h1m1 0h3m2 0h2m1 0h1m3 0h3m4 0h1m2 0h2m1 0h2m1 0h1m-31 1h6m1 0h1m5 0h1m2 0h1m3 0h1m1 0h3m1 0h4m3 0h1m-35 1h3m4 0h1m2 0h4m1 0h1m3 0h3m6 0h1m1 0h1m2 0h4m-36 1h1m2 0h5m1 0h3m1 0h7m1 0h1m1 0h2m2 0h3m3 0h3m-32 1h1m1 0h1m1 0h1m1 0h7m2 0h2m3 0h1m1 0h1m2 0h2m3 0h2m-36 1h1m3 0h2m3 0h2m4 0h2m1 0h1m1 0h1m1 0h2m2 0h4m2 0h1m2 0h1m-37 1h2m2 0h1m2 0h3m1 0h3m1 0h1m1 0h2m1 0h1m2 0h1m2 0h1m2 0h2m3 0h3m-36 1h3m2 0h1m3 0h5m1 0h1m1 0h2m1 0h3m2 0h1m2 0h1m3 0h4m-37 1h2m2 0h1m3 0h4m2 0h4m4 0h2m1 0h4m1 0h1m1 0h1m3 0h1m-35 1h1m1 0h1m1 0h2m1 0h1m2 0h3m3 0h4m2 0h2m2 0h4m1 0h1m2 0h1m-37 1h1m2 0h3m1 0h1m1 0h1m1 0h1m1 0h1m1 0h2m1 0h1m4 0h1m9 0h1m-34 1h1m2 0h1m1 0h2m1 0h1m1 0h4m5 0h2m2 0h3m2 0h2m2 0h2m1 0h2m-37 1h4m3 0h3m1 0h3m1 0h4m3 0h2m5 0h2m2 0h1m1 0h1m-35 1h3m1 0h4m4 0h2m3 0h4m1 0h2m2 0h1m1 0h1m2 0h2m1 0h2m-36 1h5m2 0h1m1 0h1m6 0h2m1 0h6m1 0h1m1 0h1m2 0h2m2 0h1m-37 1h1m1 0h1m1 0h1m1 0h1m7 0h4m2 0h6m4 0h1m2 0h4m-36 1h3m1 0h1m1 0h1m1 0h2m1 0h1m1 0h4m1 0h2m3 0h2m1 0h1m2 0h1m1 0h2m1 0h2m-37 1h1m5 0h1m1 0h1m2 0h1m1 0h4m1 0h2m1 0h1m1 0h3m2 0h5m1 0h1m-27 1h2m1 0h1m1 0h1m1 0h1m1 0h1m4 0h4m1 0h2m3 0h1m3 0h1m-37 1h7m4 0h3m1 0h2m1 0h1m1 0h2m6 0h1m1 0h1m1 0h1m1 0h3m-37 1h1m5 0h1m1 0h4m3 0h8m2 0h2m1 0h1m3 0h1m3 0h1m-37 1h1m1 0h3m1 0h1m1 0h1m6 0h3m1 0h1m1 0h1m3 0h1m2 0h6m1 0h1m-36 1h1m1 0h3m1 0h1m2 0h5m1 0h1m2 0h1m4 0h1m2 0h2m1 0h1m3 0h1m1 0h2m-37 1h1m1 0h3m1 0h1m1 0h4m5 0h1m4 0h1m5 0h2m1 0h3m2 0h1m-37 1h1m5 0h1m2 0h2m1 0h1m2 0h1m1 0h2m4 0h1m1 0h4m1 0h1m2 0h1m1 0h1m-36 1h7m2 0h4m3 0h1m1 0h4m5 0h2m1 0h1m1 0h1m2 0h2\"/></svg>"
          },
          "metadata": {}
        }
      ],
      "source": [
        "#@markdown Install {pyqrcode} and enter link address\n",
        "!pip install pyqrcode\n",
        "\n",
        "import pyqrcode\n",
        "from pyqrcode import QRCode\n",
        "\n",
        "\n",
        "#@markdown Enter the link, save it as a file, and display\n",
        "s = \"https://forms.gle/NUzys1RoPHmYmSDWA\"\n",
        "\n",
        "# Generate QR code\n",
        "url = pyqrcode.create(s)\n",
        "\n",
        "# Create and save the png file naming \"myqr.png\"\n",
        "url.svg(\"myqrcode.svg\", scale=10)\n",
        "\n",
        "from IPython.display import SVG, display\n",
        "def show_svg(file):\n",
        "    display(SVG(file))\n",
        "\n",
        "show_svg(\"myqrcode.svg\")"
      ]
    }
  ]
}
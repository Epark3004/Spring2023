{
  "nbformat": 4,
  "nbformat_minor": 0,
  "metadata": {
    "colab": {
      "provenance": [],
      "authorship_tag": "ABX9TyOt6HDe6uaCloZ8zafQVTSw",
      "include_colab_link": true
    },
    "kernelspec": {
      "name": "python3",
      "display_name": "Python 3"
    },
    "language_info": {
      "name": "python"
    }
  },
  "cells": [
    {
      "cell_type": "markdown",
      "metadata": {
        "id": "view-in-github",
        "colab_type": "text"
      },
      "source": [
        "<a href=\"https://colab.research.google.com/github/MK316/Spring2023/blob/main/DL/DLW02c.ipynb\" target=\"_parent\"><img src=\"https://colab.research.google.com/assets/colab-badge.svg\" alt=\"Open In Colab\"/></a>"
      ]
    },
    {
      "cell_type": "markdown",
      "source": [
        "---\n",
        "# Part II: Application"
      ],
      "metadata": {
        "id": "3ADaJZQJ5MuH"
      }
    },
    {
      "cell_type": "markdown",
      "source": [
        "# Lesson objectives:\n",
        "\n",
        "1. Students will be able to understand and use vocabulary related to time (e.g. hour, minute, second, a.m./p.m., morning, afternoon, etc.).\n",
        "2. Students will be able to ask and answer questions about the time using basic time expressions (e.g. \"What time is it?\", \"It's [time] in [location]\")."
      ],
      "metadata": {
        "id": "uPeYJVZQ59Cv"
      }
    },
    {
      "cell_type": "markdown",
      "source": [
        "Let's watch a short video!"
      ],
      "metadata": {
        "id": "VT8NHJZM-TjO"
      }
    },
    {
      "cell_type": "code",
      "source": [
        "#@markdown **Title: Why do we have different time zone?** Video (1m 19s)\n",
        "from IPython.display import YouTubeVideo, display\n",
        "video = YouTubeVideo(\"AgINA9_IFiI\", width=600)\n",
        "display(video)"
      ],
      "metadata": {
        "cellView": "form",
        "id": "r4bGc9Zc-Suu"
      },
      "execution_count": null,
      "outputs": []
    },
    {
      "cell_type": "code",
      "source": [
        "#@markdown 💠 Map of the world time zone (#1~2)\n",
        "from IPython.display import Image\n",
        "\n",
        "pages = \"2\" #@param = [\"1\", \"2\", \"3\", \"4\", \"5\",\"6\",\"7\"]\n",
        "adds = ['https://github.com/MK316/Spring2023/raw/main/DL/data/worldmappng.png',\n",
        "        'https://github.com/MK316/Spring2023/raw/main/DL/data/worldtimezone.png']\n",
        "\n",
        "if pages == \"1\":\n",
        "  add = adds[0]\n",
        "elif pages == \"2\":\n",
        "  add = adds[1]\n",
        "\n",
        "Image(url=add, width=900, height=600)"
      ],
      "metadata": {
        "cellView": "form",
        "id": "NbPqRcZ_5O9H"
      },
      "execution_count": null,
      "outputs": []
    },
    {
      "cell_type": "markdown",
      "source": [
        "## Q: Current time in Seoul is 5 pm. What time is it in London now?\n",
        "\n",
        "Note: [pytz timezone list](https://gist.github.com/heyalexej/8bf688fd67d7199be4a1682b3eec7568), [gTTS language options](https://gtts.readthedocs.io/en/latest/module.html)"
      ],
      "metadata": {
        "id": "m4CykqtlCm2E"
      }
    },
    {
      "cell_type": "code",
      "source": [
        "#@markdown 📌 Install packages\n",
        "%%capture\n",
        "!pip install gtts\n",
        "from gtts import gTTS"
      ],
      "metadata": {
        "cellView": "form",
        "id": "XzrqYy4DEgxO"
      },
      "execution_count": null,
      "outputs": []
    },
    {
      "cell_type": "code",
      "source": [
        "from datetime import datetime\n",
        "import pytz\n",
        "\n",
        "#@markdown **🌲 Step [1] Location to choose:**\n",
        "# Get the timezone object for New York\n",
        "\n",
        "location = 'Asia/Seoul' #@param = ['Asia/Seoul','Asia/Shanghai','Asia/Dubai','Australia/Sydney','America/New_York', 'Canada/Montreal','Europe/London', 'Europe/Barcelona','Africa/Cairo']\n",
        "loc = location.split(\"/\")\n",
        "locq = loc[1]\n",
        "\n",
        "tz_loc = pytz.timezone(location) \n",
        "datetime = datetime.now(tz_loc)\n",
        "current_time1 = datetime.strftime(\"%H:%M\")\n",
        "current_time2 = datetime.strftime(\"%I:%M %p\")\n",
        "\n",
        "# Get the current time in New York\n",
        "print(\"Current Time in %s is\"%locq, current_time2)"
      ],
      "metadata": {
        "colab": {
          "base_uri": "https://localhost:8080/"
        },
        "cellView": "form",
        "id": "N5rVEfZAP9k7",
        "outputId": "c7a2187d-0f37-4af4-990c-a36b02629487"
      },
      "execution_count": null,
      "outputs": [
        {
          "output_type": "stream",
          "name": "stdout",
          "text": [
            "Current Time in Seoul is 10:35 PM\n"
          ]
        }
      ]
    },
    {
      "cell_type": "code",
      "source": [
        "#@markdown **🌲 Step [2] Language to choose:**\n",
        "# language and dialect selection\n",
        "language_select = \"en/ca/English(Canada)\" #@param = [\"en/us/English(US)\",\"en/co.uk/English(UK)\",\"en/com.au/English(Australia)\",\"en/ca/English(Canada)\",\"en/co.in/English(India)\",\"en/ie/English(Ireland)\",\"fr/fr/French\",\"es/es/Spanish(Spain)/\",\"ko/ko/Korean\",\"zh-CN/any/Chinese(Main Land)\"]\n",
        "langsel = language_select.split(\"/\")\n",
        "lg = langsel[0]\n",
        "dialect = langsel[1]\n",
        "\n",
        "# text input\n",
        "txt = input(\"Type texts to say: \")\n",
        "\n",
        "import random\n",
        "citylist = [\"London\",\"Paris\",\"New York\",\"Dubai\",\"Jinju\",\"Barcelona\",\"Shanghai\",\"Montreal\",\"Sydney\"]\n",
        "city = random.choice(citylist)\n",
        "mytext = txt + \"... \" + \"What time is it in %s now?\"%city\n",
        "# function\n",
        "if lg == \"ko\":\n",
        "  tts = gTTS(mytext, lang = lg, slow = False)\n",
        "elif lg == \"zh-CN\":\n",
        "  tts = gTTS(mytext, lang = lg, slow = False)\n",
        "else:\n",
        "  tts = gTTS(mytext, lang = lg, tld = dialect, slow = False)\n",
        "\n",
        "tts.save('myaudio.mp3')\n",
        "  \n",
        "# Save as a file for reading\n",
        "\n",
        "# Play audio\n",
        "from IPython.display import Audio, display\n",
        "Audio('myaudio.mp3')"
      ],
      "metadata": {
        "cellView": "form",
        "id": "aq7aCYfgHAnc",
        "outputId": "d91a89e3-632a-4abb-9e7b-857976ac8973",
        "colab": {
          "base_uri": "https://localhost:8080/",
          "height": 93
        }
      },
      "execution_count": null,
      "outputs": [
        {
          "name": "stdout",
          "output_type": "stream",
          "text": [
            "Type texts to say: Current Time in Seoul is 10:35 PM\n"
          ]
        },
        {
          "output_type": "execute_result",
          "data": {
            "text/plain": [
              "<IPython.lib.display.Audio object>"
            ],
            "text/html": [
              "\n",
              "                <audio  controls=\"controls\" >\n",
              "                    <source src=\"data:audio/mpeg;base64,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\" type=\"audio/mpeg\" />\n",
              "                    Your browser does not support the audio element.\n",
              "                </audio>\n",
              "              "
            ]
          },
          "metadata": {},
          "execution_count": 48
        }
      ]
    },
    {
      "cell_type": "markdown",
      "source": [
        "# ⏰ Todo: "
      ],
      "metadata": {
        "id": "9D7U7633g0S_"
      }
    },
    {
      "cell_type": "markdown",
      "source": [
        "Using Colab, create a code page and post it on your Github account (file name: DLHW01.ipynb)"
      ],
      "metadata": {
        "id": "mSpge9tenu6I"
      }
    },
    {
      "cell_type": "markdown",
      "source": [
        "\n",
        "\n",
        "---\n",
        "# The End\n"
      ],
      "metadata": {
        "id": "3cZjH9xIiN4_"
      }
    }
  ]
}
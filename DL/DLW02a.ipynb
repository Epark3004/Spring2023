{
  "nbformat": 4,
  "nbformat_minor": 0,
  "metadata": {
    "colab": {
      "provenance": [],
      "authorship_tag": "ABX9TyP3dJfa3C6H3jGqlwHEfV8y",
      "include_colab_link": true
    },
    "kernelspec": {
      "name": "python3",
      "display_name": "Python 3"
    },
    "language_info": {
      "name": "python"
    }
  },
  "cells": [
    {
      "cell_type": "markdown",
      "metadata": {
        "id": "view-in-github",
        "colab_type": "text"
      },
      "source": [
        "<a href=\"https://colab.research.google.com/github/MK316/Spring2023/blob/main/DL/DLW02a.ipynb\" target=\"_parent\"><img src=\"https://colab.research.google.com/assets/colab-badge.svg\" alt=\"Open In Colab\"/></a>"
      ]
    },
    {
      "cell_type": "markdown",
      "source": [
        "# 🌳 **Digital Literacy & English Education** (Week 02): \n"
      ],
      "metadata": {
        "id": "fkVkXhLoOGMz"
      }
    },
    {
      "cell_type": "markdown",
      "source": [
        "# Part I. Basic learning"
      ],
      "metadata": {
        "id": "IvUpe_2Gyzl5"
      }
    },
    {
      "cell_type": "markdown",
      "source": [
        "---\n",
        "# 📗Topic [1]: Coding basic #1\n",
        "---\n",
        "Keywords\n",
        "\n",
        "* Text-to-Speech API: gTTs (Google Text-to-Speech)"
      ],
      "metadata": {
        "id": "8zK741dhxPaI"
      }
    },
    {
      "cell_type": "markdown",
      "source": [
        "## Demo {gTTS}"
      ],
      "metadata": {
        "id": "tnPzrIkJqIeH"
      }
    },
    {
      "cell_type": "code",
      "source": [
        "#@markdown 🔄 [1] Making functions (sample): tts(text)\n",
        "%%capture\n",
        "!pip install gTTS\n",
        "from gtts import gTTS\n",
        "from IPython.display import Audio\n",
        "\n",
        "def tts(text):\n",
        "  gtts_object = gTTS(text,lang = \"en\", slow = True) \n",
        "  gtts_object.save(\"myaudio.mp3\")\n",
        "  return Audio(\"myaudio.mp3\")"
      ],
      "metadata": {
        "cellView": "form",
        "id": "7zQxQn04qiyD"
      },
      "execution_count": 1,
      "outputs": []
    },
    {
      "cell_type": "code",
      "source": [
        "# [2] Try it yourself\n",
        "tts('Hello')"
      ],
      "metadata": {
        "id": "zxYC8qxTrAaw",
        "outputId": "70377ca2-d4a2-4c88-9aee-ebdad1f584dd",
        "colab": {
          "base_uri": "https://localhost:8080/",
          "height": 74
        }
      },
      "execution_count": 2,
      "outputs": [
        {
          "output_type": "execute_result",
          "data": {
            "text/plain": [
              "<IPython.lib.display.Audio object>"
            ],
            "text/html": [
              "\n",
              "                <audio  controls=\"controls\" >\n",
              "                    <source src=\"data:audio/mpeg;base64,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\" type=\"audio/mpeg\" />\n",
              "                    Your browser does not support the audio element.\n",
              "                </audio>\n",
              "              "
            ]
          },
          "metadata": {},
          "execution_count": 2
        }
      ]
    },
    {
      "cell_type": "code",
      "source": [
        "#@markdown 🐧 [3] Better way? (Using a pop-up window)\n",
        "mytext = input(\"Type text to generate audio: \")\n",
        "\n",
        "tts(mytext)"
      ],
      "metadata": {
        "id": "y9lmqAV-rWSF"
      },
      "execution_count": null,
      "outputs": []
    },
    {
      "cell_type": "markdown",
      "source": [
        "## Expanding tts: ktts, etts, ftts"
      ],
      "metadata": {
        "id": "DzcryON4rIWC"
      }
    },
    {
      "cell_type": "code",
      "source": [
        "#@markdown 🔄 Making functions: etts('text'), ktts('text'), ftts('text')\n",
        "%%capture\n",
        "!pip install gTTS\n",
        "from gtts import gTTS\n",
        "from IPython.display import Audio\n",
        "\n",
        "dialect = \"us\"\n",
        "def etts(text):\n",
        "  text_to_say = text\n",
        "\n",
        "  gtts_object = gTTS(text = text_to_say,\n",
        "                     lang = \"en\", tld = dialect,\n",
        "                    slow = True)\n",
        "  \n",
        "  gtts_object.save(\"E-audio.mp3\")\n",
        "  return Audio(\"E-audio.mp3\")\n",
        "\n",
        "def ktts(text):\n",
        "  text_to_say = text\n",
        "\n",
        "  gtts_object = gTTS(text = text_to_say,\n",
        "                     lang = \"ko\",\n",
        "                    slow = False)\n",
        "  \n",
        "  gtts_object.save(\"K-audio.mp3\")\n",
        "  return Audio(\"K-audio.mp3\")\n",
        "\n",
        "def ftts(text):\n",
        "  text_to_say = text\n",
        "\n",
        "  gtts_object = gTTS(text = text_to_say,\n",
        "                     lang = \"fr\",\n",
        "                    slow = False)\n",
        "  \n",
        "  gtts_object.save(\"F-audio.mp3\")\n",
        "  return Audio(\"F-audio.mp3\")"
      ],
      "metadata": {
        "cellView": "form",
        "id": "SU2aSeFfp0wL"
      },
      "execution_count": 8,
      "outputs": []
    },
    {
      "cell_type": "markdown",
      "source": [
        "## Better way? Using dropbox selections"
      ],
      "metadata": {
        "id": "pXREmD2KtGH0"
      }
    },
    {
      "cell_type": "markdown",
      "source": [
        "gTTS documentation: [Reference link](https://gtts.readthedocs.io/en/latest/module.html)"
      ],
      "metadata": {
        "id": "SaL_K6V7tnYr"
      }
    },
    {
      "cell_type": "code",
      "source": [
        "Language = \"kr\" #@param = [\"en\", \"kr\"]\n",
        "\n",
        "mytext = input(\"Type text: \")\n",
        "if Language == \"en\":\n",
        "  etts(mytext)\n",
        "  myaudio = \"E-audio.mp3\"\n",
        "elif Language == \"kr\":\n",
        "  ktts(mytext)\n",
        "  myaudio = \"K-audio.mp3\"\n",
        "  \n",
        "Audio(myaudio)"
      ],
      "metadata": {
        "cellView": "form",
        "id": "EJ-IGFc-tKbA",
        "outputId": "fed4b65f-6ebe-4093-b3da-81860e0d06db",
        "colab": {
          "base_uri": "https://localhost:8080/",
          "height": 93
        }
      },
      "execution_count": 11,
      "outputs": [
        {
          "name": "stdout",
          "output_type": "stream",
          "text": [
            "Type text: 안녕하세요\n"
          ]
        },
        {
          "output_type": "execute_result",
          "data": {
            "text/plain": [
              "<IPython.lib.display.Audio object>"
            ],
            "text/html": [
              "\n",
              "                <audio  controls=\"controls\" >\n",
              "                    <source src=\"data:audio/mpeg;base64,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\" type=\"audio/mpeg\" />\n",
              "                    Your browser does not support the audio element.\n",
              "                </audio>\n",
              "              "
            ]
          },
          "metadata": {},
          "execution_count": 11
        }
      ]
    },
    {
      "cell_type": "markdown",
      "source": [
        "# 📗 DIY\n",
        "Coding on Colab and save it to your github account"
      ],
      "metadata": {
        "id": "i9IKIzlcsy_g"
      }
    },
    {
      "cell_type": "markdown",
      "source": [
        "Installation, import libraries"
      ],
      "metadata": {
        "id": "QwcT_C9Ls4aW"
      }
    },
    {
      "cell_type": "code",
      "source": [
        "!pip install gTTS\n",
        "from gtts import gTTS\n",
        "from IPython.display import Audio"
      ],
      "metadata": {
        "id": "uQzV_2PFp8M6"
      },
      "execution_count": null,
      "outputs": []
    },
    {
      "cell_type": "markdown",
      "source": [
        "Defining a function"
      ],
      "metadata": {
        "id": "pRxcyqvhs7jt"
      }
    },
    {
      "cell_type": "code",
      "source": [
        "def tts(text):\n",
        "  gtts_object = gTTS(text,lang = \"en\", slow = True) \n",
        "  gtts_object.save(\"myaudio.mp3\")\n",
        "  return Audio(\"myaudio.mp3\")"
      ],
      "metadata": {
        "id": "v9a-s0Nps3Ak"
      },
      "execution_count": null,
      "outputs": []
    },
    {
      "cell_type": "markdown",
      "source": [
        "# ⏰ Todo: "
      ],
      "metadata": {
        "id": "9D7U7633g0S_"
      }
    },
    {
      "cell_type": "markdown",
      "source": [
        "Using Colab, create a code page and post it on your Github account (file name: DLHW01.ipynb)"
      ],
      "metadata": {
        "id": "mSpge9tenu6I"
      }
    },
    {
      "cell_type": "markdown",
      "source": [
        "\n",
        "\n",
        "---\n",
        "# The End\n"
      ],
      "metadata": {
        "id": "3cZjH9xIiN4_"
      }
    }
  ]
}
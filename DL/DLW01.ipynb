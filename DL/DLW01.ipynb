{
  "nbformat": 4,
  "nbformat_minor": 0,
  "metadata": {
    "colab": {
      "provenance": [],
      "authorship_tag": "ABX9TyPkFVnd90Hv1Ho9VBPZL6me",
      "include_colab_link": true
    },
    "kernelspec": {
      "name": "python3",
      "display_name": "Python 3"
    },
    "language_info": {
      "name": "python"
    }
  },
  "cells": [
    {
      "cell_type": "markdown",
      "metadata": {
        "id": "view-in-github",
        "colab_type": "text"
      },
      "source": [
        "<a href=\"https://colab.research.google.com/github/MK316/Spring2023/blob/main/DL/DLW01.ipynb\" target=\"_parent\"><img src=\"https://colab.research.google.com/assets/colab-badge.svg\" alt=\"Open In Colab\"/></a>"
      ]
    },
    {
      "cell_type": "markdown",
      "source": [
        "# 🌳 **Digital Literacy & English Education** (Week 01)\n",
        "\n",
        "Table of contents\n",
        "\n",
        "* Course overview: syllabus  \n",
        "* Grouping  \n",
        "* Getting ready: ChatGPT, Colab, Github, and Markdown"
      ],
      "metadata": {
        "id": "fkVkXhLoOGMz"
      }
    },
    {
      "cell_type": "markdown",
      "source": [
        "# [1] COURSE OVERVIEW"
      ],
      "metadata": {
        "id": "93gQaEo1RX63"
      }
    },
    {
      "cell_type": "markdown",
      "source": [
        "|Keyword| Online link|\n",
        "|:--:|:--:|\n",
        "|Syllabus|[File link](https://github.com/MK316/Spring2023/blob/main/DL/files/DLEEsyllabus.pdf)|\n",
        "|Course schedule|[Online link](https://github.com/MK316/Spring2023/blob/main/DL/README.md)|"
      ],
      "metadata": {
        "id": "jJT4hD1teuJr"
      }
    },
    {
      "cell_type": "markdown",
      "source": [
        "# [2] GROUPING"
      ],
      "metadata": {
        "id": "5JgA2T2dRft5"
      }
    },
    {
      "cell_type": "markdown",
      "source": [
        "🎃 Goto... grouping.ipynb [link](https://github.com/MK316/classtools/blob/main/grouping.ipynb)"
      ],
      "metadata": {
        "id": "lvvxNwKOobDX"
      }
    },
    {
      "cell_type": "markdown",
      "source": [
        "# [3] GETTING READY\n"
      ],
      "metadata": {
        "id": "3eSrUoglRh6-"
      }
    },
    {
      "cell_type": "markdown",
      "source": [
        "\n",
        "|Keyword| Online link|\n",
        "|:--:|:--:|\n",
        "|Online resources|[Colab](https://colab.research.google.com/)|\n",
        "|- coding file repository|[Github](https://github.com/)|\n",
        "|- AI chatbot (human conversation style)|[ChatGPT](https://openai.com/blog/chatgpt/)|\n",
        "||[Markdown Emoji](https://gist.github.com/rxaviers/7360908)|\n",
        "||[markdown intro](https://www.markdownguide.org/getting-started/)|\n",
        "||[markdown tutorial](https://www.writethedocs.org/guide/writing/markdown/)\n",
        "\n",
        "* Note: **Markdown** language is a  way to annotate text or add structure to it, and define how it should be displayed (**lightweight**)."
      ],
      "metadata": {
        "id": "ZVFb5JmJrPXu"
      }
    },
    {
      "cell_type": "markdown",
      "source": [
        "# ⏰ Todo: Gmail account, Github account"
      ],
      "metadata": {
        "id": "9D7U7633g0S_"
      }
    },
    {
      "cell_type": "markdown",
      "source": [
        "Share your github IDs [here](https://docs.google.com/spreadsheets/d/1rBlWeffj5RaBQS-lcv46r3Xe-JVF8PpwDngsuQhLKCc/edit?usp=sharing): due by March 13(Monday)"
      ],
      "metadata": {
        "id": "mSpge9tenu6I"
      }
    },
    {
      "cell_type": "markdown",
      "source": [
        "\n",
        "\n",
        "---\n",
        "# The End\n"
      ],
      "metadata": {
        "id": "3cZjH9xIiN4_"
      }
    }
  ]
}
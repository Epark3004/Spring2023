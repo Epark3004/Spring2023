{
  "nbformat": 4,
  "nbformat_minor": 0,
  "metadata": {
    "colab": {
      "provenance": [],
      "authorship_tag": "ABX9TyM/jHHILAICJDy/2XkvqrY0",
      "include_colab_link": true
    },
    "kernelspec": {
      "name": "python3",
      "display_name": "Python 3"
    },
    "language_info": {
      "name": "python"
    }
  },
  "cells": [
    {
      "cell_type": "markdown",
      "metadata": {
        "id": "view-in-github",
        "colab_type": "text"
      },
      "source": [
        "<a href=\"https://colab.research.google.com/github/MK316/Spring2023/blob/main/DL/DLW05B.ipynb\" target=\"_parent\"><img src=\"https://colab.research.google.com/assets/colab-badge.svg\" alt=\"Open In Colab\"/></a>"
      ]
    },
    {
      "cell_type": "markdown",
      "source": [
        "# 🌱 Digital Literacy Week05B: Useful tools to share\n",
        "\n",
        "---\n",
        "**To do list:**\n",
        "\n",
        "1. Attendance checking: (2 minutes)\n",
        "2. Watch two videos together as a group and evaluate them. (15 minutes)\n",
        "\n",
        "+ **Video one:** your own video.\n",
        "+ **Video two:** your paired group: (G1, G2), (G3, G4), (G5, G6) \n",
        "(e.g., G1 video => G2 will evaluate, and vice versa.)\n",
        "\n",
        "3. Watch a vido and create your own video using Steve AI and chatGPT: (30 minutes)\n",
        "\n",
        "4. Submit the created video in the given link below. (5 minutes)\n",
        "---"
      ],
      "metadata": {
        "id": "Em-8-hgn_czL"
      }
    },
    {
      "cell_type": "markdown",
      "source": [
        "# [1] Group activity attendance checking\n",
        "\n",
        "Follow the QR code below (by running the code), and complete the attendance form."
      ],
      "metadata": {
        "id": "gmW9604XAAkw"
      }
    },
    {
      "cell_type": "code",
      "execution_count": null,
      "metadata": {
        "cellView": "form",
        "id": "xDphqjzfz0E5"
      },
      "outputs": [],
      "source": [
        "#@markdown Run this code to see QR code for attendance checking:\n",
        "# !pip install IPython\n",
        "\n",
        "import IPython\n",
        "import requests\n",
        "\n",
        "url = 'https://raw.githubusercontent.com/MK316/Spring2023/main/DL/files/DL_attcheck.svg'\n",
        "response = requests.get(url)\n",
        "svg_data = response.content\n",
        "\n",
        "IPython.display.SVG(svg_data)\n"
      ]
    },
    {
      "cell_type": "markdown",
      "source": [
        "# [2] Watch two videos created by your group and your paired group and evaluate them using the provided form (link). Discuss how you decide to give points from 1 to 6 for each criterion.\n",
        "_📌 Please allocate no more than 15 minutes to this activity._\n",
        "\n",
        "Notes: \n",
        "\n",
        "1. This is a group evaluation, so you need to submit just one form.\n",
        "2. After watching a video, complete the evaluation form by clicking [here](https://forms.gle/7am1noDTqTyPhnnh8). \n",
        "3. There are 5 criteria to evaluate:\n",
        "\n",
        "+ Content\n",
        "+ Creativity\n",
        "+ Technical Quality\n",
        "+ Usefulness\n",
        "+ Overall impact\n"
      ],
      "metadata": {
        "id": "lg63G-zRCHQp"
      }
    },
    {
      "cell_type": "code",
      "source": [
        "from IPython.display import YouTubeVideo, Audio, Image\n",
        "\n",
        "Groups = \"Group 2\" #@param = [\"Group 1\", \"Group 2\", \"Group 3\", \"Group 4\", \"Group 5\", \"Group 6\"]\n",
        "gns = Groups.split(\" \")\n",
        "gn = int(gns[1]) -1\n",
        "\n",
        "links = [\"EREpwtVwueQ\",\n",
        "         \"XxIfSkkyAaQ\"]\n",
        "\n",
        "link = links[gn]\n",
        "video = YouTubeVideo(link, width = 800, height=600)\n",
        "display(video)"
      ],
      "metadata": {
        "colab": {
          "base_uri": "https://localhost:8080/",
          "height": 620
        },
        "cellView": "form",
        "id": "dFPefGeCC-nw",
        "outputId": "bb44676d-ff2d-4ab8-d703-6cd9bed1e7f1"
      },
      "execution_count": 7,
      "outputs": [
        {
          "output_type": "display_data",
          "data": {
            "text/plain": [
              "<IPython.lib.display.YouTubeVideo at 0x7f41f7a15970>"
            ],
            "text/html": [
              "\n",
              "        <iframe\n",
              "            width=\"800\"\n",
              "            height=\"600\"\n",
              "            src=\"https://www.youtube.com/embed/XxIfSkkyAaQ\"\n",
              "            frameborder=\"0\"\n",
              "            allowfullscreen\n",
              "            \n",
              "        ></iframe>\n",
              "        "
            ],
            "image/jpeg": "[encoded data removed]"
          },
          "metadata": {}
        }
      ]
    },
    {
      "cell_type": "markdown",
      "source": [
        "# [3] Create an AI generated video using online tools (e.g., Steve AI and chatGPT)\n",
        "\n",
        "Here's howto:\n",
        "+ 💾 Download ppt for instruction [here](https://github.com/MK316/Spring2023/blob/main/DL/data/Creating%20a%20video%20using%20AI%20tools_notext.pptx) for this activity.\n",
        "+ This ppt will give you step-by-step instructions. (Listen and follow the instruction. No script is given)\n",
        "+ On each page, there's an audio icon linked to play. (You are allowed to play multiple times until you understand the instruction.)"
      ],
      "metadata": {
        "id": "yoBnZTbrC_EU"
      }
    },
    {
      "cell_type": "markdown",
      "source": [
        "# [4] If you succeeded to create a video, copy the link and paste it [here](https://docs.google.com/spreadsheets/d/1g0BJwqMRLZh1JiCzqiGbp7Ao3LrgLrb8gLfEVmjf7_0/edit?usp=sharing)\n",
        "\n",
        "+ You'll see \"Red colored cells\" for 4/5 group activity in the worksheet.\n",
        "+ Please download the file so that you can keep a copy for yourself, and save it in an appropriate location."
      ],
      "metadata": {
        "id": "Tu8jhyNhAl_6"
      }
    },
    {
      "cell_type": "markdown",
      "source": [
        "---\n",
        "The END"
      ],
      "metadata": {
        "id": "MIAjubXzE9cl"
      }
    }
  ]
}
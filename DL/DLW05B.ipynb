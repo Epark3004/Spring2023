{
  "nbformat": 4,
  "nbformat_minor": 0,
  "metadata": {
    "colab": {
      "provenance": [],
      "authorship_tag": "ABX9TyNwrjCFiUxI9AohUKjdtFwd",
      "include_colab_link": true
    },
    "kernelspec": {
      "name": "python3",
      "display_name": "Python 3"
    },
    "language_info": {
      "name": "python"
    }
  },
  "cells": [
    {
      "cell_type": "markdown",
      "metadata": {
        "id": "view-in-github",
        "colab_type": "text"
      },
      "source": [
        "<a href=\"https://colab.research.google.com/github/MK316/Spring2023/blob/main/DL/DLW05B.ipynb\" target=\"_parent\"><img src=\"https://colab.research.google.com/assets/colab-badge.svg\" alt=\"Open In Colab\"/></a>"
      ]
    },
    {
      "cell_type": "markdown",
      "source": [
        "# 💦 Digital Literacy Week 05B: Group activity (50 minutes)"
      ],
      "metadata": {
        "id": "h33zE1r_uICz"
      }
    },
    {
      "cell_type": "markdown",
      "source": [
        "# 🔎 In-class activities \n",
        "\n",
        "# Activity [1] Watch each digital tool video created by groups, and complete a review survey (30 minutes)\n",
        "\n",
        "**Group discussion:**\n",
        "1. Is the tool new to you?\n",
        "2. Is the tool you've chosen useful to everyone?\n",
        "3. Is there similar tool online? If yes, which ones are more advanced and more useful? (Explore web)\n",
        "4. How would you use each tool in your language learning or teaching?\n",
        "\n",
        "**A survey link is provided below each video link.**\n"
      ],
      "metadata": {
        "id": "knyUSQM5uPAK"
      }
    },
    {
      "cell_type": "code",
      "execution_count": null,
      "metadata": {
        "cellView": "form",
        "id": "nRWYqEaOuHKH"
      },
      "outputs": [],
      "source": [
        "\n",
        "from IPython.display import YouTubeVideo\n",
        "\n",
        "videos = \"G01\" #@param = [\"G01\",\"G02\",\"G03\",\"G04\",\"G05\",\"G06\"]\n",
        "vx = videos.split(\"0\")\n",
        "vn = int(vx[1])-1\n",
        "vids = [\"aNSH8OdHx2A\", \"bRlicxf8iJQ\"]\n",
        "\n",
        "myvid = vids[vn]\n",
        "video = YouTubeVideo(myvid, width=800, height=600)\n",
        "print(\"Video from: \", videos)\n",
        "display(video)\n"
      ]
    },
    {
      "cell_type": "markdown",
      "source": [
        "## Comment on each video: [follow this link and leave comment](https://forms.gle/qM4CU7tXodPuoMsj8)\n",
        "\n",
        "Complete review for each video. (i.e., 5 reviews should be completed by each group)"
      ],
      "metadata": {
        "id": "Z30ibwM9yfRl"
      }
    },
    {
      "cell_type": "markdown",
      "source": [
        "# Activity [2]\n",
        "\n",
        "Make a function that converts a statement to a yes-no question.\n",
        "\n",
        "Discussion: step by step investigation of converting how a statement becomes a yes-no question with the following 2 sentences.\n",
        "\n",
        "1. Mary is kind.\n",
        "2. Mary is a good friend of yours.\n"
      ],
      "metadata": {
        "id": "HhJJrRlp6iG9"
      }
    },
    {
      "cell_type": "markdown",
      "source": [
        "Flow: Write each step in a separate code cell.\n",
        "\n",
        "1. Set variables x and y\n",
        "2. Define switch(x,y)\n",
        "3. Make the initial capital, if necessary: e.g., 'is' > 'Is' using the first string capital\n",
        "4. Change punctuation from statement(.) to a question(?)"
      ],
      "metadata": {
        "id": "h4BuxofA7R1y"
      }
    },
    {
      "cell_type": "markdown",
      "source": [
        "1) Learn how to change lower case to upper case with string"
      ],
      "metadata": {
        "id": "Tr1hhZz18epL"
      }
    },
    {
      "cell_type": "code",
      "source": [
        "a = \"is\"\n",
        "A = a.upper()\n",
        "print(A)"
      ],
      "metadata": {
        "id": "TdKYsfxh8FqO"
      },
      "execution_count": null,
      "outputs": []
    },
    {
      "cell_type": "code",
      "source": [
        "a1 = \"are\"\n",
        "a2 = a[0].upper()\n",
        "print(a2)\n",
        "print(a2+a1[1]+a1[2])"
      ],
      "metadata": {
        "id": "-9MVw4Cc8imE"
      },
      "execution_count": null,
      "outputs": []
    },
    {
      "cell_type": "markdown",
      "source": [
        "2) Learn how to replace strings"
      ],
      "metadata": {
        "id": "-KgZsIRZ9O6o"
      }
    },
    {
      "cell_type": "code",
      "source": [
        "a1 = \"Mary is smart.\"\n",
        "a2 = a1.replace(\".\",\"?\")\n",
        "print(a2)"
      ],
      "metadata": {
        "id": "Uu15RX0d9c2M"
      },
      "execution_count": null,
      "outputs": []
    },
    {
      "cell_type": "markdown",
      "source": [
        "3) Learn string index: try line by line and see how index works.\n"
      ],
      "metadata": {
        "id": "-qquDd7FBbED"
      }
    },
    {
      "cell_type": "code",
      "source": [
        "a = \"Mary is smart.\""
      ],
      "metadata": {
        "id": "Oo3gJHnFBfTh"
      },
      "execution_count": 35,
      "outputs": []
    },
    {
      "cell_type": "code",
      "source": [
        "a[0]"
      ],
      "metadata": {
        "id": "qYYzQH61BiGf"
      },
      "execution_count": null,
      "outputs": []
    },
    {
      "cell_type": "code",
      "source": [
        "a[0:6]"
      ],
      "metadata": {
        "id": "57l-wCOqBlRf"
      },
      "execution_count": null,
      "outputs": []
    },
    {
      "cell_type": "code",
      "source": [
        "a[0:]"
      ],
      "metadata": {
        "id": "cpGuKbeuBoCY"
      },
      "execution_count": null,
      "outputs": []
    },
    {
      "cell_type": "code",
      "source": [
        "a[-1:]"
      ],
      "metadata": {
        "id": "zrMaV7slBvNE"
      },
      "execution_count": null,
      "outputs": []
    },
    {
      "cell_type": "code",
      "source": [
        "a[-5:]"
      ],
      "metadata": {
        "id": "LY7qmGh8Byxf"
      },
      "execution_count": null,
      "outputs": []
    },
    {
      "cell_type": "code",
      "source": [
        "a[:]"
      ],
      "metadata": {
        "id": "zEQPF-l4B06G"
      },
      "execution_count": null,
      "outputs": []
    },
    {
      "cell_type": "markdown",
      "source": [
        "# 👏 DIY Task (Group work): Create a function named\n",
        "\n",
        " **yesno(x, y)**\n",
        "\n",
        "where the variable 'x' is a subject and 'y' is the rest of the sentence."
      ],
      "metadata": {
        "id": "YDvdEy6Q9pkn"
      }
    },
    {
      "cell_type": "code",
      "source": [
        "def yesno(x,y):\n",
        "  v = y[0].upper() + y[1:3]\n",
        "  subj = x\n",
        "  sentence = v + subj + y[2:]\n",
        "  punct = sentence.replace(\".\",\"?\")\n",
        "  return punct"
      ],
      "metadata": {
        "id": "O8GgDkFy-QH4"
      },
      "execution_count": 33,
      "outputs": []
    },
    {
      "cell_type": "code",
      "source": [
        "yesno(\"Mary\",\"is smart.\")"
      ],
      "metadata": {
        "id": "yB2wLYzu-524"
      },
      "execution_count": null,
      "outputs": []
    },
    {
      "cell_type": "code",
      "source": [
        "# This code doesn't replace '!'. Change something to get '?' at the end of the sentence.\n",
        "yesno(\"Jane\",\"is sleeping!\")"
      ],
      "metadata": {
        "id": "KihnmBgrCBQh"
      },
      "execution_count": null,
      "outputs": []
    },
    {
      "cell_type": "code",
      "source": [
        "# Your code here to get the final yesno question.\n"
      ],
      "metadata": {
        "id": "D3Fm9prNCo1l"
      },
      "execution_count": null,
      "outputs": []
    },
    {
      "cell_type": "markdown",
      "source": [
        "# Activity [3]: 👍 If you have time - try the following game\n",
        "\n",
        "If the code is shown, hide it before you start. (Double click the right side of the cell code)"
      ],
      "metadata": {
        "id": "TdF-MosVDgqh"
      }
    },
    {
      "cell_type": "code",
      "source": [
        "#@markdown Word Guessing game:\n",
        "import random\n",
        "\n",
        "# Define a list of vocabulary words\n",
        "vocabulary = [\"coding\", \"python\", \"API\", \"prompt\", \"Colab\", \"GitHub\"]\n",
        "\n",
        "# Define the maximum number of tries\n",
        "max_tries = 4\n",
        "\n",
        "# Define the maximum number of hints\n",
        "max_hints = 4\n",
        "\n",
        "# Choose a random word from the list\n",
        "word = random.choice(vocabulary)\n",
        "\n",
        "# Determine the first hint based on the word\n",
        "first_hint = \"\"\n",
        "if word == \"coding\":\n",
        "    first_hint = \"Hint: This is the process of creating software, apps, and websites.\"\n",
        "elif word == \"python\":\n",
        "    first_hint = \"Hint: This is a popular programming language used for web development, data analysis, and more.\"\n",
        "elif word == \"API\":\n",
        "    first_hint = \"Hint: This is a set of programming instructions and standards for accessing a web-based software application.\"\n",
        "elif word == \"prompt\":\n",
        "    first_hint = \"Hint: This is a message or symbol on a computer screen that requests input from the user.\"\n",
        "elif word == \"Colab\":\n",
        "    first_hint = \"Hint: This is a free online platform for developing and running Python code using Jupyter notebooks.\"\n",
        "elif word == \"GitHub\":\n",
        "    first_hint = \"Hint: This is a web-based platform for version control and collaboration that uses Git.\"\n",
        "\n",
        "# Show the first hint for the word\n",
        "print(first_hint)\n",
        "\n",
        "# Explain the game to the user\n",
        "print(\"Guess the word with the hints provided. You have \" + str(max_tries) + \" tries.\")\n",
        "\n",
        "# Initialize the score\n",
        "score = 10\n",
        "\n",
        "# Initialize the number of hints\n",
        "hints = 0\n",
        "\n",
        "# Loop until the user runs out of tries or guesses the word\n",
        "while max_tries > 0:\n",
        "    # Get the user's guess\n",
        "    guess = input(\"Enter your guess: \").lower()\n",
        "    \n",
        "    # Check if the guess is correct\n",
        "    if guess == word:\n",
        "        # Calculate the final score and display it\n",
        "        score -= hints\n",
        "        print(\"Congratulations! You guessed the word correctly and earned \" + str(score) + \" points!\")\n",
        "        break\n",
        "    else:\n",
        "        # Decrement the number of tries\n",
        "        max_tries -= 1\n",
        "        \n",
        "        # Calculate the score penalty and update the score\n",
        "        if max_tries > 0:\n",
        "            penalty = score // max_tries\n",
        "            score -= penalty\n",
        "        else:\n",
        "            penalty = score\n",
        "            score = 0\n",
        "        \n",
        "        # Display a hint if the user has not exceeded the maximum number of hints\n",
        "        if hints < max_hints:\n",
        "            hints += 1\n",
        "            if hints == 1:\n",
        "                print(\"Hint: The word starts with the letter '\" + word[0] + \"'.\")\n",
        "            elif hints == 2:\n",
        "                print(\"Hint: The word contains \" + str(len(word)) + \" letters.\")\n",
        "            elif hints == 3:\n",
        "                print(\"Hint: The word is related to \" + random.choice(vocabulary) + \".\")\n",
        "            elif hints == 4:\n",
        "                print(\"Hint: The word rhymes with '\" + random.choice(vocabulary) + \"'.\")\n",
        "        else:\n",
        "            print(\"Sorry, that is not the correct word. You have \" + str(max_tries) + \" tries left. Your score is \" + str(score) + \".\")\n"
      ],
      "metadata": {
        "colab": {
          "base_uri": "https://localhost:8080/"
        },
        "cellView": "form",
        "id": "7mM2BDmhDjOU",
        "outputId": "9f01993f-098b-4a93-fa23-b54f4e3aec25"
      },
      "execution_count": 53,
      "outputs": [
        {
          "output_type": "stream",
          "name": "stdout",
          "text": [
            "Hint: This is a message or symbol on a computer screen that requests input from the user.\n",
            "Guess the word with the hints provided. You have 4 tries.\n",
            "Enter your guess: period\n",
            "Hint: The word starts with the letter 'p'.\n",
            "Enter your guess: period\n",
            "Hint: The word contains 6 letters.\n",
            "Enter your guess: period\n",
            "Hint: The word is related to Colab.\n",
            "Enter your guess: prompt\n",
            "Congratulations! You guessed the word correctly and earned -3 points!\n"
          ]
        }
      ]
    },
    {
      "cell_type": "markdown",
      "source": [
        "---\n",
        "# The end"
      ],
      "metadata": {
        "id": "fqFVbuBBCZxR"
      }
    }
  ]
}
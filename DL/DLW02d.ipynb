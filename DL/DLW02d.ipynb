{
  "nbformat": 4,
  "nbformat_minor": 0,
  "metadata": {
    "colab": {
      "provenance": [],
      "authorship_tag": "ABX9TyM56Ri30jyWB40EuOlgcB/S",
      "include_colab_link": true
    },
    "kernelspec": {
      "name": "python3",
      "display_name": "Python 3"
    },
    "language_info": {
      "name": "python"
    }
  },
  "cells": [
    {
      "cell_type": "markdown",
      "metadata": {
        "id": "view-in-github",
        "colab_type": "text"
      },
      "source": [
        "<a href=\"https://colab.research.google.com/github/MK316/Spring2023/blob/main/DL/DLW02d.ipynb\" target=\"_parent\"><img src=\"https://colab.research.google.com/assets/colab-badge.svg\" alt=\"Open In Colab\"/></a>"
      ]
    },
    {
      "cell_type": "markdown",
      "source": [
        "---\n",
        "# 📗 Topic [2]: Coding basic #2\n",
        "---\n",
        "Keywords:\n",
        "\n",
        "+ variables\n",
        "+ **operators**\n",
        "+ **data types: list and dictionary**"
      ],
      "metadata": {
        "id": "k4A5_MYHpcNQ"
      }
    },
    {
      "cell_type": "markdown",
      "source": [
        "Your github IDs [here](https://docs.google.com/spreadsheets/d/17SX51lCqOdtvC7cAGoX5tP9fKwVdGY5sRzMg2pXh9uk/edit#gid=0) - revised 0327"
      ],
      "metadata": {
        "id": "mUVgzk50XMkt"
      }
    },
    {
      "cell_type": "markdown",
      "source": [
        "+ **A variable** is a named storage location that holds a value.\n",
        "+ Variables can be used **to store values** such as numbers, strings, lists, or other data types. \n",
        "+ The value of a variable can change throughout the execution of a program. \n",
        "+ To declare a variable in Python, you need to assign a value to it using the **equal (=) sign.**"
      ],
      "metadata": {
        "id": "jJT4hD1teuJr"
      }
    },
    {
      "cell_type": "code",
      "source": [
        "x = 10\n",
        "y = \"Hello, class!\"\n",
        "z = [1, 2, 3]"
      ],
      "metadata": {
        "id": "Xes87bY2X45M"
      },
      "execution_count": null,
      "outputs": []
    },
    {
      "cell_type": "markdown",
      "source": [
        "↗️ In the above example, 'x' is assigned the value of 10, 'y' is assigned the value of \"Hello, World!\", and 'z' is assigned the value of [1, 2, 3]."
      ],
      "metadata": {
        "id": "ulw6QsP5ZiKp"
      }
    },
    {
      "cell_type": "code",
      "source": [
        "# We can assign a link or a function\n",
        "import pandas as pd\n",
        "url = \"https://github.com/MK316/Spring2023/raw/main/data/att_sample.csv\"\n",
        "data = pd.read_csv(url)\n",
        "data"
      ],
      "metadata": {
        "id": "_7bvpJt2aQmg"
      },
      "execution_count": null,
      "outputs": []
    },
    {
      "cell_type": "markdown",
      "source": [
        "## Commenting '#'\n",
        "\n",
        "- In Python, the # symbol is used to indicate comment lines. A comment is a line of text in a code that is ignored by the Python interpreter and is used to provide explanations or notes for the reader of the code."
      ],
      "metadata": {
        "id": "xZv9R8I8ZWvt"
      }
    },
    {
      "cell_type": "code",
      "source": [
        "# This is a comment in Python\n",
        "x = 10 # this is also a comment"
      ],
      "metadata": {
        "id": "7UJmbmmTaFx9"
      },
      "execution_count": null,
      "outputs": []
    },
    {
      "cell_type": "code",
      "source": [
        "x1 = x * 10\n",
        "x2 = x + 5\n",
        "\n",
        "print(X1) # Print the value of x1\n",
        "print(x1, x2) # Print the values of x1 and x2"
      ],
      "metadata": {
        "id": "Ivc72tB0X_TS"
      },
      "execution_count": null,
      "outputs": []
    },
    {
      "cell_type": "code",
      "source": [
        "y1 = y + \"Welcome to the class.\"\n",
        "z1 = z + [3,2,1]\n",
        " \n",
        "print(y1, z1)"
      ],
      "metadata": {
        "id": "cxePqv-52RU0"
      },
      "execution_count": null,
      "outputs": []
    },
    {
      "cell_type": "markdown",
      "source": [
        "Input types:\n",
        "\n",
        "* integer: e.g., -3, 1, 0, 234, etc.\n",
        "* float: e.g., -3.0, 1.2, 0, 3.141592653589793238, etc.\n",
        "* string: (characters) \"1\", '0', \"3.29\", \"Mary\", \"euphoria\", 'My name is Jane.'\n",
        "\n",
        "_Note:_ double or single quotation marks denote **string** data. (Open and close should match.)"
      ],
      "metadata": {
        "id": "4zDbyBHbeQsq"
      }
    },
    {
      "cell_type": "code",
      "source": [
        "# DIY\n",
        "x = 1\n",
        "y = 3\n",
        "z = x + y\n",
        "print(z)\n",
        "\n",
        "x1 = \"1\"\n",
        "y1 = \"3\"\n",
        "z1 = x1 + y1\n",
        "print(z1)"
      ],
      "metadata": {
        "colab": {
          "base_uri": "https://localhost:8080/"
        },
        "id": "yzZuC29QfP3T",
        "outputId": "24dae7df-6759-4607-90b0-9db72f242dd4"
      },
      "execution_count": null,
      "outputs": [
        {
          "output_type": "stream",
          "name": "stdout",
          "text": [
            "4\n",
            "13\n"
          ]
        }
      ]
    },
    {
      "cell_type": "code",
      "source": [
        "type(z)"
      ],
      "metadata": {
        "colab": {
          "base_uri": "https://localhost:8080/"
        },
        "id": "qwDb8cf5fkKi",
        "outputId": "1a9a234e-e619-47f3-ff13-9646163303f0"
      },
      "execution_count": null,
      "outputs": [
        {
          "output_type": "execute_result",
          "data": {
            "text/plain": [
              "int"
            ]
          },
          "metadata": {},
          "execution_count": 7
        }
      ]
    },
    {
      "cell_type": "code",
      "source": [
        "type(z1)"
      ],
      "metadata": {
        "colab": {
          "base_uri": "https://localhost:8080/"
        },
        "id": "L7sxvSaOfsOt",
        "outputId": "b74b232d-a615-486b-9cb5-618a6e3480e4"
      },
      "execution_count": null,
      "outputs": [
        {
          "output_type": "execute_result",
          "data": {
            "text/plain": [
              "str"
            ]
          },
          "metadata": {},
          "execution_count": 8
        }
      ]
    },
    {
      "cell_type": "code",
      "source": [
        "print(type(z), type(z1))"
      ],
      "metadata": {
        "colab": {
          "base_uri": "https://localhost:8080/"
        },
        "id": "bbFaL_GWfwMH",
        "outputId": "7f4e3965-e83a-4b24-9780-34d04e1a5305"
      },
      "execution_count": null,
      "outputs": [
        {
          "output_type": "stream",
          "name": "stdout",
          "text": [
            "<class 'int'> <class 'str'>\n"
          ]
        }
      ]
    },
    {
      "cell_type": "markdown",
      "source": [
        "## [2] Operators\n",
        "\n",
        "* Symbols that perform operations on values and variables. \n",
        "* They are used to perform arithmetic and logical operations, and they can also be used to manipulate and compare values. "
      ],
      "metadata": {
        "id": "5JgA2T2dRft5"
      }
    },
    {
      "cell_type": "markdown",
      "source": [
        "1. Arithmetic Operators: +, -, *, /, %, ** (for exponentiation)"
      ],
      "metadata": {
        "id": "NJBgu_O4bczL"
      }
    },
    {
      "cell_type": "code",
      "source": [
        "x = 2; y = 5\n",
        "\n",
        "a1 = x + y\n",
        "a2 = x - y\n",
        "a3 = x * y\n",
        "a4 = x / y\n",
        "a5 = x ** y"
      ],
      "metadata": {
        "id": "dXT3pIzobUHU"
      },
      "execution_count": null,
      "outputs": []
    },
    {
      "cell_type": "code",
      "source": [
        "print(a1, a2, a3, a4, a5)"
      ],
      "metadata": {
        "colab": {
          "base_uri": "https://localhost:8080/"
        },
        "id": "_m3JBsOKd6Uv",
        "outputId": "5d2b70ad-cd95-4e22-ab6c-272fe94c8559"
      },
      "execution_count": null,
      "outputs": [
        {
          "output_type": "stream",
          "name": "stdout",
          "text": [
            "7 -3 10 0.4 32\n"
          ]
        }
      ]
    },
    {
      "cell_type": "code",
      "source": [
        "print(\"The value of a1:\", a1)"
      ],
      "metadata": {
        "colab": {
          "base_uri": "https://localhost:8080/"
        },
        "id": "5kq7I3nMd0Xi",
        "outputId": "d2b23cf4-6ce2-4cb8-809d-97db736c82bb"
      },
      "execution_count": null,
      "outputs": [
        {
          "output_type": "stream",
          "name": "stdout",
          "text": [
            "The value of a1: 7\n"
          ]
        }
      ]
    },
    {
      "cell_type": "markdown",
      "source": [
        "# 🌱 Demo 🔢 Calculator"
      ],
      "metadata": {
        "id": "Cx1NyWUAybc8"
      }
    },
    {
      "cell_type": "code",
      "source": [
        "# This function adds two numbers\n",
        "def add(x, y):\n",
        "    return x + y\n",
        "\n",
        "# This function subtracts two numbers\n",
        "def subtract(x, y):\n",
        "    return x - y\n",
        "\n",
        "# This function multiplies two numbers\n",
        "def multiply(x, y):\n",
        "    return x * y\n",
        "\n",
        "# This function divides two numbers\n",
        "def divide(x, y):\n",
        "    return x / y\n"
      ],
      "metadata": {
        "id": "Dod3_zgYdsWe"
      },
      "execution_count": null,
      "outputs": []
    },
    {
      "cell_type": "code",
      "source": [
        "# DIY: define a function names switch(x, y), where the input x, y changes its position in the output."
      ],
      "metadata": {
        "id": "W9CuAaqXgwb5"
      },
      "execution_count": null,
      "outputs": []
    },
    {
      "cell_type": "code",
      "source": [
        "# Test\n",
        "\n",
        "add(2,3)\n",
        "# subtract(3,2)\n",
        "# multiply(2,3)\n",
        "# divide(3,2)"
      ],
      "metadata": {
        "id": "IoHh-U2GBsqH",
        "outputId": "10510e9c-1408-4824-aad6-a6c9a96a0ea2",
        "colab": {
          "base_uri": "https://localhost:8080/"
        }
      },
      "execution_count": null,
      "outputs": [
        {
          "output_type": "execute_result",
          "data": {
            "text/plain": [
              "5"
            ]
          },
          "metadata": {},
          "execution_count": 3
        }
      ]
    }
  ]
}
{
  "nbformat": 4,
  "nbformat_minor": 0,
  "metadata": {
    "colab": {
      "provenance": [],
      "authorship_tag": "ABX9TyOetyf8Qo+50O8XonL/RO45",
      "include_colab_link": true
    },
    "kernelspec": {
      "name": "python3",
      "display_name": "Python 3"
    },
    "language_info": {
      "name": "python"
    }
  },
  "cells": [
    {
      "cell_type": "markdown",
      "metadata": {
        "id": "view-in-github",
        "colab_type": "text"
      },
      "source": [
        "<a href=\"https://colab.research.google.com/github/MK316/Spring2023/blob/main/DL/useful_tools_G0.ipynb\" target=\"_parent\"><img src=\"https://colab.research.google.com/assets/colab-badge.svg\" alt=\"Open In Colab\"/></a>"
      ]
    },
    {
      "cell_type": "markdown",
      "source": [
        "# Useful digital tools to share (by April 11)\n",
        "\n",
        "- Each group creates 2 introductory videos to introduce useful tools for English learners and future English teachers\n",
        "- Use Emoji from 💫[here](https://gist.github.com/rxaviers/7360908) if you need.\n",
        "- Save a copy in Github (file name: e.g., useful_tools_G1.ipynb)"
      ],
      "metadata": {
        "id": "-WudhQkbdW4p"
      }
    },
    {
      "cell_type": "markdown",
      "source": [
        "## Setting-ups"
      ],
      "metadata": {
        "id": "ZhvM1ULqdqte"
      }
    },
    {
      "cell_type": "code",
      "source": [
        "#@markdown 💠 Import libraries {Image, Audio, YouTubeVideo}\n",
        "from IPython.display import Image, Audio, YouTubeVideo"
      ],
      "metadata": {
        "cellView": "form",
        "id": "TPblYRDIWasG"
      },
      "execution_count": null,
      "outputs": []
    },
    {
      "cell_type": "markdown",
      "source": [
        "# Group 1"
      ],
      "metadata": {
        "id": "8MKCXpN7dyPi"
      }
    },
    {
      "cell_type": "markdown",
      "source": [
        "## 🎬 Video [1]"
      ],
      "metadata": {
        "id": "c7jVG8fWhtAS"
      }
    },
    {
      "cell_type": "code",
      "source": [
        "url = \"https://raw.githubusercontent.com/user/repo/main/image.png\"\n",
        "image = Image(url=image_url, width = 800, height = 600)\n",
        "display(image)"
      ],
      "metadata": {
        "id": "_AIwcjfbfeR7"
      },
      "execution_count": null,
      "outputs": []
    },
    {
      "cell_type": "markdown",
      "source": [
        "Or use the following for multiple images (from your Github account)"
      ],
      "metadata": {
        "id": "-_rW89-ogPwG"
      }
    },
    {
      "cell_type": "code",
      "source": [
        "image_list = \"1\" #@param = [1,2,3]\n",
        "url_list = [\"https://raw.githubusercontent.com/user/repo/main/image.png\",\n",
        "            \"https://raw.githubusercontent.com/user/repo/main/image.png\",\n",
        "            \"https://raw.githubusercontent.com/user/repo/main/image.png\"]\n",
        "\n",
        "n = int(image_list)\n",
        "image_url = url_list[n]-1\n",
        "image = Image(url=image_url, width = 800, height = 600)\n",
        "display(image)"
      ],
      "metadata": {
        "cellView": "form",
        "id": "0v31AV2fekCU"
      },
      "execution_count": null,
      "outputs": []
    },
    {
      "cell_type": "markdown",
      "source": [
        "Show video (from Youtube)"
      ],
      "metadata": {
        "id": "pXxj78zagWGe"
      }
    },
    {
      "cell_type": "code",
      "execution_count": null,
      "metadata": {
        "id": "cszfbA2GcB44"
      },
      "outputs": [],
      "source": [
        "video = YouTubeVideo(\"ID\", width=800)\n",
        "display(video)"
      ]
    },
    {
      "cell_type": "markdown",
      "source": [
        "## 🎬 Video [2]"
      ],
      "metadata": {
        "id": "2AQCdbfHhvkY"
      }
    }
  ]
}
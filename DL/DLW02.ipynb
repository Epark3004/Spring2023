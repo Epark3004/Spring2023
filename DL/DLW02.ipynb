{
  "nbformat": 4,
  "nbformat_minor": 0,
  "metadata": {
    "colab": {
      "provenance": [],
      "authorship_tag": "ABX9TyN4G9BgQdKXYWdZFXEEOfa1",
      "include_colab_link": true
    },
    "kernelspec": {
      "name": "python3",
      "display_name": "Python 3"
    },
    "language_info": {
      "name": "python"
    }
  },
  "cells": [
    {
      "cell_type": "markdown",
      "metadata": {
        "id": "view-in-github",
        "colab_type": "text"
      },
      "source": [
        "<a href=\"https://colab.research.google.com/github/MK316/Spring2023/blob/main/DL/DLW02.ipynb\" target=\"_parent\"><img src=\"https://colab.research.google.com/assets/colab-badge.svg\" alt=\"Open In Colab\"/></a>"
      ]
    },
    {
      "cell_type": "markdown",
      "source": [
        "# 🌳 **Digital Literacy & English Education** (Week 01)\n",
        "\n",
        "Table of contents\n",
        "\n",
        "* Course overview: syllabus  \n",
        "* Grouping  \n",
        "* Getting ready: ChatGPT, Colab, Github, and Markdown"
      ],
      "metadata": {
        "id": "fkVkXhLoOGMz"
      }
    },
    {
      "cell_type": "markdown",
      "source": [
        "# [1] COURSE OVERVIEW"
      ],
      "metadata": {
        "id": "93gQaEo1RX63"
      }
    },
    {
      "cell_type": "markdown",
      "source": [
        "|Keyword| Online link|\n",
        "|:--:|:--:|\n",
        "|Syllabus|[File link](https://github.com/MK316/Spring2023/blob/main/DL/files/DLEEsyllabus.pdf)|\n",
        "|Course schedule|[Online link](https://github.com/MK316/Spring2023/blob/main/DL/README.md)|"
      ],
      "metadata": {
        "id": "jJT4hD1teuJr"
      }
    },
    {
      "cell_type": "markdown",
      "source": [
        "# [2] GROUPING"
      ],
      "metadata": {
        "id": "5JgA2T2dRft5"
      }
    },
    {
      "cell_type": "markdown",
      "source": [
        "🎃 Goto... grouping.ipynb [link](https://github.com/MK316/classtools/blob/main/grouping.ipynb)"
      ],
      "metadata": {
        "id": "lvvxNwKOobDX"
      }
    },
    {
      "cell_type": "markdown",
      "source": [
        "# [3] GETTING READY\n"
      ],
      "metadata": {
        "id": "3eSrUoglRh6-"
      }
    },
    {
      "cell_type": "markdown",
      "source": [
        "\n",
        "|Keyword| Online link|\n",
        "|:--:|:--:|\n",
        "|Online resources|[Colab](https://colab.research.google.com/)|\n",
        "|- coding file repository|[Github](https://github.com/)|\n",
        "|- AI chatbot (human conversation style)|[ChatGPT](https://openai.com/blog/chatgpt/)|\n",
        "||[Markdown Emoji](https://gist.github.com/rxaviers/7360908)|\n",
        "||[markdown intro](https://www.markdownguide.org/getting-started/)|\n",
        "||[markdown tutorial](https://www.writethedocs.org/guide/writing/markdown/)\n",
        "\n",
        "* Note: **Markdown** language is a  way to annotate text or add structure to it, and define how it should be displayed (**lightweight**)."
      ],
      "metadata": {
        "id": "ZVFb5JmJrPXu"
      }
    },
    {
      "cell_type": "markdown",
      "source": [
        "# [4] Introduction: Digital age"
      ],
      "metadata": {
        "id": "BW1ESCpvI5uT"
      }
    },
    {
      "cell_type": "code",
      "source": [
        "#@markdown 💠 Lecture slides (#1~6)\n",
        "from IPython.display import Image\n",
        "\n",
        "pages = \"1\" #@param = [\"1\", \"2\", \"3\", \"4\", \"5\",\"6\",\"7\"]\n",
        "adds = ['https://github.com/MK316/Spring2023/raw/main/DL/data/DLEE.001.jpeg',\n",
        "        'https://github.com/MK316/Spring2023/raw/main/DL/data/DLEE.002.jpeg',\n",
        "        'https://github.com/MK316/Spring2023/raw/main/DL/data/DLEE.003.jpeg',\n",
        "        'https://github.com/MK316/Spring2023/raw/main/DL/data/DLEE.004.jpeg',\n",
        "        'https://github.com/MK316/workshops/raw/main/20230126_yonsei/slides/slides.003.jpeg',\n",
        "        'https://github.com/MK316/Spring2023/raw/main/DL/data/DLEE.005.jpeg',\n",
        "        'https://github.com/MK316/Spring2023/raw/main/DL/data/DLEE.006.jpeg']\n",
        "\n",
        "if pages == \"1\":\n",
        "  add = adds[0]\n",
        "elif pages == \"2\":\n",
        "  add = adds[1]\n",
        "elif pages == \"3\":\n",
        "  add = adds[2]\n",
        "elif pages == \"4\":\n",
        "  add = adds[3]\n",
        "elif pages == \"5\":\n",
        "  add = adds[4]\n",
        "elif pages == \"6\":\n",
        "  add = adds[5]\n",
        "elif pages == \"7\":\n",
        "  add = adds[6]  \n",
        "Image(url=add, width=800, height=500)"
      ],
      "metadata": {
        "cellView": "form",
        "colab": {
          "base_uri": "https://localhost:8080/",
          "height": 521
        },
        "id": "xFMDT7-oI97J",
        "outputId": "32f39565-8e03-4d2b-e2da-01a31ff2078c"
      },
      "execution_count": 19,
      "outputs": [
        {
          "output_type": "execute_result",
          "data": {
            "text/html": [
              "<img src=\"https://github.com/MK316/Spring2023/raw/main/DL/data/DLEE.001.jpeg\" width=\"800\" height=\"500\"/>"
            ],
            "text/plain": [
              "<IPython.core.display.Image object>"
            ]
          },
          "metadata": {},
          "execution_count": 19
        }
      ]
    },
    {
      "cell_type": "markdown",
      "source": [
        "# ⏰ Todo: Gmail account, Github account"
      ],
      "metadata": {
        "id": "9D7U7633g0S_"
      }
    },
    {
      "cell_type": "markdown",
      "source": [
        "Share your github IDs [here](https://docs.google.com/spreadsheets/d/1rBlWeffj5RaBQS-lcv46r3Xe-JVF8PpwDngsuQhLKCc/edit?usp=sharing): due by March 13(Monday)"
      ],
      "metadata": {
        "id": "mSpge9tenu6I"
      }
    },
    {
      "cell_type": "markdown",
      "source": [
        "\n",
        "\n",
        "---\n",
        "# The End\n"
      ],
      "metadata": {
        "id": "3cZjH9xIiN4_"
      }
    }
  ]
}
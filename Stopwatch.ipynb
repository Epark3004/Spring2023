{
  "nbformat": 4,
  "nbformat_minor": 0,
  "metadata": {
    "colab": {
      "provenance": [],
      "authorship_tag": "ABX9TyNENGJhCOy4bjA2TtC1n5Js",
      "include_colab_link": true
    },
    "kernelspec": {
      "name": "python3",
      "display_name": "Python 3"
    },
    "language_info": {
      "name": "python"
    }
  },
  "cells": [
    {
      "cell_type": "markdown",
      "metadata": {
        "id": "view-in-github",
        "colab_type": "text"
      },
      "source": [
        "<a href=\"https://colab.research.google.com/github/MK316/Spring2023/blob/main/Stopwatch.ipynb\" target=\"_parent\"><img src=\"https://colab.research.google.com/assets/colab-badge.svg\" alt=\"Open In Colab\"/></a>"
      ]
    },
    {
      "cell_type": "markdown",
      "source": [
        "# ⏰ Stopwatch - audio play"
      ],
      "metadata": {
        "id": "l99SnPugs3WN"
      }
    },
    {
      "cell_type": "code",
      "source": [
        "#@markdown Run this code\n",
        "import time\n",
        "from IPython.display import Audio, display\n",
        "\n",
        "# Define the sound to play when the stopwatch time is up\n",
        "alarm = Audio(url='https://www.soundjay.com/misc/sounds/bell-ringing-05.mp3', autoplay=True)\n",
        "\n",
        "# Print the start message\n",
        "\n",
        "st = input(\"⌛ Set time in seconds. (e.g., 30 for '30 seconds'\")\n",
        "st = int(st)\n",
        "\n",
        "print(\"Press Enter to start the stopwatch\")\n",
        "input() # Wait for the user to press Enter\n",
        "print(\"Stopwatch started\")\n",
        "\n",
        "# Start the stopwatch\n",
        "start_time = time.time()\n",
        "\n",
        "# Run the stopwatch for 10 seconds\n",
        "time.sleep(st)\n",
        "\n",
        "# Calculate the elapsed time\n",
        "elapsed_time = time.time() - start_time\n",
        "\n",
        "# Play the alarm sound\n",
        "display(alarm)\n",
        "\n",
        "# Print the elapsed time\n",
        "print(\"Elapsed time:\", elapsed_time)"
      ],
      "metadata": {
        "colab": {
          "base_uri": "https://localhost:8080/",
          "height": 164
        },
        "cellView": "form",
        "id": "eoEAC1s6sA93",
        "outputId": "d7385559-b31d-4feb-aab0-6d3ef9357fde"
      },
      "execution_count": 10,
      "outputs": [
        {
          "output_type": "stream",
          "name": "stdout",
          "text": [
            "⌛ Set time in seconds. (e.g., 30 for '30 seconds'3\n",
            "Press Enter to start the stopwatch\n",
            "\n",
            "Stopwatch started\n"
          ]
        },
        {
          "output_type": "display_data",
          "data": {
            "text/plain": [
              "<IPython.lib.display.Audio object>"
            ],
            "text/html": [
              "\n",
              "                <audio  controls=\"controls\" autoplay=\"autoplay\">\n",
              "                    <source src=\"https://www.soundjay.com/misc/sounds/bell-ringing-05.mp3\" type=\"audio/mpeg\" />\n",
              "                    Your browser does not support the audio element.\n",
              "                </audio>\n",
              "              "
            ]
          },
          "metadata": {}
        },
        {
          "output_type": "stream",
          "name": "stdout",
          "text": [
            "Elapsed time: 3.0033648014068604\n"
          ]
        }
      ]
    },
    {
      "cell_type": "markdown",
      "source": [
        "# Current time in Korea"
      ],
      "metadata": {
        "id": "jizmuu32ue22"
      }
    },
    {
      "cell_type": "code",
      "source": [
        "import datetime\n",
        "\n",
        "# Get the current time in South Korea\n",
        "korea_time = datetime.datetime.now(datetime.timezone(datetime.timedelta(hours=9)))\n",
        "\n",
        "# Print the current time in South Korea\n",
        "print(korea_time)"
      ],
      "metadata": {
        "colab": {
          "base_uri": "https://localhost:8080/"
        },
        "id": "QTs4cio_ufcX",
        "outputId": "04e83afc-9fd7-40be-ff05-86e8153a5bfe"
      },
      "execution_count": 11,
      "outputs": [
        {
          "output_type": "stream",
          "name": "stdout",
          "text": [
            "2023-01-01 00:09:42.513592+09:00\n"
          ]
        }
      ]
    },
    {
      "cell_type": "markdown",
      "source": [
        "# Current time in a select City: \n",
        "\n",
        "(e.g., New York, Los Angeles, London, and Seoul)"
      ],
      "metadata": {
        "id": "EU3hbVI8vJj7"
      }
    },
    {
      "cell_type": "code",
      "source": [
        "#@markdown Run the code\n",
        "import datetime\n",
        "\n",
        "# Define the list of cities\n",
        "city = \"Los Angeles\" #@param [\"New York\", \"Los Angeles\", \"London\", \"Seoul\"]\n",
        "\n",
        "# Prompt the user to select a city\n",
        "\n",
        "# Determine the time zone for the selected city\n",
        "if city == \"New York\":\n",
        "    time_zone = datetime.timedelta(hours=-5)\n",
        "elif city == \"Los Angeles\":\n",
        "    time_zone = datetime.timedelta(hours=-8)\n",
        "elif city == \"London\":\n",
        "    time_zone = datetime.timedelta(hours=0)\n",
        "elif city == \"Seoul\":\n",
        "    time_zone = datetime.timedelta(hours = 9)\n",
        "\n",
        "# Get the current time in the selected city\n",
        "city_time = datetime.datetime.now(datetime.timezone(time_zone))\n",
        "\n",
        "# Print the current time in the selected city\n",
        "print(f\"Current time in {city}: {city_time.strftime('%H:%M:%S')}\")"
      ],
      "metadata": {
        "colab": {
          "base_uri": "https://localhost:8080/"
        },
        "cellView": "form",
        "id": "16K-YVWnwl4h",
        "outputId": "082df902-dfe7-431c-af79-58cc6b844c0c"
      },
      "execution_count": 16,
      "outputs": [
        {
          "output_type": "stream",
          "name": "stdout",
          "text": [
            "Current time in Los Angeles: 07:19:14\n"
          ]
        }
      ]
    }
  ]
}
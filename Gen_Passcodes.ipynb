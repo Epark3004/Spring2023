{
  "nbformat": 4,
  "nbformat_minor": 0,
  "metadata": {
    "colab": {
      "provenance": [],
      "authorship_tag": "ABX9TyOVswWXxWb2Doy5p39Ffayv",
      "include_colab_link": true
    },
    "kernelspec": {
      "name": "python3",
      "display_name": "Python 3"
    },
    "language_info": {
      "name": "python"
    }
  },
  "cells": [
    {
      "cell_type": "markdown",
      "metadata": {
        "id": "view-in-github",
        "colab_type": "text"
      },
      "source": [
        "<a href=\"https://colab.research.google.com/github/MK316/Spring2023/blob/main/Gen_Passcodes.ipynb\" target=\"_parent\"><img src=\"https://colab.research.google.com/assets/colab-badge.svg\" alt=\"Open In Colab\"/></a>"
      ]
    },
    {
      "cell_type": "markdown",
      "source": [
        "# Generating random passcodes"
      ],
      "metadata": {
        "id": "5jsh5dX4kcU-"
      }
    },
    {
      "cell_type": "markdown",
      "source": [
        "Random"
      ],
      "metadata": {
        "id": "mxgVoX61ke7_"
      }
    },
    {
      "cell_type": "code",
      "execution_count": 6,
      "metadata": {
        "colab": {
          "base_uri": "https://localhost:8080/"
        },
        "id": "fkjv2g-Ya5rb",
        "outputId": "e82bc045-bdf9-4ad2-d248-720268c3f777"
      },
      "outputs": [
        {
          "output_type": "stream",
          "name": "stdout",
          "text": [
            "54T6OWOK\n"
          ]
        }
      ],
      "source": [
        "import random\n",
        "\n",
        "# Generate a random 8-character passcode\n",
        "possible_characters = \"ABCDEFGHIJKLMNOPQRSTUVWXYZ0123456789\"\n",
        "passcode = \"\"\n",
        "for i in range(8):\n",
        "  passcode += random.choice(possible_characters)\n",
        "\n",
        "print(passcode)"
      ]
    },
    {
      "cell_type": "markdown",
      "source": [
        "Unique"
      ],
      "metadata": {
        "id": "xqWnsrQQkh99"
      }
    },
    {
      "cell_type": "code",
      "source": [
        "import random\n",
        "\n",
        "# Generate a random 8-character passcode\n",
        "possible_characters = \"ABCDEFGHJKLMNPQRSTUVWXYZ0123456789\"\n",
        "passcode = \"\".join(random.sample(possible_characters, 8))\n",
        "\n",
        "print(passcode)"
      ],
      "metadata": {
        "colab": {
          "base_uri": "https://localhost:8080/"
        },
        "id": "SAQePZq5c0Yf",
        "outputId": "e1ab3a5d-5394-4490-f10f-60137ec35898"
      },
      "execution_count": 4,
      "outputs": [
        {
          "output_type": "stream",
          "name": "stdout",
          "text": [
            "X8J20YLW\n"
          ]
        }
      ]
    }
  ]
}
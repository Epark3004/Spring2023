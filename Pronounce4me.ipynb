{
  "nbformat": 4,
  "nbformat_minor": 0,
  "metadata": {
    "colab": {
      "provenance": [],
      "authorship_tag": "ABX9TyMvgwS+A0eljL5d8MOekeui",
      "include_colab_link": true
    },
    "kernelspec": {
      "name": "python3",
      "display_name": "Python 3"
    },
    "language_info": {
      "name": "python"
    }
  },
  "cells": [
    {
      "cell_type": "markdown",
      "metadata": {
        "id": "view-in-github",
        "colab_type": "text"
      },
      "source": [
        "<a href=\"https://colab.research.google.com/github/MK316/Spring2023/blob/main/Pronounce4me.ipynb\" target=\"_parent\"><img src=\"https://colab.research.google.com/assets/colab-badge.svg\" alt=\"Open In Colab\"/></a>"
      ]
    },
    {
      "cell_type": "markdown",
      "source": [
        "# 🔈 Pronounce for me!\n",
        "- Getting audio file of your text.\n",
        "\n",
        "📘 Description: \n",
        "- This tool will create an audio file of your text (words, sentences, or passages). Download it and practice your speaking with the sound.\n",
        "\n",
        "📘 Instruction:\n",
        "\n",
        "1. Get ready to paste your text. (Cntl+C)\n",
        "2. Run the codes in the order. Wait until you see a green check mark on the left side of the cell.\n",
        "3. Paste your text when a text box appears, and hit ENTER.\n",
        "4. You can download the audio file on the left panel (folder shape): It'll be automatically saved as \"myaudio.wav\".\n",
        "\n",
        "Hope it helps!😃"
      ],
      "metadata": {
        "id": "DIt3wnlfEzEy"
      }
    },
    {
      "cell_type": "code",
      "source": [
        "#@markdown 🚩 Installing & making a function { tts ( _text_to_say_) }:\n",
        "def tts(text):\n",
        "\n",
        "  !pip install gTTS\n",
        "  from gtts import gTTS\n",
        "  from IPython.display import Audio\n",
        "\n",
        "  text_to_say = text\n",
        "\n",
        "# Step ⓵ Language to choose:\n",
        "  language_to_choose = \"en\" #@param [\"en\", \"fr\",\"ko\",'es']\n",
        "  # lang = language_to_choose\n",
        "  print(\"Play language accent: %s\"%language_to_choose)\n",
        "  language = language_to_choose\n",
        "\n",
        "# gTTS\n",
        "  gtts_object = gTTS(text = text_to_say,\n",
        "                     lang = language,\n",
        "                    slow = False)\n",
        "  \n",
        "# #@markdown Step ③: Create the audio file (.wav) to play:\n",
        "  gtts_object.save(\"myaudio.wav\")\n",
        "\n",
        "# # Output\n",
        "  return Audio(\"myaudio.wav\")"
      ],
      "metadata": {
        "cellView": "form",
        "id": "b1rHcdLGG8dP"
      },
      "execution_count": 12,
      "outputs": []
    },
    {
      "cell_type": "markdown",
      "source": [
        "**_\\* Important Notes_**:  \n",
        "\n",
        "[1] do not use \"\" (double quotation marks) in your sentence. Instead, use ''(single quotation mark when needed).\n",
        "\n",
        "e.g., Let's call 'Sarah'. (O), Let's call \"Sarah\".(X)\n",
        "\n",
        "[2] If you want words connected, don't use 'comma' between words. \n",
        "\n",
        "e.g., 'Hello, there!' vs. 'Hello there!' will sound different. "
      ],
      "metadata": {
        "id": "z0zwO7L8JiLU"
      }
    },
    {
      "cell_type": "code",
      "source": [
        "#@markdown ▶️ Creating audio file\n",
        "\n",
        "mytext = input(\"Type or paste your text here. Then, hit ENTER key.\")\n",
        "tts(mytext)"
      ],
      "metadata": {
        "colab": {
          "base_uri": "https://localhost:8080/",
          "height": 290
        },
        "cellView": "form",
        "id": "PrcFq-ECHQG1",
        "outputId": "ab0dfbc9-b27f-4c75-e2bf-a5d8f4d379b5"
      },
      "execution_count": 14,
      "outputs": [
        {
          "output_type": "stream",
          "name": "stdout",
          "text": [
            "Type or paste your text here. Then, hit ENTER key.Good morning student! \n",
            "Looking in indexes: https://pypi.org/simple, https://us-python.pkg.dev/colab-wheels/public/simple/\n",
            "Requirement already satisfied: gTTS in /usr/local/lib/python3.8/dist-packages (2.3.0)\n",
            "Requirement already satisfied: requests~=2.28.0 in /usr/local/lib/python3.8/dist-packages (from gTTS) (2.28.1)\n",
            "Requirement already satisfied: click~=8.1.3 in /usr/local/lib/python3.8/dist-packages (from gTTS) (8.1.3)\n",
            "Requirement already satisfied: six~=1.16.0 in /usr/local/lib/python3.8/dist-packages (from gTTS) (1.16.0)\n",
            "Requirement already satisfied: urllib3<1.27,>=1.21.1 in /usr/local/lib/python3.8/dist-packages (from requests~=2.28.0->gTTS) (1.24.3)\n",
            "Requirement already satisfied: certifi>=2017.4.17 in /usr/local/lib/python3.8/dist-packages (from requests~=2.28.0->gTTS) (2022.12.7)\n",
            "Requirement already satisfied: charset-normalizer<3,>=2 in /usr/local/lib/python3.8/dist-packages (from requests~=2.28.0->gTTS) (2.1.1)\n",
            "Requirement already satisfied: idna<4,>=2.5 in /usr/local/lib/python3.8/dist-packages (from requests~=2.28.0->gTTS) (2.10)\n",
            "Play language accent: en\n"
          ]
        },
        {
          "output_type": "execute_result",
          "data": {
            "text/plain": [
              "<IPython.lib.display.Audio object>"
            ],
            "text/html": [
              "\n",
              "                <audio  controls=\"controls\" >\n",
              "                    <source src=\"data:audio/x-wav;base64,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\" type=\"audio/x-wav\" />\n",
              "                    Your browser does not support the audio element.\n",
              "                </audio>\n",
              "              "
            ]
          },
          "metadata": {},
          "execution_count": 14
        }
      ]
    }
  ]
}
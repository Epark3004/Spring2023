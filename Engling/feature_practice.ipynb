{
  "nbformat": 4,
  "nbformat_minor": 0,
  "metadata": {
    "colab": {
      "provenance": [],
      "authorship_tag": "ABX9TyOZAO33xChiM8ifpmjMMsC9",
      "include_colab_link": true
    },
    "kernelspec": {
      "name": "python3",
      "display_name": "Python 3"
    },
    "language_info": {
      "name": "python"
    }
  },
  "cells": [
    {
      "cell_type": "markdown",
      "metadata": {
        "id": "view-in-github",
        "colab_type": "text"
      },
      "source": [
        "<a href=\"https://colab.research.google.com/github/MK316/Spring2023/blob/main/Engling/feature_practice.ipynb\" target=\"_parent\"><img src=\"https://colab.research.google.com/assets/colab-badge.svg\" alt=\"Open In Colab\"/></a>"
      ]
    },
    {
      "cell_type": "code",
      "execution_count": 13,
      "metadata": {
        "colab": {
          "base_uri": "https://localhost:8080/"
        },
        "id": "0Xb_psgtZ5iR",
        "outputId": "82331933-ef1d-4655-d514-5a88a22b2e4a"
      },
      "outputs": [
        {
          "output_type": "stream",
          "name": "stdout",
          "text": [
            "[('p', ['[+consonantal]', '[-sonorant]']), ('b', ['[+consonantal]', '[-sonorant]']), ('t', ['[+consonantal]', '[-sonorant]']), ('d', ['[+consonantal]', '[-sonorant]']), ('k', ['[+consonantal]', '[-sonorant]']), ('g', ['[+consonantal]', '[-sonorant]']), ('f', ['[+consonantal]', '[-sonorant]']), ('v', ['[+consonantal]', '[-sonorant]']), ('θ', ['[+consonantal]', '[-sonorant]']), ('ð', ['[+consonantal]', '[-sonorant]']), ('s', ['[+consonantal]', '[-sonorant]']), ('z', ['[+consonantal]', '[-sonorant]']), ('ʃ', ['[+consonantal]', '[-sonorant]']), ('ʒ', ['[+consonantal]', '[-sonorant]']), ('h', ['[+consonantal]', '[-sonorant]']), ('m', ['[+consonantal]', '[+sonorant]']), ('n', ['[+consonantal]', '[+sonorant]']), ('ŋ', ['[+consonantal]', '[+sonorant]']), ('l', ['[+consonantal]', '[+sonorant]']), ('ɹ', ['[+consonantal]', '[+sonorant]']), ('j', ['[+consonantal]', '[+sonorant]']), ('w', ['[+consonantal]', '[+sonorant]']), ('tʃ', ['[+consonantal]', '[-sonorant]']), ('dʒ', ['[+consonantal]', '[-sonorant]'])]\n"
          ]
        }
      ],
      "source": [
        "# Define tuples for English consonant phonemes\n",
        "phoneme1 = ('p', ['[+consonantal]', '[-sonorant]'])\n",
        "phoneme2 = ('b', ['[+consonantal]', '[-sonorant]'])\n",
        "phoneme3 = ('t', ['[+consonantal]', '[-sonorant]'])\n",
        "phoneme4 = ('d', ['[+consonantal]', '[-sonorant]'])\n",
        "phoneme5 = ('k', ['[+consonantal]', '[-sonorant]'])\n",
        "phoneme6 = ('g', ['[+consonantal]', '[-sonorant]'])\n",
        "phoneme7 = ('f', ['[+consonantal]', '[-sonorant]'])\n",
        "phoneme8 = ('v', ['[+consonantal]', '[-sonorant]'])\n",
        "phoneme9 = ('θ', ['[+consonantal]', '[-sonorant]'])\n",
        "phoneme10 = ('ð', ['[+consonantal]', '[-sonorant]'])\n",
        "phoneme11 = ('s', ['[+consonantal]', '[-sonorant]'])\n",
        "phoneme12 = ('z', ['[+consonantal]', '[-sonorant]'])\n",
        "phoneme13 = ('ʃ', ['[+consonantal]', '[-sonorant]'])\n",
        "phoneme14 = ('ʒ', ['[+consonantal]', '[-sonorant]'])\n",
        "phoneme15 = ('h', ['[+consonantal]', '[-sonorant]'])\n",
        "phoneme16 = ('m', ['[+consonantal]', '[+sonorant]'])\n",
        "phoneme17 = ('n', ['[+consonantal]', '[+sonorant]'])\n",
        "phoneme18 = ('ŋ', ['[+consonantal]', '[+sonorant]'])\n",
        "phoneme19 = ('l', ['[+consonantal]', '[+sonorant]'])\n",
        "phoneme20 = ('ɹ', ['[+consonantal]', '[+sonorant]'])\n",
        "phoneme21 = ('j', ['[+consonantal]', '[+sonorant]'])\n",
        "phoneme22 = ('w', ['[+consonantal]', '[+sonorant]'])\n",
        "phoneme23 = ('tʃ', ['[+consonantal]', '[-sonorant]'])\n",
        "phoneme24 = ('dʒ', ['[+consonantal]', '[-sonorant]'])\n",
        "\n",
        "\n",
        "# Store tuples in a list\n",
        "consonant_phonemes = [phoneme1, phoneme2, phoneme3, phoneme4, phoneme5,\n",
        "                      phoneme6, phoneme7, phoneme8, phoneme9, phoneme10,\n",
        "                      phoneme11, phoneme12, phoneme13, phoneme14, phoneme15,\n",
        "                      phoneme16, phoneme17, phoneme18, phoneme19, phoneme20,\n",
        "                      phoneme21, phoneme22, phoneme23, phoneme24]\n",
        "\n",
        "# Print the list of tuples\n",
        "print(consonant_phonemes)\n"
      ]
    },
    {
      "cell_type": "code",
      "source": [
        "for phoneme in consonant_phonemes:\n",
        "    print(phoneme[0])"
      ],
      "metadata": {
        "id": "h_XO-LneaJQt"
      },
      "execution_count": null,
      "outputs": []
    },
    {
      "cell_type": "code",
      "source": [
        "import random\n",
        "\n",
        "# Choose 5 random phonemes from the list\n",
        "random_phonemes = random.sample(consonant_phonemes, 5)\n",
        "\n",
        "# Print the randomly chosen phonemes\n",
        "for phoneme in random_phonemes:\n",
        "    print(phoneme[0])\n"
      ],
      "metadata": {
        "colab": {
          "base_uri": "https://localhost:8080/"
        },
        "id": "vXNoHAZba0b6",
        "outputId": "30fbbbb3-e7ed-410d-87fb-4072f88c67a6"
      },
      "execution_count": 3,
      "outputs": [
        {
          "output_type": "stream",
          "name": "stdout",
          "text": [
            "ɹ\n",
            "b\n",
            "θ\n",
            "ʒ\n",
            "p\n"
          ]
        }
      ]
    },
    {
      "cell_type": "code",
      "source": [
        "import random\n",
        "\n",
        "# Choose 5 random phonemes from the list\n",
        "random_phonemes = random.sample(consonant_phonemes, 5)\n",
        "\n",
        "# Extract the sounds from the tuples and store them in a list\n",
        "sounds = [phoneme[0] for phoneme in random_phonemes]\n",
        "\n",
        "# Print the list of randomly chosen sounds\n",
        "print(sounds)\n"
      ],
      "metadata": {
        "colab": {
          "base_uri": "https://localhost:8080/"
        },
        "id": "L7st_qCrbQZq",
        "outputId": "7604fd72-c207-4914-af86-66dd2145536d"
      },
      "execution_count": 4,
      "outputs": [
        {
          "output_type": "stream",
          "name": "stdout",
          "text": [
            "['dʒ', 'w', 'p', 'j', 'b']\n"
          ]
        }
      ]
    },
    {
      "cell_type": "code",
      "source": [
        "import random\n",
        "\n",
        "# Choose 5 random phonemes from the list\n",
        "random_phonemes = random.sample(consonant_phonemes, 5)\n",
        "# Extract the sounds from the tuples and store them in a list\n",
        "sounds = [phoneme[0] for phoneme in random_phonemes]\n",
        "\n",
        "# Print the list of randomly chosen sounds\n",
        "print(sounds)\n",
        "# Check if a certain element is in the second argument of each phoneme\n",
        "target_element = '+sonorant'  # the element to search for\n",
        "has_target_element = False  # a flag to indicate if the target element is found\n",
        "for phoneme in random_phonemes:\n",
        "    if target_element in phoneme[1]:\n",
        "        has_target_element = True\n",
        "        break  # stop searching as soon as the target element is found\n",
        "\n",
        "# Print the results\n",
        "if has_target_element:\n",
        "    print(f\"At least one of the randomly chosen phonemes has the element '{target_element}' in its second argument.\")\n",
        "else:\n",
        "    print(f\"None of the randomly chosen phonemes have the element '{target_element}' in their second argument.\")\n"
      ],
      "metadata": {
        "colab": {
          "base_uri": "https://localhost:8080/"
        },
        "id": "lCZ2gPjnebT-",
        "outputId": "f76edc42-a1a1-4be3-eb4d-b9b5cff914df"
      },
      "execution_count": 11,
      "outputs": [
        {
          "output_type": "stream",
          "name": "stdout",
          "text": [
            "['l', 'k', 'ʒ', 'ð', 'b']\n",
            "At least one of the randomly chosen phonemes has the element '+sonorant' in its second argument.\n"
          ]
        }
      ]
    },
    {
      "cell_type": "code",
      "source": [
        "import random\n",
        "\n",
        "# Choose 5 random phonemes from the list\n",
        "random_phonemes = random.sample(consonant_phonemes, 5)\n",
        "# Extract the sounds from the tuples and store them in a list\n",
        "sounds = [phoneme[0] for phoneme in random_phonemes]\n",
        "\n",
        "# Print the list of randomly chosen sounds\n",
        "print(sounds)\n",
        "\n",
        "target_element = '+consonantal'  # the element to search for\n",
        "shared_elements = set(random_phonemes[0][1])  # initialize the set of shared elements\n",
        "for phoneme in random_phonemes[1:]:\n",
        "    shared_elements.intersection_update(phoneme[1])  # update the set with the shared elements\n",
        "\n",
        "# Print the shared elements\n",
        "if shared_elements:\n",
        "    shared_elements_str = ', '.join(shared_elements)\n",
        "    print(f\"The randomly chosen phonemes share the following element(s): {shared_elements_str}\")\n",
        "else:\n",
        "    print(\"None of the randomly chosen phonemes share any element.\")"
      ],
      "metadata": {
        "colab": {
          "base_uri": "https://localhost:8080/"
        },
        "id": "HMEMoGR4gwuo",
        "outputId": "66d090a4-b23f-4b5e-bc9b-9b915bae4726"
      },
      "execution_count": 14,
      "outputs": [
        {
          "output_type": "stream",
          "name": "stdout",
          "text": [
            "['m', 'g', 'b', 'z', 'f']\n",
            "The randomly chosen phonemes share the following element(s): [+consonantal]\n"
          ]
        }
      ]
    }
  ]
}
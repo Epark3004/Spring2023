{
  "nbformat": 4,
  "nbformat_minor": 0,
  "metadata": {
    "colab": {
      "provenance": [],
      "authorship_tag": "ABX9TyP+mpH4PLLFLkKtRBegm0ee",
      "include_colab_link": true
    },
    "kernelspec": {
      "name": "python3",
      "display_name": "Python 3"
    },
    "language_info": {
      "name": "python"
    }
  },
  "cells": [
    {
      "cell_type": "markdown",
      "metadata": {
        "id": "view-in-github",
        "colab_type": "text"
      },
      "source": [
        "<a href=\"https://colab.research.google.com/github/MK316/Spring2023/blob/main/Engling/feature_practice.ipynb\" target=\"_parent\"><img src=\"https://colab.research.google.com/assets/colab-badge.svg\" alt=\"Open In Colab\"/></a>"
      ]
    },
    {
      "cell_type": "markdown",
      "source": [
        "# 🌿English consonant feature practice"
      ],
      "metadata": {
        "id": "H9Yk_pG5t2eF"
      }
    },
    {
      "cell_type": "code",
      "execution_count": null,
      "metadata": {
        "id": "0Xb_psgtZ5iR",
        "cellView": "form"
      },
      "outputs": [],
      "source": [
        "#@markdown 📌 24 Consonant phoneme features defined\n",
        "# Define tuples for English consonant phonemes\n",
        "phoneme1 = ('p', ['[-strident]','[+anterior]','[-coronal]','[+consonantal]', '[-sonorant]', '[-syllabic]', '[-nasal]', '[-continuant]', '[-lateral]', '[-Delayed Release]', '[-voice]'])\n",
        "phoneme2 = ('b', ['[-strident]','[+anterior]','[-coronal]','[+consonantal]', '[-sonorant]', '[-syllabic]', '[-nasal]', '[-continuant]', '[-lateral]', '[-Delayed Release]', '[+voice]'])\n",
        "phoneme3 = ('t', ['[-strident]','[+anterior]','[+coronal]','[+consonantal]', '[-sonorant]', '[-syllabic]', '[-nasal]', '[-continuant]', '[-lateral]', '[-Delayed Release]', '[-voice]'])\n",
        "phoneme4 = ('d', ['[-strident]','[+anterior]','[+coronal]','[+consonantal]', '[-sonorant]', '[-syllabic]', '[-nasal]', '[-continuant]', '[-lateral]', '[-Delayed Release]', '[+voice]'])\n",
        "phoneme5 = ('k', ['[-strident]','[-anterior]','[-coronal]','[+consonantal]', '[-sonorant]', '[-syllabic]', '[-nasal]', '[-continuant]', '[-lateral]', '[-Delayed Release]', '[-voice]'])\n",
        "phoneme6 = ('g', ['[-strident]','[-anterior]','[-coronal]','[+consonantal]', '[-sonorant]', '[-syllabic]', '[-nasal]', '[-continuant]', '[-lateral]', '[-Delayed Release]', '[+voice]'])\n",
        "phoneme7 = ('f', ['[-strident]','[+anterior]','[-coronal]','[+consonantal]', '[-sonorant]', '[-syllabic]', '[-nasal]', '[+continuant]', '[-lateral]', '[-Delayed Release]', '[-voice]'])\n",
        "phoneme8 = ('v', ['[-strident]','[+anterior]','[-coronal]','[+consonantal]', '[-sonorant]', '[-syllabic]', '[-nasal]', '[+continuant]', '[-lateral]', '[-Delayed Release]', '[+voice]'])\n",
        "phoneme9 = ('θ', ['[-strident]','[+anterior]','[+coronal]','[+consonantal]', '[-sonorant]', '[-syllabic]', '[-nasal]', '[+continuant]', '[-lateral]', '[-Delayed Release]', '[-voice]'])\n",
        "phoneme10 = ('ð', ['[-strident]','[+anterior]','[+coronal]','[+consonantal]', '[-sonorant]', '[-syllabic]', '[-nasal]', '[+continuant]', '[-lateral]', '[-Delayed Release]', '[+voice]'])\n",
        "phoneme11 = ('s', ['[+strident]','[+anterior]','[+coronal]','[+consonantal]', '[-sonorant]', '[-syllabic]', '[-nasal]', '[+continuant]', '[-lateral]', '[-Delayed Release]', '[-voice]'])\n",
        "phoneme12 = ('z', ['[+strident]','[+anterior]','[+coronal]','[+consonantal]', '[-sonorant]', '[-syllabic]', '[-nasal]', '[+continuant]', '[-lateral]', '[-Delayed Release]', '[+voice]'])\n",
        "phoneme13 = ('ʃ', ['[+strident]','[-anterior]','[+coronal]','[+consonantal]', '[-sonorant]', '[-syllabic]', '[-nasal]', '[+continuant]', '[-lateral]', '[-Delayed Release]', '[-voice]'])\n",
        "phoneme14 = ('ʒ', ['[+strident]','[-anterior]','[+coronal]','[+consonantal]', '[-sonorant]', '[-syllabic]', '[-nasal]', '[+continuant]', '[-lateral]', '[-Delayed Release]', '[+voice]'])\n",
        "phoneme15 = ('h', ['[-strident]','[-anterior]','[-coronal]','[+consonantal]', '[-sonorant]', '[-syllabic]', '[-nasal]', '[+continuant]', '[-lateral]', '[-Delayed Release]', '[-voice]'])\n",
        "phoneme16 = ('m', ['[-strident]','[-anterior]','[-coronal]','[+consonantal]', '[+sonorant]', '[-syllabic]', '[+nasal]', '[-continuant]', '[-lateral]', '[-Delayed Release]', '[+voice]'])\n",
        "phoneme17 = ('n', ['[-strident]','[+anterior]','[+coronal]','[+consonantal]', '[+sonorant]', '[-syllabic]', '[+nasal]', '[-continuant]', '[-lateral]', '[-Delayed Release]', '[+voice]'])\n",
        "phoneme18 = ('ŋ', ['[-strident]','[-anterior]','[-coronal]','[+consonantal]', '[+sonorant]', '[-syllabic]', '[+nasal]', '[-continuant]', '[-lateral]', '[-Delayed Release]', '[+voice]'])\n",
        "phoneme19 = ('l', ['[-strident]','[+anterior]','[+coronal]','[+consonantal]', '[+sonorant]', '[-syllabic]', '[-nasal]', '[+continuant]', '[+lateral]', '[-Delayed Release]', '[+voice]'])\n",
        "phoneme20 = ('ɹ', ['[-strident]','[+anterior]','[+coronal]','[+consonantal]', '[+sonorant]', '[-syllabic]', '[-nasal]', '[+continuant]', '[-lateral]', '[-Delayed Release]', '[+voice]'])\n",
        "phoneme21 = ('j', ['[-strident]','[-anterior]','[-coronal]','[+consonantal]', '[+sonorant]', '[-syllabic]', '[-nasal]', '[+continuant]', '[-lateral]', '[-Delayed Release]', '[+voice]'])\n",
        "phoneme22 = ('w', ['[-strident]','[-anterior]','[-coronal]','[+consonantal]', '[+sonorant]', '[-syllabic]', '[-nasal]', '[+continuant]', '[-lateral]', '[-Delayed Release]', '[+voice]'])\n",
        "phoneme23 = ('tʃ', ['[+strident]','[-anterior]','[+coronal]','[+consonantal]', '[-sonorant]', '[-syllabic]', '[-nasal]', '[-continuant]', '[-lateral]', '[+Delayed Release]', '[-voice]'])\n",
        "phoneme24 = ('dʒ', ['[+strident]','[-anterior]','[+coronal]','[+consonantal]', '[-sonorant]', '[-syllabic]', '[-nasal]', '[-continuant]', '[-lateral]', '[+Delayed Release]', '[+voice]'])\n",
        "\n",
        "\n",
        "# Store tuples in a list\n",
        "phonemes = [phoneme1, phoneme2, phoneme3, phoneme4, phoneme5,\n",
        "                      phoneme6, phoneme7, phoneme8, phoneme9, phoneme10,\n",
        "                      phoneme11, phoneme12, phoneme13, phoneme14, phoneme15,\n",
        "                      phoneme16, phoneme17, phoneme18, phoneme19, phoneme20,\n",
        "                      phoneme21, phoneme22, phoneme23, phoneme24]\n",
        "\n",
        "# Print the list of tuples\n",
        "plist = [] \n",
        "for phoneme in phonemes:\n",
        "    plist.append(phoneme[0])\n",
        "print(f\"🐬24 English consonant phonemes: {plist}\")\n",
        "len(plist)\n",
        "\n",
        "print(f\"🐬Each phoneme is stored its features as follows:\\n {phonemes[0]}\")\n"
      ]
    },
    {
      "cell_type": "markdown",
      "source": [
        "## [1] Random sound list and see their shared features"
      ],
      "metadata": {
        "id": "gX1wiEXVuD6T"
      }
    },
    {
      "cell_type": "code",
      "source": [
        "#@markdown 🐋 Random list and shared features\n",
        "import random\n",
        "\n",
        "# Choose 5 random phonemes from the list\n",
        "random_phonemes = random.sample(phonemes, 5)\n",
        "# Extract the sounds from the tuples and store them in a list\n",
        "sounds = [phoneme[0] for phoneme in random_phonemes]\n",
        "\n",
        "# Print the list of randomly chosen sounds\n",
        "print(f\"Selcted sounds: {sounds}\")\n",
        "print(\"=\"*50)\n",
        "show = input(\"Hit ENTER to see the answer\")\n",
        "print(\"=\"*50)\n",
        "\n",
        "target_element = '+consonantal'  # the element to search for\n",
        "shared_elements = set(random_phonemes[0][1])  # initialize the set of shared elements\n",
        "for phoneme in random_phonemes[1:]:\n",
        "    shared_elements.intersection_update(phoneme[1])  # update the set with the shared elements\n",
        "\n",
        "# Print the shared elements\n",
        "if shared_elements:\n",
        "    shared_elements_str = ', '.join(shared_elements)\n",
        "    print(f\"The randomly chosen phonemes share the following element(s)\\n: {shared_elements_str}\")\n",
        "else:\n",
        "    print(\"None of the randomly chosen phonemes share any element.\")"
      ],
      "metadata": {
        "id": "HMEMoGR4gwuo",
        "cellView": "form"
      },
      "execution_count": null,
      "outputs": []
    },
    {
      "cell_type": "markdown",
      "source": [
        "## [2] Choose the number of sounds to select, and guess one feature shared by them."
      ],
      "metadata": {
        "id": "rachMZZ4uJyl"
      }
    },
    {
      "cell_type": "code",
      "source": [
        "#@markdown 🐋Select number of sounds and see their shared features\n",
        "import random\n",
        "sn = input(\"How many sounds to select? \")\n",
        "sn = int(sn)\n",
        "# Choose 5 random phonemes from the list\n",
        "random_phonemes = random.sample(phonemes, sn)\n",
        "# Extract the sounds from the tuples and store them in a list\n",
        "sounds = [phoneme[0] for phoneme in random_phonemes]\n",
        "\n",
        "# Print the list of randomly chosen sounds\n",
        "print(sounds)\n",
        "print(\"=\"*50)\n",
        "answer = input(\"One common feature?\")\n",
        "\n",
        "target_element = answer  # the element to search for\n",
        "shared_elements = set(random_phonemes[0][1])  # initialize the set of shared elements\n",
        "for phoneme in random_phonemes[1:]:\n",
        "    shared_elements.intersection_update(phoneme[1])  # update the set with the shared elements\n",
        "\n",
        "# Print the shared elements\n",
        "if shared_elements:\n",
        "    shared_elements_str = ', '.join(shared_elements)\n",
        "    print(f\"The phoneme list shares the following element(s): {shared_elements_str}\")\n",
        "else:\n",
        "    print(\"The feature you've provided isn't shared by the phoneme list'.\")"
      ],
      "metadata": {
        "cellView": "form",
        "id": "9Sj-iTGPiNM5"
      },
      "execution_count": null,
      "outputs": []
    },
    {
      "cell_type": "markdown",
      "source": [
        "## [3] Practice with 4 random sounds"
      ],
      "metadata": {
        "id": "d5iS1QeruYL0"
      }
    },
    {
      "cell_type": "code",
      "source": [
        "#@markdown 🐋 Shared feature to check with 4 selected sounds\n",
        "import random\n",
        "\n",
        "# Select and display 4 random phonemes\n",
        "selected_phonemes = random.sample(phonemes, 4)\n",
        "\n",
        "mylist = []\n",
        "for phoneme in selected_phonemes:\n",
        "    mylist.append(phoneme[0])\n",
        "print(\"=\"*50)\n",
        "print(f\"Selected phonemes: {mylist}\")\n",
        "print(\"=\"*50)\n",
        "# Ask user for input\n",
        "\n",
        "user_input = input(\"Enter a feature to check if it is shared by all the sounds listed: \")\n",
        "\n",
        "# Check if the input is shared by all sounds\n",
        "shared = all(user_input in phoneme[1] for phoneme in selected_phonemes)\n",
        "\n",
        "if shared:\n",
        "    print(f\"{user_input} is shared by all the sounds listed.\")\n",
        "else:\n",
        "    print(f\"{user_input} is not shared by the sound list. Try again.\")\n"
      ],
      "metadata": {
        "cellView": "form",
        "id": "RXuOqbaAj6-X",
        "outputId": "f005eef8-9f84-4a9c-89e7-721d5fdf9b37",
        "colab": {
          "base_uri": "https://localhost:8080/"
        }
      },
      "execution_count": 122,
      "outputs": [
        {
          "output_type": "stream",
          "name": "stdout",
          "text": [
            "==================================================\n",
            "Selected phonemes: ['ð', 'ŋ', 'l', 'j']\n",
            "==================================================\n",
            "Enter a feature to check if it is shared by all the sounds listed: [-voice]\n",
            "[-voice] is not shared by the sound list. Try again.\n"
          ]
        }
      ]
    },
    {
      "cell_type": "markdown",
      "source": [
        "## [4] Choose the number of sounds to select, and check each shared feature for its value + or -"
      ],
      "metadata": {
        "id": "lTnM_TTbu3GT"
      }
    },
    {
      "cell_type": "code",
      "source": [
        "#@markdown 🐋Select the number of sounds and check + or - for a given feature\n",
        "# Select and display random phonemes\n",
        "sn = input(\"How many sounds to select? \")\n",
        "sn = int(sn)\n",
        "selected_phonemes = random.sample(phonemes, sn)\n",
        "print(\"Selected phonemes:\")\n",
        "mylist = []\n",
        "for phoneme in selected_phonemes:\n",
        "    mylist.append(phoneme[0])\n",
        "\n",
        "print(mylist)\n",
        "print(\"=\"*50)\n",
        "\n",
        "\n",
        "\n",
        "# Find the shared features\n",
        "shared_features = set(selected_phonemes[0][1]).intersection(*[phoneme[1] for phoneme in selected_phonemes[1:]])\n",
        "# shared_features\n",
        "\n",
        "# If there are shared features, ask the user for the + or - sign\n",
        "if shared_features:\n",
        "    for feature in shared_features:\n",
        "        stripped_feature = feature[2:-1]  # Remove the sign from the feature\n",
        "        user_input = input(f\"Enter the sign (+ or -) for the shared feature '{stripped_feature}': \")\n",
        "\n",
        "        if user_input == feature[1]:\n",
        "            print(f\"Correct! The sign for {stripped_feature} is {user_input}.\")\n",
        "        else:\n",
        "            print(f\"Wrong input. Try again.\")\n",
        "else:\n",
        "    print(\"No shared features found.\")"
      ],
      "metadata": {
        "cellView": "form",
        "id": "0Zm5hughlsm6"
      },
      "execution_count": null,
      "outputs": []
    },
    {
      "cell_type": "markdown",
      "source": [
        "---\n",
        "# 🌀 Feature game\n",
        "---"
      ],
      "metadata": {
        "id": "6-kr9l1C9vR4"
      }
    },
    {
      "cell_type": "code",
      "execution_count": null,
      "metadata": {
        "cellView": "form",
        "id": "0cv__AcX-hkP"
      },
      "outputs": [],
      "source": [
        "#@markdown 📌 24 Consonant phoneme features defined\n",
        "# Define tuples for English consonant phonemes\n",
        "phoneme1 = ('p', ['[-strident]','[+anterior]','[-coronal]','[+consonantal]', '[-sonorant]', '[-syllabic]', '[-nasal]', '[-continuant]', '[-lateral]', '[-Delayed Release]', '[-voice]'])\n",
        "phoneme2 = ('b', ['[-strident]','[+anterior]','[-coronal]','[+consonantal]', '[-sonorant]', '[-syllabic]', '[-nasal]', '[-continuant]', '[-lateral]', '[-Delayed Release]', '[+voice]'])\n",
        "phoneme3 = ('t', ['[-strident]','[+anterior]','[+coronal]','[+consonantal]', '[-sonorant]', '[-syllabic]', '[-nasal]', '[-continuant]', '[-lateral]', '[-Delayed Release]', '[-voice]'])\n",
        "phoneme4 = ('d', ['[-strident]','[+anterior]','[+coronal]','[+consonantal]', '[-sonorant]', '[-syllabic]', '[-nasal]', '[-continuant]', '[-lateral]', '[-Delayed Release]', '[+voice]'])\n",
        "phoneme5 = ('k', ['[-strident]','[-anterior]','[-coronal]','[+consonantal]', '[-sonorant]', '[-syllabic]', '[-nasal]', '[-continuant]', '[-lateral]', '[-Delayed Release]', '[-voice]'])\n",
        "phoneme6 = ('g', ['[-strident]','[-anterior]','[-coronal]','[+consonantal]', '[-sonorant]', '[-syllabic]', '[-nasal]', '[-continuant]', '[-lateral]', '[-Delayed Release]', '[+voice]'])\n",
        "phoneme7 = ('f', ['[-strident]','[+anterior]','[-coronal]','[+consonantal]', '[-sonorant]', '[-syllabic]', '[-nasal]', '[+continuant]', '[-lateral]', '[-Delayed Release]', '[-voice]'])\n",
        "phoneme8 = ('v', ['[-strident]','[+anterior]','[-coronal]','[+consonantal]', '[-sonorant]', '[-syllabic]', '[-nasal]', '[+continuant]', '[-lateral]', '[-Delayed Release]', '[+voice]'])\n",
        "phoneme9 = ('θ', ['[-strident]','[+anterior]','[+coronal]','[+consonantal]', '[-sonorant]', '[-syllabic]', '[-nasal]', '[+continuant]', '[-lateral]', '[-Delayed Release]', '[-voice]'])\n",
        "phoneme10 = ('ð', ['[-strident]','[+anterior]','[+coronal]','[+consonantal]', '[-sonorant]', '[-syllabic]', '[-nasal]', '[+continuant]', '[-lateral]', '[-Delayed Release]', '[+voice]'])\n",
        "phoneme11 = ('s', ['[+strident]','[+anterior]','[+coronal]','[+consonantal]', '[-sonorant]', '[-syllabic]', '[-nasal]', '[+continuant]', '[-lateral]', '[-Delayed Release]', '[-voice]'])\n",
        "phoneme12 = ('z', ['[+strident]','[+anterior]','[+coronal]','[+consonantal]', '[-sonorant]', '[-syllabic]', '[-nasal]', '[+continuant]', '[-lateral]', '[-Delayed Release]', '[+voice]'])\n",
        "phoneme13 = ('ʃ', ['[+strident]','[-anterior]','[+coronal]','[+consonantal]', '[-sonorant]', '[-syllabic]', '[-nasal]', '[+continuant]', '[-lateral]', '[-Delayed Release]', '[-voice]'])\n",
        "phoneme14 = ('ʒ', ['[+strident]','[-anterior]','[+coronal]','[+consonantal]', '[-sonorant]', '[-syllabic]', '[-nasal]', '[+continuant]', '[-lateral]', '[-Delayed Release]', '[+voice]'])\n",
        "phoneme15 = ('h', ['[-strident]','[-anterior]','[-coronal]','[+consonantal]', '[-sonorant]', '[-syllabic]', '[-nasal]', '[+continuant]', '[-lateral]', '[-Delayed Release]', '[-voice]'])\n",
        "phoneme16 = ('m', ['[-strident]','[-anterior]','[-coronal]','[+consonantal]', '[+sonorant]', '[-syllabic]', '[+nasal]', '[-continuant]', '[-lateral]', '[-Delayed Release]', '[+voice]'])\n",
        "phoneme17 = ('n', ['[-strident]','[+anterior]','[+coronal]','[+consonantal]', '[+sonorant]', '[-syllabic]', '[+nasal]', '[-continuant]', '[-lateral]', '[-Delayed Release]', '[+voice]'])\n",
        "phoneme18 = ('ŋ', ['[-strident]','[-anterior]','[-coronal]','[+consonantal]', '[+sonorant]', '[-syllabic]', '[+nasal]', '[-continuant]', '[-lateral]', '[-Delayed Release]', '[+voice]'])\n",
        "phoneme19 = ('l', ['[-strident]','[+anterior]','[+coronal]','[+consonantal]', '[+sonorant]', '[-syllabic]', '[-nasal]', '[+continuant]', '[+lateral]', '[-Delayed Release]', '[+voice]'])\n",
        "phoneme20 = ('ɹ', ['[-strident]','[+anterior]','[+coronal]','[+consonantal]', '[+sonorant]', '[-syllabic]', '[-nasal]', '[+continuant]', '[-lateral]', '[-Delayed Release]', '[+voice]'])\n",
        "phoneme21 = ('j', ['[-strident]','[-anterior]','[-coronal]','[+consonantal]', '[+sonorant]', '[-syllabic]', '[-nasal]', '[+continuant]', '[-lateral]', '[-Delayed Release]', '[+voice]'])\n",
        "phoneme22 = ('w', ['[-strident]','[-anterior]','[-coronal]','[+consonantal]', '[+sonorant]', '[-syllabic]', '[-nasal]', '[+continuant]', '[-lateral]', '[-Delayed Release]', '[+voice]'])\n",
        "phoneme23 = ('tʃ', ['[+strident]','[-anterior]','[+coronal]','[+consonantal]', '[-sonorant]', '[-syllabic]', '[-nasal]', '[-continuant]', '[-lateral]', '[+Delayed Release]', '[-voice]'])\n",
        "phoneme24 = ('dʒ', ['[+strident]','[-anterior]','[+coronal]','[+consonantal]', '[-sonorant]', '[-syllabic]', '[-nasal]', '[-continuant]', '[-lateral]', '[+Delayed Release]', '[+voice]'])\n",
        "\n",
        "\n",
        "# Store tuples in a list\n",
        "phonemes = [phoneme1, phoneme2, phoneme3, phoneme4, phoneme5,\n",
        "                      phoneme6, phoneme7, phoneme8, phoneme9, phoneme10,\n",
        "                      phoneme11, phoneme12, phoneme13, phoneme14, phoneme15,\n",
        "                      phoneme16, phoneme17, phoneme18, phoneme19, phoneme20,\n",
        "                      phoneme21, phoneme22, phoneme23, phoneme24]\n",
        "\n",
        "# Print the list of tuples\n",
        "plist = [] \n",
        "for phoneme in phonemes:\n",
        "    plist.append(phoneme[0])\n",
        "print(f\"🐬24 English consonant phonemes: {plist}\")\n",
        "len(plist)\n",
        "\n",
        "print(f\"🐬Each phoneme is stored its features as follows:\\n {phonemes[0]}\")\n"
      ]
    },
    {
      "cell_type": "code",
      "source": [
        "#@markdown Feature play with time limit: Time set, Group number, Number of sounds to select\n",
        "import random\n",
        "import time\n",
        "\n",
        "# Initialize the user's score to zero\n",
        "score = 0\n",
        "\n",
        "# Set the time limit (in seconds)\n",
        "timeset = input(\"Time setting in seconds: \")\n",
        "timeset = int(timeset)\n",
        "time_limit = timeset\n",
        "\n",
        "# Select and display random phonemes\n",
        "group = input(\"Your group? \")\n",
        "sn = input(\"How many sounds to select? \")\n",
        "sn = int(sn)\n",
        "selected_phonemes = random.sample(phonemes, sn)\n",
        "print(\"Selected phonemes:\")\n",
        "mylist = []\n",
        "for phoneme in selected_phonemes:\n",
        "    mylist.append(phoneme[0])\n",
        "\n",
        "print(mylist)\n",
        "print(\"=\"*50)\n",
        "\n",
        "# Find the shared features\n",
        "shared_features = set(selected_phonemes[0][1]).intersection(*[phoneme[1] for phoneme in selected_phonemes[1:]])\n",
        "\n",
        "# If there are shared features, ask the user for the + or - sign\n",
        "if shared_features:\n",
        "    start_time = time.time()  # Start the timer\n",
        "    while (time.time() - start_time) < time_limit:  # Run the loop until the time limit is reached\n",
        "        for feature in shared_features:\n",
        "            stripped_feature = feature[2:-1]  # Remove the sign from the feature\n",
        "            user_input = input(f\"Enter the sign (+ or -) for the shared feature '{stripped_feature}': \")\n",
        "\n",
        "            if user_input == feature[1]:\n",
        "                print(f\"Correct! The sign for {stripped_feature} is {user_input}.\")\n",
        "                score += 1  # Increment the user's score if the answer is correct\n",
        "            else:\n",
        "                print(f\"Wrong input. Try again.\")\n",
        "            if (time.time() - start_time) >= time_limit:  # End the loop if the time limit is reached\n",
        "                break\n",
        "    else:\n",
        "        print(\"Time's up! Game over.\")\n",
        "else:\n",
        "    print(\"No shared features found.\")\n",
        "\n",
        "print(f\"{group} has scored {score} points.\")\n"
      ],
      "metadata": {
        "cellView": "form",
        "id": "LLwgzGOF_uqI"
      },
      "execution_count": null,
      "outputs": []
    },
    {
      "cell_type": "code",
      "source": [],
      "metadata": {
        "id": "X9frrI30BZeR"
      },
      "execution_count": null,
      "outputs": []
    }
  ]
}
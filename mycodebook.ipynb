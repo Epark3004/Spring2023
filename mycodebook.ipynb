{
  "nbformat": 4,
  "nbformat_minor": 0,
  "metadata": {
    "colab": {
      "provenance": [],
      "authorship_tag": "ABX9TyOkoqSUZSANI/8tlXhE+9Mt",
      "include_colab_link": true
    },
    "kernelspec": {
      "name": "python3",
      "display_name": "Python 3"
    },
    "language_info": {
      "name": "python"
    }
  },
  "cells": [
    {
      "cell_type": "markdown",
      "metadata": {
        "id": "view-in-github",
        "colab_type": "text"
      },
      "source": [
        "<a href=\"https://colab.research.google.com/github/MK316/Spring2023/blob/main/mycodebook.ipynb\" target=\"_parent\"><img src=\"https://colab.research.google.com/assets/colab-badge.svg\" alt=\"Open In Colab\"/></a>"
      ]
    },
    {
      "cell_type": "markdown",
      "source": [
        "# Codebook\n",
        "\n",
        "> [1] File handling\n",
        "\n"
      ],
      "metadata": {
        "id": "DnBueisYmn77"
      }
    },
    {
      "cell_type": "markdown",
      "source": [
        "## [1] File & folder handling"
      ],
      "metadata": {
        "id": "5clXauIUmuyK"
      }
    },
    {
      "cell_type": "markdown",
      "source": [
        "* File download"
      ],
      "metadata": {
        "id": "uYi8mqOVm4-Q"
      }
    },
    {
      "cell_type": "code",
      "execution_count": null,
      "metadata": {
        "id": "ptJU-DMBmlOr"
      },
      "outputs": [],
      "source": [
        "from google.colab import files\n",
        "files.download('/content/ESgTTS.zip')"
      ]
    },
    {
      "cell_type": "markdown",
      "source": [
        "* Current directory check"
      ],
      "metadata": {
        "id": "UhL0AwwDm7dn"
      }
    },
    {
      "cell_type": "code",
      "source": [
        "!pwd"
      ],
      "metadata": {
        "id": "nqlZnlUym_7c"
      },
      "execution_count": null,
      "outputs": []
    },
    {
      "cell_type": "markdown",
      "source": [
        "* Create a new directory"
      ],
      "metadata": {
        "id": "K5njFGAJnBCQ"
      }
    },
    {
      "cell_type": "code",
      "source": [
        "# Create a new folder (by typing a folder name)\n",
        "from IPython.utils.path import expand_path\n",
        "import os.path\n",
        "from os import path\n",
        "\n",
        "pn = input(\"Type folder name: \")\n",
        "expath = \"/content/\"+ pn\n",
        "if path.exists(expath) == False:\n",
        "  os.mkdir(expath)\n"
      ],
      "metadata": {
        "id": "EustkBi3YFfW",
        "outputId": "cad3d50c-86cc-44c2-c286-65563572d814",
        "colab": {
          "base_uri": "https://localhost:8080/"
        }
      },
      "execution_count": null,
      "outputs": [
        {
          "output_type": "stream",
          "name": "stdout",
          "text": [
            "Type folder name: ES\n",
            "/content/ES\n"
          ]
        }
      ]
    },
    {
      "cell_type": "code",
      "source": [
        "# Change directory\n",
        "os.chdir(expath)"
      ],
      "metadata": {
        "id": "ygjWpbk8nTqE"
      },
      "execution_count": null,
      "outputs": []
    },
    {
      "cell_type": "code",
      "source": [
        "# List files\n",
        "!ls"
      ],
      "metadata": {
        "id": "fv4GxhfnnPz0"
      },
      "execution_count": null,
      "outputs": []
    },
    {
      "cell_type": "code",
      "source": [
        "# List files\n",
        "!ls"
      ],
      "metadata": {
        "id": "5TVEEWn1nPq8"
      },
      "execution_count": null,
      "outputs": []
    },
    {
      "cell_type": "markdown",
      "source": [
        "Copy or Move files to a directory"
      ],
      "metadata": {
        "id": "lw6b8u7anm66"
      }
    },
    {
      "cell_type": "code",
      "source": [
        "# !cp /content/zipfilename.zip /content/filefoldername\n",
        "# !cp \"/content/ES18.wav\" \"/content/audio\"\n",
        "# !mv \"/content/ES18.zip\" \"/content/audio\""
      ],
      "metadata": {
        "id": "nN8Oa-OrnrDe"
      },
      "execution_count": null,
      "outputs": []
    }
  ]
}
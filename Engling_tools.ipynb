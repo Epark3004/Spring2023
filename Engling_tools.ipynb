{
  "nbformat": 4,
  "nbformat_minor": 0,
  "metadata": {
    "colab": {
      "provenance": [],
      "authorship_tag": "ABX9TyOqrcPxkg+Dxv5QyfrZiTRy",
      "include_colab_link": true
    },
    "kernelspec": {
      "name": "python3",
      "display_name": "Python 3"
    },
    "language_info": {
      "name": "python"
    }
  },
  "cells": [
    {
      "cell_type": "markdown",
      "metadata": {
        "id": "view-in-github",
        "colab_type": "text"
      },
      "source": [
        "<a href=\"https://colab.research.google.com/github/MK316/Spring2023/blob/main/Engling_tools.ipynb\" target=\"_parent\"><img src=\"https://colab.research.google.com/assets/colab-badge.svg\" alt=\"Open In Colab\"/></a>"
      ]
    },
    {
      "cell_type": "markdown",
      "source": [
        "# S23 English Linguistics"
      ],
      "metadata": {
        "id": "gSU4eYYgKE3w"
      }
    },
    {
      "cell_type": "code",
      "execution_count": 1,
      "metadata": {
        "colab": {
          "base_uri": "https://localhost:8080/"
        },
        "cellView": "form",
        "id": "Z5KhV5ycJPhC",
        "outputId": "d66a2138-a1af-43f8-fe4f-88406fe98407"
      },
      "outputs": [
        {
          "output_type": "stream",
          "name": "stdout",
          "text": [
            "Looking in indexes: https://pypi.org/simple, https://us-python.pkg.dev/colab-wheels/public/simple/\n",
            "Collecting pyqrcode\n",
            "  Downloading PyQRCode-1.2.1.zip (41 kB)\n",
            "\u001b[2K     \u001b[90m━━━━━━━━━━━━━━━━━━━━━━━━━━━━━━━━━━━━━━━━\u001b[0m \u001b[32m41.9/41.9 KB\u001b[0m \u001b[31m1.9 MB/s\u001b[0m eta \u001b[36m0:00:00\u001b[0m\n",
            "\u001b[?25h  Preparing metadata (setup.py) ... \u001b[?25l\u001b[?25hdone\n",
            "Building wheels for collected packages: pyqrcode\n",
            "  Building wheel for pyqrcode (setup.py) ... \u001b[?25l\u001b[?25hdone\n",
            "  Created wheel for pyqrcode: filename=PyQRCode-1.2.1-py3-none-any.whl size=36241 sha256=6258012d3938c150df62d9b45d1640e0b1f79058dd71d9c9152fbce2a0443d4f\n",
            "  Stored in directory: /root/.cache/pip/wheels/da/75/c0/38c7f82750de2725429b6b8571dca254249d73f6c882c5d9b1\n",
            "Successfully built pyqrcode\n",
            "Installing collected packages: pyqrcode\n",
            "Successfully installed pyqrcode-1.2.1\n"
          ]
        }
      ],
      "source": [
        "#@markdown Install {pyqrcode} and enter link address\n",
        "!pip install pyqrcode\n",
        "\n",
        "import pyqrcode\n",
        "from pyqrcode import QRCode"
      ]
    },
    {
      "cell_type": "markdown",
      "source": [
        "Engling: (4/4)\n",
        "\n",
        "+ [link 1](https://forms.gle/XYLoFBuEHJs9s69cA): Ch02 review\n",
        "+ [link 2](https://forms.gle/2hyxEHTn6Q511Hda7): Ch03 Preview"
      ],
      "metadata": {
        "id": "_HiMKQ4nJjKK"
      }
    },
    {
      "cell_type": "code",
      "source": [
        "#@markdown Enter the link, save it as a file, and display\n",
        "s = input(\"Paste the link: \")\n",
        "\n",
        "# Generate QR code\n",
        "url = pyqrcode.create(s)\n",
        "\n",
        "# Create and save the png file naming \"myqr.png\"\n",
        "url.svg(\"myqrcode.svg\", scale=10)\n",
        "\n",
        "from IPython.display import SVG, display\n",
        "def show_svg(file):\n",
        "    display(SVG(file))\n",
        "\n",
        "show_svg(\"myqrcode.svg\")"
      ],
      "metadata": {
        "colab": {
          "base_uri": "https://localhost:8080/",
          "height": 489
        },
        "cellView": "form",
        "id": "QFzi_JmdJZZs",
        "outputId": "7a1da201-6799-42e9-c12f-d36319eb3f62"
      },
      "execution_count": 2,
      "outputs": [
        {
          "name": "stdout",
          "output_type": "stream",
          "text": [
            "Paste the link: https://forms.gle/2hyxEHTn6Q511Hda7\n"
          ]
        },
        {
          "output_type": "display_data",
          "data": {
            "text/plain": [
              "<IPython.core.display.SVG object>"
            ],
            "image/svg+xml": "<svg xmlns=\"http://www.w3.org/2000/svg\" height=\"450\" width=\"450\" class=\"pyqrcode\"><path transform=\"scale(10)\" stroke=\"#000\" class=\"pyqrline\" d=\"M4 4.5h7m2 0h3m4 0h6m1 0h3m2 0h1m1 0h7m-37 1h1m5 0h1m2 0h1m2 0h1m3 0h2m1 0h1m1 0h2m1 0h2m2 0h1m1 0h1m5 0h1m-37 1h1m1 0h3m1 0h1m1 0h1m2 0h1m4 0h1m2 0h1m3 0h1m1 0h2m3 0h1m1 0h3m1 0h1m-37 1h1m1 0h3m1 0h1m1 0h1m2 0h3m1 0h2m2 0h2m4 0h4m1 0h1m1 0h3m1 0h1m-37 1h1m1 0h3m1 0h1m2 0h2m1 0h2m1 0h1m2 0h2m3 0h2m5 0h1m1 0h3m1 0h1m-37 1h1m5 0h1m2 0h1m1 0h3m4 0h2m2 0h2m6 0h1m5 0h1m-37 1h7m1 0h1m1 0h1m1 0h1m1 0h1m1 0h1m1 0h1m1 0h1m1 0h1m1 0h1m1 0h1m1 0h1m1 0h7m-28 1h1m2 0h5m1 0h2m1 0h2m2 0h1m1 0h2m-26 1h2m1 0h2m1 0h2m8 0h3m1 0h3m2 0h1m4 0h2m-34 1h1m2 0h2m2 0h2m1 0h3m7 0h2m2 0h1m3 0h2m1 0h1m1 0h1m1 0h1m-35 1h5m3 0h1m2 0h2m3 0h3m2 0h1m1 0h1m3 0h4m3 0h1m-37 1h1m2 0h3m7 0h1m1 0h2m1 0h1m1 0h2m4 0h2m1 0h2m3 0h3m-35 1h2m1 0h2m1 0h3m2 0h2m1 0h1m13 0h2m3 0h1m-36 1h4m3 0h2m5 0h2m2 0h2m3 0h5m1 0h1m2 0h1m1 0h1m-35 1h3m2 0h2m3 0h3m1 0h2m2 0h1m2 0h4m2 0h1m1 0h3m1 0h4m-37 1h1m1 0h2m4 0h1m5 0h6m6 0h1m1 0h2m1 0h4m-35 1h1m1 0h1m2 0h2m1 0h1m1 0h1m1 0h2m1 0h1m1 0h3m1 0h1m1 0h3m1 0h1m2 0h1m3 0h3m-37 1h1m4 0h1m1 0h1m2 0h1m1 0h1m1 0h2m1 0h4m1 0h3m2 0h3m1 0h1m1 0h1m1 0h1m-35 1h1m1 0h1m1 0h3m1 0h2m3 0h7m3 0h4m3 0h1m2 0h1m1 0h1m-33 1h2m1 0h2m1 0h1m1 0h1m2 0h1m2 0h1m1 0h2m1 0h1m1 0h1m2 0h1m4 0h1m1 0h1m-35 1h4m1 0h1m4 0h3m1 0h1m2 0h1m2 0h1m2 0h1m2 0h2m1 0h1m1 0h1m3 0h1m-36 1h2m4 0h2m1 0h1m1 0h1m4 0h1m3 0h2m1 0h2m1 0h3m1 0h4m-35 1h2m2 0h1m1 0h1m1 0h1m2 0h2m1 0h3m2 0h4m1 0h2m1 0h1m4 0h1m3 0h1m-37 1h1m1 0h1m1 0h2m1 0h1m2 0h1m3 0h1m2 0h1m5 0h3m1 0h3m1 0h1m1 0h4m-35 1h1m2 0h2m3 0h4m1 0h1m2 0h1m5 0h2m5 0h4m1 0h1m-37 1h6m1 0h5m2 0h2m1 0h2m3 0h1m2 0h2m3 0h1m2 0h1m1 0h1m-36 1h2m3 0h9m1 0h3m1 0h1m2 0h3m1 0h2m2 0h3m2 0h2m-37 1h1m2 0h3m3 0h1m2 0h2m5 0h1m1 0h3m2 0h1m1 0h2m1 0h1m2 0h3m-37 1h1m1 0h5m1 0h1m2 0h1m1 0h2m2 0h3m2 0h1m1 0h2m1 0h7m1 0h1m-28 1h5m3 0h4m5 0h1m1 0h2m3 0h3m-35 1h7m1 0h3m1 0h1m1 0h2m3 0h10m1 0h1m1 0h3m1 0h1m-37 1h1m5 0h1m5 0h1m1 0h2m3 0h1m1 0h1m2 0h5m3 0h2m1 0h1m-36 1h1m1 0h3m1 0h1m1 0h2m2 0h4m1 0h1m4 0h2m2 0h7m2 0h1m-36 1h1m1 0h3m1 0h1m1 0h1m3 0h1m1 0h2m1 0h1m2 0h1m1 0h1m1 0h1m5 0h3m1 0h1m-35 1h1m1 0h3m1 0h1m4 0h1m3 0h1m5 0h1m1 0h1m2 0h1m4 0h2m1 0h3m-37 1h1m5 0h1m4 0h1m3 0h1m1 0h1m1 0h6m1 0h1m7 0h3m-37 1h7m3 0h1m1 0h7m2 0h1m1 0h3m2 0h4m1 0h1m2 0h1\"/></svg>"
          },
          "metadata": {}
        }
      ]
    }
  ]
}
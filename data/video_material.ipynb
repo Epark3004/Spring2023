{
  "nbformat": 4,
  "nbformat_minor": 0,
  "metadata": {
    "colab": {
      "provenance": [],
      "authorship_tag": "ABX9TyPH5Q/9Ct2ZNQ9RIzNLFCif",
      "include_colab_link": true
    },
    "kernelspec": {
      "name": "python3",
      "display_name": "Python 3"
    },
    "language_info": {
      "name": "python"
    }
  },
  "cells": [
    {
      "cell_type": "markdown",
      "metadata": {
        "id": "view-in-github",
        "colab_type": "text"
      },
      "source": [
        "<a href=\"https://colab.research.google.com/github/MK316/Spring2023/blob/main/data/video_material.ipynb\" target=\"_parent\"><img src=\"https://colab.research.google.com/assets/colab-badge.svg\" alt=\"Open In Colab\"/></a>"
      ]
    },
    {
      "cell_type": "code",
      "execution_count": null,
      "metadata": {
        "cellView": "form",
        "id": "k27T9QgRdoZb"
      },
      "outputs": [],
      "source": [
        "#@markdown **Articulation:** MRI Video (7m 38s.)\n",
        "from IPython.display import YouTubeVideo, display\n",
        "video = YouTubeVideo(\"SVKR3ESdAk8\", width=600)\n",
        "display(video)"
      ]
    }
  ]
}
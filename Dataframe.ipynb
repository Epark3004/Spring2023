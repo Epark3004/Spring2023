{
  "nbformat": 4,
  "nbformat_minor": 0,
  "metadata": {
    "colab": {
      "provenance": [],
      "authorship_tag": "ABX9TyMNDR/DQjFRexy8cDIO/s9a",
      "include_colab_link": true
    },
    "kernelspec": {
      "name": "python3",
      "display_name": "Python 3"
    },
    "language_info": {
      "name": "python"
    }
  },
  "cells": [
    {
      "cell_type": "markdown",
      "metadata": {
        "id": "view-in-github",
        "colab_type": "text"
      },
      "source": [
        "<a href=\"https://colab.research.google.com/github/MK316/Spring2023/blob/main/Dataframe.ipynb\" target=\"_parent\"><img src=\"https://colab.research.google.com/assets/colab-badge.svg\" alt=\"Open In Colab\"/></a>"
      ]
    },
    {
      "cell_type": "markdown",
      "source": [
        "# 🌿 Create a dataframe or read a file on colab"
      ],
      "metadata": {
        "id": "MFY7CCRF5tm-"
      }
    },
    {
      "cell_type": "code",
      "source": [
        "#@markdown Create or bring a dataframe (data): number of columns and their names\n",
        "\n",
        "choose = \"create\" #@param [\"create\",\"read\"]\n",
        "\n",
        "if choose == \"create\":\n",
        "  data = pd.DataFrame()\n",
        "  cn = input('How many columns: ')\n",
        "  cn = int(cn)\n",
        "\n",
        "  for i in range(0,cn):\n",
        "    cname = input('Type column name: ')\n",
        "    data[cname] = []\n",
        "  data.to_csv('test.csv')\n",
        "  print(data)\n",
        "\n",
        "elif choose == \"read\":\n",
        "  fname = input('Type file name on colab:  ')\n",
        "  data = pd.read_csv(fname)\n",
        "  print(data)\n"
      ],
      "metadata": {
        "colab": {
          "base_uri": "https://localhost:8080/"
        },
        "cellView": "form",
        "id": "nkyDApboEyy6",
        "outputId": "f47b3d4b-e06d-45a1-9975-d92c84eca087"
      },
      "execution_count": null,
      "outputs": [
        {
          "output_type": "stream",
          "name": "stdout",
          "text": [
            "How many columns: 2\n",
            "Type column name: SID\n",
            "Type column name: Grade\n",
            "Empty DataFrame\n",
            "Columns: [SID, Grade]\n",
            "Index: []\n"
          ]
        }
      ]
    },
    {
      "cell_type": "code",
      "source": [
        "#@markdown 🌿 Create a dataframe and save it on colab\n",
        "import pandas as pd\n",
        "\n",
        "nc = input('Number of columns:  ')\n",
        "cn = input('Column names: (separated by ,)  ')\n",
        "cn1 = cn.replace(\" \", \"\")\n",
        "cn2 = cn.split(',')\n",
        "df = pd.DataFrame(columns=cn2)\n",
        "\n",
        "choose = input(\"Want to type by rows now: (y or n) \")\n",
        "\n",
        "if choose == 'y':\n",
        "  nr = input('How many rows:  ')\n",
        "  nr = int(nr)\n",
        "  for i in range(nr):\n",
        "      row = input('row [%d]:'%(i+1))\n",
        "      row1 = row.split(',')\n",
        "      df.loc[i] = row1\n",
        "  print(df)\n",
        "elif choose == 'n':\n",
        "  print(df)\n",
        "\n",
        "choose2 = input(\"File saving? (file name; if no need to save, type 'n') \")\n",
        "\n",
        "if choose2 == \"n\":\n",
        "  print(\"Okay. The data is stored in df as variable.\")\n",
        "else:\n",
        "  df.to_csv(choose2)\n",
        "  print(df)"
      ],
      "metadata": {
        "id": "XQ-6Kkmn5Gez",
        "cellView": "form"
      },
      "execution_count": null,
      "outputs": []
    }
  ]
}